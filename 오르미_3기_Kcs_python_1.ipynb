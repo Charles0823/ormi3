{
  "nbformat": 4,
  "nbformat_minor": 0,
  "metadata": {
    "colab": {
      "provenance": [],
      "toc_visible": true,
      "authorship_tag": "ABX9TyPx+bZRCEhotrxc2RTV9NV2",
      "include_colab_link": true
    },
    "kernelspec": {
      "name": "python3",
      "display_name": "Python 3"
    },
    "language_info": {
      "name": "python"
    }
  },
  "cells": [
    {
      "cell_type": "markdown",
      "metadata": {
        "id": "view-in-github",
        "colab_type": "text"
      },
      "source": [
        "<a href=\"https://colab.research.google.com/github/Charles0823/ormi3/blob/main/%EC%98%A4%EB%A5%B4%EB%AF%B8_3%EA%B8%B0_Kcs_python_1.ipynb\" target=\"_parent\"><img src=\"https://colab.research.google.com/assets/colab-badge.svg\" alt=\"Open In Colab\"/></a>"
      ]
    },
    {
      "cell_type": "markdown",
      "source": [
        "# 주석\n"
      ],
      "metadata": {
        "id": "depzrfwtKctH"
      }
    },
    {
      "cell_type": "code",
      "execution_count": 2,
      "metadata": {
        "colab": {
          "base_uri": "https://localhost:8080/"
        },
        "id": "tNDHy1X2Grsd",
        "outputId": "81f66661-767f-48a0-8c46-bd2cba37c9d6"
      },
      "outputs": [
        {
          "output_type": "stream",
          "name": "stdout",
          "text": [
            "Hello, World 1!\n",
            "Hello, World 2!\n"
          ]
        }
      ],
      "source": [
        "# 이것은 주석입니다.\n",
        "print('Hello, World 1!') # 이것도 주석입니다.\n",
        "print('Hello, World 2!')"
      ]
    },
    {
      "cell_type": "code",
      "source": [
        "'''\n",
        "이것은 주석입니다.\n",
        "이렇게 여러줄 주석을 넣을 수 있습니다.\n",
        "'''\n",
        "print(\"Hello, World!\")"
      ],
      "metadata": {
        "colab": {
          "base_uri": "https://localhost:8080/"
        },
        "id": "q4G7oLV3KEZ-",
        "outputId": "845f1a88-f9df-434d-fc63-5a4e9f84c9a3"
      },
      "execution_count": 5,
      "outputs": [
        {
          "output_type": "stream",
          "name": "stdout",
          "text": [
            "Hello, World!\n"
          ]
        }
      ]
    },
    {
      "cell_type": "markdown",
      "source": [
        "#입력과 출력"
      ],
      "metadata": {
        "id": "Q18v7S1F4t_X"
      }
    },
    {
      "cell_type": "code",
      "source": [
        "x = input() #인풋은 문자열로 받는다\n",
        "x + x"
      ],
      "metadata": {
        "colab": {
          "base_uri": "https://localhost:8080/",
          "height": 53
        },
        "id": "8lnGAy5yLQ4F",
        "outputId": "d2514c1c-7ab6-4075-ca25-330be1f99288"
      },
      "execution_count": 85,
      "outputs": [
        {
          "name": "stdout",
          "output_type": "stream",
          "text": [
            "10\n"
          ]
        },
        {
          "output_type": "execute_result",
          "data": {
            "text/plain": [
              "'1010'"
            ],
            "application/vnd.google.colaboratory.intrinsic+json": {
              "type": "string"
            }
          },
          "metadata": {},
          "execution_count": 85
        }
      ]
    },
    {
      "cell_type": "code",
      "source": [
        "print('hello world')"
      ],
      "metadata": {
        "colab": {
          "base_uri": "https://localhost:8080/"
        },
        "id": "MObef2nbLB9g",
        "outputId": "4eb802cc-1f33-4a11-8aad-194a2cd08eb7"
      },
      "execution_count": 12,
      "outputs": [
        {
          "output_type": "stream",
          "name": "stdout",
          "text": [
            "hello world\n"
          ]
        }
      ]
    },
    {
      "cell_type": "code",
      "source": [
        "x = 'hello'\n",
        "print(x)"
      ],
      "metadata": {
        "colab": {
          "base_uri": "https://localhost:8080/"
        },
        "id": "6oCDStxmM_lT",
        "outputId": "8f9a7929-81f7-47f7-daae-5ef7f89111c8"
      },
      "execution_count": 87,
      "outputs": [
        {
          "output_type": "stream",
          "name": "stdout",
          "text": [
            "hello\n"
          ]
        }
      ]
    },
    {
      "cell_type": "code",
      "source": [
        "print(x, x)"
      ],
      "metadata": {
        "colab": {
          "base_uri": "https://localhost:8080/"
        },
        "id": "rN2h-5N9NLGI",
        "outputId": "3ba28015-9751-4223-fc2e-6efe5024b753"
      },
      "execution_count": 18,
      "outputs": [
        {
          "output_type": "stream",
          "name": "stdout",
          "text": [
            "hello hello\n"
          ]
        }
      ]
    },
    {
      "cell_type": "code",
      "source": [
        "print(x, x, sep='-')"
      ],
      "metadata": {
        "colab": {
          "base_uri": "https://localhost:8080/"
        },
        "id": "bCko9vWNNGRa",
        "outputId": "e2297248-3d5d-41ee-b2c9-1dbc6a64629d"
      },
      "execution_count": 90,
      "outputs": [
        {
          "output_type": "stream",
          "name": "stdout",
          "text": [
            "hello-hello\n"
          ]
        }
      ]
    },
    {
      "cell_type": "code",
      "source": [
        "print('010', '0000', '0000', sep='-')"
      ],
      "metadata": {
        "colab": {
          "base_uri": "https://localhost:8080/"
        },
        "id": "NWVnFJpkNFij",
        "outputId": "bc0fed07-1e3c-4ca0-b987-5989e944b8fb"
      },
      "execution_count": 25,
      "outputs": [
        {
          "output_type": "stream",
          "name": "stdout",
          "text": [
            "010-0000-0000\n"
          ]
        }
      ]
    },
    {
      "cell_type": "code",
      "source": [
        "print('hello world', end='!')\n",
        "print('hello world', end='~')"
      ],
      "metadata": {
        "colab": {
          "base_uri": "https://localhost:8080/"
        },
        "id": "hQUp46b2O83H",
        "outputId": "9ca0fcc8-2c0b-4de2-e6d1-27a43db09245"
      },
      "execution_count": 5,
      "outputs": [
        {
          "output_type": "stream",
          "name": "stdout",
          "text": [
            "hello world!hello world~"
          ]
        }
      ]
    },
    {
      "cell_type": "code",
      "source": [
        "class Character:\n",
        "    def __str__(self):\n",
        "        return 'a'\n",
        "\n",
        "    def __repr__(self):\n",
        "        return 'b'\n",
        "\n",
        "hero = Character()\n",
        "print(hero)\n",
        "hero"
      ],
      "metadata": {
        "colab": {
          "base_uri": "https://localhost:8080/"
        },
        "id": "GRO6JXZfafXv",
        "outputId": "2cea8197-2a32-4b7d-d29c-55552739f414"
      },
      "execution_count": 6,
      "outputs": [
        {
          "output_type": "stream",
          "name": "stdout",
          "text": [
            "a\n"
          ]
        },
        {
          "output_type": "execute_result",
          "data": {
            "text/plain": [
              "b"
            ]
          },
          "metadata": {},
          "execution_count": 6
        }
      ]
    },
    {
      "cell_type": "markdown",
      "source": [
        "# 변수\n",
        "* python에서 변수는 포스트잇이다. 값을 담는 것이 아니라 가리킨다!"
      ],
      "metadata": {
        "id": "yOK7WSlkOv9A"
      }
    },
    {
      "cell_type": "code",
      "source": [
        "x = 10\n",
        "y = x\n",
        "z = y\n",
        "\n",
        "# 오답\n",
        "# z -> y -> x -> 10\n",
        "\n",
        "# 정답\n",
        "# x ┐\n",
        "# y -> 10\n",
        "# z ┘"
      ],
      "metadata": {
        "id": "XFlVCaA4PlAy"
      },
      "execution_count": 4,
      "outputs": []
    },
    {
      "cell_type": "code",
      "source": [
        "x = 10\n",
        "y = x\n",
        "z = y\n",
        "y = 20\n",
        "\n",
        "# 오답\n",
        "# x -> 10\n",
        "# z -> y -> 20\n",
        "\n",
        "# 정답\n",
        "# x -> 10\n",
        "# z ┘ 10\n",
        "# y -> 20\n",
        "x, y, z"
      ],
      "metadata": {
        "colab": {
          "base_uri": "https://localhost:8080/"
        },
        "id": "G5A_W_qg42gE",
        "outputId": "93f0d8ee-9280-49c2-84bf-f40bf9fb38bc"
      },
      "execution_count": 43,
      "outputs": [
        {
          "output_type": "execute_result",
          "data": {
            "text/plain": [
              "(10, 20, 10)"
            ]
          },
          "metadata": {},
          "execution_count": 43
        }
      ]
    },
    {
      "cell_type": "code",
      "source": [
        "x = 10\n",
        "y = x\n",
        "z = y\n",
        "\n",
        "print(id(x), id(y), id(z))"
      ],
      "metadata": {
        "colab": {
          "base_uri": "https://localhost:8080/"
        },
        "id": "QCAueoIY49XW",
        "outputId": "25085c77-5e1b-4b45-f245-b3acf29b264f"
      },
      "execution_count": 44,
      "outputs": [
        {
          "output_type": "stream",
          "name": "stdout",
          "text": [
            "133576329789968 133576329789968 133576329789968\n"
          ]
        }
      ]
    },
    {
      "cell_type": "code",
      "source": [
        "# 변수 이름\n",
        "\n",
        "# python의 경우 보통 스네이크 표기법으로 변수를 만듭니다.\n",
        "col_sum = 10\n",
        "\n",
        "# _는 사용하지 않는 변수에 할당합니다.\n",
        "for _ in range(5): # 코드의 가독성을 올려줍니다.\n",
        "    print('hello') # _가 for문 안에서 사용이 안됩니다."
      ],
      "metadata": {
        "colab": {
          "base_uri": "https://localhost:8080/"
        },
        "id": "UlAUVYrS5CFM",
        "outputId": "39cc0500-d9a7-42b2-c9c5-d72078af8946"
      },
      "execution_count": 45,
      "outputs": [
        {
          "output_type": "stream",
          "name": "stdout",
          "text": [
            "hello\n",
            "hello\n",
            "hello\n",
            "hello\n",
            "hello\n"
          ]
        }
      ]
    },
    {
      "cell_type": "code",
      "source": [
        "# 이상한 특수문자를 사용해도 되지만 사회생활이 힘듭니다.\n",
        "π = 100\n",
        "π + π"
      ],
      "metadata": {
        "colab": {
          "base_uri": "https://localhost:8080/"
        },
        "id": "fQjGeSF65CZq",
        "outputId": "0dc99d5d-97a1-485e-e431-10a3a5c6dd95"
      },
      "execution_count": 46,
      "outputs": [
        {
          "output_type": "execute_result",
          "data": {
            "text/plain": [
              "200"
            ]
          },
          "metadata": {},
          "execution_count": 46
        }
      ]
    },
    {
      "cell_type": "code",
      "source": [
        "# 변수 타입: 변수들을 어떻게 관리하고 처리할지에 대한 '코드', 이 코드는 우리가 재정의 할 수도 있다!\n",
        "\n",
        "x = 10\n",
        "x + x # 컴퓨터 입장에서는 10도 숫자입니다."
      ],
      "metadata": {
        "colab": {
          "base_uri": "https://localhost:8080/"
        },
        "id": "8QCmBqUa5H7A",
        "outputId": "3ef2f55f-36b2-4ec5-a68f-25dcf5e1d076"
      },
      "execution_count": 49,
      "outputs": [
        {
          "output_type": "execute_result",
          "data": {
            "text/plain": [
              "20"
            ]
          },
          "metadata": {},
          "execution_count": 49
        }
      ]
    },
    {
      "cell_type": "code",
      "source": [
        "y = '10'\n",
        "y + y # 컴퓨터 입장에서는 '10'도 숫자입니다."
      ],
      "metadata": {
        "colab": {
          "base_uri": "https://localhost:8080/",
          "height": 36
        },
        "id": "ACAhX_DP5Oj4",
        "outputId": "88032b10-6c7d-4956-88d3-a8f32ef5e618"
      },
      "execution_count": 51,
      "outputs": [
        {
          "output_type": "execute_result",
          "data": {
            "text/plain": [
              "'1010'"
            ],
            "application/vnd.google.colaboratory.intrinsic+json": {
              "type": "string"
            }
          },
          "metadata": {},
          "execution_count": 51
        }
      ]
    },
    {
      "cell_type": "code",
      "source": [
        "print(type(x))\n",
        "print(type(y))"
      ],
      "metadata": {
        "colab": {
          "base_uri": "https://localhost:8080/"
        },
        "id": "Zur4giaZ5SIa",
        "outputId": "fc2c313f-26a1-4d61-b237-b414b9d4f522"
      },
      "execution_count": 52,
      "outputs": [
        {
          "output_type": "stream",
          "name": "stdout",
          "text": [
            "<class 'int'>\n",
            "<class 'str'>\n"
          ]
        }
      ]
    },
    {
      "cell_type": "code",
      "source": [
        "str(10) + str(10)"
      ],
      "metadata": {
        "colab": {
          "base_uri": "https://localhost:8080/",
          "height": 36
        },
        "id": "wpHNQflA5Sfk",
        "outputId": "fd612b98-4d03-4ab8-c85b-cb8d3cf5c09a"
      },
      "execution_count": 53,
      "outputs": [
        {
          "output_type": "execute_result",
          "data": {
            "text/plain": [
              "'1010'"
            ],
            "application/vnd.google.colaboratory.intrinsic+json": {
              "type": "string"
            }
          },
          "metadata": {},
          "execution_count": 53
        }
      ]
    },
    {
      "cell_type": "code",
      "source": [
        "# 지금은 이 클래스를 이해하는 것이 중요한 것이 아닙니다.\n",
        "# self가 무엇인지, other가 무엇인지 이해하는 것도 중요한 것이 아닙니다.\n",
        "# 이건 다 뒤에서 배울 것입니다.\n",
        "# 중요한 포인트는 +도 어딘가에 '정의'되어 있다는 것입니다.\n",
        "class str(str):\n",
        "    def __add__(self, other):\n",
        "        return 'hello'"
      ],
      "metadata": {
        "id": "qEr2rj9p5UXA"
      },
      "execution_count": 54,
      "outputs": []
    },
    {
      "cell_type": "code",
      "source": [
        "# 그래서 이렇게 덧셈을 했을 때 이상한 값이 출력되게 할 수도 있다는 것입니다.\n",
        "str(10) + str(10)"
      ],
      "metadata": {
        "colab": {
          "base_uri": "https://localhost:8080/",
          "height": 36
        },
        "id": "NcE6hF0G5WOH",
        "outputId": "189a78d5-dc1c-43ba-9376-d96bc1eb2efb"
      },
      "execution_count": 55,
      "outputs": [
        {
          "output_type": "execute_result",
          "data": {
            "text/plain": [
              "'hello'"
            ],
            "application/vnd.google.colaboratory.intrinsic+json": {
              "type": "string"
            }
          },
          "metadata": {},
          "execution_count": 55
        }
      ]
    },
    {
      "cell_type": "code",
      "source": [
        "# 변수의 삭제\n",
        "del x"
      ],
      "metadata": {
        "id": "lDrXnTEP5YDf"
      },
      "execution_count": 56,
      "outputs": []
    },
    {
      "cell_type": "markdown",
      "source": [
        "#정수 자료형 (int)"
      ],
      "metadata": {
        "id": "MREGd9OS5bLu"
      }
    },
    {
      "cell_type": "code",
      "source": [
        "x = 10\n",
        "y = -5\n",
        "z = 0\n",
        "print(type(x), type(y), type(z))"
      ],
      "metadata": {
        "colab": {
          "base_uri": "https://localhost:8080/"
        },
        "id": "4vEDiI_o5iBO",
        "outputId": "a7d43b9c-6a6b-4fd8-9d3a-4ef2701e39be"
      },
      "execution_count": 57,
      "outputs": [
        {
          "output_type": "stream",
          "name": "stdout",
          "text": [
            "<class 'int'> <class 'int'> <class 'int'>\n"
          ]
        }
      ]
    },
    {
      "cell_type": "code",
      "source": [
        "x = 10\n",
        "result  = x * 3\n",
        "result"
      ],
      "metadata": {
        "colab": {
          "base_uri": "https://localhost:8080/"
        },
        "id": "qTwwm4Us5iYn",
        "outputId": "3ff81ee1-c7bb-4415-848f-42dbbc10114f"
      },
      "execution_count": 58,
      "outputs": [
        {
          "output_type": "execute_result",
          "data": {
            "text/plain": [
              "30"
            ]
          },
          "metadata": {},
          "execution_count": 58
        }
      ]
    },
    {
      "cell_type": "code",
      "source": [
        "# 진수: 수를 표현하는 방법\n",
        "# 2진수 : 0 1\n",
        "# 8진수 : 0 1 2 3 4 5 6 7\n",
        "# 16진수: 0 1 2 3 4 5 6 7 8 9 a b c d e f\n",
        "\n",
        "# 10진수 731 = 7 * 10^2 + 3 * 10^1 + 1 * 10^0\n",
        "# 2진수  110 = 1 * 2^2 + 1 * 2^1 + 0 * 2^0\n",
        "\n",
        "# 쉽게 계산하는 법\n",
        "# 10진수 15를 2진수로 표현하면?\n",
        "# 10000 - 1 == 1111"
      ],
      "metadata": {
        "id": "EuoXMyGW5jiY"
      },
      "execution_count": 59,
      "outputs": []
    },
    {
      "cell_type": "code",
      "source": [
        "# 2진수\n",
        "x = 0b110\n",
        "print(x)\n",
        "print(type(x))"
      ],
      "metadata": {
        "colab": {
          "base_uri": "https://localhost:8080/"
        },
        "id": "mguyfR-C5lcH",
        "outputId": "3458045a-aa9c-428e-d752-ce9def05a9e6"
      },
      "execution_count": 60,
      "outputs": [
        {
          "output_type": "stream",
          "name": "stdout",
          "text": [
            "6\n",
            "<class 'int'>\n"
          ]
        }
      ]
    },
    {
      "cell_type": "code",
      "source": [
        "# 8진수\n",
        "x = 0o110\n",
        "print(x)\n",
        "print(type(x))"
      ],
      "metadata": {
        "colab": {
          "base_uri": "https://localhost:8080/"
        },
        "id": "Hi0dbCMP5nkH",
        "outputId": "431a6d74-ac12-4710-9df1-397aeb7390ba"
      },
      "execution_count": 61,
      "outputs": [
        {
          "output_type": "stream",
          "name": "stdout",
          "text": [
            "72\n",
            "<class 'int'>\n"
          ]
        }
      ]
    },
    {
      "cell_type": "code",
      "source": [
        "# 16진수\n",
        "x = 0x110\n",
        "print(x)\n",
        "print(type(x))"
      ],
      "metadata": {
        "colab": {
          "base_uri": "https://localhost:8080/"
        },
        "id": "Hs1fPyES5qGi",
        "outputId": "2810df35-d539-46cb-b57c-72d648340dc8"
      },
      "execution_count": 62,
      "outputs": [
        {
          "output_type": "stream",
          "name": "stdout",
          "text": [
            "272\n",
            "<class 'int'>\n"
          ]
        }
      ]
    },
    {
      "cell_type": "code",
      "source": [
        "bin(15)"
      ],
      "metadata": {
        "colab": {
          "base_uri": "https://localhost:8080/",
          "height": 36
        },
        "id": "14xEG9Ir5rd9",
        "outputId": "65f0c735-5a96-4ed6-fd7d-53d80cb37341"
      },
      "execution_count": 63,
      "outputs": [
        {
          "output_type": "execute_result",
          "data": {
            "text/plain": [
              "'0b1111'"
            ],
            "application/vnd.google.colaboratory.intrinsic+json": {
              "type": "string"
            }
          },
          "metadata": {},
          "execution_count": 63
        }
      ]
    },
    {
      "cell_type": "code",
      "source": [
        "oct(15)"
      ],
      "metadata": {
        "colab": {
          "base_uri": "https://localhost:8080/",
          "height": 36
        },
        "id": "rBxIwyy-5uct",
        "outputId": "a3af5c16-5749-44f6-dd72-92235658283d"
      },
      "execution_count": 64,
      "outputs": [
        {
          "output_type": "execute_result",
          "data": {
            "text/plain": [
              "'0o17'"
            ],
            "application/vnd.google.colaboratory.intrinsic+json": {
              "type": "string"
            }
          },
          "metadata": {},
          "execution_count": 64
        }
      ]
    },
    {
      "cell_type": "code",
      "source": [
        "hex(15)"
      ],
      "metadata": {
        "colab": {
          "base_uri": "https://localhost:8080/",
          "height": 36
        },
        "id": "FUYphWXZ5v6Z",
        "outputId": "e4a1b102-b2a2-4802-bdc4-a262c3303778"
      },
      "execution_count": 65,
      "outputs": [
        {
          "output_type": "execute_result",
          "data": {
            "text/plain": [
              "'0xf'"
            ],
            "application/vnd.google.colaboratory.intrinsic+json": {
              "type": "string"
            }
          },
          "metadata": {},
          "execution_count": 65
        }
      ]
    },
    {
      "cell_type": "code",
      "source": [
        "b = int('0b111100', 2)\n",
        "o = int('0o74', 8)\n",
        "h = int('0x3c', 16)"
      ],
      "metadata": {
        "id": "bwtEXp9u5x9w"
      },
      "execution_count": 66,
      "outputs": []
    },
    {
      "cell_type": "code",
      "source": [
        "# 매우 중요한 내용, 새로운 자료형을 만났을 때 2개를 꼭 해보세요.\n",
        "x = 10\n",
        "print(type(x)) # 검색 키워드\n",
        "print(dir(x)) # 대략적인 속성을 알 수 있습니다."
      ],
      "metadata": {
        "colab": {
          "base_uri": "https://localhost:8080/"
        },
        "id": "R7DVRLdW5zTV",
        "outputId": "8c6975e3-1c2f-45f8-8a40-f972eb5b534c"
      },
      "execution_count": 67,
      "outputs": [
        {
          "output_type": "stream",
          "name": "stdout",
          "text": [
            "<class 'int'>\n",
            "['__abs__', '__add__', '__and__', '__bool__', '__ceil__', '__class__', '__delattr__', '__dir__', '__divmod__', '__doc__', '__eq__', '__float__', '__floor__', '__floordiv__', '__format__', '__ge__', '__getattribute__', '__getnewargs__', '__gt__', '__hash__', '__index__', '__init__', '__init_subclass__', '__int__', '__invert__', '__le__', '__lshift__', '__lt__', '__mod__', '__mul__', '__ne__', '__neg__', '__new__', '__or__', '__pos__', '__pow__', '__radd__', '__rand__', '__rdivmod__', '__reduce__', '__reduce_ex__', '__repr__', '__rfloordiv__', '__rlshift__', '__rmod__', '__rmul__', '__ror__', '__round__', '__rpow__', '__rrshift__', '__rshift__', '__rsub__', '__rtruediv__', '__rxor__', '__setattr__', '__sizeof__', '__str__', '__sub__', '__subclasshook__', '__truediv__', '__trunc__', '__xor__', 'as_integer_ratio', 'bit_count', 'bit_length', 'conjugate', 'denominator', 'from_bytes', 'imag', 'numerator', 'real', 'to_bytes']\n"
          ]
        }
      ]
    },
    {
      "cell_type": "code",
      "source": [
        "# 메직 메서드: 이 타입에 속성을 정의합니다.\n",
        "abs(-5) # '__abs__'\n",
        "5 + 5   # '__add__'\n",
        "5 and 5 # '__and__'\n",
        "bool(5) # '__bool__'\n",
        "5 == 5  # '__eq__'\n",
        "\n",
        "# 메서드: 이 타입에서 변수를 다룰 수 있는 여러 기능을 제공합니다.\n",
        "# 'as_integer_ratio',\n",
        "# 'bit_count',\n",
        "# 'bit_length',\n",
        "# 'conjugate',\n",
        "# 'denominator',\n",
        "# 'from_bytes',\n",
        "# 'imag',\n",
        "# 'numerator',\n",
        "# 'real',\n",
        "# 'to_bytes'"
      ],
      "metadata": {
        "colab": {
          "base_uri": "https://localhost:8080/"
        },
        "id": "8fThN6AB51bE",
        "outputId": "a683d124-cb4a-43f7-e3c5-c5387e147516"
      },
      "execution_count": 68,
      "outputs": [
        {
          "output_type": "execute_result",
          "data": {
            "text/plain": [
              "True"
            ]
          },
          "metadata": {},
          "execution_count": 68
        }
      ]
    },
    {
      "cell_type": "code",
      "source": [
        "x = 5\n",
        "x.bit_count() # 이걸 사용할 일은 평생에 한 번도 없을 수도 있습니다.\n",
        "# 1001, 2진수로 표현하면 1이 2개다!"
      ],
      "metadata": {
        "colab": {
          "base_uri": "https://localhost:8080/"
        },
        "id": "2HpvckzAQAE6",
        "outputId": "87fa77b6-cdeb-46bc-a52a-c339d15c655b"
      },
      "execution_count": 30,
      "outputs": [
        {
          "output_type": "execute_result",
          "data": {
            "text/plain": [
              "2"
            ]
          },
          "metadata": {},
          "execution_count": 30
        }
      ]
    },
    {
      "cell_type": "code",
      "source": [
        "# 정수의 메모리 미리 적재!\n",
        "# -5 ~ 256\n",
        "x = 256\n",
        "y = 256\n",
        "\n",
        "print(id(x), id(y))"
      ],
      "metadata": {
        "colab": {
          "base_uri": "https://localhost:8080/"
        },
        "id": "3E8ZwLHth9hI",
        "outputId": "46cd23bf-2dbc-43d3-980e-bbe266a6ad3b"
      },
      "execution_count": 1,
      "outputs": [
        {
          "output_type": "stream",
          "name": "stdout",
          "text": [
            "137606323478736 137606323478736\n"
          ]
        }
      ]
    },
    {
      "cell_type": "code",
      "source": [
        "# 정수의 메모리 미리 적재!\n",
        "# -5 ~ 256\n",
        "x = 257\n",
        "y = 257\n",
        "\n",
        "print(id(x), id(y))"
      ],
      "metadata": {
        "colab": {
          "base_uri": "https://localhost:8080/"
        },
        "id": "6h7I5RBZ6FYf",
        "outputId": "93f72c58-937e-48e9-c38c-b72797210a3c"
      },
      "execution_count": 71,
      "outputs": [
        {
          "output_type": "stream",
          "name": "stdout",
          "text": [
            "133575060220944 133575060221552\n"
          ]
        }
      ]
    },
    {
      "cell_type": "code",
      "source": [
        "# 문제1\n",
        "x = 100\n",
        "y = 100\n",
        "z = x\n",
        "\n",
        "# 다음 화살표를 그려보세요!\n",
        "# z ┐\n",
        "# x -> 100\n",
        "# y ┘"
      ],
      "metadata": {
        "id": "EPM2B7q76F_G"
      },
      "execution_count": 72,
      "outputs": []
    },
    {
      "cell_type": "code",
      "source": [
        "# 문제1\n",
        "x = 258\n",
        "y = 258\n",
        "z = x\n",
        "\n",
        "# 다음 화살표를 그려보세요!\n",
        "# z ┐\n",
        "# x -> 258\n",
        "# y -> 258\n",
        "print(id(x), id(y), id(z))"
      ],
      "metadata": {
        "colab": {
          "base_uri": "https://localhost:8080/"
        },
        "id": "5FkYC41a6H8h",
        "outputId": "858231e3-788b-4229-9a58-6a0e818fbaef"
      },
      "execution_count": 73,
      "outputs": [
        {
          "output_type": "stream",
          "name": "stdout",
          "text": [
            "133575060220976 133575060221808 133575060220976\n"
          ]
        }
      ]
    },
    {
      "cell_type": "markdown",
      "source": [
        "#실수 자료형 (float)"
      ],
      "metadata": {
        "id": "yagbI6St6M1V"
      }
    },
    {
      "cell_type": "code",
      "source": [
        "x = 10.0\n",
        "y = 10\n",
        "print(type(x), type(y))"
      ],
      "metadata": {
        "colab": {
          "base_uri": "https://localhost:8080/"
        },
        "id": "r_wcPa2r6TfZ",
        "outputId": "10db65db-aaeb-4263-b3b3-cfbbd4886980"
      },
      "execution_count": 74,
      "outputs": [
        {
          "output_type": "stream",
          "name": "stdout",
          "text": [
            "<class 'float'> <class 'int'>\n"
          ]
        }
      ]
    },
    {
      "cell_type": "code",
      "source": [
        "# 산술연산\n",
        "x = 10.0\n",
        "y = 2\n",
        "result = x * y\n",
        "print(result)\n",
        "print(type(result))"
      ],
      "metadata": {
        "colab": {
          "base_uri": "https://localhost:8080/"
        },
        "id": "VZTQfO4C6TwE",
        "outputId": "b74af103-ebb9-4449-abff-2f03f665af9a"
      },
      "execution_count": 75,
      "outputs": [
        {
          "output_type": "stream",
          "name": "stdout",
          "text": [
            "20.0\n",
            "<class 'float'>\n"
          ]
        }
      ]
    },
    {
      "cell_type": "code",
      "source": [
        "# float의 특수값\n",
        "# 이 특수값은 사용을 하니 기억을 해주세요.\n",
        "# 어디서 주로 사용하나요? 정렬과 같은 파트에서 초깃값으로 사용을 많이 합니다.\n",
        "float(\"inf\") > 10000000000000000000000000000\n",
        "float(\"-inf\") < -999999999999999"
      ],
      "metadata": {
        "colab": {
          "base_uri": "https://localhost:8080/"
        },
        "id": "tgev6D9d6U7L",
        "outputId": "6dc26a88-71b1-40d2-fb1c-b8f545da33c4"
      },
      "execution_count": 40,
      "outputs": [
        {
          "output_type": "execute_result",
          "data": {
            "text/plain": [
              "True"
            ]
          },
          "metadata": {},
          "execution_count": 40
        }
      ]
    },
    {
      "cell_type": "code",
      "source": [
        "print(2e3) # 지수표현, float형\n",
        "print(2E3)\n",
        "\n",
        "2 * (10 ** 3) # int 형"
      ],
      "metadata": {
        "colab": {
          "base_uri": "https://localhost:8080/"
        },
        "id": "ORWyf5feISeE",
        "outputId": "96552043-f1a7-49fa-8f82-ea4be871311d"
      },
      "execution_count": 41,
      "outputs": [
        {
          "output_type": "stream",
          "name": "stdout",
          "text": [
            "2000.0\n",
            "2000.0\n"
          ]
        },
        {
          "output_type": "execute_result",
          "data": {
            "text/plain": [
              "2000"
            ]
          },
          "metadata": {},
          "execution_count": 41
        }
      ]
    },
    {
      "cell_type": "code",
      "source": [
        "float(\"inf\") > 10e100 # 계산에 한계인 것 같은데 확인 필요\n",
        "float(\"inf\") > 10e307\n",
        "float(\"inf\") > 10e308\n",
        "# python에서는 IEEE 754 배정밀도 부동 소수점 표현\n",
        "# IEEE 754 배정밀도 부동 소수점 표현에서 가장 큰 (정규화된) 유한 값은 대략 1.8 * (10 ** 308)입니다.\n",
        "# 10e308는 이 근사치보다 큰 값입니다.\n",
        "# int는 메모리 제한 내에서 한계 없이 표현합니다.\n",
        "float(\"inf\") == 10e308, float(\"inf\") == 10e309"
      ],
      "metadata": {
        "colab": {
          "base_uri": "https://localhost:8080/"
        },
        "id": "DhiTFE436WFv",
        "outputId": "f4142172-29fe-4229-b45a-2f0a7f191907"
      },
      "execution_count": 42,
      "outputs": [
        {
          "output_type": "execute_result",
          "data": {
            "text/plain": [
              "(True, True)"
            ]
          },
          "metadata": {},
          "execution_count": 42
        }
      ]
    },
    {
      "cell_type": "code",
      "source": [
        "print(float('inf') > 10e307)\n",
        "print(float('inf') > 10e308)\n",
        "\n",
        "float('inf') == 10e307, float('inf') == 10e308, float('inf') == 10e309"
      ],
      "metadata": {
        "colab": {
          "base_uri": "https://localhost:8080/"
        },
        "id": "oKVjuKqaIkdi",
        "outputId": "e27c543c-0668-4d82-9233-20a15b43ee50"
      },
      "execution_count": 43,
      "outputs": [
        {
          "output_type": "stream",
          "name": "stdout",
          "text": [
            "True\n",
            "False\n"
          ]
        },
        {
          "output_type": "execute_result",
          "data": {
            "text/plain": [
              "(False, True, True)"
            ]
          },
          "metadata": {},
          "execution_count": 43
        }
      ]
    },
    {
      "cell_type": "code",
      "source": [
        "# 부동소숫점 문제\n",
        "0.1 + 0.2\n",
        "# 왜 발생하는가? 결국 컴퓨터가 연산하는 것은 10진수가 아니라 2진수인데\n",
        "# 2진수 변환에서 무한수가 발생이 되므로"
      ],
      "metadata": {
        "colab": {
          "base_uri": "https://localhost:8080/"
        },
        "id": "6xS1pWZd6XvM",
        "outputId": "09b4db1a-1179-4838-85cb-5236687f725e"
      },
      "execution_count": 78,
      "outputs": [
        {
          "output_type": "execute_result",
          "data": {
            "text/plain": [
              "0.30000000000000004"
            ]
          },
          "metadata": {},
          "execution_count": 78
        }
      ]
    },
    {
      "cell_type": "code",
      "source": [
        "import decimal\n",
        "\n",
        "# 각각 모듈 import해서 사용하셔야 합니다.\n",
        "float(decimal.Decimal('.1') + decimal.Decimal('.2'))\n",
        "# float(fractions.Fraction('0.1') + fractions.Fraction('0.2'))"
      ],
      "metadata": {
        "colab": {
          "base_uri": "https://localhost:8080/"
        },
        "id": "PM4syMtZ6ag-",
        "outputId": "8a220447-5238-4d64-c8c8-05aa697617ad"
      },
      "execution_count": 79,
      "outputs": [
        {
          "output_type": "execute_result",
          "data": {
            "text/plain": [
              "0.3"
            ]
          },
          "metadata": {},
          "execution_count": 79
        }
      ]
    },
    {
      "cell_type": "code",
      "source": [
        "x = 10.0\n",
        "print(type(x), dir(x))"
      ],
      "metadata": {
        "colab": {
          "base_uri": "https://localhost:8080/"
        },
        "id": "-oVHxTMOiYD1",
        "outputId": "b9b4fae5-9139-440f-f12c-56a49e7b75da"
      },
      "execution_count": 33,
      "outputs": [
        {
          "output_type": "stream",
          "name": "stdout",
          "text": [
            "<class 'float'> ['__abs__', '__add__', '__bool__', '__ceil__', '__class__', '__delattr__', '__dir__', '__divmod__', '__doc__', '__eq__', '__float__', '__floor__', '__floordiv__', '__format__', '__ge__', '__getattribute__', '__getformat__', '__getnewargs__', '__gt__', '__hash__', '__init__', '__init_subclass__', '__int__', '__le__', '__lt__', '__mod__', '__mul__', '__ne__', '__neg__', '__new__', '__pos__', '__pow__', '__radd__', '__rdivmod__', '__reduce__', '__reduce_ex__', '__repr__', '__rfloordiv__', '__rmod__', '__rmul__', '__round__', '__rpow__', '__rsub__', '__rtruediv__', '__setattr__', '__setformat__', '__sizeof__', '__str__', '__sub__', '__subclasshook__', '__truediv__', '__trunc__', 'as_integer_ratio', 'conjugate', 'fromhex', 'hex', 'imag', 'is_integer', 'real']\n"
          ]
        }
      ]
    },
    {
      "cell_type": "code",
      "source": [
        "# 메서드\n",
        "# 'conjugate',\n",
        "# 'fromhex',\n",
        "# 'hex',\n",
        "# 'imag',\n",
        "# 'is_integer',\n",
        "# 'real'"
      ],
      "metadata": {
        "id": "tXtQyEslnpUn"
      },
      "execution_count": 35,
      "outputs": []
    },
    {
      "cell_type": "markdown",
      "source": [
        "#복소수 자료형 (complex)"
      ],
      "metadata": {
        "id": "R936nMUz6k5P"
      }
    },
    {
      "cell_type": "code",
      "source": [
        "x = 3 + 4j\n",
        "x"
      ],
      "metadata": {
        "colab": {
          "base_uri": "https://localhost:8080/"
        },
        "id": "Kd09HNtv6oB9",
        "outputId": "e63e64d0-e8d4-4f69-8021-781e442f2d5b"
      },
      "execution_count": 80,
      "outputs": [
        {
          "output_type": "execute_result",
          "data": {
            "text/plain": [
              "(3+4j)"
            ]
          },
          "metadata": {},
          "execution_count": 80
        }
      ]
    },
    {
      "cell_type": "code",
      "source": [
        "type(x), dir(x)"
      ],
      "metadata": {
        "id": "d0jBFPdr6oUU"
      },
      "execution_count": null,
      "outputs": []
    },
    {
      "cell_type": "code",
      "source": [
        "# 'conjugate',\n",
        "# 'imag',\n",
        "# 'real'"
      ],
      "metadata": {
        "id": "E6xTGjJz6pjw"
      },
      "execution_count": 82,
      "outputs": []
    },
    {
      "cell_type": "code",
      "source": [
        "x = 3 + 4j\n",
        "print(x.real)\n",
        "print(x.imag)"
      ],
      "metadata": {
        "colab": {
          "base_uri": "https://localhost:8080/"
        },
        "id": "hDYR-Z-L6rc2",
        "outputId": "c4285d36-63b5-4f4f-fe9f-7dedadc00cd9"
      },
      "execution_count": 83,
      "outputs": [
        {
          "output_type": "stream",
          "name": "stdout",
          "text": [
            "3.0\n",
            "4.0\n"
          ]
        }
      ]
    },
    {
      "cell_type": "markdown",
      "source": [
        "#문자열 자료형 (str)"
      ],
      "metadata": {
        "id": "MlCJSHpyo_nI"
      }
    },
    {
      "cell_type": "code",
      "source": [
        "x = 'hello world'\n",
        "y = \"hello world\"\n",
        "z = '''hello world''' # 여러줄 가능합니다\n",
        "k = \"\"\"hello world\"\"\" # 여러줄 가능합니다"
      ],
      "metadata": {
        "id": "ybR52NN8pBlN"
      },
      "execution_count": 36,
      "outputs": []
    },
    {
      "cell_type": "code",
      "source": [
        "# 회사마다 컨벤션이 다릅니다.\n",
        "a = 'hello world'\n",
        "b = '''hello world'''"
      ],
      "metadata": {
        "id": "mHXAjpZYpYJE"
      },
      "execution_count": 37,
      "outputs": []
    },
    {
      "cell_type": "code",
      "source": [
        "a = '''\n",
        "hello \\n world\n",
        "'''\n",
        "a # 그냥 a를 출력했을 때\n",
        "print(a) # print로 a를 출력했을 때"
      ],
      "metadata": {
        "colab": {
          "base_uri": "https://localhost:8080/"
        },
        "id": "MOIQ-T3cqHE2",
        "outputId": "1473c942-9f9e-45a9-dd13-8295375bae52"
      },
      "execution_count": 38,
      "outputs": [
        {
          "output_type": "stream",
          "name": "stdout",
          "text": [
            "\n",
            "hello \n",
            " world\n",
            "\n"
          ]
        }
      ]
    },
    {
      "cell_type": "code",
      "source": [
        "# 참고삼아 알아두세요. 평생에 한 두번 볼 수 있습니다.\n",
        "# 참고로 r표기는 Django 2.x에서 url이 정규표현식을 쓰기 때문에\n",
        "# 자주 볼 수도 있습니다. 3.x에서는 사라졌습니다.\n",
        "a = r'hello \\n world' # r은 raw 날것에 의미를 지니고 있습니다.\n",
        "a\n",
        "print(a)"
      ],
      "metadata": {
        "colab": {
          "base_uri": "https://localhost:8080/"
        },
        "id": "3OgN3Z0kqHbS",
        "outputId": "2ef426ae-0560-4a10-8840-6b09fdb5e941"
      },
      "execution_count": 42,
      "outputs": [
        {
          "output_type": "stream",
          "name": "stdout",
          "text": [
            "hello \\n world\n"
          ]
        }
      ]
    },
    {
      "cell_type": "code",
      "source": [
        "i = '''안녕하세요.\n",
        "저는 위니브의 대표 이호준입니다.\n",
        "파이썬 참 좋아요.\n",
        "여러분 정말 잘 선택하셨어요.\n",
        "'''"
      ],
      "metadata": {
        "id": "CVHba57gqJMd"
      },
      "execution_count": 84,
      "outputs": []
    },
    {
      "cell_type": "code",
      "source": [
        "i # 이스케이프 문자가 처리안되어 출력\n",
        "print(i) # 이스케이프 문자가 처리되어 출력"
      ],
      "metadata": {
        "colab": {
          "base_uri": "https://localhost:8080/"
        },
        "id": "fGDptaH763i-",
        "outputId": "fd025d3f-10e8-4079-fe11-9b00e09b760a"
      },
      "execution_count": 85,
      "outputs": [
        {
          "output_type": "stream",
          "name": "stdout",
          "text": [
            "안녕하세요.\n",
            "저는 위니브의 대표 이호준입니다.\n",
            "파이썬 참 좋아요.\n",
            "여러분 정말 잘 선택하셨어요.\n",
            "\n"
          ]
        }
      ]
    },
    {
      "cell_type": "code",
      "source": [
        "# 문자열에 연산\n",
        "x = 'hello'\n",
        "y = 'world'\n",
        "print(x + y)"
      ],
      "metadata": {
        "colab": {
          "base_uri": "https://localhost:8080/"
        },
        "id": "6AOkm6dF6335",
        "outputId": "1893d54d-0b7c-4040-be50-31c1d2c364ca"
      },
      "execution_count": 86,
      "outputs": [
        {
          "output_type": "stream",
          "name": "stdout",
          "text": [
            "helloworld\n"
          ]
        }
      ]
    },
    {
      "cell_type": "code",
      "source": [
        "x = 'hello'\n",
        "print(x * 3)"
      ],
      "metadata": {
        "colab": {
          "base_uri": "https://localhost:8080/"
        },
        "id": "qVHWX1Gn65Fk",
        "outputId": "5b0f0154-318e-453f-ede5-522446a6abf8"
      },
      "execution_count": 87,
      "outputs": [
        {
          "output_type": "stream",
          "name": "stdout",
          "text": [
            "hellohellohello\n"
          ]
        }
      ]
    },
    {
      "cell_type": "code",
      "source": [
        "# 지금은 리스트는 아니니 기억하지 않으셔도 됩니다.\n",
        "# 이런 연산들은 문자열에서는 문제가 없지만\n",
        "# 다른 자료형들은 아래와 같은 문제가 생깁니다.\n",
        "\n",
        "x = [[100]*3, [10]*2]\n",
        "x"
      ],
      "metadata": {
        "colab": {
          "base_uri": "https://localhost:8080/"
        },
        "id": "kCy-IhAC66eB",
        "outputId": "ae7dea91-fea6-462f-b51c-192e8ab0c033"
      },
      "execution_count": 88,
      "outputs": [
        {
          "output_type": "execute_result",
          "data": {
            "text/plain": [
              "[[100, 100, 100], [10, 10]]"
            ]
          },
          "metadata": {},
          "execution_count": 88
        }
      ]
    },
    {
      "cell_type": "code",
      "source": [
        "x[0][0] = 1\n",
        "x"
      ],
      "metadata": {
        "colab": {
          "base_uri": "https://localhost:8080/"
        },
        "id": "xq2S2vyk673k",
        "outputId": "0b184938-3cc0-45c6-f0da-880eb5b0773f"
      },
      "execution_count": 89,
      "outputs": [
        {
          "output_type": "execute_result",
          "data": {
            "text/plain": [
              "[[1, 100, 100], [10, 10]]"
            ]
          },
          "metadata": {},
          "execution_count": 89
        }
      ]
    },
    {
      "cell_type": "code",
      "source": [
        "x = [[[]*2]*3]*2\n",
        "x[0][0] = 10\n",
        "x\n",
        "# 종훈님 훌륭합니다.\n",
        "# id를 찍어보시면 됩니다.\n",
        "# 가리키고 있는 주소가 복사되었습니다."
      ],
      "metadata": {
        "colab": {
          "base_uri": "https://localhost:8080/"
        },
        "id": "BMfishoK69Kp",
        "outputId": "0139f74c-f032-4e0a-c9cb-230e4d31079e"
      },
      "execution_count": 90,
      "outputs": [
        {
          "output_type": "execute_result",
          "data": {
            "text/plain": [
              "[[10, [], []], [10, [], []]]"
            ]
          },
          "metadata": {},
          "execution_count": 90
        }
      ]
    },
    {
      "cell_type": "markdown",
      "source": [
        "##문자열 인덱싱"
      ],
      "metadata": {
        "id": "_HivGkiR7BJi"
      }
    },
    {
      "cell_type": "code",
      "source": [
        "s = 'hello world'\n",
        "s[0]"
      ],
      "metadata": {
        "colab": {
          "base_uri": "https://localhost:8080/",
          "height": 36
        },
        "id": "gXMQqc1B7EqQ",
        "outputId": "b0ac2cbc-4e87-40b2-f351-95c2955cfa9f"
      },
      "execution_count": 91,
      "outputs": [
        {
          "output_type": "execute_result",
          "data": {
            "text/plain": [
              "'h'"
            ],
            "application/vnd.google.colaboratory.intrinsic+json": {
              "type": "string"
            }
          },
          "metadata": {},
          "execution_count": 91
        }
      ]
    },
    {
      "cell_type": "code",
      "source": [
        "s[-1]"
      ],
      "metadata": {
        "colab": {
          "base_uri": "https://localhost:8080/",
          "height": 36
        },
        "id": "Kf2KQZ2A7G44",
        "outputId": "c1316f27-a8ec-409f-c087-3d9f32d32550"
      },
      "execution_count": 92,
      "outputs": [
        {
          "output_type": "execute_result",
          "data": {
            "text/plain": [
              "'d'"
            ],
            "application/vnd.google.colaboratory.intrinsic+json": {
              "type": "string"
            }
          },
          "metadata": {},
          "execution_count": 92
        }
      ]
    },
    {
      "cell_type": "code",
      "source": [
        "s[-11]"
      ],
      "metadata": {
        "colab": {
          "base_uri": "https://localhost:8080/",
          "height": 36
        },
        "id": "pD2-vDZ57IY2",
        "outputId": "40fbc9db-a8fa-4a54-e019-5e2f47bb0f95"
      },
      "execution_count": 93,
      "outputs": [
        {
          "output_type": "execute_result",
          "data": {
            "text/plain": [
              "'h'"
            ],
            "application/vnd.google.colaboratory.intrinsic+json": {
              "type": "string"
            }
          },
          "metadata": {},
          "execution_count": 93
        }
      ]
    },
    {
      "cell_type": "code",
      "source": [
        "# 이거 중요합니다. 햇갈려요!\n",
        "# 양수와 음수로는 한 번만 갈 수 있습니다.\n",
        "s[-12] # error\n",
        "s[100] # error"
      ],
      "metadata": {
        "id": "BrNXqjOx7J65"
      },
      "execution_count": null,
      "outputs": []
    },
    {
      "cell_type": "code",
      "source": [
        "s = 'weniv CEO leehojun'\n",
        "# s[start:stop:step]\n",
        "# ':step'은 통으로 생략이 가능합니다\n",
        "# start와 stop은 숫자만 생략이 가능합니다.\n",
        "# 중요: slicing은 error 발생시키지 않습니다."
      ],
      "metadata": {
        "id": "WBBchU1n7LoI"
      },
      "execution_count": 2,
      "outputs": []
    },
    {
      "cell_type": "code",
      "source": [
        "s[0:5]\n",
        "# s[5:0]\n",
        "s[:5]\n",
        "s[6:]\n",
        "s[0:5:2]\n",
        "# 2칸씩 건너 뛰는 코드는 거의 작성하지 않고(알고리즘 문제에서 많이 사용됩니다.)\n",
        "# step 값으로는 -1을 많이 사용합니다.\n",
        "s[::-1]\n",
        "s[5:0:-1] # 'weniv CEO leehojun' 여기서 5부터 시작하는것"
      ],
      "metadata": {
        "colab": {
          "base_uri": "https://localhost:8080/",
          "height": 36
        },
        "id": "9xMMv29a-XfW",
        "outputId": "e9e1c2a6-1482-4c6a-f226-6aef4332d971"
      },
      "execution_count": 8,
      "outputs": [
        {
          "output_type": "execute_result",
          "data": {
            "text/plain": [
              "' vine'"
            ],
            "application/vnd.google.colaboratory.intrinsic+json": {
              "type": "string"
            }
          },
          "metadata": {},
          "execution_count": 8
        }
      ]
    },
    {
      "cell_type": "code",
      "source": [
        "s = 'leehojun.png'\n",
        "# 자주쓰지만 햇갈리는 것\n",
        "\n",
        "# 문제1 : .png를 잘라내서 없애 주세요.\n",
        "s[:-4] # s[:8]와 동일 / step값이 음의 값이 아니고 양의 값이니 뒤로 가지 않습니다. stop값이 -4입니다.\n",
        "\n",
        "# 문제2 : png만 잘라내 주세요.\n",
        "s[-3:] # s[9:]과 동일\n",
        "# 슬라이싱에서 알아두어야 할 점\n",
        "# 슬라이싱이 C구현체로 되어 있어 메서드보다 통상 8배 정도 빠릅니다.\n",
        "# 슬라이싱으로 copy한 객체는 얕은 복사가 됩니다.\n",
        "# 에러를 뿜지 않는다."
      ],
      "metadata": {
        "colab": {
          "base_uri": "https://localhost:8080/",
          "height": 36
        },
        "id": "ua1aMsYd-t5r",
        "outputId": "a654c24b-8749-4b69-a9dd-7c01de3e1db7"
      },
      "execution_count": 13,
      "outputs": [
        {
          "output_type": "execute_result",
          "data": {
            "text/plain": [
              "'png'"
            ],
            "application/vnd.google.colaboratory.intrinsic+json": {
              "type": "string"
            }
          },
          "metadata": {},
          "execution_count": 13
        }
      ]
    },
    {
      "cell_type": "code",
      "source": [
        "# 아래처럼 되면 x와 y는 같은 곳을 가리키게 됩니다.\n",
        "x = [10, 20, 30]\n",
        "y = x\n",
        "print(id(x), id(y))\n",
        "\n",
        "# 아래처럼 되면 x와 y는 다른 곳을 가리키게 됩니다.\n",
        "# 아래와 같이 화살표를 전혀 다른 곳을 가리키게 할 때 사용\n",
        "x = [10, 20, 30]\n",
        "y = x[:]\n",
        "print(id(x), id(y))"
      ],
      "metadata": {
        "colab": {
          "base_uri": "https://localhost:8080/"
        },
        "id": "S_zbaiBKDnZs",
        "outputId": "95e2482a-5cf0-4f7c-86cf-37745b6a827f"
      },
      "execution_count": 14,
      "outputs": [
        {
          "output_type": "stream",
          "name": "stdout",
          "text": [
            "137605411340224 137605411340224\n",
            "137605052801024 137605052800896\n"
          ]
        }
      ]
    },
    {
      "cell_type": "markdown",
      "source": [
        "##문자열에 메서드"
      ],
      "metadata": {
        "id": "v8nPovZjEb_s"
      }
    },
    {
      "cell_type": "code",
      "source": [
        "s = 'weniv CEO licat'\n",
        "type(s), dir(s)"
      ],
      "metadata": {
        "colab": {
          "base_uri": "https://localhost:8080/"
        },
        "id": "URI1yh_ukohP",
        "outputId": "61b83c03-73c7-4cfd-a790-f7ff5732f60d"
      },
      "execution_count": 145,
      "outputs": [
        {
          "output_type": "execute_result",
          "data": {
            "text/plain": [
              "(str,\n",
              " ['__add__',\n",
              "  '__class__',\n",
              "  '__contains__',\n",
              "  '__delattr__',\n",
              "  '__dir__',\n",
              "  '__doc__',\n",
              "  '__eq__',\n",
              "  '__format__',\n",
              "  '__ge__',\n",
              "  '__getattribute__',\n",
              "  '__getitem__',\n",
              "  '__getnewargs__',\n",
              "  '__gt__',\n",
              "  '__hash__',\n",
              "  '__init__',\n",
              "  '__init_subclass__',\n",
              "  '__iter__',\n",
              "  '__le__',\n",
              "  '__len__',\n",
              "  '__lt__',\n",
              "  '__mod__',\n",
              "  '__mul__',\n",
              "  '__ne__',\n",
              "  '__new__',\n",
              "  '__reduce__',\n",
              "  '__reduce_ex__',\n",
              "  '__repr__',\n",
              "  '__rmod__',\n",
              "  '__rmul__',\n",
              "  '__setattr__',\n",
              "  '__sizeof__',\n",
              "  '__str__',\n",
              "  '__subclasshook__',\n",
              "  'capitalize',\n",
              "  'casefold',\n",
              "  'center',\n",
              "  'count',\n",
              "  'encode',\n",
              "  'endswith',\n",
              "  'expandtabs',\n",
              "  'find',\n",
              "  'format',\n",
              "  'format_map',\n",
              "  'index',\n",
              "  'isalnum',\n",
              "  'isalpha',\n",
              "  'isascii',\n",
              "  'isdecimal',\n",
              "  'isdigit',\n",
              "  'isidentifier',\n",
              "  'islower',\n",
              "  'isnumeric',\n",
              "  'isprintable',\n",
              "  'isspace',\n",
              "  'istitle',\n",
              "  'isupper',\n",
              "  'join',\n",
              "  'ljust',\n",
              "  'lower',\n",
              "  'lstrip',\n",
              "  'maketrans',\n",
              "  'partition',\n",
              "  'removeprefix',\n",
              "  'removesuffix',\n",
              "  'replace',\n",
              "  'rfind',\n",
              "  'rindex',\n",
              "  'rjust',\n",
              "  'rpartition',\n",
              "  'rsplit',\n",
              "  'rstrip',\n",
              "  'split',\n",
              "  'splitlines',\n",
              "  'startswith',\n",
              "  'strip',\n",
              "  'swapcase',\n",
              "  'title',\n",
              "  'translate',\n",
              "  'upper',\n",
              "  'zfill'])"
            ]
          },
          "metadata": {},
          "execution_count": 145
        }
      ]
    },
    {
      "cell_type": "code",
      "source": [
        "s = 'weniv CEO licat'\n",
        "s.lower() #전체를 소문자로 바꿔주는 method\n",
        "s.upper() #전체를 대문자로 바꿔주는 method"
      ],
      "metadata": {
        "colab": {
          "base_uri": "https://localhost:8080/",
          "height": 36
        },
        "id": "m47m3Lv3Ebyq",
        "outputId": "ecf786a9-cc6b-4037-b862-33180835ef04"
      },
      "execution_count": 22,
      "outputs": [
        {
          "output_type": "execute_result",
          "data": {
            "text/plain": [
              "'WENIV CEO LICAT'"
            ],
            "application/vnd.google.colaboratory.intrinsic+json": {
              "type": "string"
            }
          },
          "metadata": {},
          "execution_count": 22
        }
      ]
    },
    {
      "cell_type": "code",
      "source": [
        "s = 'weniv CEO licat'\n",
        "s.find('CEO'), s.index('CEO')\n",
        "# 둘 다 중요한 코드 사용하는 곳이 다름."
      ],
      "metadata": {
        "colab": {
          "base_uri": "https://localhost:8080/"
        },
        "id": "byvhtMUiE64A",
        "outputId": "d55eebe9-11e4-422b-ad91-6999aa27e03f"
      },
      "execution_count": 30,
      "outputs": [
        {
          "output_type": "execute_result",
          "data": {
            "text/plain": [
              "(6, 6)"
            ]
          },
          "metadata": {},
          "execution_count": 30
        }
      ]
    },
    {
      "cell_type": "code",
      "source": [
        "s = 'weniv CEO licat'\n",
        "s.find('CTO') #find는 못찾아도 오류가 나오지 않음"
      ],
      "metadata": {
        "colab": {
          "base_uri": "https://localhost:8080/"
        },
        "id": "34ixi29iFOXW",
        "outputId": "727ed322-79c4-4b06-b226-58bfc82e2a15"
      },
      "execution_count": 32,
      "outputs": [
        {
          "output_type": "execute_result",
          "data": {
            "text/plain": [
              "-1"
            ]
          },
          "metadata": {},
          "execution_count": 32
        }
      ]
    },
    {
      "cell_type": "code",
      "source": [
        "s = 'weniv CEO licat'\n",
        "s.index('CTO') #index는 못찾으면 오류가나옴"
      ],
      "metadata": {
        "colab": {
          "base_uri": "https://localhost:8080/",
          "height": 197
        },
        "id": "Fz0ITdDQF9lm",
        "outputId": "f639f1af-af51-4796-d753-fb9a575fe668"
      },
      "execution_count": 31,
      "outputs": [
        {
          "output_type": "error",
          "ename": "ValueError",
          "evalue": "ignored",
          "traceback": [
            "\u001b[0;31m---------------------------------------------------------------------------\u001b[0m",
            "\u001b[0;31mValueError\u001b[0m                                Traceback (most recent call last)",
            "\u001b[0;32m<ipython-input-31-97c2ec309699>\u001b[0m in \u001b[0;36m<cell line: 2>\u001b[0;34m()\u001b[0m\n\u001b[1;32m      1\u001b[0m \u001b[0ms\u001b[0m \u001b[0;34m=\u001b[0m \u001b[0;34m'weniv CEO licat'\u001b[0m\u001b[0;34m\u001b[0m\u001b[0;34m\u001b[0m\u001b[0m\n\u001b[0;32m----> 2\u001b[0;31m \u001b[0ms\u001b[0m\u001b[0;34m.\u001b[0m\u001b[0mindex\u001b[0m\u001b[0;34m(\u001b[0m\u001b[0;34m'CTO'\u001b[0m\u001b[0;34m)\u001b[0m\u001b[0;34m\u001b[0m\u001b[0;34m\u001b[0m\u001b[0m\n\u001b[0m",
            "\u001b[0;31mValueError\u001b[0m: substring not found"
          ]
        }
      ]
    },
    {
      "cell_type": "code",
      "source": [
        "# 의도에 맞게 둘 다 사용합니다.\n",
        "s = 'weniv CEO licat'\n",
        "bool(s.find('CTO')) # 또 -1이 python에서는 index도 있기 때문에 주의해야 합니다.\n",
        "bool(s.find('CTO') == -1)\n",
        "\n",
        "# 애러가 나지 않는 코드가 좋은 코드다? X\n",
        "# 애러가 적절한 곳에서 나고, 예외처리가 견고히 되어있는 코드가 좋은 코드입니다."
      ],
      "metadata": {
        "colab": {
          "base_uri": "https://localhost:8080/"
        },
        "id": "43L3v9wPGAYM",
        "outputId": "f9e4c91f-efa6-4a24-cc92-cd26aa0d98d4"
      },
      "execution_count": 43,
      "outputs": [
        {
          "output_type": "execute_result",
          "data": {
            "text/plain": [
              "True"
            ]
          },
          "metadata": {},
          "execution_count": 43
        }
      ]
    },
    {
      "cell_type": "code",
      "source": [
        "s = 'weniv CEO licat'\n",
        "s.count('i')"
      ],
      "metadata": {
        "colab": {
          "base_uri": "https://localhost:8080/"
        },
        "id": "DPbj4PU8GUIV",
        "outputId": "f55c604f-6c59-4cf6-d8fb-27f77bcc0d94"
      },
      "execution_count": 146,
      "outputs": [
        {
          "output_type": "execute_result",
          "data": {
            "text/plain": [
              "2"
            ]
          },
          "metadata": {},
          "execution_count": 146
        }
      ]
    },
    {
      "cell_type": "code",
      "source": [
        "[1, 2, 3, 4, 5, 6, 7, 8, 9, 10, 11]  #python에서는 리스트라고 부름\n",
        "'[1, 2, 3, 4, 5, 6, 7, 8, 9, 10, 11]'.count('1')"
      ],
      "metadata": {
        "colab": {
          "base_uri": "https://localhost:8080/"
        },
        "id": "z7QI-KMfGih5",
        "outputId": "05a3b7dd-4d9a-4a80-dcb1-1302797a464a"
      },
      "execution_count": 46,
      "outputs": [
        {
          "output_type": "execute_result",
          "data": {
            "text/plain": [
              "4"
            ]
          },
          "metadata": {},
          "execution_count": 46
        }
      ]
    },
    {
      "cell_type": "code",
      "source": [
        "s = '    weniv CEO licat     '\n",
        "s.strip() #양쪽 공백을 제거하는 method"
      ],
      "metadata": {
        "colab": {
          "base_uri": "https://localhost:8080/",
          "height": 36
        },
        "id": "sweX2OnPH25R",
        "outputId": "419e88c2-2eec-4d6d-8c11-b52e8b39f63f"
      },
      "execution_count": 47,
      "outputs": [
        {
          "output_type": "execute_result",
          "data": {
            "text/plain": [
              "'weniv CEO licat'"
            ],
            "application/vnd.google.colaboratory.intrinsic+json": {
              "type": "string"
            }
          },
          "metadata": {},
          "execution_count": 47
        }
      ]
    },
    {
      "cell_type": "code",
      "source": [
        "'    ,!!  hello world   '.strip(' ,!')\n",
        "#양쪽의 공백과 ',!'을 제거해주는 method"
      ],
      "metadata": {
        "colab": {
          "base_uri": "https://localhost:8080/",
          "height": 36
        },
        "id": "P2QFx2JvHbiI",
        "outputId": "7c10c053-8466-4a38-e040-ac127fe508fb"
      },
      "execution_count": 45,
      "outputs": [
        {
          "output_type": "execute_result",
          "data": {
            "text/plain": [
              "'hello world'"
            ],
            "application/vnd.google.colaboratory.intrinsic+json": {
              "type": "string"
            }
          },
          "metadata": {},
          "execution_count": 45
        }
      ]
    },
    {
      "cell_type": "code",
      "source": [
        "s = 'weniv CEO licat'\n",
        "s.replace('CEO', 'CTO') #원하는 문자열을 다른 문자열로 대체할 때 사용하는 method"
      ],
      "metadata": {
        "colab": {
          "base_uri": "https://localhost:8080/",
          "height": 36
        },
        "id": "5K91Uj-sH00y",
        "outputId": "ebf7b8b5-d73c-47fb-fbcc-bee244f67ac9"
      },
      "execution_count": 48,
      "outputs": [
        {
          "output_type": "execute_result",
          "data": {
            "text/plain": [
              "'weniv CTO licat'"
            ],
            "application/vnd.google.colaboratory.intrinsic+json": {
              "type": "string"
            }
          },
          "metadata": {},
          "execution_count": 48
        }
      ]
    },
    {
      "cell_type": "code",
      "source": [
        "s = 'weniv CEO licat CEO'\n",
        "s.replace('CEO', 'CTO') #원하는 문자열을 다른 문자열로 대체할 때 사용하는 method\n",
        "# JavaScript와 다른 점\n",
        "# 1. 정규표현식이 안됩니다.\n",
        "# 2. replaceAll과 같습니다."
      ],
      "metadata": {
        "colab": {
          "base_uri": "https://localhost:8080/",
          "height": 36
        },
        "id": "blTIE3VuINcl",
        "outputId": "0b04c7ba-7bdf-400f-bada-f4b60aa3cfe4"
      },
      "execution_count": 49,
      "outputs": [
        {
          "output_type": "execute_result",
          "data": {
            "text/plain": [
              "'weniv CTO licat CTO'"
            ],
            "application/vnd.google.colaboratory.intrinsic+json": {
              "type": "string"
            }
          },
          "metadata": {},
          "execution_count": 49
        }
      ]
    },
    {
      "cell_type": "code",
      "source": [
        "'hello world'.split(' ')"
      ],
      "metadata": {
        "colab": {
          "base_uri": "https://localhost:8080/"
        },
        "id": "W9Bd7oKEIOy6",
        "outputId": "9bd158ab-3597-46c5-c965-f357c217965b"
      },
      "execution_count": 60,
      "outputs": [
        {
          "output_type": "execute_result",
          "data": {
            "text/plain": [
              "['hello', 'world']"
            ]
          },
          "metadata": {},
          "execution_count": 60
        }
      ]
    },
    {
      "cell_type": "code",
      "source": [
        "'010-1000-2000'.split('-') # 01010002000"
      ],
      "metadata": {
        "colab": {
          "base_uri": "https://localhost:8080/"
        },
        "id": "_pAupi46MSS8",
        "outputId": "3df85684-751c-476b-df42-0055d4c414c7"
      },
      "execution_count": 63,
      "outputs": [
        {
          "output_type": "execute_result",
          "data": {
            "text/plain": [
              "['010', '1000', '2000']"
            ]
          },
          "metadata": {},
          "execution_count": 63
        }
      ]
    },
    {
      "cell_type": "code",
      "source": [
        "''.join('010-1000-2000'.split('-'))"
      ],
      "metadata": {
        "colab": {
          "base_uri": "https://localhost:8080/",
          "height": 36
        },
        "id": "NE0g3Su-Ma7o",
        "outputId": "46cef629-dd0c-4d92-dfb9-a6edf688d635"
      },
      "execution_count": 68,
      "outputs": [
        {
          "output_type": "execute_result",
          "data": {
            "text/plain": [
              "'01010002000'"
            ],
            "application/vnd.google.colaboratory.intrinsic+json": {
              "type": "string"
            }
          },
          "metadata": {},
          "execution_count": 68
        }
      ]
    },
    {
      "cell_type": "code",
      "source": [
        "name = 'leehojun'\n",
        "age = 10\n",
        "\n",
        "print('제 이름은', name, '제 나이는', age)\n",
        "print('제 이름은 {} 제 나이는 {}')\n",
        "print('제 이름은 {0} 제 나이는 {1}'.replace('{0}', name).replace('{1}', str(age)))\n",
        "print('제 이름은 {} 제 나이는 {}'.format(name, age)) # format은 str에 메서드!\n",
        "print(f'제 이름은 {name} 제 나이는 {age}') # 이걸 사용하기 권고합니다."
      ],
      "metadata": {
        "colab": {
          "base_uri": "https://localhost:8080/"
        },
        "id": "KbJRf-uHNRn2",
        "outputId": "8947c758-58c6-40b8-8021-1125ef6df933"
      },
      "execution_count": 77,
      "outputs": [
        {
          "output_type": "stream",
          "name": "stdout",
          "text": [
            "제 이름은 leehojun 제 나이는 10\n",
            "제 이름은 {} 제 나이는 {}\n",
            "제 이름은 leehojun 제 나이는 10\n",
            "제 이름은 leehojun 제 나이는 10\n",
            "제 이름은 leehojun 제 나이는 10\n"
          ]
        }
      ]
    },
    {
      "cell_type": "code",
      "source": [
        "# isalnum = 영어와 숫자만 파악\n",
        "'abcd1234'.isalnum()\n",
        "'안녕'.isalnum() # 유니코드에도 적용\n",
        "'こんにちは'.isalnum() # 유니코드에도 적용\n",
        "'你好'.isalnum() # 유니코드에도 적용\n",
        "\n",
        "# '안녕'.isascii()\n",
        "# 'hello'.isascii()"
      ],
      "metadata": {
        "colab": {
          "base_uri": "https://localhost:8080/"
        },
        "id": "sZH0I7_GPWBz",
        "outputId": "bda299ba-6018-44f9-b5e8-31a861b0dc02"
      },
      "execution_count": 82,
      "outputs": [
        {
          "output_type": "execute_result",
          "data": {
            "text/plain": [
              "True"
            ]
          },
          "metadata": {},
          "execution_count": 82
        }
      ]
    },
    {
      "cell_type": "code",
      "source": [
        "# isdigit = 숫자만 파악\n",
        "'hello world' .isdigit() #문자라 탈락\n",
        "'안녕' .isdigit() #문자라 탈락\n",
        "'12.3' .isdigit() #점이 포함되서 탈락\n",
        "'10e10' .isdigit() #지수가 포함되서 탈락\n",
        "'500' .isdigit()"
      ],
      "metadata": {
        "colab": {
          "base_uri": "https://localhost:8080/"
        },
        "id": "wOQkxwbiQNP_",
        "outputId": "ab73ca14-ee4d-4a91-9526-24aafe8e281b"
      },
      "execution_count": 88,
      "outputs": [
        {
          "output_type": "execute_result",
          "data": {
            "text/plain": [
              "True"
            ]
          },
          "metadata": {},
          "execution_count": 88
        }
      ]
    },
    {
      "cell_type": "code",
      "source": [
        "# isalpha = 영어만 파악\n",
        "'hello world' .isalpha() #공백이 있어서 탈락\n",
        "'helloworld' .isalpha()\n",
        "'안녕' .isalpha()\n",
        "print('abcd1234'.isalpha())\n",
        "print('안녕'.isalpha())\n",
        "print('こんにちは'.isalpha())\n",
        "print('你好'.isalpha())"
      ],
      "metadata": {
        "colab": {
          "base_uri": "https://localhost:8080/"
        },
        "id": "dEGIvLQpSEs9",
        "outputId": "d9a21f76-cb23-48b1-a78c-5fd86684c907"
      },
      "execution_count": 39,
      "outputs": [
        {
          "output_type": "stream",
          "name": "stdout",
          "text": [
            "False\n",
            "True\n",
            "True\n",
            "True\n"
          ]
        }
      ]
    },
    {
      "cell_type": "code",
      "source": [
        "print('안녕'.isascii())\n",
        "print('!@ ()+'.isascii())\n",
        "print('hello'.isascii())\n",
        "print('hello world'.isascii())"
      ],
      "metadata": {
        "colab": {
          "base_uri": "https://localhost:8080/"
        },
        "id": "Llx-iQnbICo5",
        "outputId": "405c87b6-bac8-42ff-e578-1ee45505b344"
      },
      "execution_count": 38,
      "outputs": [
        {
          "output_type": "stream",
          "name": "stdout",
          "text": [
            "False\n",
            "True\n",
            "True\n",
            "True\n"
          ]
        }
      ]
    },
    {
      "cell_type": "code",
      "source": [
        "s = 'licat'\n",
        "s.center(11, '-') #문자열을 지정한 길이로 맞추고, 양쪽을 '-'로 채우는 method"
      ],
      "metadata": {
        "colab": {
          "base_uri": "https://localhost:8080/",
          "height": 36
        },
        "id": "WUi7WbOTSi-K",
        "outputId": "4be0d8c4-f98a-4d4d-a356-5e04a384e597"
      },
      "execution_count": 96,
      "outputs": [
        {
          "output_type": "execute_result",
          "data": {
            "text/plain": [
              "'---licat---'"
            ],
            "application/vnd.google.colaboratory.intrinsic+json": {
              "type": "string"
            }
          },
          "metadata": {},
          "execution_count": 96
        }
      ]
    },
    {
      "cell_type": "code",
      "source": [
        "s = 'licat'\n",
        "s.center(13, '-') #문자열을 지정한 길이로 맞추고, 양쪽을 '-'로 채우는 method"
      ],
      "metadata": {
        "colab": {
          "base_uri": "https://localhost:8080/",
          "height": 36
        },
        "id": "68akbtMPTFmw",
        "outputId": "8c8a5acb-7d57-42f3-cd71-72476253b384"
      },
      "execution_count": 97,
      "outputs": [
        {
          "output_type": "execute_result",
          "data": {
            "text/plain": [
              "'----licat----'"
            ],
            "application/vnd.google.colaboratory.intrinsic+json": {
              "type": "string"
            }
          },
          "metadata": {},
          "execution_count": 97
        }
      ]
    },
    {
      "cell_type": "code",
      "source": [
        "s = 'hello world'\n",
        "s.center(3, '-') #문자열을 지정한 길이로 맞추고, 양쪽을 '-'로 채우는 method, 문자길이보다 지정숫자가 작으면 문자 전부 출력"
      ],
      "metadata": {
        "colab": {
          "base_uri": "https://localhost:8080/",
          "height": 36
        },
        "id": "OvxO_HlETKxp",
        "outputId": "0effd87b-0328-4ae0-89b1-1ce759d26d7a"
      },
      "execution_count": 99,
      "outputs": [
        {
          "output_type": "execute_result",
          "data": {
            "text/plain": [
              "'hello world'"
            ],
            "application/vnd.google.colaboratory.intrinsic+json": {
              "type": "string"
            }
          },
          "metadata": {},
          "execution_count": 99
        }
      ]
    },
    {
      "cell_type": "code",
      "source": [
        "x = \"42\"\n",
        "result = x.zfill(5)\n",
        "print(result)  # 00042. # 쓸일 거의 없음. but 알아둘것"
      ],
      "metadata": {
        "colab": {
          "base_uri": "https://localhost:8080/"
        },
        "id": "e-4QXDI6Tfhh",
        "outputId": "e1ab6cbe-9967-4001-b755-ac4424abd3c3"
      },
      "execution_count": 100,
      "outputs": [
        {
          "output_type": "stream",
          "name": "stdout",
          "text": [
            "00042\n"
          ]
        }
      ]
    },
    {
      "cell_type": "code",
      "source": [
        "filename = '1'.zfill(3) + \".jpg\"\n",
        "print(filename)"
      ],
      "metadata": {
        "colab": {
          "base_uri": "https://localhost:8080/"
        },
        "id": "NzGqFdN8TnA3",
        "outputId": "a74d1660-d718-49bf-fd08-714b22d431d0"
      },
      "execution_count": 101,
      "outputs": [
        {
          "output_type": "stream",
          "name": "stdout",
          "text": [
            "001.jpg\n"
          ]
        }
      ]
    },
    {
      "cell_type": "code",
      "source": [
        "년 = '23'\n",
        "월 = '9'\n",
        "일 = '8'\n",
        "오늘날짜 = f'{년}/{월}/{일}'\n",
        "print(오늘날짜)\n",
        "오늘날짜 = f'{년}/{월}/{일.zfill(2)}'\n",
        "print(오늘날짜)\n",
        "오늘날짜 = f'{년}/{월.zfill(2)}/{일.zfill(2)}' #원하는 양식 23/09/08\n",
        "print(오늘날짜)"
      ],
      "metadata": {
        "colab": {
          "base_uri": "https://localhost:8080/"
        },
        "id": "o7zraOyVUAl_",
        "outputId": "0bbc18e3-f05f-47ef-9804-b2c52390c6e9"
      },
      "execution_count": 106,
      "outputs": [
        {
          "output_type": "stream",
          "name": "stdout",
          "text": [
            "23/9/8\n",
            "23/9/08\n",
            "23/09/08\n"
          ]
        }
      ]
    },
    {
      "cell_type": "code",
      "source": [
        "table = str.maketrans(\"abc\", \"123\")\n",
        "'akbkckdkek'.translate(table)"
      ],
      "metadata": {
        "colab": {
          "base_uri": "https://localhost:8080/",
          "height": 36
        },
        "id": "Homq4-3il6yV",
        "outputId": "9cf342b9-5bd7-428b-ec83-bf54a78591f6"
      },
      "execution_count": 147,
      "outputs": [
        {
          "output_type": "execute_result",
          "data": {
            "text/plain": [
              "'1k2k3kdkek'"
            ],
            "application/vnd.google.colaboratory.intrinsic+json": {
              "type": "string"
            }
          },
          "metadata": {},
          "execution_count": 147
        }
      ]
    },
    {
      "cell_type": "code",
      "source": [
        "table = str.maketrans(\"b\", \"k\", \"de\")\n",
        "'abcde'.translate(table)"
      ],
      "metadata": {
        "colab": {
          "base_uri": "https://localhost:8080/",
          "height": 36
        },
        "id": "rmNC2qLNl7bV",
        "outputId": "ebe025df-9023-41c2-93e7-4d3b71e434f8"
      },
      "execution_count": 148,
      "outputs": [
        {
          "output_type": "execute_result",
          "data": {
            "text/plain": [
              "'akc'"
            ],
            "application/vnd.google.colaboratory.intrinsic+json": {
              "type": "string"
            }
          },
          "metadata": {},
          "execution_count": 148
        }
      ]
    },
    {
      "cell_type": "code",
      "source": [
        "table = str.maketrans('\\n\\t', '  ') # 똑같은 길이를 가지고 있어야 함\n",
        "'weniv \\n\\n\\n CEO \\t\\t\\t licat'.translate(table)"
      ],
      "metadata": {
        "colab": {
          "base_uri": "https://localhost:8080/",
          "height": 36
        },
        "id": "6PI2RUsWmHS3",
        "outputId": "3368526f-39a0-465d-d026-43563732c98b"
      },
      "execution_count": 149,
      "outputs": [
        {
          "output_type": "execute_result",
          "data": {
            "text/plain": [
              "'weniv     CEO     licat'"
            ],
            "application/vnd.google.colaboratory.intrinsic+json": {
              "type": "string"
            }
          },
          "metadata": {},
          "execution_count": 149
        }
      ]
    },
    {
      "cell_type": "code",
      "source": [
        "table = str.maketrans('\\n\\t', ' 1') # 똑같은 길이를 가지고 있어야 함\n",
        "'weniv \\n\\n\\n CEO \\t\\t\\t licat'.translate(table)"
      ],
      "metadata": {
        "colab": {
          "base_uri": "https://localhost:8080/",
          "height": 36
        },
        "id": "-hzDrU3GmUAN",
        "outputId": "b035b15b-3189-46e5-9183-565b6afe4d2b"
      },
      "execution_count": 150,
      "outputs": [
        {
          "output_type": "execute_result",
          "data": {
            "text/plain": [
              "'weniv     CEO 111 licat'"
            ],
            "application/vnd.google.colaboratory.intrinsic+json": {
              "type": "string"
            }
          },
          "metadata": {},
          "execution_count": 150
        }
      ]
    },
    {
      "cell_type": "markdown",
      "source": [
        "#연습문제 풀이"
      ],
      "metadata": {
        "id": "s6T3zU6UdqL6"
      }
    },
    {
      "cell_type": "markdown",
      "source": [],
      "metadata": {
        "id": "BZFUGCaadqJl"
      }
    },
    {
      "cell_type": "code",
      "source": [
        "# 카카오 코딩테스트 비밀지도\n",
        "n = 5\n",
        "arr1 = [9, 20, 28, 18, 11]\n",
        "arr2 = [30, 1, 21, 17, 28]"
      ],
      "metadata": {
        "id": "VYlUHhHXUh3D"
      },
      "execution_count": 27,
      "outputs": []
    },
    {
      "cell_type": "code",
      "source": [
        "# keep해야할 포인트\n",
        "# 1. 2진수는 정수형이다\n",
        "# 2. 다만 bin()은 문자열이다"
      ],
      "metadata": {
        "id": "wklMk2SmaXMb"
      },
      "execution_count": 11,
      "outputs": []
    },
    {
      "cell_type": "code",
      "source": [
        "# bin(arr1[0]) # 01001\n",
        "# bin(arr1[1]) # 10100\n",
        "# bin(arr1[2]) # 11100\n",
        "# bin(arr1[3]) # 10010\n",
        "# bin(arr1[4]) # 01011\n",
        "\n",
        "# bin(arr2[0]) # 11110\n",
        "# bin(arr2[1]) # 00001\n",
        "# bin(arr2[2]) # 10101\n",
        "# bin(arr2[3]) # 10001\n",
        "# bin(arr2[4]) # 11100\n",
        "\n",
        "# bin(arr1[0] | arr2[0])\n",
        "# bin(arr1[0] | arr2[0])[2:].replace('1', '#').replace('0', ' ')\n"
      ],
      "metadata": {
        "id": "7Vg5zlsyalPp"
      },
      "execution_count": 28,
      "outputs": []
    },
    {
      "cell_type": "code",
      "source": [
        "# 다 오늘 배운 것이니 위에 것은 잊으셔도 아래 것은 기억해주세요!\n",
        "bin(31)[2:].replace('1', '#').replace('0', ' ')\n",
        "bin(3)[2:].zfill(5).replace('1', '#').replace('0', ' ')"
      ],
      "metadata": {
        "colab": {
          "base_uri": "https://localhost:8080/",
          "height": 36
        },
        "id": "kKFEZ72Jcvlk",
        "outputId": "4798c468-6216-4411-efc5-a0adce174479"
      },
      "execution_count": 31,
      "outputs": [
        {
          "output_type": "execute_result",
          "data": {
            "text/plain": [
              "'   ##'"
            ],
            "application/vnd.google.colaboratory.intrinsic+json": {
              "type": "string"
            }
          },
          "metadata": {},
          "execution_count": 31
        }
      ]
    },
    {
      "cell_type": "code",
      "source": [
        "#연습문제 369게임 풀이\n",
        "# '36913699'와 같은 문자열이 입력되었을 때 박수를 몇 번 치는지 코드를 작성해주세요.\n",
        "s = '36913699'\n",
        "s.count('3') + s.count('6') + s.count('9')"
      ],
      "metadata": {
        "colab": {
          "base_uri": "https://localhost:8080/"
        },
        "id": "WMT2qyoGd19d",
        "outputId": "16797d20-6a20-4532-f419-9ef0ef11f3f2"
      },
      "execution_count": 32,
      "outputs": [
        {
          "output_type": "execute_result",
          "data": {
            "text/plain": [
              "7"
            ]
          },
          "metadata": {},
          "execution_count": 32
        }
      ]
    },
    {
      "cell_type": "code",
      "source": [
        "#연습문제 369게임 풀이\n",
        "s = '36913699'\n",
        "arr = s.count('3')+s.count('6')+s.count('9')\n",
        "print(arr)"
      ],
      "metadata": {
        "colab": {
          "base_uri": "https://localhost:8080/"
        },
        "id": "Wv8LnQEDfQaM",
        "outputId": "b6227718-c0d6-4658-f665-bc21ae57e36c"
      },
      "execution_count": 123,
      "outputs": [
        {
          "output_type": "stream",
          "name": "stdout",
          "text": [
            "7\n"
          ]
        }
      ]
    },
    {
      "cell_type": "code",
      "source": [
        "# 심화문제\n",
        "# '36913699'여기까지 오는동안 박수는 몇번 쳤을까요?\n",
        "# 숫자는 100입니다.\n",
        "s = str(list(range(101)))\n",
        "arr = s.count('3') + s.count('6') + s.count('9')\n",
        "print(arr)"
      ],
      "metadata": {
        "colab": {
          "base_uri": "https://localhost:8080/"
        },
        "id": "0fq2ZPsDgIv2",
        "outputId": "41591f73-0120-4fed-cb32-ce929ca083ed"
      },
      "execution_count": 34,
      "outputs": [
        {
          "output_type": "stream",
          "name": "stdout",
          "text": [
            "60\n"
          ]
        }
      ]
    },
    {
      "cell_type": "code",
      "source": [
        "# 문제1 문자열 s에 마지막에 있는 문자열을 2번 더 붙이는 코드를 작성해주세요.\n",
        "# 예) s = 'jun'\n",
        "# 정답) s = 'junnn'\n",
        "s = 'jun'\n",
        "brr = (s + s[-1] + s[-1])\n",
        "print(brr)\n",
        "arr = (s + s[-1] * 2)\n",
        "print(arr)\n",
        "\n",
        "# 문제2 대문자는 소문자로 치환하는 코드를 작성해주세요.\n",
        "# 예)  s = 'Jun'\n",
        "# 정답) s = 'jun'\n",
        "s = 'JUN'\n",
        "crr = s.lower()\n",
        "print(crr)\n",
        "drr = s.upper()\n",
        "print(drr)\n",
        "\n",
        "# 문제3 'abcde', 숫자, 대쉬(-), 언더스코어(_)를 모두 제거해주세요.\n",
        "# 얘) s = 'hello_world123'\n",
        "# 정답 s = 'hlloworl'\n",
        "s = 'hello_world123'\n",
        "i = str.maketrans('', '', 'abcde12345-_')\n",
        "frr = s.translate(i)\n",
        "print(frr)"
      ],
      "metadata": {
        "colab": {
          "base_uri": "https://localhost:8080/"
        },
        "id": "h1hzPA4vywWu",
        "outputId": "ec335bac-8197-46e7-bca9-c9418918f308"
      },
      "execution_count": 9,
      "outputs": [
        {
          "output_type": "stream",
          "name": "stdout",
          "text": [
            "junnn\n",
            "junnn\n",
            "jun\n",
            "JUN\n",
            "hlloworl\n"
          ]
        }
      ]
    },
    {
      "cell_type": "markdown",
      "source": [
        "#논리 자료형 (bool)"
      ],
      "metadata": {
        "id": "AsUKxfCxmeUT"
      }
    },
    {
      "cell_type": "code",
      "source": [
        "x = True\n",
        "y = False\n",
        "z = 10 > 3\n",
        "print(x, y, z)"
      ],
      "metadata": {
        "colab": {
          "base_uri": "https://localhost:8080/"
        },
        "id": "J4sUb7ZAcAwz",
        "outputId": "ad797f9f-4fd0-4cbd-f700-d39998bb26fc"
      },
      "execution_count": 22,
      "outputs": [
        {
          "output_type": "stream",
          "name": "stdout",
          "text": [
            "True False True\n"
          ]
        }
      ]
    },
    {
      "cell_type": "code",
      "source": [
        "print(True / False)"
      ],
      "metadata": {
        "id": "y_8IHSPsEZN7"
      },
      "execution_count": null,
      "outputs": []
    },
    {
      "cell_type": "code",
      "source": [
        "x = True\n",
        "dir(x)"
      ],
      "metadata": {
        "colab": {
          "base_uri": "https://localhost:8080/"
        },
        "id": "lKZuPw1gaqx7",
        "outputId": "8ebfb6c8-80e8-4862-c63f-dd0116d69f4b"
      },
      "execution_count": 4,
      "outputs": [
        {
          "output_type": "execute_result",
          "data": {
            "text/plain": [
              "['__abs__',\n",
              " '__add__',\n",
              " '__and__',\n",
              " '__bool__',\n",
              " '__ceil__',\n",
              " '__class__',\n",
              " '__delattr__',\n",
              " '__dir__',\n",
              " '__divmod__',\n",
              " '__doc__',\n",
              " '__eq__',\n",
              " '__float__',\n",
              " '__floor__',\n",
              " '__floordiv__',\n",
              " '__format__',\n",
              " '__ge__',\n",
              " '__getattribute__',\n",
              " '__getnewargs__',\n",
              " '__gt__',\n",
              " '__hash__',\n",
              " '__index__',\n",
              " '__init__',\n",
              " '__init_subclass__',\n",
              " '__int__',\n",
              " '__invert__',\n",
              " '__le__',\n",
              " '__lshift__',\n",
              " '__lt__',\n",
              " '__mod__',\n",
              " '__mul__',\n",
              " '__ne__',\n",
              " '__neg__',\n",
              " '__new__',\n",
              " '__or__',\n",
              " '__pos__',\n",
              " '__pow__',\n",
              " '__radd__',\n",
              " '__rand__',\n",
              " '__rdivmod__',\n",
              " '__reduce__',\n",
              " '__reduce_ex__',\n",
              " '__repr__',\n",
              " '__rfloordiv__',\n",
              " '__rlshift__',\n",
              " '__rmod__',\n",
              " '__rmul__',\n",
              " '__ror__',\n",
              " '__round__',\n",
              " '__rpow__',\n",
              " '__rrshift__',\n",
              " '__rshift__',\n",
              " '__rsub__',\n",
              " '__rtruediv__',\n",
              " '__rxor__',\n",
              " '__setattr__',\n",
              " '__sizeof__',\n",
              " '__str__',\n",
              " '__sub__',\n",
              " '__subclasshook__',\n",
              " '__truediv__',\n",
              " '__trunc__',\n",
              " '__xor__',\n",
              " 'as_integer_ratio',\n",
              " 'bit_count',\n",
              " 'bit_length',\n",
              " 'conjugate',\n",
              " 'denominator',\n",
              " 'from_bytes',\n",
              " 'imag',\n",
              " 'numerator',\n",
              " 'real',\n",
              " 'to_bytes']"
            ]
          },
          "metadata": {},
          "execution_count": 4
        }
      ]
    },
    {
      "cell_type": "markdown",
      "source": [
        "#None"
      ],
      "metadata": {
        "id": "14XtNDMGcNJA"
      }
    },
    {
      "cell_type": "code",
      "source": [
        "# None + 5\n",
        "# None + None\n",
        "# None = 10"
      ],
      "metadata": {
        "id": "p96eABsWa9Ia"
      },
      "execution_count": 5,
      "outputs": []
    },
    {
      "cell_type": "code",
      "source": [
        "# x = [10, 20, None, 30, 40]\n",
        "# x[0] + x[1] + x[2]\n",
        "# None이 수치연산이 안됩니다."
      ],
      "metadata": {
        "id": "LixmSsMEdgnM"
      },
      "execution_count": 6,
      "outputs": []
    },
    {
      "cell_type": "code",
      "source": [
        "x = None\n",
        "y = None\n",
        "print(id(x), id(y))"
      ],
      "metadata": {
        "colab": {
          "base_uri": "https://localhost:8080/"
        },
        "id": "tnt86IScdiGS",
        "outputId": "05650ad9-2253-4646-aa5a-9fef6fc66a80"
      },
      "execution_count": 24,
      "outputs": [
        {
          "output_type": "stream",
          "name": "stdout",
          "text": [
            "94632070247392 94632070247392\n"
          ]
        }
      ]
    },
    {
      "cell_type": "code",
      "source": [
        "x = None\n",
        "\n",
        "print(x == None)    # True, 하지만 이 방식은 권장되지 않습니다.\n",
        "print(x is None)    # True, 이 방식을 사용하여 None을 확인하는 것이 좋습니다."
      ],
      "metadata": {
        "colab": {
          "base_uri": "https://localhost:8080/"
        },
        "id": "s1Ie9fQedjrz",
        "outputId": "66b6c174-b32b-4a15-cbc5-b19aabbe4012"
      },
      "execution_count": 25,
      "outputs": [
        {
          "output_type": "stream",
          "name": "stdout",
          "text": [
            "True\n",
            "True\n"
          ]
        }
      ]
    },
    {
      "cell_type": "code",
      "source": [
        "class Character:\n",
        "    def __init__(self, hp, mp):\n",
        "        self.hp = hp\n",
        "        self.mp = mp\n",
        "\n",
        "    def __eq__(self, other):\n",
        "        return True\n",
        "\n",
        "주인공 = Character(100, 100)\n",
        "\n",
        "print(주인공 == None)\n",
        "print(주인공 is None) # is는 id 값을 기준으로 판단\n",
        "\n",
        "id(주인공)   # 아직은 모름 나중에 다 배우고 복습할것."
      ],
      "metadata": {
        "colab": {
          "base_uri": "https://localhost:8080/"
        },
        "id": "V0dMfyD-Ejop",
        "outputId": "8e489585-9948-4f53-b33e-18c08fd4f9b5"
      },
      "execution_count": 27,
      "outputs": [
        {
          "output_type": "stream",
          "name": "stdout",
          "text": [
            "True\n",
            "False\n"
          ]
        },
        {
          "output_type": "execute_result",
          "data": {
            "text/plain": [
              "138988530792240"
            ]
          },
          "metadata": {},
          "execution_count": 27
        }
      ]
    },
    {
      "cell_type": "code",
      "source": [
        "class Character:\n",
        "    def __init__(self, hp, mp):\n",
        "        self.hp = hp\n",
        "        self.mp = mp\n",
        "\n",
        "    def __eq__(self, other):\n",
        "        return 'hello'\n",
        "\n",
        "    def __gt__(self, other):\n",
        "        return 'world'\n",
        "\n",
        "주인공 = Character(100, 100)\n",
        "\n",
        "print(주인공 == None)\n",
        "print(주인공 > None)     # 아직은 모름 나중에 다 배우고 복습할것."
      ],
      "metadata": {
        "colab": {
          "base_uri": "https://localhost:8080/"
        },
        "id": "upAAFqrfEs9u",
        "outputId": "4664832b-681f-442f-808e-503cbb14adee"
      },
      "execution_count": 29,
      "outputs": [
        {
          "output_type": "stream",
          "name": "stdout",
          "text": [
            "hello\n",
            "world\n"
          ]
        }
      ]
    },
    {
      "cell_type": "code",
      "source": [
        "dir(3)"
      ],
      "metadata": {
        "id": "aoAjPtEiE0tG"
      },
      "execution_count": null,
      "outputs": []
    },
    {
      "cell_type": "markdown",
      "source": [
        "#메서드 채이닝"
      ],
      "metadata": {
        "id": "Y-SQ9acNfm-7"
      }
    },
    {
      "cell_type": "code",
      "source": [
        "sentence = \"  Hello, World!  \"\n",
        "result = sentence.strip().lower().replace(\"world\", \"python\")\n",
        "print(result)  # \"hello, python!\""
      ],
      "metadata": {
        "colab": {
          "base_uri": "https://localhost:8080/"
        },
        "id": "EyCELmU-fq6a",
        "outputId": "a2032a2b-a5bc-4469-f7dc-6a5edfa108d5"
      },
      "execution_count": 31,
      "outputs": [
        {
          "output_type": "stream",
          "name": "stdout",
          "text": [
            "hello, python!\n"
          ]
        }
      ]
    },
    {
      "cell_type": "code",
      "source": [
        "sentence = \"  Hello, World!  \"\n",
        "result = sentence.strip().lower().replace(\"world\", \"python\")\n",
        "# 1번 스탭 : sentence.strip() == 'Hello, World!'\n",
        "# 2번 스탭 : 'Hello, World!'.lower() == 'hello, world!'\n",
        "# 3번 스탭 : 'hello, world!'.replace(\"world\", \"python\")\n",
        "print(result)  # \"hello, python!\""
      ],
      "metadata": {
        "colab": {
          "base_uri": "https://localhost:8080/"
        },
        "id": "1w3O5bQffwgr",
        "outputId": "a913f11f-602d-4645-ca51-5bf254abf031"
      },
      "execution_count": 32,
      "outputs": [
        {
          "output_type": "stream",
          "name": "stdout",
          "text": [
            "hello, python!\n"
          ]
        }
      ]
    },
    {
      "cell_type": "code",
      "source": [
        "\"  Hello, World!  \".split()"
      ],
      "metadata": {
        "colab": {
          "base_uri": "https://localhost:8080/"
        },
        "id": "COpb3od6E4uE",
        "outputId": "6e5bfb9b-6fb1-4079-81a2-30d9d63710f5"
      },
      "execution_count": 33,
      "outputs": [
        {
          "output_type": "execute_result",
          "data": {
            "text/plain": [
              "['Hello,', 'World!']"
            ]
          },
          "metadata": {},
          "execution_count": 33
        }
      ]
    },
    {
      "cell_type": "code",
      "source": [
        "sentence = \"  Hello, World!  \"\n",
        "result = sentence.split(' ').lower().replace(\"world\", \"python\")\n",
        "# 1번 스탭 : sentence.strip() == ['Hello,', 'World!']\n",
        "# 2번 스탭 : ['Hello,', 'World!'].lower() # error\n",
        "print(result)  # \"hello, python!\""
      ],
      "metadata": {
        "id": "q0Et08bhE6EB"
      },
      "execution_count": null,
      "outputs": []
    },
    {
      "cell_type": "code",
      "source": [
        "# 어떻게든 개행해 쓰고 싶다! 백슬러쉬 사용해서 개행을 할 수 있습니다.\n",
        "sentence = \"  Hello, World!  \"\n",
        "result = sentence\\\n",
        ".strip()\\\n",
        ".lower()\\\n",
        ".replace(\"world\", \"python\")\n",
        "\n",
        "print(result)  # \"hello, python!\""
      ],
      "metadata": {
        "colab": {
          "base_uri": "https://localhost:8080/"
        },
        "id": "fQP02Id_E7Oo",
        "outputId": "e37e2dcd-ef53-45a7-ee69-52f944aa3338"
      },
      "execution_count": 35,
      "outputs": [
        {
          "output_type": "stream",
          "name": "stdout",
          "text": [
            "hello, python!\n"
          ]
        }
      ]
    },
    {
      "cell_type": "code",
      "source": [
        "# 백슬러쉬를 사용하여 개행을 하는 것은 권장하는 방법은 아닙니다.\n",
        "# 회색 bar가 생긴 것 보이시나요?                                              =>\n",
        "'hello worldhello worldhello worldhello worldhello worldhello worldhello worldhello worldhello\n",
        "'hello worldhello worldhello worldhello worldhello worldhello worldhello worldhello worldhello\n",
        "'hello worldhello worldhello worldhello worldhello worldhello worldhello worldhello worldhello\n",
        "'hello worldhello worldhello worldhello worldhello worldhello worldhello worldhello worldhello\n",
        "'hello worldhello worldhello worldhello worldhello worldhello worldhello worldhello worldhello\n",
        "'hello worldhello worldhello worldhello worldhello worldhello worldhello worldhello worldhello\n",
        "'hello worldhello worldhello worldhello worldhello worldhello worldhello worldhello worldhello\n",
        "'hello worldhello worldhello worldhello worldhello worldhello worldhello worldhello worldhello"
      ],
      "metadata": {
        "id": "lL8jou7NE8mm"
      },
      "execution_count": null,
      "outputs": []
    },
    {
      "cell_type": "code",
      "source": [
        "gugudan = [f'{i} X {j} = {i*j}' for i in range(2, 10) for j in range(1, 10)]"
      ],
      "metadata": {
        "id": "Vu-xLWs1FJWc"
      },
      "execution_count": 38,
      "outputs": []
    },
    {
      "cell_type": "code",
      "source": [
        "# http://pythonstudy.xyz/python/article/511-%ED%8C%8C%EC%9D%B4%EC%8D%AC-%EC%BD%94%EB%94%A9-%EC%8A%A4%ED%83%80%EC%9D%BC\n",
        "x = 'hellohellohellohellohellohellohellohellohellohellohellohellohellohellohellohell'\n",
        "len(x)"
      ],
      "metadata": {
        "colab": {
          "base_uri": "https://localhost:8080/"
        },
        "id": "7fd5jxnHFKe-",
        "outputId": "94b2cb8f-8fab-463b-a75e-76c93b0e6217"
      },
      "execution_count": 39,
      "outputs": [
        {
          "output_type": "execute_result",
          "data": {
            "text/plain": [
              "79"
            ]
          },
          "metadata": {},
          "execution_count": 39
        }
      ]
    },
    {
      "cell_type": "markdown",
      "source": [
        "#형변환"
      ],
      "metadata": {
        "id": "a1MDP8XQkYGh"
      }
    },
    {
      "cell_type": "code",
      "source": [
        "월급 = input(\"월급을 입력하세요:\")\n",
        "연봉 = 월급 * 12\n",
        "print(연봉)"
      ],
      "metadata": {
        "colab": {
          "base_uri": "https://localhost:8080/"
        },
        "id": "mrt9e8_2FOAt",
        "outputId": "6d488278-dd73-4cf2-d80d-98a234f6b69f"
      },
      "execution_count": 40,
      "outputs": [
        {
          "output_type": "stream",
          "name": "stdout",
          "text": [
            "월급을 입력하세요:100\n",
            "100100100100100100100100100100100100\n"
          ]
        }
      ]
    },
    {
      "cell_type": "code",
      "source": [
        "월급 = input(\"월급을 입력하세요:\")\n",
        "연봉 = int(월급) * 12\n",
        "print(연봉)"
      ],
      "metadata": {
        "colab": {
          "base_uri": "https://localhost:8080/"
        },
        "id": "ArRWlAeVFOj5",
        "outputId": "5c772e35-bfa3-4f79-85b7-aece82b55575"
      },
      "execution_count": 41,
      "outputs": [
        {
          "output_type": "stream",
          "name": "stdout",
          "text": [
            "월급을 입력하세요:100\n",
            "1200\n"
          ]
        }
      ]
    },
    {
      "cell_type": "code",
      "source": [
        "월급 = int(input(\"월급을 입력하세요:\"))\n",
        "연봉 = 월급 * 12\n",
        "print(연봉)"
      ],
      "metadata": {
        "colab": {
          "base_uri": "https://localhost:8080/"
        },
        "id": "D8Az0LfwFQrq",
        "outputId": "5625c378-1504-43c0-b4e9-ddce1e62bf8c"
      },
      "execution_count": 42,
      "outputs": [
        {
          "output_type": "stream",
          "name": "stdout",
          "text": [
            "월급을 입력하세요:100\n",
            "1200\n"
          ]
        }
      ]
    },
    {
      "cell_type": "code",
      "source": [
        "# 어렵지만 자주 사용하는 문법이니 기억해주세요.\n",
        "list(map(int, ['10', '20', '30']))"
      ],
      "metadata": {
        "colab": {
          "base_uri": "https://localhost:8080/"
        },
        "id": "sjn6tTDHFUhS",
        "outputId": "770f6090-4b71-4d62-b77e-12a7cb41fa27"
      },
      "execution_count": 43,
      "outputs": [
        {
          "output_type": "execute_result",
          "data": {
            "text/plain": [
              "[10, 20, 30]"
            ]
          },
          "metadata": {},
          "execution_count": 43
        }
      ]
    },
    {
      "cell_type": "code",
      "source": [
        "list(map(int, '12345'))"
      ],
      "metadata": {
        "colab": {
          "base_uri": "https://localhost:8080/"
        },
        "id": "cefI85F2ooGD",
        "outputId": "84886aa8-c558-482a-cbd5-0e405e9bf3e0"
      },
      "execution_count": 13,
      "outputs": [
        {
          "output_type": "execute_result",
          "data": {
            "text/plain": [
              "[1, 2, 3, 4, 5]"
            ]
          },
          "metadata": {},
          "execution_count": 13
        }
      ]
    },
    {
      "cell_type": "code",
      "source": [
        "#다음 숫자에 모든 자릿수를 다 더한 값을 출력하세요\n",
        "sum(map(int, '1112312311113334'))"
      ],
      "metadata": {
        "colab": {
          "base_uri": "https://localhost:8080/"
        },
        "id": "jceIyKLhorMi",
        "outputId": "3d9cb9b0-d172-4aa7-aee6-8210fd041b94"
      },
      "execution_count": 14,
      "outputs": [
        {
          "output_type": "execute_result",
          "data": {
            "text/plain": [
              "31"
            ]
          },
          "metadata": {},
          "execution_count": 14
        }
      ]
    },
    {
      "cell_type": "code",
      "source": [
        "true_int = int(True)\n",
        "false_int = int(False)\n",
        "\n",
        "print(true_int)  # 출력: 1\n",
        "print(false_int)  # 출력: 0"
      ],
      "metadata": {
        "colab": {
          "base_uri": "https://localhost:8080/"
        },
        "id": "XRI2XgCUopTQ",
        "outputId": "c457412e-2229-4569-b64b-314bdce8ed60"
      },
      "execution_count": 44,
      "outputs": [
        {
          "output_type": "stream",
          "name": "stdout",
          "text": [
            "1\n",
            "0\n"
          ]
        }
      ]
    },
    {
      "cell_type": "code",
      "source": [
        "n = 123\n",
        "print(type(n))\n",
        "\n",
        "m = 123.4\n",
        "print(type(n))\n",
        "\n",
        "n = str(n)\n",
        "print(type(n))\n",
        "\n",
        "m = str(m)\n",
        "print(type(m))"
      ],
      "metadata": {
        "colab": {
          "base_uri": "https://localhost:8080/"
        },
        "id": "LcenrhQKFbu9",
        "outputId": "d40165a5-c5b0-4141-f3b2-54d79cc31954"
      },
      "execution_count": 45,
      "outputs": [
        {
          "output_type": "stream",
          "name": "stdout",
          "text": [
            "<class 'int'>\n",
            "<class 'int'>\n",
            "<class 'str'>\n",
            "<class 'str'>\n"
          ]
        }
      ]
    },
    {
      "cell_type": "code",
      "source": [
        "m"
      ],
      "metadata": {
        "colab": {
          "base_uri": "https://localhost:8080/",
          "height": 36
        },
        "id": "NABNs6kOFdWJ",
        "outputId": "0111d025-e2aa-4eef-cdc8-accfa48568c1"
      },
      "execution_count": 47,
      "outputs": [
        {
          "output_type": "execute_result",
          "data": {
            "text/plain": [
              "'123.4'"
            ],
            "application/vnd.google.colaboratory.intrinsic+json": {
              "type": "string"
            }
          },
          "metadata": {},
          "execution_count": 47
        }
      ]
    },
    {
      "cell_type": "code",
      "source": [
        "# 소숫점을 float형으로 변환하는 것은 가능하지만\n",
        "float(m)"
      ],
      "metadata": {
        "colab": {
          "base_uri": "https://localhost:8080/"
        },
        "id": "rSffEW6xFg-b",
        "outputId": "cf6f1128-b9cb-49a3-dbc9-1ad3a59a73fa"
      },
      "execution_count": 48,
      "outputs": [
        {
          "output_type": "execute_result",
          "data": {
            "text/plain": [
              "123.4"
            ]
          },
          "metadata": {},
          "execution_count": 48
        }
      ]
    },
    {
      "cell_type": "code",
      "source": [
        "# int형으로 변환하는 것은 가능하지 않습니다.\n",
        "int(m)"
      ],
      "metadata": {
        "id": "tkvAtHukFhZJ"
      },
      "execution_count": null,
      "outputs": []
    },
    {
      "cell_type": "code",
      "source": [
        "# 여러분이 자주하는 실수\n",
        "x = 1.0\n",
        "x = str(x)\n",
        "print(int(x))"
      ],
      "metadata": {
        "id": "YvXdqa87Fidt"
      },
      "execution_count": null,
      "outputs": []
    },
    {
      "cell_type": "code",
      "source": [
        "x = 1.0\n",
        "x = str(x)\n",
        "if x.find('.') == -1:\n",
        "    print(int(x))\n",
        "else:\n",
        "    print(float(x))"
      ],
      "metadata": {
        "colab": {
          "base_uri": "https://localhost:8080/"
        },
        "id": "FxNqgtw0pxXD",
        "outputId": "137aeff8-bef2-417c-a6a1-6095cd1f60fd"
      },
      "execution_count": 52,
      "outputs": [
        {
          "output_type": "stream",
          "name": "stdout",
          "text": [
            "1.0\n"
          ]
        }
      ]
    },
    {
      "cell_type": "code",
      "source": [
        "print(\"bool('test'):\", bool('test'))\n",
        "print(\"bool(' '):\", bool(' '))\n",
        "print(\"bool(''):\", bool(''))\n",
        "print(\"bool(100):\", bool(100))\n",
        "print(\"bool(1):\", bool(1))\n",
        "print(\"bool(0):\", bool(0))\n",
        "print(\"bool(-1):\", bool(-1))\n",
        "\n",
        "\n",
        "print(\"bool(None):\", bool(None))\n",
        "print(\"bool([]):\", bool([])) # 주의(JavaScript에서는 true, Python False)\n",
        "print(\"bool(tuple()):\", bool(tuple())) # 주의\n",
        "print(\"bool({}):\", bool({})) # 주의\n",
        "print(\"bool(set()):\", bool(set())) # 주의"
      ],
      "metadata": {
        "colab": {
          "base_uri": "https://localhost:8080/"
        },
        "id": "w4HerEbFFsSB",
        "outputId": "9ec1a763-b8a9-4119-8042-002f2929d09d"
      },
      "execution_count": 53,
      "outputs": [
        {
          "output_type": "stream",
          "name": "stdout",
          "text": [
            "bool('test'): True\n",
            "bool(' '): True\n",
            "bool(''): False\n",
            "bool(100): True\n",
            "bool(1): True\n",
            "bool(0): False\n",
            "bool(-1): True\n",
            "bool(None): False\n",
            "bool([]): False\n",
            "bool(tuple()): False\n",
            "bool({}): False\n",
            "bool(set()): False\n"
          ]
        }
      ]
    },
    {
      "cell_type": "code",
      "source": [
        "# 실무에서 많이 사용하는 코드\n",
        "x = [1, 2, 3]\n",
        "while x:\n",
        "    print(x.pop())"
      ],
      "metadata": {
        "colab": {
          "base_uri": "https://localhost:8080/"
        },
        "id": "HZwOWNpcFtdC",
        "outputId": "a84a284c-1a5b-4854-93a5-b5ef88bdb68e"
      },
      "execution_count": 54,
      "outputs": [
        {
          "output_type": "stream",
          "name": "stdout",
          "text": [
            "3\n",
            "2\n",
            "1\n"
          ]
        }
      ]
    },
    {
      "cell_type": "code",
      "source": [
        "s = '10'\n",
        "print(list(s))\n",
        "\n",
        "name = 'licat'\n",
        "print(list(name))"
      ],
      "metadata": {
        "colab": {
          "base_uri": "https://localhost:8080/"
        },
        "id": "Op_2UDU4pzTy",
        "outputId": "8b042b16-711f-4030-edf0-21f8b39f5090"
      },
      "execution_count": 55,
      "outputs": [
        {
          "output_type": "stream",
          "name": "stdout",
          "text": [
            "['1', '0']\n",
            "['l', 'i', 'c', 'a', 't']\n"
          ]
        }
      ]
    },
    {
      "cell_type": "code",
      "source": [
        "name = 'licat'\n",
        "tuple(name)"
      ],
      "metadata": {
        "colab": {
          "base_uri": "https://localhost:8080/"
        },
        "id": "OPPP1aVZFyJo",
        "outputId": "65f001c2-e4db-4c35-a67d-4fce5db2fb36"
      },
      "execution_count": 56,
      "outputs": [
        {
          "output_type": "execute_result",
          "data": {
            "text/plain": [
              "('l', 'i', 'c', 'a', 't')"
            ]
          },
          "metadata": {},
          "execution_count": 56
        }
      ]
    },
    {
      "cell_type": "code",
      "source": [
        "data = [('name','licat'),('age',10)]\n",
        "d = dict(data)\n",
        "d"
      ],
      "metadata": {
        "colab": {
          "base_uri": "https://localhost:8080/"
        },
        "id": "xs0yK35Asv8z",
        "outputId": "c55258a9-2350-4b15-ce03-bb9ecd4b2b42"
      },
      "execution_count": 57,
      "outputs": [
        {
          "output_type": "execute_result",
          "data": {
            "text/plain": [
              "{'name': 'licat', 'age': 10}"
            ]
          },
          "metadata": {},
          "execution_count": 57
        }
      ]
    },
    {
      "cell_type": "code",
      "source": [
        "s = 'weniv CEO licat'\n",
        "print(set(s)) #중복을 허락하지 않고 순서가 없습니다.\n",
        "print(len(set(s))) #중복을 제거한 상태로의 길이를 알려줍니다.\n",
        "print(len(s))"
      ],
      "metadata": {
        "colab": {
          "base_uri": "https://localhost:8080/"
        },
        "id": "WcL09ip-sxrb",
        "outputId": "0c32a4a2-ff10-4a2f-ea6a-63bee15c99c8"
      },
      "execution_count": 58,
      "outputs": [
        {
          "output_type": "stream",
          "name": "stdout",
          "text": [
            "{'O', 'c', 'v', 'i', 'e', 'E', 'a', 'n', 'l', ' ', 'w', 't', 'C'}\n",
            "13\n",
            "15\n"
          ]
        }
      ]
    },
    {
      "cell_type": "markdown",
      "source": [
        "#연습문제"
      ],
      "metadata": {
        "id": "7Jyq3VF3F7yK"
      }
    },
    {
      "cell_type": "code",
      "source": [
        "# 항상 확장자만 나오게 해주세요!\n",
        "s = 'licat.jpeg'\n",
        "s = 'li.cat.jpeg'"
      ],
      "metadata": {
        "id": "EgksDZKfs8KU"
      },
      "execution_count": 59,
      "outputs": []
    },
    {
      "cell_type": "code",
      "source": [
        "print(s.split('.')[-1])"
      ],
      "metadata": {
        "colab": {
          "base_uri": "https://localhost:8080/"
        },
        "id": "Pm5vuNoeF935",
        "outputId": "2067b6a7-5f45-44ab-f890-fc02741314fc"
      },
      "execution_count": 60,
      "outputs": [
        {
          "output_type": "stream",
          "name": "stdout",
          "text": [
            "jpeg\n"
          ]
        }
      ]
    },
    {
      "cell_type": "code",
      "source": [
        "s = 'li.cat.jpeg'\n",
        "s[s.index('.')+1:]"
      ],
      "metadata": {
        "colab": {
          "base_uri": "https://localhost:8080/",
          "height": 36
        },
        "id": "cmS1A44-GB8r",
        "outputId": "19ec3dd0-5422-4bae-c6ac-4ff6fc8a8085"
      },
      "execution_count": 61,
      "outputs": [
        {
          "output_type": "execute_result",
          "data": {
            "text/plain": [
              "'cat.jpeg'"
            ],
            "application/vnd.google.colaboratory.intrinsic+json": {
              "type": "string"
            }
          },
          "metadata": {},
          "execution_count": 61
        }
      ]
    },
    {
      "cell_type": "code",
      "source": [
        "s[::-1].split('.')[0][::-1]"
      ],
      "metadata": {
        "colab": {
          "base_uri": "https://localhost:8080/",
          "height": 36
        },
        "id": "UyYBzUdxGCKH",
        "outputId": "68c947e9-6713-4763-c67e-646e26a69051"
      },
      "execution_count": 82,
      "outputs": [
        {
          "output_type": "execute_result",
          "data": {
            "text/plain": [
              "'jpeg'"
            ],
            "application/vnd.google.colaboratory.intrinsic+json": {
              "type": "string"
            }
          },
          "metadata": {},
          "execution_count": 82
        }
      ]
    },
    {
      "cell_type": "code",
      "source": [
        "s = 'li.cat.jpeg'\n",
        "s.split('.')[-1]"
      ],
      "metadata": {
        "colab": {
          "base_uri": "https://localhost:8080/",
          "height": 36
        },
        "id": "tw5RBFS5GGK0",
        "outputId": "ee928a74-67db-47a7-ae2d-cad5b60686c6"
      },
      "execution_count": 63,
      "outputs": [
        {
          "output_type": "execute_result",
          "data": {
            "text/plain": [
              "'jpeg'"
            ],
            "application/vnd.google.colaboratory.intrinsic+json": {
              "type": "string"
            }
          },
          "metadata": {},
          "execution_count": 63
        }
      ]
    },
    {
      "cell_type": "code",
      "source": [
        "a = 'li.cat.jpeg'\n",
        "# s[s.index('.')+1:]\n",
        "# a.rindex('.')\n",
        "a[a.rindex('.')+1:]"
      ],
      "metadata": {
        "colab": {
          "base_uri": "https://localhost:8080/",
          "height": 36
        },
        "id": "Pyhkj1eLGHNx",
        "outputId": "834834aa-1177-406d-9464-4109a6b91762"
      },
      "execution_count": 84,
      "outputs": [
        {
          "output_type": "execute_result",
          "data": {
            "text/plain": [
              "'jpeg'"
            ],
            "application/vnd.google.colaboratory.intrinsic+json": {
              "type": "string"
            }
          },
          "metadata": {},
          "execution_count": 84
        }
      ]
    },
    {
      "cell_type": "code",
      "source": [
        "dir(s)"
      ],
      "metadata": {
        "id": "NuLEIh3bGIel"
      },
      "execution_count": null,
      "outputs": []
    }
  ]
}