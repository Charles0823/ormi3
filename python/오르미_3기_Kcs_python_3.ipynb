{
  "nbformat": 4,
  "nbformat_minor": 0,
  "metadata": {
    "colab": {
      "provenance": [],
      "toc_visible": true,
      "authorship_tag": "ABX9TyNkqgRnrqTybXlib5RAxe4O",
      "include_colab_link": true
    },
    "kernelspec": {
      "name": "python3",
      "display_name": "Python 3"
    },
    "language_info": {
      "name": "python"
    }
  },
  "cells": [
    {
      "cell_type": "markdown",
      "metadata": {
        "id": "view-in-github",
        "colab_type": "text"
      },
      "source": [
        "<a href=\"https://colab.research.google.com/github/Charles0823/ormi3/blob/main/python/%EC%98%A4%EB%A5%B4%EB%AF%B8_3%EA%B8%B0_Kcs_python_3.ipynb\" target=\"_parent\"><img src=\"https://colab.research.google.com/assets/colab-badge.svg\" alt=\"Open In Colab\"/></a>"
      ]
    },
    {
      "cell_type": "markdown",
      "source": [
        "# 리스트"
      ],
      "metadata": {
        "id": "9O2kl36KEHCK"
      }
    },
    {
      "cell_type": "code",
      "execution_count": null,
      "metadata": {
        "colab": {
          "base_uri": "https://localhost:8080/",
          "height": 35
        },
        "id": "qj8ZsL9EEEyI",
        "outputId": "b004f6f7-8d70-434f-e806-e574d2f1d3fd"
      },
      "outputs": [
        {
          "output_type": "execute_result",
          "data": {
            "text/plain": [
              "'hello'"
            ],
            "application/vnd.google.colaboratory.intrinsic+json": {
              "type": "string"
            }
          },
          "metadata": {},
          "execution_count": 2
        }
      ],
      "source": [
        "# 시퀀스형 자료형\n",
        "a = 'hello world'\n",
        "a[0]\n",
        "a[:5]"
      ]
    },
    {
      "cell_type": "code",
      "source": [
        "range(10)[3]"
      ],
      "metadata": {
        "colab": {
          "base_uri": "https://localhost:8080/"
        },
        "id": "yk4SPEDMEihR",
        "outputId": "633283da-5d15-4084-e530-0d4916a410f5"
      },
      "execution_count": null,
      "outputs": [
        {
          "output_type": "execute_result",
          "data": {
            "text/plain": [
              "3"
            ]
          },
          "metadata": {},
          "execution_count": 3
        }
      ]
    },
    {
      "cell_type": "code",
      "source": [
        "range(100)[::5]"
      ],
      "metadata": {
        "colab": {
          "base_uri": "https://localhost:8080/"
        },
        "id": "oQx2NoH2E6rN",
        "outputId": "a7681cca-d6d3-47ac-f076-3e8da669a6af"
      },
      "execution_count": null,
      "outputs": [
        {
          "output_type": "execute_result",
          "data": {
            "text/plain": [
              "range(0, 100, 5)"
            ]
          },
          "metadata": {},
          "execution_count": 5
        }
      ]
    },
    {
      "cell_type": "code",
      "source": [
        "range(10)[3:]"
      ],
      "metadata": {
        "colab": {
          "base_uri": "https://localhost:8080/"
        },
        "id": "IHvFnndfE3Zl",
        "outputId": "020bd3f1-ab1a-46d2-9209-9ff978c27399"
      },
      "execution_count": null,
      "outputs": [
        {
          "output_type": "execute_result",
          "data": {
            "text/plain": [
              "range(3, 10)"
            ]
          },
          "metadata": {},
          "execution_count": 4
        }
      ]
    },
    {
      "cell_type": "code",
      "source": [
        "enumerate([0, 1, 2, 3, 4, 5, 6, 7, 8, 9], 100)"
      ],
      "metadata": {
        "colab": {
          "base_uri": "https://localhost:8080/"
        },
        "id": "5djTX7SDFRis",
        "outputId": "c109a007-d4bb-4c36-f1a7-79066b898801"
      },
      "execution_count": null,
      "outputs": [
        {
          "output_type": "execute_result",
          "data": {
            "text/plain": [
              "<enumerate at 0x790dd2a5d680>"
            ]
          },
          "metadata": {},
          "execution_count": 9
        }
      ]
    },
    {
      "cell_type": "code",
      "source": [
        "enumerate([0, 1, 2, 3, 4, 5, 6, 7, 8, 9], 100)[2]"
      ],
      "metadata": {
        "id": "jaJA_bMBFGmR"
      },
      "execution_count": null,
      "outputs": []
    },
    {
      "cell_type": "code",
      "source": [
        "enumerate([0, 1, 2, 3, 4, 5, 6, 7, 8, 9], 100)[2:]"
      ],
      "metadata": {
        "id": "fOWpzO3NFPRk"
      },
      "execution_count": null,
      "outputs": []
    },
    {
      "cell_type": "code",
      "source": [
        "b'world'"
      ],
      "metadata": {
        "colab": {
          "base_uri": "https://localhost:8080/"
        },
        "id": "yCY-Lvbe3JhP",
        "outputId": "be62d628-8ffa-43b7-972d-f48ac4d21a5b"
      },
      "execution_count": null,
      "outputs": [
        {
          "output_type": "execute_result",
          "data": {
            "text/plain": [
              "b'world'"
            ]
          },
          "metadata": {},
          "execution_count": 11
        }
      ]
    },
    {
      "cell_type": "code",
      "source": [
        "b = b'world' # 유니코드표 X, 아스키코드표에서 찾습니다!\n",
        "b[0]"
      ],
      "metadata": {
        "colab": {
          "base_uri": "https://localhost:8080/"
        },
        "id": "Ew2NXIvi3S9k",
        "outputId": "2d6dd882-c0bd-4770-9300-bcbc4e3fb481"
      },
      "execution_count": null,
      "outputs": [
        {
          "output_type": "execute_result",
          "data": {
            "text/plain": [
              "119"
            ]
          },
          "metadata": {},
          "execution_count": 12
        }
      ]
    },
    {
      "cell_type": "code",
      "source": [
        "# b'' # 바이트\n",
        "# f'' # f-string 용법\n",
        "# r'' # raw값 출력"
      ],
      "metadata": {
        "id": "xswFXraz3uQH"
      },
      "execution_count": 82,
      "outputs": []
    },
    {
      "cell_type": "code",
      "source": [
        "# 덧셈과 곱셈\n",
        "a = [1, 2, 3, 4, 5]\n",
        "b = [6, 7, 8]\n",
        "\n",
        "print(a + b) # 출력: [1, 2, 3, 4, 5, 6, 7, 8]"
      ],
      "metadata": {
        "colab": {
          "base_uri": "https://localhost:8080/"
        },
        "id": "tqmHYnJ3Fzta",
        "outputId": "6dc4d86d-ec8a-456a-f9fb-8e2b19be79a2"
      },
      "execution_count": null,
      "outputs": [
        {
          "output_type": "stream",
          "name": "stdout",
          "text": [
            "[1, 2, 3, 4, 5, 6, 7, 8]\n"
          ]
        }
      ]
    },
    {
      "cell_type": "code",
      "source": [
        "# 덧셈과 곱셈\n",
        "a = [1, 2, 3, 4, 5]\n",
        "\n",
        "print(a * 3) # 출력: [1, 2, 3, 4, 5, 1, 2, 3, 4, 5, 1, 2, 3, 4, 5]"
      ],
      "metadata": {
        "colab": {
          "base_uri": "https://localhost:8080/"
        },
        "id": "Dh70KEh1F1LU",
        "outputId": "8978fb6d-010c-46a5-d6d4-bf238a3d264a"
      },
      "execution_count": null,
      "outputs": [
        {
          "output_type": "stream",
          "name": "stdout",
          "text": [
            "[1, 2, 3, 4, 5, 1, 2, 3, 4, 5, 1, 2, 3, 4, 5]\n"
          ]
        }
      ]
    },
    {
      "cell_type": "code",
      "source": [
        "a = [1, 2, 3, 4, 5]\n",
        "a = a * 3\n",
        "\n",
        "print(a)\n",
        "id(a[2]), id(a[7])\n",
        "id(a[2]), id(a[8])"
      ],
      "metadata": {
        "colab": {
          "base_uri": "https://localhost:8080/"
        },
        "id": "ailsHYPuF-1D",
        "outputId": "0625919d-0417-42e4-bcf4-c76583180b30"
      },
      "execution_count": null,
      "outputs": [
        {
          "output_type": "stream",
          "name": "stdout",
          "text": [
            "[1, 2, 3, 4, 5, 1, 2, 3, 4, 5, 1, 2, 3, 4, 5]\n"
          ]
        },
        {
          "output_type": "execute_result",
          "data": {
            "text/plain": [
              "(133100684394800, 133100684394832)"
            ]
          },
          "metadata": {},
          "execution_count": 17
        }
      ]
    },
    {
      "cell_type": "code",
      "source": [
        "a = [1, 2, 3]\n",
        "a = [a * 2] * 2 # 리스트 컴프리헨션 사용하셔서 만드시는 것을 권합니다.\n",
        "\n",
        "print(a)\n",
        "id(a[0]), id(a[1])\n",
        "a[0][0] = 10000\n",
        "a"
      ],
      "metadata": {
        "colab": {
          "base_uri": "https://localhost:8080/"
        },
        "id": "ESEc4e-KGS2s",
        "outputId": "39b37d29-f42f-4cb8-9073-3214dd82c697"
      },
      "execution_count": null,
      "outputs": [
        {
          "output_type": "stream",
          "name": "stdout",
          "text": [
            "[[1, 2, 3, 1, 2, 3], [1, 2, 3, 1, 2, 3]]\n"
          ]
        },
        {
          "output_type": "execute_result",
          "data": {
            "text/plain": [
              "[[10000, 2, 3, 1, 2, 3], [10000, 2, 3, 1, 2, 3]]"
            ]
          },
          "metadata": {},
          "execution_count": 22
        }
      ]
    },
    {
      "cell_type": "code",
      "source": [
        "l = [1, 2, 3, 4, 5]\n",
        "print(l[0]) # 출력: 1\n",
        "print(l[3]) # 출력: 4\n",
        "print(l[-1]) # 출력: 5\n",
        "print(l[-3]) # 출력: 3"
      ],
      "metadata": {
        "colab": {
          "base_uri": "https://localhost:8080/"
        },
        "id": "-lO8YsAYGtT5",
        "outputId": "67679c45-83d3-4327-e0ed-eb8b4df74f7e"
      },
      "execution_count": null,
      "outputs": [
        {
          "output_type": "stream",
          "name": "stdout",
          "text": [
            "1\n",
            "4\n",
            "5\n",
            "3\n"
          ]
        }
      ]
    },
    {
      "cell_type": "code",
      "source": [
        "l = [1, 2, 3, 4, 5]\n",
        "print(type(l))\n",
        "print(dir(l))"
      ],
      "metadata": {
        "colab": {
          "base_uri": "https://localhost:8080/"
        },
        "id": "VVbah0BUHd3W",
        "outputId": "6c713f5b-5f18-42d4-9b35-3a21c29ec7c9"
      },
      "execution_count": null,
      "outputs": [
        {
          "output_type": "stream",
          "name": "stdout",
          "text": [
            "<class 'list'>\n",
            "['__add__', '__class__', '__class_getitem__', '__contains__', '__delattr__', '__delitem__', '__dir__', '__doc__', '__eq__', '__format__', '__ge__', '__getattribute__', '__getitem__', '__gt__', '__hash__', '__iadd__', '__imul__', '__init__', '__init_subclass__', '__iter__', '__le__', '__len__', '__lt__', '__mul__', '__ne__', '__new__', '__reduce__', '__reduce_ex__', '__repr__', '__reversed__', '__rmul__', '__setattr__', '__setitem__', '__sizeof__', '__str__', '__subclasshook__', 'append', 'clear', 'copy', 'count', 'extend', 'index', 'insert', 'pop', 'remove', 'reverse', 'sort']\n"
          ]
        }
      ]
    },
    {
      "cell_type": "code",
      "source": [
        "[1, 2, 3] + [1, 2, 3] = [1, 2, 3, 1, 2, 3]\n",
        "# [2, 4, 6] 요소마다 더해지는 것은 아닙니다. 그런데 이러한 코드는 __add__에 구현이 되어 있는 것입니다.\n",
        "# __add__에 요소마다 더하는 것으로 구현이 되어 있었다면 [2, 4, 6]을 출력했을 것입니다."
      ],
      "metadata": {
        "id": "GHEVIMEVHlXa"
      },
      "execution_count": null,
      "outputs": []
    },
    {
      "cell_type": "code",
      "source": [
        "import numpy as np\n",
        "\n",
        "l = [1, 2, 3]\n",
        "l = np.array(l)\n",
        "l * 3\n",
        "l + l\n",
        "# 너무 당연하게 요소를 붙이는 것이다라고 생각하지 않으셨으면 좋겠습니다."
      ],
      "metadata": {
        "colab": {
          "base_uri": "https://localhost:8080/"
        },
        "id": "xl2d4ylz5oar",
        "outputId": "650a44ef-b5c1-4116-d91e-48c93bbbffb2"
      },
      "execution_count": 4,
      "outputs": [
        {
          "output_type": "execute_result",
          "data": {
            "text/plain": [
              "array([2, 4, 6])"
            ]
          },
          "metadata": {},
          "execution_count": 4
        }
      ]
    },
    {
      "cell_type": "code",
      "source": [
        "# 문제: 이 데이터에서 licat을 출력해주세요. 단, 직접 접근은 안됩니다. data[1]로 접근하는 것은 안됩니다.\n",
        "data = [['weniv CTO binky', 2], ['weniv CEO licat', 1], ['weniv COO mura', 2]]\n",
        "sorted(data, key = lambda x:x[1])[0][0].split(' ')[2]\n",
        "\n",
        "# 강사님풀이\n",
        "# s = sorted(data, key=lambda x:x[1])[0][0]\n",
        "# s[s.find('licat'):]\n",
        "\n",
        "# s = str(list(data))\n",
        "# s[s.find('licat'):s.find('licat') + 5]"
      ],
      "metadata": {
        "id": "PBaFiobAIrMM",
        "colab": {
          "base_uri": "https://localhost:8080/",
          "height": 36
        },
        "outputId": "64dbda7a-cbab-418d-e649-40586c24dc97"
      },
      "execution_count": null,
      "outputs": [
        {
          "output_type": "execute_result",
          "data": {
            "text/plain": [
              "'licat'"
            ],
            "application/vnd.google.colaboratory.intrinsic+json": {
              "type": "string"
            }
          },
          "metadata": {},
          "execution_count": 12
        }
      ]
    },
    {
      "cell_type": "code",
      "source": [
        "#문제1: 다음 함수 is_palindrome를 완성하시오. 이 함수는 하나의 문자열을 인자로 받아,\n",
        "#해당 문자열이 팰린드롬(앞으로 읽으나 뒤로 읽으나 같은 단어나 구)이면 True를, 아니면 False를 반환해야 합니다.\n",
        "def is_palindrome(s):\n",
        "    if s == s[::-1]:\n",
        "        return True\n",
        "    return False\n",
        "\n",
        "print(is_palindrome(\"level\"))  # 결과: True\n",
        "print(is_palindrome(\"python\")) # 결과: False"
      ],
      "metadata": {
        "colab": {
          "base_uri": "https://localhost:8080/"
        },
        "id": "lub51puzNGVi",
        "outputId": "9fc321f3-f5bd-4449-fb62-b0cbe69cf651"
      },
      "execution_count": null,
      "outputs": [
        {
          "output_type": "stream",
          "name": "stdout",
          "text": [
            "True\n",
            "False\n"
          ]
        }
      ]
    },
    {
      "cell_type": "code",
      "source": [
        "#문제2: 리스트 numbers가 주어졌을 때, 이 리스트 내의 모든 짝수를 제거하는 코드를 작성하시오.\n",
        "numbers = [2, 3, 4, 5, 6, 7, 8, 9, 10]\n",
        "numbers = list(filter(lambda x : x % 2 != 0, numbers))\n",
        "print(numbers)  # 결과: [3, 5, 7, 9]"
      ],
      "metadata": {
        "colab": {
          "base_uri": "https://localhost:8080/"
        },
        "id": "RJofSywGgA97",
        "outputId": "eed9cd2e-352f-4841-b0ed-20060af77d6c"
      },
      "execution_count": null,
      "outputs": [
        {
          "output_type": "stream",
          "name": "stdout",
          "text": [
            "[3, 5, 7, 9]\n"
          ]
        }
      ]
    },
    {
      "cell_type": "code",
      "source": [],
      "metadata": {
        "id": "BytrKOuGp0fh"
      },
      "execution_count": 81,
      "outputs": []
    },
    {
      "cell_type": "code",
      "source": [],
      "metadata": {
        "id": "mvJd2CrfqHZn"
      },
      "execution_count": 81,
      "outputs": []
    },
    {
      "cell_type": "code",
      "source": [],
      "metadata": {
        "id": "u_4GfD0RqHpV"
      },
      "execution_count": null,
      "outputs": []
    },
    {
      "cell_type": "markdown",
      "source": [
        "#리스트(이어서)"
      ],
      "metadata": {
        "id": "AIP3jPKmV1rz"
      }
    },
    {
      "cell_type": "code",
      "source": [
        "z = [\n",
        "    10,\n",
        "    20,\n",
        "    30,\n",
        "    40,\n",
        "]\n",
        "print(z[0])"
      ],
      "metadata": {
        "colab": {
          "base_uri": "https://localhost:8080/"
        },
        "id": "ED51M1uoi8xU",
        "outputId": "72f27eac-6d7a-4945-e286-a28feb5c12bd"
      },
      "execution_count": 50,
      "outputs": [
        {
          "output_type": "stream",
          "name": "stdout",
          "text": [
            "10\n"
          ]
        }
      ]
    },
    {
      "cell_type": "code",
      "source": [
        "a = [1, 2, 3, 4, 5]\n",
        "a[0] = 10000\n",
        "print(a)"
      ],
      "metadata": {
        "colab": {
          "base_uri": "https://localhost:8080/"
        },
        "id": "xespStCWi9Nv",
        "outputId": "ff790c3f-9cfa-404c-f5b1-3f1e1b5e1034"
      },
      "execution_count": 51,
      "outputs": [
        {
          "output_type": "stream",
          "name": "stdout",
          "text": [
            "[10000, 2, 3, 4, 5]\n"
          ]
        }
      ]
    },
    {
      "cell_type": "code",
      "source": [
        "a = [1, 2, 3, 4, 5]\n",
        "b = [6, 7, 8]\n",
        "\n",
        "print(a + b) # 출력: [1, 2, 3, 4, 5, 6, 7, 8]"
      ],
      "metadata": {
        "colab": {
          "base_uri": "https://localhost:8080/"
        },
        "id": "OwIWBRMSi-ag",
        "outputId": "48583b40-de96-4f54-8344-75726121ed29"
      },
      "execution_count": 52,
      "outputs": [
        {
          "output_type": "stream",
          "name": "stdout",
          "text": [
            "[1, 2, 3, 4, 5, 6, 7, 8]\n"
          ]
        }
      ]
    },
    {
      "cell_type": "code",
      "source": [
        "import numpy as np\n",
        "\n",
        "l = [1, 2, 3]\n",
        "l = np.array(l)\n",
        "l * 3\n",
        "l + l\n",
        "# 너무 당연하게 요소를 붙이는 것이다라고 생각하지 않으셨으면 좋겠습니다."
      ],
      "metadata": {
        "colab": {
          "base_uri": "https://localhost:8080/"
        },
        "id": "8VKp2hxGtAA-",
        "outputId": "b6a28bdf-96cc-4365-f5d6-1c2430ac8b51"
      },
      "execution_count": 85,
      "outputs": [
        {
          "output_type": "execute_result",
          "data": {
            "text/plain": [
              "array([2, 4, 6])"
            ]
          },
          "metadata": {},
          "execution_count": 85
        }
      ]
    },
    {
      "cell_type": "code",
      "source": [
        "l = [1, 2, 3, 4, 5]\n",
        "print(l[0]) # 출력: 1\n",
        "print(l[3]) # 출력: 4\n",
        "print(l[-1]) # 출력: 5\n",
        "print(l[-3]) # 출력: 3"
      ],
      "metadata": {
        "colab": {
          "base_uri": "https://localhost:8080/"
        },
        "id": "kKs-xCB9tOvN",
        "outputId": "e0482550-c97f-4246-b172-771865b43ce8"
      },
      "execution_count": 86,
      "outputs": [
        {
          "output_type": "stream",
          "name": "stdout",
          "text": [
            "1\n",
            "4\n",
            "5\n",
            "3\n"
          ]
        }
      ]
    },
    {
      "cell_type": "code",
      "source": [
        "print(l[-3:])"
      ],
      "metadata": {
        "colab": {
          "base_uri": "https://localhost:8080/"
        },
        "id": "QzhoUXTjtQ1r",
        "outputId": "0af4386a-6739-4abd-d803-ef42dc188cb7"
      },
      "execution_count": 87,
      "outputs": [
        {
          "output_type": "stream",
          "name": "stdout",
          "text": [
            "[3, 4, 5]\n"
          ]
        }
      ]
    },
    {
      "cell_type": "code",
      "source": [
        "sum([1, 2, 3, 4])"
      ],
      "metadata": {
        "colab": {
          "base_uri": "https://localhost:8080/"
        },
        "id": "c8RJmBmztSwZ",
        "outputId": "aad21726-4280-4d76-c58a-b044ecd9c8ea"
      },
      "execution_count": 88,
      "outputs": [
        {
          "output_type": "execute_result",
          "data": {
            "text/plain": [
              "10"
            ]
          },
          "metadata": {},
          "execution_count": 88
        }
      ]
    },
    {
      "cell_type": "code",
      "source": [
        "# list(range(101))와 슬라이싱을 사용해 아래 문제를 풀어주세요.\n",
        "\n",
        "# 문제 1: 짝수를 모두 더해주세요\n",
        "num = list(range(101))\n",
        "arr = sum(num[::2])\n",
        "print(arr)\n",
        "\n",
        "\n",
        "#강사님 풀이버전\n",
        "# sum(list(range(101)))과 슬라이싱을 사용해 아래 문제를 풀어주세요.\n",
        "\n",
        "# 문제 1: 짝수를 모두 더해주세요.\n",
        "sum(list(range(101)[::2]))\n",
        "# 문제 2: 3의 배수와 5의 배수를 모두 더해주세요.\n",
        "sum(list(range(101)[::3])) + sum(list(range(101)[::5])) - sum(list(range(101)[::15]))\n",
        "# (슬라이싱 2개 사용) 난이도가 있는 보너스 문제: 1부터 90까지의 짝수를 모두 더해주세요.\n",
        "sum(list(range(101))[0:91][::2])"
      ],
      "metadata": {
        "colab": {
          "base_uri": "https://localhost:8080/"
        },
        "id": "gmaYlTdP5sBE",
        "outputId": "0e62df88-68ac-4aa7-d582-64d5ff757ab7"
      },
      "execution_count": 89,
      "outputs": [
        {
          "output_type": "stream",
          "name": "stdout",
          "text": [
            "2550\n"
          ]
        },
        {
          "output_type": "execute_result",
          "data": {
            "text/plain": [
              "2070"
            ]
          },
          "metadata": {},
          "execution_count": 89
        }
      ]
    },
    {
      "cell_type": "code",
      "source": [
        "# 문제 2: 3의 배수와 5의 배수를 모두 더해주세요.\n",
        "num = list(range(101))\n",
        "brr = sum(num[::3]) + sum(num[::5]) - sum(num[::15])\n",
        "print(brr)"
      ],
      "metadata": {
        "colab": {
          "base_uri": "https://localhost:8080/"
        },
        "id": "T7EFpK5-7Y7y",
        "outputId": "dd304985-3f47-4485-ebe6-4fbb4c281acb"
      },
      "execution_count": 91,
      "outputs": [
        {
          "output_type": "stream",
          "name": "stdout",
          "text": [
            "2418\n"
          ]
        }
      ]
    },
    {
      "cell_type": "code",
      "source": [
        "# 실무에서도 이렇게 2개를 자주 사용합니다.\n",
        "list(range(11))[0:91][::-1]"
      ],
      "metadata": {
        "id": "nJR-LT729TrN"
      },
      "execution_count": null,
      "outputs": []
    },
    {
      "cell_type": "code",
      "source": [
        "num = list(range(101))\n",
        "print(num)"
      ],
      "metadata": {
        "id": "cjh9b2-x-mpP"
      },
      "execution_count": null,
      "outputs": []
    },
    {
      "cell_type": "code",
      "source": [
        "l = [1, 2, 3]\n",
        "dir(l)"
      ],
      "metadata": {
        "id": "2UMkwcos-uGZ"
      },
      "execution_count": null,
      "outputs": []
    },
    {
      "cell_type": "code",
      "source": [
        "#  'append',\n",
        "#  'clear',\n",
        "#  'copy',\n",
        "#  'count',\n",
        "#  'extend',\n",
        "#  'index',\n",
        "#  'insert',\n",
        "#  'pop',\n",
        "#  'remove',\n",
        "#  'reverse',\n",
        "#  'sort'\n",
        "\n",
        "# append\n",
        "l = [1, 2, 3]\n",
        "l.append(100)\n",
        "l"
      ],
      "metadata": {
        "colab": {
          "base_uri": "https://localhost:8080/"
        },
        "id": "5sCqdF6G-vTL",
        "outputId": "04780e43-867c-4771-95ef-f6be952f3252"
      },
      "execution_count": null,
      "outputs": [
        {
          "output_type": "execute_result",
          "data": {
            "text/plain": [
              "[1, 2, 3, 100]"
            ]
          },
          "metadata": {},
          "execution_count": 18
        }
      ]
    },
    {
      "cell_type": "code",
      "source": [
        "#  'clear',\n",
        "#  'copy',\n",
        "#  'count',\n",
        "#  'extend',\n",
        "#  'index',\n",
        "#  'insert',\n",
        "#  'pop',\n",
        "#  'remove',\n",
        "#  'reverse',\n",
        "#  'sort'\n",
        "\n",
        "# clear\n",
        "l = [1, 2, 3]\n",
        "l.clear()\n",
        "l"
      ],
      "metadata": {
        "colab": {
          "base_uri": "https://localhost:8080/"
        },
        "id": "Tt2vuzh1-wd0",
        "outputId": "aef6a312-d360-4cfe-e001-b997ff62ff8f"
      },
      "execution_count": null,
      "outputs": [
        {
          "output_type": "execute_result",
          "data": {
            "text/plain": [
              "[]"
            ]
          },
          "metadata": {},
          "execution_count": 19
        }
      ]
    },
    {
      "cell_type": "code",
      "source": [
        "#  'copy',\n",
        "#  'count',\n",
        "#  'extend',\n",
        "#  'index',\n",
        "#  'insert',\n",
        "#  'pop',\n",
        "#  'remove',\n",
        "#  'reverse',\n",
        "#  'sort'\n",
        "\n",
        "# copy\n",
        "l = [10, 20, 30]\n",
        "ll = l\n",
        "l[0] = 1000\n",
        "l"
      ],
      "metadata": {
        "colab": {
          "base_uri": "https://localhost:8080/"
        },
        "id": "nJgpLniqjesY",
        "outputId": "b4f93220-78ad-44c9-bc17-25a8ba6696e7"
      },
      "execution_count": null,
      "outputs": [
        {
          "output_type": "execute_result",
          "data": {
            "text/plain": [
              "[1000, 20, 30]"
            ]
          },
          "metadata": {},
          "execution_count": 60
        }
      ]
    },
    {
      "cell_type": "code",
      "source": [
        "l = [10, 20, 30]\n",
        "ll = l\n",
        "print(id(ll), id(l))\n",
        "l[0] = 1000\n",
        "print(l, ll)"
      ],
      "metadata": {
        "colab": {
          "base_uri": "https://localhost:8080/"
        },
        "id": "zLFAXYBn--iM",
        "outputId": "baaa66be-afe9-477b-a6e9-c5d66b9f126f"
      },
      "execution_count": null,
      "outputs": [
        {
          "output_type": "stream",
          "name": "stdout",
          "text": [
            "137450591992064 137450591992064\n",
            "[1000, 20, 30] [1000, 20, 30]\n"
          ]
        }
      ]
    },
    {
      "cell_type": "code",
      "source": [
        "l = [10, 20, 30]\n",
        "ll = l.copy()\n",
        "print(id(ll), id(l))\n",
        "l[0] = 1000\n",
        "print(l, ll)"
      ],
      "metadata": {
        "colab": {
          "base_uri": "https://localhost:8080/"
        },
        "id": "uxJvGB5PjlcS",
        "outputId": "e79f1290-3ed8-45a3-a01b-111f10bba935"
      },
      "execution_count": null,
      "outputs": [
        {
          "output_type": "stream",
          "name": "stdout",
          "text": [
            "137450591149312 137450592361856\n",
            "[1000, 20, 30] [10, 20, 30]\n"
          ]
        }
      ]
    },
    {
      "cell_type": "code",
      "source": [
        "l = [10, 20, 30]\n",
        "ll = l[:]\n",
        "print(id(ll), id(l))\n",
        "l[0] = 1000\n",
        "print(l, ll)"
      ],
      "metadata": {
        "colab": {
          "base_uri": "https://localhost:8080/"
        },
        "id": "A1UFLVncjmVr",
        "outputId": "fdff0d85-02b6-447a-bb10-c82dc0f46c12"
      },
      "execution_count": null,
      "outputs": [
        {
          "output_type": "stream",
          "name": "stdout",
          "text": [
            "137450591827200 137450592235840\n",
            "[1000, 20, 30] [10, 20, 30]\n"
          ]
        }
      ]
    },
    {
      "cell_type": "code",
      "source": [
        "# 이정도는 이해해야 합니다.\n",
        "a = [10, 20]\n",
        "b = [100, 200]\n",
        "\n",
        "l = [a, b]\n",
        "ll = l.copy()\n",
        "print(id(ll), id(l))\n",
        "l[0][0] = 100000\n",
        "print(l, ll)         # l를 카피했지만 카피데이터의 주소지인 a와 b를 바궜기 때문에 다같이 바뀐다."
      ],
      "metadata": {
        "colab": {
          "base_uri": "https://localhost:8080/"
        },
        "id": "0Mr_G9FT_3pG",
        "outputId": "5f530ee2-2898-4c25-9feb-1adcd1ec9b38"
      },
      "execution_count": null,
      "outputs": [
        {
          "output_type": "stream",
          "name": "stdout",
          "text": [
            "133479010399296 133480072056320\n",
            "[[100000, 20], [100, 200]] [[100000, 20], [100, 200]]\n"
          ]
        }
      ]
    },
    {
      "cell_type": "code",
      "source": [
        "a = 10\n",
        "b = a\n",
        "c = b\n",
        "b = 20\n",
        "print(c)"
      ],
      "metadata": {
        "colab": {
          "base_uri": "https://localhost:8080/"
        },
        "id": "k6KtZHudjq-p",
        "outputId": "d8b4b493-cc65-42bf-d9f0-2699a73dc7d5"
      },
      "execution_count": null,
      "outputs": [
        {
          "output_type": "stream",
          "name": "stdout",
          "text": [
            "10\n"
          ]
        }
      ]
    },
    {
      "cell_type": "code",
      "source": [
        "import copy\n",
        "\n",
        "aa = [1, 2, 3]\n",
        "bb = [4, 5, 6]\n",
        "\n",
        "k = [10000, [aa, bb]]\n",
        "\n",
        "a = [10, k]\n",
        "b = [100, k]\n",
        "\n",
        "l = [a, b]\n",
        "ll = copy.deepcopy(l)\n",
        "aa[0] = 1000000\n",
        "\n",
        "print(l)\n",
        "print(ll)"
      ],
      "metadata": {
        "colab": {
          "base_uri": "https://localhost:8080/"
        },
        "id": "YUd7GOtMjyjt",
        "outputId": "e74f4369-89f8-47e1-b4e5-d2feab4771fd"
      },
      "execution_count": null,
      "outputs": [
        {
          "output_type": "stream",
          "name": "stdout",
          "text": [
            "[[10, [10000, [[1000000, 2, 3], [4, 5, 6]]]], [100, [10000, [[1000000, 2, 3], [4, 5, 6]]]]]\n",
            "[[10, [10000, [[1, 2, 3], [4, 5, 6]]]], [100, [10000, [[1, 2, 3], [4, 5, 6]]]]]\n"
          ]
        }
      ]
    },
    {
      "cell_type": "code",
      "source": [
        "import copy\n",
        "# 사용하기 편하려고 내장되어 있지만 많이 사용하지는 않는 코드.\n",
        "\n",
        "a = [10, 20]\n",
        "b = [100, 200]\n",
        "\n",
        "l = [a, b]\n",
        "ll = copy.deepcopy(l)\n",
        "\n",
        "print(id(l), id(ll))\n",
        "l[0][0] = 100000\n",
        "print(l, ll)"
      ],
      "metadata": {
        "colab": {
          "base_uri": "https://localhost:8080/"
        },
        "id": "BkvyPkIzEIZV",
        "outputId": "971e7eb1-fc3b-4e50-9ef2-13ffa7c219ec"
      },
      "execution_count": null,
      "outputs": [
        {
          "output_type": "stream",
          "name": "stdout",
          "text": [
            "133479010398016 133479012285248\n",
            "[[100000, 20], [100, 200]] [[10, 20], [100, 200]]\n"
          ]
        }
      ]
    },
    {
      "cell_type": "code",
      "source": [
        "import copy\n",
        "\n",
        "aa = [1, 2, 3]\n",
        "bb = [4, 5, 6]\n",
        "\n",
        "k = [10000, [aa, bb]]\n",
        "\n",
        "a = [10, k]\n",
        "b = [100, k]\n",
        "\n",
        "l = [a, b]\n",
        "ll = copy.deepcopy(l)\n",
        "aa[0] = 1000000\n",
        "\n",
        "print(l)\n",
        "print(ll)"
      ],
      "metadata": {
        "colab": {
          "base_uri": "https://localhost:8080/"
        },
        "id": "s8VCeohpt_ay",
        "outputId": "9a54dec0-c050-41a9-c6eb-f8f76a979ddb"
      },
      "execution_count": 92,
      "outputs": [
        {
          "output_type": "stream",
          "name": "stdout",
          "text": [
            "[[10, [10000, [[1000000, 2, 3], [4, 5, 6]]]], [100, [10000, [[1000000, 2, 3], [4, 5, 6]]]]]\n",
            "[[10, [10000, [[1, 2, 3], [4, 5, 6]]]], [100, [10000, [[1, 2, 3], [4, 5, 6]]]]]\n"
          ]
        }
      ]
    },
    {
      "cell_type": "code",
      "source": [
        "import copy\n",
        "\n",
        "k = [10000]\n",
        "\n",
        "a = [10, k]\n",
        "b = [100, k]\n",
        "\n",
        "l = [a, b]\n",
        "ll = copy.deepcopy(l)\n",
        "k[0] = 1000000\n",
        "print(l)\n",
        "print(ll)"
      ],
      "metadata": {
        "colab": {
          "base_uri": "https://localhost:8080/"
        },
        "id": "Uk6BjtpkGruX",
        "outputId": "d2eecbd9-8df9-405a-d59f-09b510766204"
      },
      "execution_count": null,
      "outputs": [
        {
          "output_type": "stream",
          "name": "stdout",
          "text": [
            "[[10, [1000000]], [100, [1000000]]]\n",
            "[[10, [10000]], [100, [10000]]]\n"
          ]
        }
      ]
    },
    {
      "cell_type": "code",
      "source": [
        "[1, 1, 1, 3, 3, 5, 6].count(1)"
      ],
      "metadata": {
        "colab": {
          "base_uri": "https://localhost:8080/"
        },
        "id": "wPrTWMi6GsFp",
        "outputId": "8e6b27b3-be52-4636-bf48-f7e6a41def37"
      },
      "execution_count": null,
      "outputs": [
        {
          "output_type": "execute_result",
          "data": {
            "text/plain": [
              "3"
            ]
          },
          "metadata": {},
          "execution_count": 69
        }
      ]
    },
    {
      "cell_type": "code",
      "source": [
        "list('1113356').count('1')"
      ],
      "metadata": {
        "colab": {
          "base_uri": "https://localhost:8080/"
        },
        "id": "M_o-QF_akB-m",
        "outputId": "8a2b08f7-bf79-411e-f322-57035702c9ce"
      },
      "execution_count": null,
      "outputs": [
        {
          "output_type": "execute_result",
          "data": {
            "text/plain": [
              "3"
            ]
          },
          "metadata": {},
          "execution_count": 70
        }
      ]
    },
    {
      "cell_type": "code",
      "source": [
        "l = [10, 20, 30]\n",
        "l.append(100)\n",
        "l"
      ],
      "metadata": {
        "colab": {
          "base_uri": "https://localhost:8080/"
        },
        "id": "PwEzfMgCH7Jd",
        "outputId": "ba9911b7-d96e-4d20-972d-b60b3a7fb381"
      },
      "execution_count": null,
      "outputs": [
        {
          "output_type": "execute_result",
          "data": {
            "text/plain": [
              "[10, 20, 30, 100]"
            ]
          },
          "metadata": {},
          "execution_count": 31
        }
      ]
    },
    {
      "cell_type": "code",
      "source": [
        "l = [10, 20, 30]\n",
        "l.append([10, 20])\n",
        "l"
      ],
      "metadata": {
        "colab": {
          "base_uri": "https://localhost:8080/"
        },
        "id": "hvjM1dbcH8S-",
        "outputId": "e89e2346-438b-4319-f284-1d9b5e8f2e58"
      },
      "execution_count": null,
      "outputs": [
        {
          "output_type": "execute_result",
          "data": {
            "text/plain": [
              "[10, 20, 30, [10, 20]]"
            ]
          },
          "metadata": {},
          "execution_count": 32
        }
      ]
    },
    {
      "cell_type": "code",
      "source": [
        "l = [10, 20, 30]\n",
        "l.extend([10, 20])\n",
        "l"
      ],
      "metadata": {
        "colab": {
          "base_uri": "https://localhost:8080/"
        },
        "id": "waEtIZfcH9Xd",
        "outputId": "151a54e1-87a6-4127-d46d-ec11476e1815"
      },
      "execution_count": null,
      "outputs": [
        {
          "output_type": "execute_result",
          "data": {
            "text/plain": [
              "[10, 20, 30, 10, 20]"
            ]
          },
          "metadata": {},
          "execution_count": 33
        }
      ]
    },
    {
      "cell_type": "code",
      "source": [
        "l = [10, 20, 30]\n",
        "l.extend('hello')\n",
        "l"
      ],
      "metadata": {
        "colab": {
          "base_uri": "https://localhost:8080/"
        },
        "id": "n-9zajkUH-Ri",
        "outputId": "71b16425-cb0e-483b-fcad-30fc00b55b8a"
      },
      "execution_count": null,
      "outputs": [
        {
          "output_type": "execute_result",
          "data": {
            "text/plain": [
              "[10, 20, 30, 'h', 'e', 'l', 'l', 'o']"
            ]
          },
          "metadata": {},
          "execution_count": 34
        }
      ]
    },
    {
      "cell_type": "code",
      "source": [
        "# 한자리씩만 잘라서 넣는다고 생각해야 합니다.\n",
        "userinput = input('숫자를 입력하세요:')\n",
        "l = [10, 20, 30]\n",
        "l.extend(map(int,userinput))\n",
        "l"
      ],
      "metadata": {
        "colab": {
          "base_uri": "https://localhost:8080/"
        },
        "id": "9wns9Ca0H_54",
        "outputId": "b118a8c9-49e9-4391-cabb-54bc58686007"
      },
      "execution_count": null,
      "outputs": [
        {
          "name": "stdout",
          "output_type": "stream",
          "text": [
            "숫자를 입력하세요:10\n"
          ]
        },
        {
          "output_type": "execute_result",
          "data": {
            "text/plain": [
              "[10, 20, 30, 1, 0]"
            ]
          },
          "metadata": {},
          "execution_count": 36
        }
      ]
    },
    {
      "cell_type": "code",
      "source": [
        "# 한자리씩만 잘라서 넣는다고 생각해야 합니다.\n",
        "l = [10, 20, 30]\n",
        "l.extend(map(int, input('숫자를 입력하세요:')))\n",
        "l"
      ],
      "metadata": {
        "colab": {
          "base_uri": "https://localhost:8080/"
        },
        "id": "bX1pUoXcIcZ2",
        "outputId": "1a3b94fb-ca2c-44be-ecfd-400afa0d0f02"
      },
      "execution_count": null,
      "outputs": [
        {
          "name": "stdout",
          "output_type": "stream",
          "text": [
            "숫자를 입력하세요:33\n"
          ]
        },
        {
          "output_type": "execute_result",
          "data": {
            "text/plain": [
              "[10, 20, 30, 3, 3]"
            ]
          },
          "metadata": {},
          "execution_count": 38
        }
      ]
    },
    {
      "cell_type": "code",
      "source": [
        "l = [10, 20, 30, 40, 50]\n",
        "l.index(30)\n",
        "l.index(60)"
      ],
      "metadata": {
        "id": "Jk3_s-cuI7S1"
      },
      "execution_count": null,
      "outputs": []
    },
    {
      "cell_type": "code",
      "source": [
        "l = [10, 20, 30, 40, 50]\n",
        "# l.find(60) # find 메서드가 없습니다. 저도 간혹 이 실수를 합니다."
      ],
      "metadata": {
        "id": "L4OiTrdBJI_-"
      },
      "execution_count": null,
      "outputs": []
    },
    {
      "cell_type": "code",
      "source": [
        "l = [10, 20, 30]\n",
        "l.insert(2, 25)\n",
        "print(l)  # 출력: [10, 20, 25, 30]"
      ],
      "metadata": {
        "colab": {
          "base_uri": "https://localhost:8080/"
        },
        "id": "-qNo57lvJqgp",
        "outputId": "73ee62fe-5ec5-4d3a-8810-82787581426f"
      },
      "execution_count": null,
      "outputs": [
        {
          "output_type": "stream",
          "name": "stdout",
          "text": [
            "[10, 20, 25, 30]\n"
          ]
        }
      ]
    },
    {
      "cell_type": "markdown",
      "source": [
        "#연습문제"
      ],
      "metadata": {
        "id": "wVGUfbMWJyCU"
      }
    },
    {
      "cell_type": "code",
      "source": [
        "# [10, 20, 40, 50, 30]와 같은 리스트에서 20과 30 중간에 25라는 값을 삽입하고 싶습니다.\n",
        "# 현재 리스트는 정렬되어 있지 않은데 이 리스트를 정렬하고 20과 30에 값을 index 메서드로 찾아\n",
        "# insert로 중간에 값을 삽입해주세요.\n",
        "# * 다른 정답을 허용합니다.\n",
        "\n",
        "num = sorted([10, 20, 40, 50, 30])\n",
        "arr.insert(arr.index(30), 25)\n",
        "print(arr)\n",
        "\n",
        "s = [10, 20, 40, 50, 30]\n",
        "s.append(25)\n",
        "sorted(s)\n",
        "\n",
        "# sorted([10, 20, 40, 50, 30].append(25)) # error\n",
        "# print(s.append(25))이런식으로 바로 출력하면 값이 None이기 때문에 그렇습니다."
      ],
      "metadata": {
        "colab": {
          "base_uri": "https://localhost:8080/"
        },
        "id": "GN8lm2LIJsdy",
        "outputId": "f016e96b-0b94-4410-d660-097610f04b4c"
      },
      "execution_count": 60,
      "outputs": [
        {
          "output_type": "stream",
          "name": "stdout",
          "text": [
            "[10, 20, 25, 25, 25, 25, 30, 40, 50]\n"
          ]
        },
        {
          "output_type": "execute_result",
          "data": {
            "text/plain": [
              "[10, 20, 25, 30, 40, 50]"
            ]
          },
          "metadata": {},
          "execution_count": 60
        }
      ]
    },
    {
      "cell_type": "code",
      "source": [
        "# 마지막에서 빼는 것\n",
        "l = [10, 20, 30]\n",
        "print(l.pop())\n",
        "print(l)"
      ],
      "metadata": {
        "colab": {
          "base_uri": "https://localhost:8080/"
        },
        "id": "e_0pUvSa8Xhn",
        "outputId": "8e0fd547-f894-4eab-d625-abe73e4dbb33"
      },
      "execution_count": 1,
      "outputs": [
        {
          "output_type": "stream",
          "name": "stdout",
          "text": [
            "30\n",
            "[10, 20]\n"
          ]
        }
      ]
    },
    {
      "cell_type": "code",
      "source": [
        "# 첫번째에서 빼는 것\n",
        "l = [10, 20, 30]\n",
        "print(l.pop(0))\n",
        "print(l)"
      ],
      "metadata": {
        "colab": {
          "base_uri": "https://localhost:8080/"
        },
        "id": "9j_t7Cbn8X2E",
        "outputId": "a57e8852-44d5-4842-f726-278c95e73c19"
      },
      "execution_count": 2,
      "outputs": [
        {
          "output_type": "stream",
          "name": "stdout",
          "text": [
            "10\n",
            "[20, 30]\n"
          ]
        }
      ]
    },
    {
      "cell_type": "code",
      "source": [
        "# 첫번째에서 빼는 것\n",
        "l = [10, 20, 30]\n",
        "result = l.pop(0)\n",
        "print(l, result)"
      ],
      "metadata": {
        "colab": {
          "base_uri": "https://localhost:8080/"
        },
        "id": "YEm-0NjoNHiK",
        "outputId": "d9275a24-11d1-4ea5-a66c-687a5176c727"
      },
      "execution_count": 61,
      "outputs": [
        {
          "output_type": "stream",
          "name": "stdout",
          "text": [
            "[20, 30] 10\n"
          ]
        }
      ]
    },
    {
      "cell_type": "code",
      "source": [
        "l = [1, 2, 3, 4, 5]\n",
        "\n",
        "while l:\n",
        "    print(l.pop())      # 순서를 입력하지 않으면 마지막부터 꺼냄"
      ],
      "metadata": {
        "colab": {
          "base_uri": "https://localhost:8080/"
        },
        "id": "4AaBZtrTNe--",
        "outputId": "c7d48a9b-840a-4faf-d619-226de662e573"
      },
      "execution_count": 62,
      "outputs": [
        {
          "output_type": "stream",
          "name": "stdout",
          "text": [
            "5\n",
            "4\n",
            "3\n",
            "2\n",
            "1\n"
          ]
        }
      ]
    },
    {
      "cell_type": "code",
      "source": [
        "l = [1, 2, 3, 4, 5]\n",
        "\n",
        "while l:\n",
        "    print(l.pop(0))"
      ],
      "metadata": {
        "colab": {
          "base_uri": "https://localhost:8080/"
        },
        "id": "4NGY4Ky9Nha1",
        "outputId": "787c75a9-4818-4a9b-fde7-4a5de8c231ef"
      },
      "execution_count": 63,
      "outputs": [
        {
          "output_type": "stream",
          "name": "stdout",
          "text": [
            "1\n",
            "2\n",
            "3\n",
            "4\n",
            "5\n"
          ]
        }
      ]
    },
    {
      "cell_type": "code",
      "source": [
        "l = [1, 2, 3, 1, 2, 2, 2, 1, 1]\n",
        "l.remove(2)\n",
        "print(l)  # 출력: [1, 3, 1, 2]"
      ],
      "metadata": {
        "colab": {
          "base_uri": "https://localhost:8080/"
        },
        "id": "u1ZLkuxVOuSH",
        "outputId": "7a2b6962-6d15-4e7a-9223-ac17ffdd6e83"
      },
      "execution_count": 64,
      "outputs": [
        {
          "output_type": "stream",
          "name": "stdout",
          "text": [
            "[1, 3, 1, 2, 2, 2, 1, 1]\n"
          ]
        }
      ]
    },
    {
      "cell_type": "code",
      "source": [
        "l = [1, 2, 3, 1, 2, 2, 2, 1, 1]\n",
        "while l.count(2):\n",
        "    l.remove(2)\n",
        "l"
      ],
      "metadata": {
        "colab": {
          "base_uri": "https://localhost:8080/"
        },
        "id": "Xqzx-sYcOulu",
        "outputId": "464e550d-32ed-4438-8782-0aad215ce165"
      },
      "execution_count": 65,
      "outputs": [
        {
          "output_type": "execute_result",
          "data": {
            "text/plain": [
              "[1, 3, 1, 1, 1]"
            ]
          },
          "metadata": {},
          "execution_count": 65
        }
      ]
    },
    {
      "cell_type": "code",
      "source": [
        "l = [1, 2, 3, 4, 3, 2, 2, 2, 1, 1, 2]\n",
        "list(filter(lambda x: x != 2, l))"
      ],
      "metadata": {
        "colab": {
          "base_uri": "https://localhost:8080/"
        },
        "id": "dzORcfrtOvUk",
        "outputId": "16a16743-2841-4c91-ab0d-569f575a851c"
      },
      "execution_count": 71,
      "outputs": [
        {
          "output_type": "execute_result",
          "data": {
            "text/plain": [
              "[1, 3, 4, 3, 1, 1]"
            ]
          },
          "metadata": {},
          "execution_count": 71
        }
      ]
    },
    {
      "cell_type": "code",
      "source": [
        "l = [1, 2, 10, 3, 4]\n",
        "l.reverse()\n",
        "print(l)"
      ],
      "metadata": {
        "colab": {
          "base_uri": "https://localhost:8080/"
        },
        "id": "Ebgrqfc7Ox1J",
        "outputId": "384edcdf-481c-49b7-eb40-d1fc1cb1032b"
      },
      "execution_count": 67,
      "outputs": [
        {
          "output_type": "stream",
          "name": "stdout",
          "text": [
            "[4, 3, 10, 2, 1]\n"
          ]
        }
      ]
    },
    {
      "cell_type": "code",
      "source": [
        "# reversed와 reverse 차이, sorted와 sort 차이\n",
        "# 원본 수정이 아니냐, 원본수정이냐? 입니다.\n",
        "\n",
        "l = [1, 2, 10, 3, 4]\n",
        "print(list(reversed(l))) # 출력: [4, 3, 10, 2, 1]\n",
        "print(l)                 # 출력: [1, 2, 10, 3, 4] # 원본은 그대로입니다."
      ],
      "metadata": {
        "colab": {
          "base_uri": "https://localhost:8080/"
        },
        "id": "dOwuQvIBRsNT",
        "outputId": "b62c2c83-bd1b-44b9-cd2d-bbddab384895"
      },
      "execution_count": 73,
      "outputs": [
        {
          "output_type": "stream",
          "name": "stdout",
          "text": [
            "[4, 3, 10, 2, 1]\n",
            "[1, 2, 10, 3, 4]\n"
          ]
        }
      ]
    },
    {
      "cell_type": "code",
      "source": [
        "# reversed와 reverse 차이, sorted와 sort 차이\n",
        "# 원본 수정이 아니냐, 원본수정이냐? 입니다.\n",
        "\n",
        "l = [1, 2, 10, 3, 4]\n",
        "print(l.reverse()) # 출력: None\n",
        "print(l)           # 출력: [4, 3, 10, 2, 1]"
      ],
      "metadata": {
        "colab": {
          "base_uri": "https://localhost:8080/"
        },
        "id": "-oQX0Q_pSHuY",
        "outputId": "9f052406-3dbf-4ec6-b9e5-ed073b786564"
      },
      "execution_count": 74,
      "outputs": [
        {
          "output_type": "stream",
          "name": "stdout",
          "text": [
            "None\n",
            "[4, 3, 10, 2, 1]\n"
          ]
        }
      ]
    },
    {
      "cell_type": "code",
      "source": [
        "# reversed와 reverse 차이, sorted와 sort 차이\n",
        "# 원본 수정이 아니냐, 원본수정이냐? 입니다.\n",
        "\n",
        "l = [1, 2, 10, 3, 4]\n",
        "print(list(sorted(l))) # 출력: [1, 2, 3, 4, 10]\n",
        "print(l)               # 출력: [1, 2, 10, 3, 4] # 원본은 그대로입니다."
      ],
      "metadata": {
        "colab": {
          "base_uri": "https://localhost:8080/"
        },
        "id": "5SRFu6ZhRukb",
        "outputId": "fac582fd-d128-430b-8fbf-190aa571eb14"
      },
      "execution_count": 3,
      "outputs": [
        {
          "output_type": "stream",
          "name": "stdout",
          "text": [
            "[1, 2, 3, 4, 10]\n",
            "[1, 2, 10, 3, 4]\n"
          ]
        }
      ]
    },
    {
      "cell_type": "code",
      "source": [
        "# reversed와 reverse 차이, sorted와 sort 차이\n",
        "# 원본 수정이 아니냐, 원본수정이냐? 입니다.\n",
        "\n",
        "l = [1, 2, 10, 3, 4]\n",
        "print(l.sort()) # 출력: None\n",
        "print(l)        # 출력: [1, 2, 3, 4, 10]"
      ],
      "metadata": {
        "id": "wFN8vwCU8qzP"
      },
      "execution_count": null,
      "outputs": []
    },
    {
      "cell_type": "code",
      "source": [
        "# 게시판 = [게시물1, 게시물2, 게시물3, 게시물4]\n",
        "# 게시물1: 오래된 게시물이 저장이 되어 있을겁니다. (append로 게시물 추가했다고 생각해볼게요.)\n",
        "# 그러면 그냥 게시판을 출력했을 때 최상단에 노출되는 게시물은 가장 오래된 게시물일겁니다.\n",
        "# 컴퓨터 입장에서는요.\n",
        "# 그래서 게시판.reverse()해서 출력합니다. 최신게시물이 상단에 오게요.\n",
        "# 그러면 게시물5는 어디에 추가 될까요? 원본을 수정했기 때문에 게시물1 다음에 게시물5가 추가되요.\n",
        "# 게시판[::-1], reversed(게시판)을 사용해서 역순으로 만들었어야 했습니다.\n",
        "# 보이는화면 = 게시판[::-1]\n",
        "# 보이는화면 = reversed(게시판)"
      ],
      "metadata": {
        "id": "jx8ZYM0XSc80"
      },
      "execution_count": 4,
      "outputs": []
    },
    {
      "cell_type": "markdown",
      "source": [
        "#튜플"
      ],
      "metadata": {
        "id": "o7BpcU0cUZbQ"
      }
    },
    {
      "cell_type": "code",
      "source": [
        "# 튜플은 안에 있는 값이 변경 불가능한 자료형이 아닙니다.\n",
        "# 튜플은 참조 불변입니다.\n",
        "# 리스트에 비해 처리 속도가 조금 더 빠릅니다.\n",
        "\n",
        "x = (1, 2, 3)\n",
        "# x[0] = 1000"
      ],
      "metadata": {
        "id": "-ozSpvcyUarr"
      },
      "execution_count": 81,
      "outputs": []
    },
    {
      "cell_type": "code",
      "source": [
        "x = [10, 20, 30]\n",
        "y = (1, 2, x)\n",
        "x[0] = 1000\n",
        "y # 출력: (1, 2, [1000, 20, 30])"
      ],
      "metadata": {
        "colab": {
          "base_uri": "https://localhost:8080/"
        },
        "id": "cJWYBniXUVuX",
        "outputId": "6d8e5438-6e8b-4aa4-a92f-81ec4e316dac"
      },
      "execution_count": 80,
      "outputs": [
        {
          "output_type": "execute_result",
          "data": {
            "text/plain": [
              "(1, 2, [1000, 20, 30])"
            ]
          },
          "metadata": {},
          "execution_count": 80
        }
      ]
    },
    {
      "cell_type": "code",
      "source": [
        "# 데이터의 변경이 민감한 곳\n",
        "# 참조의 갯수가 변하면 안되는 곳\n",
        "\n",
        "s = {'one':1, 'two':2}\n",
        "s.items()"
      ],
      "metadata": {
        "colab": {
          "base_uri": "https://localhost:8080/"
        },
        "id": "uKRvfsAwUWm_",
        "outputId": "16d71069-37a9-4c4c-893a-7d9b811d2761"
      },
      "execution_count": 85,
      "outputs": [
        {
          "output_type": "execute_result",
          "data": {
            "text/plain": [
              "dict_items([('one', 1), ('two', 2)])"
            ]
          },
          "metadata": {},
          "execution_count": 85
        }
      ]
    },
    {
      "cell_type": "code",
      "source": [
        "t = (1, 2, 3, 4, 5)\n",
        "print(t[0])    # 출력: 1\n",
        "print(t[1:4])  # 출력: (2, 3, 4)"
      ],
      "metadata": {
        "colab": {
          "base_uri": "https://localhost:8080/"
        },
        "id": "3rkaw06wWia_",
        "outputId": "3b5d8a82-a652-4e12-8acf-b05b14adc15f"
      },
      "execution_count": 87,
      "outputs": [
        {
          "output_type": "stream",
          "name": "stdout",
          "text": [
            "[0]\n",
            "(2, 3, 4)\n"
          ]
        }
      ]
    },
    {
      "cell_type": "code",
      "source": [
        "t = (1, 1, 1, 2, 3, 4)\n",
        "t.count(1)"
      ],
      "metadata": {
        "colab": {
          "base_uri": "https://localhost:8080/"
        },
        "id": "boRlpEUMYKiC",
        "outputId": "b08be322-f847-457c-e91a-0fa2a81a021f"
      },
      "execution_count": 94,
      "outputs": [
        {
          "output_type": "execute_result",
          "data": {
            "text/plain": [
              "3"
            ]
          },
          "metadata": {},
          "execution_count": 94
        }
      ]
    },
    {
      "cell_type": "code",
      "source": [
        "t.index(3)"
      ],
      "metadata": {
        "colab": {
          "base_uri": "https://localhost:8080/"
        },
        "id": "ekhcI8joYqQh",
        "outputId": "1026d099-c058-4c33-d547-4bb154a31c88"
      },
      "execution_count": 95,
      "outputs": [
        {
          "output_type": "execute_result",
          "data": {
            "text/plain": [
              "4"
            ]
          },
          "metadata": {},
          "execution_count": 95
        }
      ]
    },
    {
      "cell_type": "markdown",
      "source": [
        "#딕셔너리"
      ],
      "metadata": {
        "id": "6xt56TMZY45n"
      }
    },
    {
      "cell_type": "code",
      "source": [
        "# 파이썬 3.6 버전부터 삽입 순서가 보장\n",
        "# colab, colab에서 불과 1 ~ 2년 전만 하더라도 print로 출력한 것은 정렬 출력,\n",
        "# 맨 마지막 출력은 정렬하지 않고 출력했습니다."
      ],
      "metadata": {
        "id": "rnTpvBW38-OT"
      },
      "execution_count": 5,
      "outputs": []
    },
    {
      "cell_type": "code",
      "source": [
        "d = {'bb':100, 'hello':10, 'world':20, 'aa':30}\n",
        "print(d)\n",
        "d"
      ],
      "metadata": {
        "colab": {
          "base_uri": "https://localhost:8080/"
        },
        "id": "NbEQbzy78-mT",
        "outputId": "46aa64f5-6027-46db-8804-777d1a9fc08e"
      },
      "execution_count": 6,
      "outputs": [
        {
          "output_type": "stream",
          "name": "stdout",
          "text": [
            "{'bb': 100, 'hello': 10, 'world': 20, 'aa': 30}\n"
          ]
        },
        {
          "output_type": "execute_result",
          "data": {
            "text/plain": [
              "{'bb': 100, 'hello': 10, 'world': 20, 'aa': 30}"
            ]
          },
          "metadata": {},
          "execution_count": 6
        }
      ]
    },
    {
      "cell_type": "code",
      "source": [
        "d = dict([('one' , '하나'), ('two', '둘')])\n",
        "print(d)  # 출력: {'one' : '하나', 'two' : '둘'}"
      ],
      "metadata": {
        "colab": {
          "base_uri": "https://localhost:8080/"
        },
        "id": "lMnipJqfY8JV",
        "outputId": "73095e79-204b-4233-e7bd-ec3de3ada315"
      },
      "execution_count": 96,
      "outputs": [
        {
          "output_type": "stream",
          "name": "stdout",
          "text": [
            "{'one': '하나', 'two': '둘'}\n"
          ]
        }
      ]
    },
    {
      "cell_type": "code",
      "source": [
        "d = dict([['one' , '하나'], ['two', '둘']])      # 위쪽 코드와 괄호가 다름\n",
        "print(d)  # 출력: {'one' : '하나', 'two' : '둘'}"
      ],
      "metadata": {
        "colab": {
          "base_uri": "https://localhost:8080/"
        },
        "id": "5_eJssirZOmw",
        "outputId": "7a4e4601-cde7-49e1-e030-8e1d70b30e65"
      },
      "execution_count": 97,
      "outputs": [
        {
          "output_type": "stream",
          "name": "stdout",
          "text": [
            "{'one': '하나', 'two': '둘'}\n"
          ]
        }
      ]
    },
    {
      "cell_type": "code",
      "source": [
        "d = dict([['aa'], ['bb']])  # 키값과 벨류값 두가지 다 필요\n",
        "print(d)  # error"
      ],
      "metadata": {
        "id": "myKkhdUrZXl9"
      },
      "execution_count": null,
      "outputs": []
    },
    {
      "cell_type": "code",
      "source": [
        "    d = dict(name='licat', age=10)\n",
        "print(d)  # 출력: {'name': 'licat', 'age': 10}"
      ],
      "metadata": {
        "colab": {
          "base_uri": "https://localhost:8080/"
        },
        "id": "Kz_e4IvWZpJ_",
        "outputId": "f4a556c5-9e5c-490d-d764-21151ce9b93d"
      },
      "execution_count": 99,
      "outputs": [
        {
          "output_type": "stream",
          "name": "stdout",
          "text": [
            "{'name': 'licat', 'age': 10}\n"
          ]
        }
      ]
    },
    {
      "cell_type": "code",
      "source": [
        "complex_dict = {\n",
        "    \"numbers\": [1, 2, 3],\n",
        "    42: \"answer\",\n",
        "    (\"x\", \"y\"): [10, 20],\n",
        "    True: [100, 200]\n",
        "}\n",
        "print(complex_dict[\"numbers\"])  # 출력: [1, 2, 3]\n",
        "print(complex_dict[42])         # 출력: answer\n",
        "print(complex_dict[(\"x\", \"y\")]) # 출력: [10, 20]\n",
        "print(complex_dict[True])       # 출력: [10, 20]"
      ],
      "metadata": {
        "colab": {
          "base_uri": "https://localhost:8080/"
        },
        "id": "ioM7dWglZqPr",
        "outputId": "892a9993-724d-4d19-d174-cada02584f2e"
      },
      "execution_count": 7,
      "outputs": [
        {
          "output_type": "stream",
          "name": "stdout",
          "text": [
            "[1, 2, 3]\n",
            "answer\n",
            "[10, 20]\n",
            "[100, 200]\n"
          ]
        }
      ]
    },
    {
      "cell_type": "code",
      "source": [
        "person = {'name': 'licat', 'city': 'Jeju'}\n",
        "person['name'] = 'mura'\n",
        "person['city'] = 'Seoul'\n",
        "\n",
        "print(person)"
      ],
      "metadata": {
        "colab": {
          "base_uri": "https://localhost:8080/"
        },
        "id": "016DVsinZyDZ",
        "outputId": "5f68ad9b-136d-40e3-bc93-ecf81beb287b"
      },
      "execution_count": 8,
      "outputs": [
        {
          "output_type": "stream",
          "name": "stdout",
          "text": [
            "{'name': 'mura', 'city': 'Seoul'}\n"
          ]
        }
      ]
    },
    {
      "cell_type": "code",
      "source": [
        "person['age'] = 10\n",
        "print(person)"
      ],
      "metadata": {
        "colab": {
          "base_uri": "https://localhost:8080/"
        },
        "id": "xtIUO5kM9TW3",
        "outputId": "b1bb480c-0451-4c20-a967-92ae2c970b09"
      },
      "execution_count": 9,
      "outputs": [
        {
          "output_type": "stream",
          "name": "stdout",
          "text": [
            "{'name': 'mura', 'city': 'Seoul', 'age': 10}\n"
          ]
        }
      ]
    },
    {
      "cell_type": "code",
      "source": [
        "keys = [\"name\", \"city\", \"job\"]\n",
        "values = [\"licat\", \"Jeju\", \"Developer\"]\n",
        "\n",
        "new_dict = dict(zip(keys, values))\n",
        "print(new_dict)"
      ],
      "metadata": {
        "colab": {
          "base_uri": "https://localhost:8080/"
        },
        "id": "L0UmJPskan3i",
        "outputId": "26e889b3-ec84-42b9-e57d-28bdc931184a"
      },
      "execution_count": 103,
      "outputs": [
        {
          "output_type": "stream",
          "name": "stdout",
          "text": [
            "{'name': 'licat', 'city': 'Jeju', 'job': 'Developer'}\n"
          ]
        }
      ]
    },
    {
      "cell_type": "code",
      "source": [
        "hero = {'name': 'licat', 'age': 10}\n",
        "dir(hero)"
      ],
      "metadata": {
        "id": "cgjaGQuXaopX"
      },
      "execution_count": null,
      "outputs": []
    },
    {
      "cell_type": "code",
      "source": [
        "# 'fromkeys',\n",
        "# 'get',\n",
        "# 'items',\n",
        "# 'keys',\n",
        "# 'pop',\n",
        "# 'popitem',\n",
        "# 'setdefault',\n",
        "# 'update',\n",
        "# 'values'\n",
        "\n",
        "hero = {'name': 'licat', 'age': 10}\n",
        "hero2 = hero.copy()\n",
        "\n",
        "hero2['name'] = 'mura'\n",
        "\n",
        "print(hero, hero2)"
      ],
      "metadata": {
        "colab": {
          "base_uri": "https://localhost:8080/"
        },
        "id": "vfxgjJlT9bpW",
        "outputId": "16c647ed-bb1f-434f-ae24-4ac6cc472762"
      },
      "execution_count": 10,
      "outputs": [
        {
          "output_type": "stream",
          "name": "stdout",
          "text": [
            "{'name': 'licat', 'age': 10} {'name': 'mura', 'age': 10}\n"
          ]
        }
      ]
    },
    {
      "cell_type": "code",
      "source": [
        "# 'items',\n",
        "# 'keys',\n",
        "# 'values'\n",
        "# 'fromkeys',\n",
        "# 'get',\n",
        "# 'pop',\n",
        "# 'popitem',\n",
        "# 'setdefault',\n",
        "# 'update',\n",
        "\n",
        "hero = {'name': 'licat', 'age': 10}\n",
        "print(hero2.items())\n",
        "# hero2.items()[0] # error\n",
        "list(hero2.items())[0] # 출력: ('name', 'mura')\n",
        "type(hero2.items())"
      ],
      "metadata": {
        "colab": {
          "base_uri": "https://localhost:8080/"
        },
        "id": "tfD7_VuLbn_s",
        "outputId": "76ffd5f3-c59a-437f-adf3-2c8029d9cbc5"
      },
      "execution_count": 11,
      "outputs": [
        {
          "output_type": "stream",
          "name": "stdout",
          "text": [
            "dict_items([('name', 'mura'), ('age', 10)])\n"
          ]
        },
        {
          "output_type": "execute_result",
          "data": {
            "text/plain": [
              "dict_items"
            ]
          },
          "metadata": {},
          "execution_count": 11
        }
      ]
    },
    {
      "cell_type": "code",
      "source": [
        "# 'items',\n",
        "# 'keys',\n",
        "# 'values'\n",
        "# 'fromkeys',\n",
        "# 'get',\n",
        "# 'pop',\n",
        "# 'popitem',\n",
        "# 'setdefault',\n",
        "# 'update',\n",
        "\n",
        "hero = {'name': 'licat', 'age': 10}\n",
        "print(hero.keys())\n",
        "type(hero.keys())\n",
        "\n",
        "# 이렇게 많이 사용합니다.\n",
        "for i in hero.keys():\n",
        "    print(i)"
      ],
      "metadata": {
        "colab": {
          "base_uri": "https://localhost:8080/"
        },
        "id": "q72VLWUOcA5F",
        "outputId": "25c68645-35eb-4371-b9e3-178608508cc8"
      },
      "execution_count": 12,
      "outputs": [
        {
          "output_type": "stream",
          "name": "stdout",
          "text": [
            "dict_keys(['name', 'age'])\n",
            "name\n",
            "age\n"
          ]
        }
      ]
    },
    {
      "cell_type": "code",
      "source": [
        "# 'items',\n",
        "# 'keys',\n",
        "# 'values'\n",
        "# 'fromkeys',\n",
        "# 'get',\n",
        "# 'pop',\n",
        "# 'popitem',\n",
        "# 'setdefault',\n",
        "# 'update',\n",
        "\n",
        "hero = {'name': 'licat', 'age': 10}\n",
        "print(hero.values())\n",
        "type(hero.values())"
      ],
      "metadata": {
        "colab": {
          "base_uri": "https://localhost:8080/"
        },
        "id": "KXqNWp7i9mCV",
        "outputId": "242ec35b-1f87-44f0-fd94-d92ea29672cb"
      },
      "execution_count": 13,
      "outputs": [
        {
          "output_type": "stream",
          "name": "stdout",
          "text": [
            "dict_values(['licat', 10])\n"
          ]
        },
        {
          "output_type": "execute_result",
          "data": {
            "text/plain": [
              "dict_values"
            ]
          },
          "metadata": {},
          "execution_count": 13
        }
      ]
    },
    {
      "cell_type": "code",
      "source": [
        "hero = {'name': 'licat', 'age': 10}\n",
        "\n",
        "# 'licat' in hero # 출력: False\n",
        "# 'name' in hero # 출력: True, 키 값을 찾는 것만 됩니다."
      ],
      "metadata": {
        "id": "HHVgl6ZscEqy"
      },
      "execution_count": 14,
      "outputs": []
    },
    {
      "cell_type": "code",
      "source": [
        "'licat' in hero.values()\n",
        "'mura' in hero.values()"
      ],
      "metadata": {
        "colab": {
          "base_uri": "https://localhost:8080/"
        },
        "id": "JumbENcovebv",
        "outputId": "8cdcec62-d4c3-47ff-9135-f58be40f72c8"
      },
      "execution_count": 15,
      "outputs": [
        {
          "output_type": "execute_result",
          "data": {
            "text/plain": [
              "False"
            ]
          },
          "metadata": {},
          "execution_count": 15
        }
      ]
    },
    {
      "cell_type": "code",
      "source": [
        "# 'fromkeys',\n",
        "# 'get',\n",
        "# 'pop',\n",
        "# 'popitem',\n",
        "# 'setdefault',\n",
        "# 'update',\n",
        "\n",
        "keys = ['name', 'city', 'job']\n",
        "value = ['licat', 'Jeju', 'Developer']\n",
        "print(dict.fromkeys(keys, value))"
      ],
      "metadata": {
        "colab": {
          "base_uri": "https://localhost:8080/"
        },
        "id": "qiqr7qe24apX",
        "outputId": "07d5385a-df0e-4696-f84c-4edc75d0112a"
      },
      "execution_count": 47,
      "outputs": [
        {
          "output_type": "stream",
          "name": "stdout",
          "text": [
            "{'name': ['licat', 'Jeju', 'Developer'], 'city': ['licat', 'Jeju', 'Developer'], 'job': ['licat', 'Jeju', 'Developer']}\n"
          ]
        }
      ]
    },
    {
      "cell_type": "code",
      "source": [
        "keys = ['name', 'city', 'job']\n",
        "value = None\n",
        "print(dict.fromkeys(keys, value))"
      ],
      "metadata": {
        "colab": {
          "base_uri": "https://localhost:8080/"
        },
        "id": "4GiMBtUW9szZ",
        "outputId": "52b2abea-6505-4e0d-da64-21f60b8bd96c"
      },
      "execution_count": 20,
      "outputs": [
        {
          "output_type": "stream",
          "name": "stdout",
          "text": [
            "{'name': None, 'city': None, 'job': None}\n"
          ]
        }
      ]
    },
    {
      "cell_type": "code",
      "source": [
        "d = {'name': 'licat', 'city': 'Jeju'}\n",
        "d['name']\n",
        "d.get('name') # 기억하고 있어야 합니다."
      ],
      "metadata": {
        "colab": {
          "base_uri": "https://localhost:8080/",
          "height": 36
        },
        "id": "2leVoKd99uSE",
        "outputId": "1610332e-7a42-4830-d897-d325d3a89c73"
      },
      "execution_count": 18,
      "outputs": [
        {
          "output_type": "execute_result",
          "data": {
            "text/plain": [
              "'licat'"
            ],
            "application/vnd.google.colaboratory.intrinsic+json": {
              "type": "string"
            }
          },
          "metadata": {},
          "execution_count": 18
        }
      ]
    },
    {
      "cell_type": "code",
      "source": [
        "d = {'name': 'licat', 'city': 'Jeju'}\n",
        "# d['age'] # error, 이거 가볍게 생각하면 안됩니다! 서비스 멈춥니다!\n",
        "d.get('age', '값 없음!')"
      ],
      "metadata": {
        "colab": {
          "base_uri": "https://localhost:8080/",
          "height": 36
        },
        "id": "nUA4cgDC9vZa",
        "outputId": "ee0a023c-99bb-4bf4-d185-8bf1ebb91dc0"
      },
      "execution_count": 21,
      "outputs": [
        {
          "output_type": "execute_result",
          "data": {
            "text/plain": [
              "'값 없음!'"
            ],
            "application/vnd.google.colaboratory.intrinsic+json": {
              "type": "string"
            }
          },
          "metadata": {},
          "execution_count": 21
        }
      ]
    },
    {
      "cell_type": "code",
      "source": [
        "def 요일변경(n):\n",
        "    return {\n",
        "        1: '월요일',\n",
        "        2: '화요일',\n",
        "        3: '수요일',\n",
        "        4: '목요일',\n",
        "        5: '금요일',\n",
        "        6: '토요일',\n",
        "        7: '일요일',\n",
        "    }[n]\n",
        "\n",
        "요일변경(3)\n",
        "# 위험한 코드입니다!\n",
        "# 요일변경(8) # error, 서비스 멈춥니다!"
      ],
      "metadata": {
        "colab": {
          "base_uri": "https://localhost:8080/",
          "height": 36
        },
        "outputId": "6fda017d-7723-4d5d-df72-3321e9bc8a71",
        "id": "tK-KQlQT4ZXm"
      },
      "execution_count": 22,
      "outputs": [
        {
          "output_type": "execute_result",
          "data": {
            "text/plain": [
              "'수요일'"
            ],
            "application/vnd.google.colaboratory.intrinsic+json": {
              "type": "string"
            }
          },
          "metadata": {},
          "execution_count": 22
        }
      ]
    },
    {
      "cell_type": "code",
      "source": [
        "# 아래와 같이 변경을 해주세요.\n",
        "def 요일변경(n):\n",
        "    return {\n",
        "        1: '월요일',\n",
        "        2: '화요일',\n",
        "        3: '수요일',\n",
        "        4: '목요일',\n",
        "        5: '금요일',\n",
        "        6: '토요일',\n",
        "        7: '일요일',\n",
        "    }.get(n) # 기본이 None입니다.\n",
        "\n",
        "요일변경(3)\n",
        "print(요일변경(8))\n",
        "print(요일변경(8))"
      ],
      "metadata": {
        "colab": {
          "base_uri": "https://localhost:8080/"
        },
        "outputId": "42464128-f2af-4388-803c-2e10741dd945",
        "id": "azTvvcFQ4ZXm"
      },
      "execution_count": 158,
      "outputs": [
        {
          "output_type": "stream",
          "name": "stdout",
          "text": [
            "None\n",
            "None\n"
          ]
        }
      ]
    },
    {
      "cell_type": "code",
      "source": [
        "# 아래와 같이 변경을 해주세요.\n",
        "def 요일변경(n):\n",
        "    return {\n",
        "        1: '월요일',\n",
        "        2: '화요일',\n",
        "        3: '수요일',\n",
        "        4: '목요일',\n",
        "        5: '금요일',\n",
        "        6: '토요일',\n",
        "        7: '일요일',\n",
        "    }.get(n, '') # 빈문자열로 변경\n",
        "\n",
        "요일변경(3)\n",
        "print(요일변경(8))"
      ],
      "metadata": {
        "colab": {
          "base_uri": "https://localhost:8080/"
        },
        "outputId": "f5c9054d-b3c1-48b4-e59b-d2bb54eb2989",
        "id": "B03Tmcri4ZXn"
      },
      "execution_count": 159,
      "outputs": [
        {
          "output_type": "stream",
          "name": "stdout",
          "text": [
            "\n"
          ]
        }
      ]
    },
    {
      "cell_type": "code",
      "source": [
        "# 아래와 같이 변경을 해주세요.\n",
        "def f():\n",
        "    return '금금금요일'\n",
        "\n",
        "def 요일변경(w):\n",
        "    return {\n",
        "        '월': '월요일',\n",
        "        '화': '화요일',\n",
        "        '수': '수요일',\n",
        "        '목': '목요일',\n",
        "        '금': '금요일',\n",
        "        '토': '토요일',\n",
        "        '일': '일요일',\n",
        "    }.get(w, f())\n",
        "\n",
        "요일변경('하하')"
      ],
      "metadata": {
        "colab": {
          "base_uri": "https://localhost:8080/",
          "height": 36
        },
        "outputId": "4fb75e11-7881-4bd5-d38b-6e50bb259c7d",
        "id": "X2GvCTsk4ZXn"
      },
      "execution_count": 160,
      "outputs": [
        {
          "output_type": "execute_result",
          "data": {
            "text/plain": [
              "'금금금요일'"
            ],
            "application/vnd.google.colaboratory.intrinsic+json": {
              "type": "string"
            }
          },
          "metadata": {},
          "execution_count": 160
        }
      ]
    },
    {
      "cell_type": "code",
      "source": [
        "numbers = {'one': '하나', 'two': '둘', 'three': '셋'}\n",
        "numbers.pop('one')\n",
        "numbers"
      ],
      "metadata": {
        "colab": {
          "base_uri": "https://localhost:8080/"
        },
        "id": "jANqKtpB-Dt4",
        "outputId": "ada3e5f9-dbac-4736-b37b-0c1b58d7f2ee"
      },
      "execution_count": 23,
      "outputs": [
        {
          "output_type": "execute_result",
          "data": {
            "text/plain": [
              "{'two': '둘', 'three': '셋'}"
            ]
          },
          "metadata": {},
          "execution_count": 23
        }
      ]
    },
    {
      "cell_type": "code",
      "source": [
        "numbers = {'one': '하나', 'two': '둘', 'three': '셋'}\n",
        "numbers.pop() # error\n",
        "numbers"
      ],
      "metadata": {
        "id": "BHoAa0qW-IPr"
      },
      "execution_count": null,
      "outputs": []
    },
    {
      "cell_type": "code",
      "source": [
        "numbers = {'one': '하나', 'two': '둘', 'three': '셋'}\n",
        "one_value = numbers.pop('one')"
      ],
      "metadata": {
        "id": "Ofb-TJLb4ZXn"
      },
      "execution_count": 25,
      "outputs": []
    },
    {
      "cell_type": "code",
      "source": [
        "numbers = {'one': '하나', 'two': '둘', 'three': '셋'}\n",
        "item = numbers.popitem()\n",
        "print(item)\n",
        "print(numbers)"
      ],
      "metadata": {
        "id": "1s9YkClU-L7w"
      },
      "execution_count": null,
      "outputs": []
    },
    {
      "cell_type": "code",
      "source": [
        "numbers = {'one': '하나', 'two': '둘', 'three': '셋'}\n",
        "four_value = numbers.setdefault(\"four\", \"넷\")\n",
        "print(four_value)\n",
        "print(numbers)"
      ],
      "metadata": {
        "colab": {
          "base_uri": "https://localhost:8080/"
        },
        "id": "Ysb93EjD7HnA",
        "outputId": "7d55b604-94e8-44e1-f57d-d9cc6313b86f"
      },
      "execution_count": 28,
      "outputs": [
        {
          "output_type": "stream",
          "name": "stdout",
          "text": [
            "넷\n",
            "{'one': '하나', 'two': '둘', 'three': '셋', 'four': '넷'}\n"
          ]
        }
      ]
    },
    {
      "cell_type": "code",
      "source": [
        "numbers = {'one': '하나', 'two': '둘', 'three': '셋'}\n",
        "four_value = numbers.setdefault(\"three\", 3) # 3이 반영되지 않습니다.\n",
        "print(four_value)\n",
        "print(numbers)"
      ],
      "metadata": {
        "colab": {
          "base_uri": "https://localhost:8080/"
        },
        "id": "uR4LaDAt-Tk1",
        "outputId": "204d0e9e-3716-4814-e6c2-83bba4bef45e"
      },
      "execution_count": 29,
      "outputs": [
        {
          "output_type": "stream",
          "name": "stdout",
          "text": [
            "셋\n",
            "{'one': '하나', 'two': '둘', 'three': '셋'}\n"
          ]
        }
      ]
    },
    {
      "cell_type": "code",
      "source": [
        "numbers = {'one': '하나', 'two': '둘', 'three': '셋'}\n",
        "numbers.update({'four': '넷', 'five': '다섯'})\n",
        "print(numbers)"
      ],
      "metadata": {
        "colab": {
          "base_uri": "https://localhost:8080/"
        },
        "id": "3wBpARpb7H76",
        "outputId": "9bef3063-7b47-49d1-a62d-b90b7fcf5195"
      },
      "execution_count": 30,
      "outputs": [
        {
          "output_type": "stream",
          "name": "stdout",
          "text": [
            "{'one': '하나', 'two': '둘', 'three': '셋', 'four': '넷', 'five': '다섯'}\n"
          ]
        }
      ]
    },
    {
      "cell_type": "code",
      "source": [
        "numbers = {'one': '하나', 'two': '둘', 'three': '셋'}\n",
        "numbers.update({'three': 3, 'four': 4})\n",
        "print(numbers)"
      ],
      "metadata": {
        "colab": {
          "base_uri": "https://localhost:8080/"
        },
        "id": "-kMUxvkc7ga5",
        "outputId": "166c11e2-3b2b-4feb-d242-8e82e8502a70"
      },
      "execution_count": 31,
      "outputs": [
        {
          "output_type": "stream",
          "name": "stdout",
          "text": [
            "{'one': '하나', 'two': '둘', 'three': 3, 'four': 4}\n"
          ]
        }
      ]
    },
    {
      "cell_type": "markdown",
      "source": [
        "#연습문제"
      ],
      "metadata": {
        "id": "2ZUwxbNs7xMK"
      }
    },
    {
      "cell_type": "code",
      "source": [
        "# 문제1: 다음 국영수 dict에 점수에 평균을 구하는 코드를 작성해주세요.\n",
        "국영수 = {'국어': 97, '영어': 38, '수학': 90}\n",
        "arr = sum(국영수.values()) / len(국영수)\n",
        "print(arr)\n",
        "\n",
        "# 문제2: {'사회':70, '과학':85}가 추가되었습니다. dict에 평균을 구하는 코드를 작성해주세요.\n",
        "국영수 = {'국어': 97, '영어': 38, '수학': 90}\n",
        "국영수.update({'사회': 70, '과학': 85})\n",
        "brr = sum(국영수.values()) / len(국영수)\n",
        "print(brr)\n",
        "\n",
        "# 문제3: 영어와 수학점수가 각각 10점씩 올랐습니다. 점수를 10점 추가하는 코드를 작성해주세요.\n",
        "국영수 = {'국어': 97, '영어': 38, '수학': 90}\n",
        "국영수.update({'영어': 국영수.get('영어') + 10, '수학': 국영수.get('수학') + 10})\n",
        "print(국영수)\n",
        "# update 메서드는 dictionary를 업데이트하는 기능만하고 리턴은 하지 않기 때문에\n",
        "# 리턴 값이 없으므로 crr에는 아무 값도 저장되지 않는걸거에요\n",
        "\n",
        "# 문제4: 최종 점수에서 가장 높은 점수를 출력하는 코드를 작성해주세요.\n",
        "crr = max(국영수.values())\n",
        "print(crr)"
      ],
      "metadata": {
        "colab": {
          "base_uri": "https://localhost:8080/"
        },
        "id": "jWPh-x778ulz",
        "outputId": "a94c6c3e-fffc-4402-ddf9-bb4825a2f088"
      },
      "execution_count": 37,
      "outputs": [
        {
          "output_type": "stream",
          "name": "stdout",
          "text": [
            "75.0\n",
            "76.0\n",
            "{'국어': 97, '영어': 48, '수학': 100}\n",
            "100\n"
          ]
        }
      ]
    },
    {
      "cell_type": "code",
      "source": [
        "# 문제5: 가장 높은 점수에 과목을 출력해주세요.\n",
        "#(https://school.programmers.co.kr/learn/courses/30/lessons/120835 이런문제와 유사합니다.)\n",
        "max(국영수.items(), key=lambda x: x[1])[0] # 강토님 코드\n",
        "max(국영수, key=국영수.get) # 형섭님 코드\n",
        "\n",
        "values = list(국영수.values())\n",
        "list(국영수.keys())[values.index(max(values))] # 병헌님 코드(공을 많이 들인 코드)\n",
        "\n",
        "list(sorted(국영수.items(), key=lambda x:x[1], reverse=True))[0][0] # 찬양님 코드 변경\n",
        "\n",
        "for key in 국영수: # 종훈님 코드\n",
        "    if(국영수.get(key) == max(국영수.values())):\n",
        "        print(key)\n",
        "\n",
        "[i for i, j in 국영수.items() if j == max(국영수.values())] #진경님 코드"
      ],
      "metadata": {
        "id": "XzeszGMHHp_k"
      },
      "execution_count": null,
      "outputs": []
    },
    {
      "cell_type": "code",
      "source": [
        "# 여러개의 딕셔너리를 왔다갔다 하면서 key 값으로 value값을 비교할 때에도 사용합니다.\n",
        "\n",
        "local = {'제주': 100, '서울': 977, '부산': 500}\n",
        "강우량 = {'제주': 100, '서울': 97, '부산': 50}\n",
        "max(강우량, key=local.get())"
      ],
      "metadata": {
        "id": "0CuYOa1V7sdo"
      },
      "execution_count": null,
      "outputs": []
    },
    {
      "cell_type": "code",
      "source": [
        "local = {'제주': 100, '서울': 977, '부산': 500}\n",
        "강우량 = {'제주': 100, '서울': 97, '부산': 50}\n",
        "max_city = max(강우량, key=lambda city: local[city])\n",
        "print(max_city)"
      ],
      "metadata": {
        "colab": {
          "base_uri": "https://localhost:8080/"
        },
        "id": "OcUPOMNKB-Kn",
        "outputId": "51add85e-d2e5-4496-ffc9-771765820b9d"
      },
      "execution_count": 77,
      "outputs": [
        {
          "output_type": "stream",
          "name": "stdout",
          "text": [
            "서울\n"
          ]
        }
      ]
    },
    {
      "cell_type": "code",
      "source": [
        "d = {'a': 10, 'bb': 9, 'c': 5, 'd': 6}\n",
        "max(d) # 유니코드가 가장 큰 key값을 출력하겠다."
      ],
      "metadata": {
        "colab": {
          "base_uri": "https://localhost:8080/",
          "height": 36
        },
        "id": "TsZ7C9CLJKYE",
        "outputId": "3efb7367-2810-4e1a-8b10-e7fed112ce2d"
      },
      "execution_count": null,
      "outputs": [
        {
          "output_type": "execute_result",
          "data": {
            "text/plain": [
              "'d'"
            ],
            "application/vnd.google.colaboratory.intrinsic+json": {
              "type": "string"
            }
          },
          "metadata": {},
          "execution_count": 40
        }
      ]
    },
    {
      "cell_type": "code",
      "source": [
        "d = {'a': 10, 'bb': 9, 'c': 5, 'd': 6}\n",
        "max(d, key=len) # 길이가 가장 긴 key값을 출력하겠다."
      ],
      "metadata": {
        "colab": {
          "base_uri": "https://localhost:8080/",
          "height": 36
        },
        "id": "1bHxDKXoJKoH",
        "outputId": "7c8e8723-3fb4-4449-b8d6-a5e69009a50e"
      },
      "execution_count": null,
      "outputs": [
        {
          "output_type": "execute_result",
          "data": {
            "text/plain": [
              "'bb'"
            ],
            "application/vnd.google.colaboratory.intrinsic+json": {
              "type": "string"
            }
          },
          "metadata": {},
          "execution_count": 41
        }
      ]
    },
    {
      "cell_type": "code",
      "source": [
        "d = {'a': 10, 'bb': 9, 'c': 5, 'd': 6}\n",
        "max(d, key=d.get) # d.get에서 반환된 가장 큰값의 key값을 출력하겠다."
      ],
      "metadata": {
        "colab": {
          "base_uri": "https://localhost:8080/",
          "height": 36
        },
        "id": "1KllTsnpJL9a",
        "outputId": "58ff299b-34f2-43f7-db44-41a098600582"
      },
      "execution_count": null,
      "outputs": [
        {
          "output_type": "execute_result",
          "data": {
            "text/plain": [
              "'a'"
            ],
            "application/vnd.google.colaboratory.intrinsic+json": {
              "type": "string"
            }
          },
          "metadata": {},
          "execution_count": 42
        }
      ]
    },
    {
      "cell_type": "markdown",
      "source": [
        "#얕은 복사와 깊은 복사\u001b"
      ],
      "metadata": {
        "id": "aJGehCWUvf7i"
      }
    },
    {
      "cell_type": "code",
      "source": [
        "l = [1, 2, 3]\n",
        "ll = l.copy()\n",
        "l"
      ],
      "metadata": {
        "colab": {
          "base_uri": "https://localhost:8080/"
        },
        "id": "KlTH6d8qvfWe",
        "outputId": "742962b1-602d-49c0-8bc0-6988431acd19"
      },
      "execution_count": 34,
      "outputs": [
        {
          "output_type": "execute_result",
          "data": {
            "text/plain": [
              "[1, 2, 3]"
            ]
          },
          "metadata": {},
          "execution_count": 34
        }
      ]
    },
    {
      "cell_type": "code",
      "source": [
        "import copy\n",
        "\n",
        "a = [1, 2]\n",
        "b = [3, 4]\n",
        "\n",
        "aa = [10, 20, a]\n",
        "bb = [30, 40, b]\n",
        "\n",
        "aaa = [100, 200, aa]\n",
        "bbb = [300, 400, bb]\n",
        "\n",
        "l = [aaa, bbb]\n",
        "ll = copy.deepcopy(l) # 깊은 복사\n",
        "\n",
        "a[0] = 99\n",
        "\n",
        "print(l)\n",
        "print(ll)"
      ],
      "metadata": {
        "colab": {
          "base_uri": "https://localhost:8080/"
        },
        "id": "EdUX9hT6-1yR",
        "outputId": "267c6659-0346-4c31-f8bd-ad28b5af3bff"
      },
      "execution_count": 35,
      "outputs": [
        {
          "output_type": "stream",
          "name": "stdout",
          "text": [
            "[[100, 200, [10, 20, [99, 2]]], [300, 400, [30, 40, [3, 4]]]]\n",
            "[[100, 200, [10, 20, [1, 2]]], [300, 400, [30, 40, [3, 4]]]]\n"
          ]
        }
      ]
    },
    {
      "cell_type": "code",
      "source": [
        "l = [[1, 2, 3], [4, 5, 6]]\n",
        "ll = [i for i in l]\n",
        "ll[0][0] = 1000\n",
        "print(l)\n",
        "print(ll)"
      ],
      "metadata": {
        "colab": {
          "base_uri": "https://localhost:8080/"
        },
        "id": "O6wOE91V-2D1",
        "outputId": "948de6ca-13c5-44dd-89c0-5696fcd13726"
      },
      "execution_count": 36,
      "outputs": [
        {
          "output_type": "stream",
          "name": "stdout",
          "text": [
            "[[1000, 2, 3], [4, 5, 6]]\n",
            "[[1000, 2, 3], [4, 5, 6]]\n"
          ]
        }
      ]
    },
    {
      "cell_type": "code",
      "source": [
        "# 리스트 컴프리헨션으로 깊은 복사 구현(완전하진 않습니다.)\n",
        "l = [[1, 2, 3], [4, 5, 6]]\n",
        "ll = [i[:] for i in l]\n",
        "ll[0][0] = 1000\n",
        "print(l)\n",
        "print(ll)"
      ],
      "metadata": {
        "colab": {
          "base_uri": "https://localhost:8080/"
        },
        "id": "lUQkPCRz-3wB",
        "outputId": "4fadfe41-7cc3-4c26-d780-6cbc2ceb32e5"
      },
      "execution_count": 37,
      "outputs": [
        {
          "output_type": "stream",
          "name": "stdout",
          "text": [
            "[[1, 2, 3], [4, 5, 6]]\n",
            "[[1000, 2, 3], [4, 5, 6]]\n"
          ]
        }
      ]
    },
    {
      "cell_type": "code",
      "source": [
        "# 위와 같은 방식으로 했을 때 완전하지 않은 코드\n",
        "a = [9, 99]\n",
        "\n",
        "l = [[1, 2, a], [4, 5, 6]]\n",
        "ll = [i[:] for i in l]\n",
        "a[0] = 10000\n",
        "print(l)\n",
        "print(ll)"
      ],
      "metadata": {
        "colab": {
          "base_uri": "https://localhost:8080/"
        },
        "id": "T_lRBo3MxHxu",
        "outputId": "6731db84-8f03-4f38-ced4-3ba981e5cc6d"
      },
      "execution_count": 40,
      "outputs": [
        {
          "output_type": "stream",
          "name": "stdout",
          "text": [
            "[[1, 2, [10000, 99]], [4, 5, 6]]\n",
            "[[1, 2, [10000, 99]], [4, 5, 6]]\n"
          ]
        }
      ]
    },
    {
      "cell_type": "code",
      "source": [
        "# 종훈님 Q&A\n",
        "\n",
        "a = [1, 2, 3]\n",
        "b = [4, 5, 6]\n",
        "\n",
        "l = [a, b]\n",
        "ll = [a, b]\n",
        "lll = [[1, 2, 3], [4, 5, 6]]\n",
        "\n",
        "print(id(l), id(ll))\n",
        "print(id(l[0]), id(ll[0]))\n",
        "print(id(l[0]), id(lll[0]))"
      ],
      "metadata": {
        "colab": {
          "base_uri": "https://localhost:8080/"
        },
        "id": "eibyMJjr_IF5",
        "outputId": "abd98e74-2b74-48bb-df29-8832694b45c0"
      },
      "execution_count": 41,
      "outputs": [
        {
          "output_type": "stream",
          "name": "stdout",
          "text": [
            "138957807611072 138957807608896\n",
            "138957807608512 138957807608512\n",
            "138957807608512 138957807607040\n"
          ]
        }
      ]
    },
    {
      "cell_type": "code",
      "source": [
        "a = [9999, 9999, 9999]\n",
        "b = copy.deepcopy(a)\n",
        "c = copy.deepcopy(b)\n",
        "print(a, b, c)\n",
        "\n",
        "print(id(a[0]), id(b[0]), id(c[0]))"
      ],
      "metadata": {
        "colab": {
          "base_uri": "https://localhost:8080/"
        },
        "id": "KwG297qVxfpu",
        "outputId": "5a0e860f-b2db-4964-c7fd-03a96c141924"
      },
      "execution_count": 42,
      "outputs": [
        {
          "output_type": "stream",
          "name": "stdout",
          "text": [
            "[9999, 9999, 9999] [9999, 9999, 9999] [9999, 9999, 9999]\n",
            "138958419488080 138958419488080 138958419488080\n"
          ]
        }
      ]
    },
    {
      "cell_type": "code",
      "source": [
        "c = [9999, 9999, 9999]\n",
        "id(c[0]), id(c[1]), id(c[2])\n",
        "c[0] is c[1]"
      ],
      "metadata": {
        "colab": {
          "base_uri": "https://localhost:8080/"
        },
        "id": "1eE8qV_kxu5p",
        "outputId": "0e6ec0e6-2688-4a75-88b5-8839b09c392d"
      },
      "execution_count": 43,
      "outputs": [
        {
          "output_type": "execute_result",
          "data": {
            "text/plain": [
              "True"
            ]
          },
          "metadata": {},
          "execution_count": 43
        }
      ]
    },
    {
      "cell_type": "code",
      "source": [
        "test = [9999, 9998, 9999]\n",
        "id(test[0]), id(test[1]), id(test[2])\n",
        "#같은 컨벤션 내에 지정된 숫자는 동일한 메모리에 저장"
      ],
      "metadata": {
        "colab": {
          "base_uri": "https://localhost:8080/"
        },
        "id": "dmws9zrVx08k",
        "outputId": "a58547ae-47bd-42a7-cbcd-dad61e9966db"
      },
      "execution_count": 119,
      "outputs": [
        {
          "output_type": "execute_result",
          "data": {
            "text/plain": [
              "(133479011254608, 133479011256336, 133479011254608)"
            ]
          },
          "metadata": {},
          "execution_count": 119
        }
      ]
    },
    {
      "cell_type": "code",
      "source": [
        "test = (9999, 9998, 9999) # 괄호가 다름\n",
        "id(test[0]), id(test[1]), id(test[2])\n",
        "#같은 컨벤션 내에 지정된 숫자는 동일한 메모리에 저장"
      ],
      "metadata": {
        "colab": {
          "base_uri": "https://localhost:8080/"
        },
        "id": "9mNtvgTWyCP0",
        "outputId": "49f3b86c-3322-48f0-bd0c-bf3234043f5e"
      },
      "execution_count": 120,
      "outputs": [
        {
          "output_type": "execute_result",
          "data": {
            "text/plain": [
              "(133479011257264, 133479011257104, 133479011257264)"
            ]
          },
          "metadata": {},
          "execution_count": 120
        }
      ]
    },
    {
      "cell_type": "code",
      "source": [
        "test = {'one':9999, 'two':9998, 'three':9999}\n",
        "id(test['one']), id(test['two']), id(test['three'])\n",
        "#같은 컨벤션 내에 지정된 숫자는 동일한 메모리에 저장"
      ],
      "metadata": {
        "colab": {
          "base_uri": "https://localhost:8080/"
        },
        "id": "3fwBYoPRyEr7",
        "outputId": "6b438599-f1e1-4809-b11b-cb6a14efc834"
      },
      "execution_count": 121,
      "outputs": [
        {
          "output_type": "execute_result",
          "data": {
            "text/plain": [
              "(133479011256304, 133479011257392, 133479011256304)"
            ]
          },
          "metadata": {},
          "execution_count": 121
        }
      ]
    },
    {
      "cell_type": "markdown",
      "source": [
        "#Set(집합)"
      ],
      "metadata": {
        "id": "sXde3OOnJYt0"
      }
    },
    {
      "cell_type": "code",
      "source": [
        "# 1. 중복이 되지 않습니다.\n",
        "# 2. 순서가 없습니다.\n",
        "# 3. 교집합, 차집합, 합집합 등이 가능합니다."
      ],
      "metadata": {
        "id": "wufD7uJF4iew"
      },
      "execution_count": 44,
      "outputs": []
    },
    {
      "cell_type": "code",
      "source": [
        "set('hello')\n",
        "s = {'licat', 'licat', 'licat', 'mura', 'binky'} # 게시물에 글 쓴사람은 몇 사람이죠?\n",
        "len(s)"
      ],
      "metadata": {
        "colab": {
          "base_uri": "https://localhost:8080/"
        },
        "id": "oLUjzfoePZXv",
        "outputId": "b13de9f7-0d48-4092-f922-833f5a29c591"
      },
      "execution_count": 49,
      "outputs": [
        {
          "output_type": "execute_result",
          "data": {
            "text/plain": [
              "3"
            ]
          },
          "metadata": {},
          "execution_count": 49
        }
      ]
    },
    {
      "cell_type": "code",
      "source": [
        "# 주의\n",
        "t = {} # dict\n",
        "t = () # tuple\n",
        "t = (0) # int\n",
        "t = (0,) # tuple\n",
        "t = {0} # set\n",
        "t = set()\n",
        "type(t)\n",
        "# t = tuple()\n",
        "# type(t)"
      ],
      "metadata": {
        "colab": {
          "base_uri": "https://localhost:8080/"
        },
        "id": "Stozpu1VAR9b",
        "outputId": "88ff6f39-2a39-40ac-c3da-09cc0a8d420e"
      },
      "execution_count": 50,
      "outputs": [
        {
          "output_type": "execute_result",
          "data": {
            "text/plain": [
              "set"
            ]
          },
          "metadata": {},
          "execution_count": 50
        }
      ]
    },
    {
      "cell_type": "code",
      "source": [
        "# 합집합\n",
        "s = {1, 1, 1, 2, 3, 4, 4, 4}\n",
        "ss = {4, 5, 6}\n",
        "\n",
        "s | ss"
      ],
      "metadata": {
        "colab": {
          "base_uri": "https://localhost:8080/"
        },
        "id": "PAq0Wy0vAThx",
        "outputId": "885a0ce4-c3a6-4ef8-e643-adf7897e485f"
      },
      "execution_count": 52,
      "outputs": [
        {
          "output_type": "execute_result",
          "data": {
            "text/plain": [
              "{1, 2, 3, 4, 5, 6}"
            ]
          },
          "metadata": {},
          "execution_count": 52
        }
      ]
    },
    {
      "cell_type": "code",
      "source": [
        "# 교집합\n",
        "s = {1, 1, 1, 2, 3, 4, 4, 4}\n",
        "ss = {4, 5, 6}\n",
        "\n",
        "s & ss"
      ],
      "metadata": {
        "colab": {
          "base_uri": "https://localhost:8080/"
        },
        "id": "5wMq47psAWkx",
        "outputId": "d9632ef1-d00e-4b9d-9474-0deb1221509f"
      },
      "execution_count": 53,
      "outputs": [
        {
          "output_type": "execute_result",
          "data": {
            "text/plain": [
              "{4}"
            ]
          },
          "metadata": {},
          "execution_count": 53
        }
      ]
    },
    {
      "cell_type": "code",
      "source": [
        "# 교집합\n",
        "s = {1, 1, 1, 2, 3, 4, 4, 4}\n",
        "ss = {4, 5, 6}\n",
        "\n",
        "s & ss"
      ],
      "metadata": {
        "colab": {
          "base_uri": "https://localhost:8080/"
        },
        "id": "kxdzmvq_AW0c",
        "outputId": "e672d88d-b976-45b0-984f-e04a152ad216"
      },
      "execution_count": 54,
      "outputs": [
        {
          "output_type": "execute_result",
          "data": {
            "text/plain": [
              "{4}"
            ]
          },
          "metadata": {},
          "execution_count": 54
        }
      ]
    },
    {
      "cell_type": "code",
      "source": [
        "# 차집합\n",
        "s = {1, 1, 1, 2, 3, 4, 4, 4}\n",
        "ss = {4, 5, 6}\n",
        "\n",
        "s - ss"
      ],
      "metadata": {
        "colab": {
          "base_uri": "https://localhost:8080/"
        },
        "id": "Pvk0EaRdAYAI",
        "outputId": "5970603c-911e-4ee3-dc1d-b6657bfe1fe9"
      },
      "execution_count": 55,
      "outputs": [
        {
          "output_type": "execute_result",
          "data": {
            "text/plain": [
              "{1, 2, 3}"
            ]
          },
          "metadata": {},
          "execution_count": 55
        }
      ]
    },
    {
      "cell_type": "code",
      "source": [
        "# 불만인 것\n",
        "s + ss\n",
        "# 이게 왜 합집합이 아닌가!!!??"
      ],
      "metadata": {
        "colab": {
          "base_uri": "https://localhost:8080/",
          "height": 215
        },
        "id": "10VSUoikAZkV",
        "outputId": "8357f8ad-c35a-4ddb-9de4-55d1f7b02bd2"
      },
      "execution_count": 56,
      "outputs": [
        {
          "output_type": "error",
          "ename": "TypeError",
          "evalue": "ignored",
          "traceback": [
            "\u001b[0;31m---------------------------------------------------------------------------\u001b[0m",
            "\u001b[0;31mTypeError\u001b[0m                                 Traceback (most recent call last)",
            "\u001b[0;32m<ipython-input-56-545e83c082b0>\u001b[0m in \u001b[0;36m<cell line: 2>\u001b[0;34m()\u001b[0m\n\u001b[1;32m      1\u001b[0m \u001b[0;31m# 불만인 것\u001b[0m\u001b[0;34m\u001b[0m\u001b[0;34m\u001b[0m\u001b[0m\n\u001b[0;32m----> 2\u001b[0;31m \u001b[0ms\u001b[0m \u001b[0;34m+\u001b[0m \u001b[0mss\u001b[0m\u001b[0;34m\u001b[0m\u001b[0;34m\u001b[0m\u001b[0m\n\u001b[0m\u001b[1;32m      3\u001b[0m \u001b[0;31m# 이게 왜 합집합이 아닌가!!!??\u001b[0m\u001b[0;34m\u001b[0m\u001b[0;34m\u001b[0m\u001b[0m\n",
            "\u001b[0;31mTypeError\u001b[0m: unsupported operand type(s) for +: 'set' and 'set'"
          ]
        }
      ]
    },
    {
      "cell_type": "code",
      "source": [
        "s.union(ss)\n",
        "s | ss"
      ],
      "metadata": {
        "colab": {
          "base_uri": "https://localhost:8080/"
        },
        "id": "IRcwTjHhAarn",
        "outputId": "59900632-c6e4-4df1-b08a-1de3bfc777fc"
      },
      "execution_count": 57,
      "outputs": [
        {
          "output_type": "execute_result",
          "data": {
            "text/plain": [
              "{1, 2, 3, 4, 5, 6}"
            ]
          },
          "metadata": {},
          "execution_count": 57
        }
      ]
    },
    {
      "cell_type": "code",
      "source": [
        "s.add(100)\n",
        "s"
      ],
      "metadata": {
        "colab": {
          "base_uri": "https://localhost:8080/"
        },
        "id": "UD_6xkMSAcLC",
        "outputId": "f91b6a81-c15e-42e3-c981-cbf734512714"
      },
      "execution_count": 58,
      "outputs": [
        {
          "output_type": "execute_result",
          "data": {
            "text/plain": [
              "{1, 2, 3, 4, 100}"
            ]
          },
          "metadata": {},
          "execution_count": 58
        }
      ]
    },
    {
      "cell_type": "code",
      "source": [
        "# s.remove(1000) # error 있는 값만 해야 합니다.\n",
        "s.discard(1000) # error가 나진 않습니다.\n",
        "s"
      ],
      "metadata": {
        "colab": {
          "base_uri": "https://localhost:8080/"
        },
        "id": "AAc_wu5BAdIZ",
        "outputId": "b02ff3e5-05a2-41a2-9680-82d7627c4a0d"
      },
      "execution_count": 59,
      "outputs": [
        {
          "output_type": "execute_result",
          "data": {
            "text/plain": [
              "{1, 2, 3, 4, 100}"
            ]
          },
          "metadata": {},
          "execution_count": 59
        }
      ]
    },
    {
      "cell_type": "code",
      "source": [
        "자유게시판 = {'licat', 'licat', 'licat', 'mura', 'binky'} # 게시물에 글 쓴사람은 몇 사람이죠?\n",
        "공지사항 = {'licat', 'licat'} # 게시물에 글 쓴사람은 몇 사람이죠?\n",
        "len(s)"
      ],
      "metadata": {
        "colab": {
          "base_uri": "https://localhost:8080/"
        },
        "id": "jn1fExTeAeMe",
        "outputId": "d6c36cc3-d37f-4b62-e350-e691a0f37fa3"
      },
      "execution_count": 60,
      "outputs": [
        {
          "output_type": "execute_result",
          "data": {
            "text/plain": [
              "5"
            ]
          },
          "metadata": {},
          "execution_count": 60
        }
      ]
    },
    {
      "cell_type": "markdown",
      "source": [
        "#리스트 컴프리헨션"
      ],
      "metadata": {
        "id": "xp1r3Z3kAkYe"
      }
    },
    {
      "cell_type": "code",
      "source": [
        "l = []\n",
        "for i in range(10):\n",
        "    l.append(i)\n",
        "l"
      ],
      "metadata": {
        "colab": {
          "base_uri": "https://localhost:8080/"
        },
        "id": "37MKy4ppPZaZ",
        "outputId": "4f116fe9-4ce8-4f09-facb-6a3f68c6928d"
      },
      "execution_count": 62,
      "outputs": [
        {
          "output_type": "execute_result",
          "data": {
            "text/plain": [
              "[0, 1, 2, 3, 4, 5, 6, 7, 8, 9]"
            ]
          },
          "metadata": {},
          "execution_count": 62
        }
      ]
    },
    {
      "cell_type": "code",
      "source": [
        "l = [i for i in range(10)]\n",
        "l"
      ],
      "metadata": {
        "colab": {
          "base_uri": "https://localhost:8080/"
        },
        "id": "bOgQpnFhA1I9",
        "outputId": "a3e29ed1-1356-464c-c6b4-7099264b85d4"
      },
      "execution_count": 63,
      "outputs": [
        {
          "output_type": "execute_result",
          "data": {
            "text/plain": [
              "[0, 1, 2, 3, 4, 5, 6, 7, 8, 9]"
            ]
          },
          "metadata": {},
          "execution_count": 63
        }
      ]
    },
    {
      "cell_type": "code",
      "source": [
        "l = []\n",
        "for i in range(10):\n",
        "    l.append(f'{i}입니다!')\n",
        "print(l)"
      ],
      "metadata": {
        "colab": {
          "base_uri": "https://localhost:8080/"
        },
        "id": "ifI6iFoBPZdL",
        "outputId": "77b6b440-1bd8-4746-e0bf-846c3e6d5916"
      },
      "execution_count": 47,
      "outputs": [
        {
          "output_type": "stream",
          "name": "stdout",
          "text": [
            "['0입니다!', '1입니다!', '2입니다!', '3입니다!', '4입니다!', '5입니다!', '6입니다!', '7입니다!', '8입니다!', '9입니다!']\n"
          ]
        }
      ]
    },
    {
      "cell_type": "code",
      "source": [
        "l =[ f'{i}입니다' for i in range(10)]\n",
        "print(l)"
      ],
      "metadata": {
        "colab": {
          "base_uri": "https://localhost:8080/"
        },
        "id": "oRpDq3A5PZ5b",
        "outputId": "dad1d1f5-7440-410a-ac5c-90b74c2adef5"
      },
      "execution_count": 44,
      "outputs": [
        {
          "output_type": "stream",
          "name": "stdout",
          "text": [
            "['0입니다', '1입니다', '2입니다', '3입니다', '4입니다', '5입니다', '6입니다', '7입니다', '8입니다', '9입니다']\n"
          ]
        }
      ]
    },
    {
      "cell_type": "code",
      "source": [
        "l = []\n",
        "for i in range(2, 10):\n",
        "    for j in range(1, 10):\n",
        "        l.append(f'{i} X {j} = {i*j}')\n",
        "l"
      ],
      "metadata": {
        "id": "rEeKZdSYPg0c"
      },
      "execution_count": null,
      "outputs": []
    },
    {
      "cell_type": "code",
      "source": [
        "l = [f'{i} X {j} = {i*j}' for i in range(2, 10) for j in range(1, 10)]\n",
        "l\n",
        "#구구단"
      ],
      "metadata": {
        "id": "QkdD-cu4PzKs"
      },
      "execution_count": null,
      "outputs": []
    },
    {
      "cell_type": "code",
      "source": [
        "l = []\n",
        "for i in range(10):\n",
        "    if i % 2 == 0:\n",
        "        l.append(i)\n",
        "l"
      ],
      "metadata": {
        "colab": {
          "base_uri": "https://localhost:8080/"
        },
        "id": "uuBTmQ5mA9_1",
        "outputId": "b8855aea-e6bb-4838-d8ba-31ffeb598696"
      },
      "execution_count": 70,
      "outputs": [
        {
          "output_type": "execute_result",
          "data": {
            "text/plain": [
              "[0, 2, 4, 6, 8]"
            ]
          },
          "metadata": {},
          "execution_count": 70
        }
      ]
    },
    {
      "cell_type": "code",
      "source": [
        "l = [i for i in range(10) if i % 2 == 0]\n",
        "l"
      ],
      "metadata": {
        "colab": {
          "base_uri": "https://localhost:8080/"
        },
        "id": "cbyoevGKBG51",
        "outputId": "0df1893d-a737-4bcd-d483-7c33c05ba7a2"
      },
      "execution_count": 71,
      "outputs": [
        {
          "output_type": "execute_result",
          "data": {
            "text/plain": [
              "[0, 2, 4, 6, 8]"
            ]
          },
          "metadata": {},
          "execution_count": 71
        }
      ]
    },
    {
      "cell_type": "code",
      "source": [
        "l = []\n",
        "for i in range(10):\n",
        "    if i % 2 == 0:\n",
        "        l.append(i)\n",
        "    else:\n",
        "        l.append(None)\n",
        "l"
      ],
      "metadata": {
        "colab": {
          "base_uri": "https://localhost:8080/"
        },
        "id": "m-O8edXrP0iG",
        "outputId": "9cfc644b-6343-4802-f648-4d42b59cc41e"
      },
      "execution_count": 68,
      "outputs": [
        {
          "output_type": "execute_result",
          "data": {
            "text/plain": [
              "[0, None, 2, None, 4, None, 6, None, 8, None]"
            ]
          },
          "metadata": {},
          "execution_count": 68
        }
      ]
    },
    {
      "cell_type": "code",
      "source": [
        "# error가 나는 코드\n",
        "# l = [i for i in range(10) if i % 2 == 0 else None]\n",
        "# l"
      ],
      "metadata": {
        "id": "OSRZ4Yi9RHfv"
      },
      "execution_count": 72,
      "outputs": []
    },
    {
      "cell_type": "code",
      "source": [
        "l = [i if i % 2 == 0 else None for i in range(10)]\n",
        "l"
      ],
      "metadata": {
        "colab": {
          "base_uri": "https://localhost:8080/"
        },
        "id": "jwT3WHPXRDcW",
        "outputId": "ccc13297-e98a-4724-eae8-2a09cb8ed566"
      },
      "execution_count": 78,
      "outputs": [
        {
          "output_type": "execute_result",
          "data": {
            "text/plain": [
              "[0, None, 2, None, 4, None, 6, None, 8, None]"
            ]
          },
          "metadata": {},
          "execution_count": 78
        }
      ]
    },
    {
      "cell_type": "code",
      "source": [
        "[i if i % 2 == 0 else None for i in range(10)]"
      ],
      "metadata": {
        "colab": {
          "base_uri": "https://localhost:8080/"
        },
        "id": "031pU78aDOnr",
        "outputId": "6a87cc7d-b31c-40a4-cf11-ac18a07e7f80"
      },
      "execution_count": 80,
      "outputs": [
        {
          "output_type": "execute_result",
          "data": {
            "text/plain": [
              "[0, None, 2, None, 4, None, 6, None, 8, None]"
            ]
          },
          "metadata": {},
          "execution_count": 80
        }
      ]
    },
    {
      "cell_type": "code",
      "source": [
        "[i for i in range(10) if i % 2 == 0]"
      ],
      "metadata": {
        "colab": {
          "base_uri": "https://localhost:8080/"
        },
        "id": "YljVtSuvDPe3",
        "outputId": "af19173f-cdc1-4c91-b914-43d756c06dae"
      },
      "execution_count": 81,
      "outputs": [
        {
          "output_type": "execute_result",
          "data": {
            "text/plain": [
              "[0, 2, 4, 6, 8]"
            ]
          },
          "metadata": {},
          "execution_count": 81
        }
      ]
    }
  ]
}