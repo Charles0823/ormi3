{
  "nbformat": 4,
  "nbformat_minor": 0,
  "metadata": {
    "colab": {
      "provenance": [],
      "toc_visible": true,
      "authorship_tag": "ABX9TyPKwJ03ghFpGDgm6paXzH1a",
      "include_colab_link": true
    },
    "kernelspec": {
      "name": "python3",
      "display_name": "Python 3"
    },
    "language_info": {
      "name": "python"
    }
  },
  "cells": [
    {
      "cell_type": "markdown",
      "metadata": {
        "id": "view-in-github",
        "colab_type": "text"
      },
      "source": [
        "<a href=\"https://colab.research.google.com/github/Charles0823/ormi3/blob/main/python/%EC%98%A4%EB%A5%B4%EB%AF%B8_3%EA%B8%B0_Kcs_python_6.ipynb\" target=\"_parent\"><img src=\"https://colab.research.google.com/assets/colab-badge.svg\" alt=\"Open In Colab\"/></a>"
      ]
    },
    {
      "cell_type": "markdown",
      "source": [
        "#일급함수와 고차함수"
      ],
      "metadata": {
        "id": "WhUHL37J6_fX"
      }
    },
    {
      "cell_type": "code",
      "source": [
        "licat = print\n",
        "licat('hello world')"
      ],
      "metadata": {
        "colab": {
          "base_uri": "https://localhost:8080/"
        },
        "id": "EPcYhr5kEWfW",
        "outputId": "ce954a97-c1f0-40c3-8359-0d4c9fea2175"
      },
      "execution_count": null,
      "outputs": [
        {
          "output_type": "stream",
          "name": "stdout",
          "text": [
            "hello world\n"
          ]
        }
      ]
    },
    {
      "cell_type": "code",
      "source": [
        "class Cat:\n",
        "    def sound(self):\n",
        "        print('냐옹')\n",
        "\n",
        "licat = Cat()\n",
        "licat_sound = licat.sound\n",
        "licat_sound() # licat.sound()"
      ],
      "metadata": {
        "colab": {
          "base_uri": "https://localhost:8080/"
        },
        "id": "QCo7nVTf7CDQ",
        "outputId": "ca0859bc-6967-477c-b4a9-5153d6f16ce2"
      },
      "execution_count": null,
      "outputs": [
        {
          "output_type": "stream",
          "name": "stdout",
          "text": [
            "냐옹\n"
          ]
        }
      ]
    },
    {
      "cell_type": "code",
      "source": [
        "l = [10, 20, 30]\n",
        "la = l.append\n",
        "la(40) # l.append\n",
        "l"
      ],
      "metadata": {
        "colab": {
          "base_uri": "https://localhost:8080/"
        },
        "id": "rcuT3eSr84WU",
        "outputId": "371f6468-debf-4fec-d2ac-7aed079199a4"
      },
      "execution_count": null,
      "outputs": [
        {
          "output_type": "execute_result",
          "data": {
            "text/plain": [
              "[10, 20, 30, 40]"
            ]
          },
          "metadata": {},
          "execution_count": 5
        }
      ]
    },
    {
      "cell_type": "code",
      "source": [
        "def add(x, y):\n",
        "    return x + y\n",
        "\n",
        "def subtract(x, y):\n",
        "    return x - y\n",
        "\n",
        "funcs = [add, subtract]\n",
        "print(funcs[0](2, 3))  # 출력: 5"
      ],
      "metadata": {
        "colab": {
          "base_uri": "https://localhost:8080/"
        },
        "id": "QXBH2KE682X4",
        "outputId": "98e71cb7-da6e-4abe-f964-032540f15e25"
      },
      "execution_count": null,
      "outputs": [
        {
          "output_type": "stream",
          "name": "stdout",
          "text": [
            "5\n"
          ]
        }
      ]
    },
    {
      "cell_type": "code",
      "source": [
        "class Operator:\n",
        "    def add(self, x, y):\n",
        "        return x + y\n",
        "\n",
        "    def sub(self, x, y):\n",
        "        return x - y\n",
        "\n",
        "    def mul(self, x, y):\n",
        "        return x * y\n",
        "\n",
        "    def div(self, x, y):\n",
        "        return x / y\n",
        "\n",
        "    def _and(self, x, y):\n",
        "        pass\n",
        "\n",
        "    def _or(self, x, y):\n",
        "        pass\n",
        "\n",
        "op = Operator()\n",
        "logical_op = {\n",
        "    'add': op.add,\n",
        "    'sub': op.sub,\n",
        "    'mul': op.mul,\n",
        "    'div': op.div,\n",
        "}\n",
        "arithmetic_op = {\n",
        "    '_and': op._and,\n",
        "    '_or': op._or,\n",
        "}\n",
        "\n",
        "print(logical_op['add'](2, 3)) # 출력: 5\n",
        "print(op.add(2, 3)) # 출력: 5\n",
        "\n",
        "for _, f in logical_op.items():\n",
        "    print(f(2, 3)) # 4칙연산 모두 계산"
      ],
      "metadata": {
        "colab": {
          "base_uri": "https://localhost:8080/"
        },
        "id": "vSYr_dDM82xT",
        "outputId": "925dee44-fd1d-4dc8-fad1-02a8f8ff91d0"
      },
      "execution_count": null,
      "outputs": [
        {
          "output_type": "stream",
          "name": "stdout",
          "text": [
            "5\n",
            "5\n",
            "5\n",
            "-1\n",
            "6\n",
            "0.6666666666666666\n"
          ]
        }
      ]
    },
    {
      "cell_type": "code",
      "source": [
        "# JavaScript\n",
        "# l = [10, 20, 30]\n",
        "# l.map((v)=>v**2) // [100, 400, 900]"
      ],
      "metadata": {
        "id": "AA_VQj5SEetp"
      },
      "execution_count": null,
      "outputs": []
    },
    {
      "cell_type": "code",
      "source": [
        "# 함수를 인자로 받았음!\n",
        "def licat_sound(p):\n",
        "    # 함수의 기능 10줄이 들어간다 생각하겠습니다.\n",
        "    x = 10\n",
        "    y = 10\n",
        "    z = 10\n",
        "    p('냐옹')\n",
        "\n",
        "licat_sound(print) # licat_sound안에 built-in function인 print를 넣었습니다."
      ],
      "metadata": {
        "colab": {
          "base_uri": "https://localhost:8080/"
        },
        "id": "YEd7RuMfEfJZ",
        "outputId": "c6df62f6-a296-4c3e-e2b2-1fa0b766c307"
      },
      "execution_count": null,
      "outputs": [
        {
          "output_type": "stream",
          "name": "stdout",
          "text": [
            "냐옹\n"
          ]
        }
      ]
    },
    {
      "cell_type": "code",
      "source": [
        "def square(x):\n",
        "    return x ** 2\n",
        "\n",
        "def width_circle(r, s):\n",
        "    return s(r) * 3.14\n",
        "\n",
        "width_circle(10, square)"
      ],
      "metadata": {
        "colab": {
          "base_uri": "https://localhost:8080/"
        },
        "id": "PZy8rRjDEgVg",
        "outputId": "8b58e6e9-480c-41fe-94fe-ec48edf4f042"
      },
      "execution_count": null,
      "outputs": [
        {
          "output_type": "execute_result",
          "data": {
            "text/plain": [
              "314.0"
            ]
          },
          "metadata": {},
          "execution_count": 9
        }
      ]
    },
    {
      "cell_type": "code",
      "source": [
        "# 함수를 결과로 반환!\n",
        "def create_adder(x):\n",
        "    def adder(y):\n",
        "        return x + y\n",
        "    return adder\n",
        "\n",
        "add_5 = create_adder(5)\n",
        "print(add_5(10))  # 출력: 15"
      ],
      "metadata": {
        "colab": {
          "base_uri": "https://localhost:8080/"
        },
        "id": "1LF1WLviAfDW",
        "outputId": "14a298a7-9435-4f59-b4ab-b8862e7f71d5"
      },
      "execution_count": null,
      "outputs": [
        {
          "output_type": "stream",
          "name": "stdout",
          "text": [
            "15\n"
          ]
        }
      ]
    },
    {
      "cell_type": "code",
      "source": [
        "def create_exponent(x):\n",
        "    def exponent(y):\n",
        "        return y ** x\n",
        "    return exponent\n",
        "\n",
        "exponent_2 = create_exponent(2)  # exponent\n",
        "exponent_3 = create_exponent(3)  # exponent\n",
        "print(exponent_2(10)) # 출력: 100\n",
        "# print(exponent(10)) => return y ** 2(이 숫자는 상수 취급되어 변경시킬 수 없습니다.)\n",
        "print(exponent_3(10)) # 출력: 1000\n",
        "# print(exponent(10)) => return y ** 3(이 숫자는 상수 취급되어 변경시킬 수 없습니다.)"
      ],
      "metadata": {
        "colab": {
          "base_uri": "https://localhost:8080/"
        },
        "id": "2bogDWfeD-X8",
        "outputId": "a2c5df16-610a-4306-e24c-d4753ac95f3b"
      },
      "execution_count": null,
      "outputs": [
        {
          "output_type": "stream",
          "name": "stdout",
          "text": [
            "100\n",
            "1000\n"
          ]
        }
      ]
    },
    {
      "cell_type": "code",
      "source": [
        "def f():\n",
        "    l = [10, 20, 30]\n",
        "    print(id(l))\n",
        "    return l\n",
        "\n",
        "sample = f()\n",
        "id(sample) # 주소가 같네요??\n",
        "# 함수가 끝나면 안에 변수들이 다 휘발되는 것 아니었나요??"
      ],
      "metadata": {
        "colab": {
          "base_uri": "https://localhost:8080/"
        },
        "id": "JFgmgv8kEmOS",
        "outputId": "9feb29d9-132e-45c1-f14b-67f9014baca1"
      },
      "execution_count": null,
      "outputs": [
        {
          "output_type": "stream",
          "name": "stdout",
          "text": [
            "135733850493184\n"
          ]
        },
        {
          "output_type": "execute_result",
          "data": {
            "text/plain": [
              "135733850493184"
            ]
          },
          "metadata": {},
          "execution_count": 37
        }
      ]
    },
    {
      "cell_type": "code",
      "source": [
        "import sys\n",
        "\n",
        "def ff():\n",
        "    l = [10, 20, 30]\n",
        "    return l\n",
        "\n",
        "sample_ = ff()\n",
        "sys.getrefcount(sample_) # window, mac, linux의 출력값이 달라요.\n",
        "# 중요한 포인트는 getrefcount의 작동 원리가 아니라\n",
        "# 함수가 종료되어도 참조하는 변수가 있다면\n",
        "# 값이 사라지지 않는다는 것이 포인트입니다!"
      ],
      "metadata": {
        "colab": {
          "base_uri": "https://localhost:8080/"
        },
        "id": "wId5i6WVEGUR",
        "outputId": "e1d0e9ac-b6c6-4f19-ff13-5d2612b460fc"
      },
      "execution_count": null,
      "outputs": [
        {
          "output_type": "execute_result",
          "data": {
            "text/plain": [
              "2"
            ]
          },
          "metadata": {},
          "execution_count": 38
        }
      ]
    },
    {
      "cell_type": "code",
      "source": [
        "import sys\n",
        "\n",
        "def ff():\n",
        "    l = [10, 20, 30]\n",
        "    return l\n",
        "\n",
        "sample_ = ff()"
      ],
      "metadata": {
        "id": "L51Fqb8cEHKc"
      },
      "execution_count": null,
      "outputs": []
    },
    {
      "cell_type": "code",
      "source": [
        "sys.getrefcount(sample_)"
      ],
      "metadata": {
        "colab": {
          "base_uri": "https://localhost:8080/"
        },
        "id": "i-QxSB9XEIWx",
        "outputId": "2108cfc3-325e-44ea-96f9-fd8f8ef4a430"
      },
      "execution_count": null,
      "outputs": [
        {
          "output_type": "execute_result",
          "data": {
            "text/plain": [
              "3"
            ]
          },
          "metadata": {},
          "execution_count": 40
        }
      ]
    },
    {
      "cell_type": "code",
      "source": [
        "# 일급 함수: 함수를 읿급함수(값이나 주소)로 취급\n",
        "# 고차 함수: 함수를 아규먼트로 받거나 return 값으로 반환할 수 있는 함수"
      ],
      "metadata": {
        "id": "U8IxXAkeKt2V"
      },
      "execution_count": null,
      "outputs": []
    },
    {
      "cell_type": "markdown",
      "source": [
        "#클로저"
      ],
      "metadata": {
        "id": "Dvmksi1ZLGmD"
      }
    },
    {
      "cell_type": "code",
      "source": [
        "# 클로저: 휘발되었어야 하는 메모리 영역에 접근하여 함수나 데이터를 활용하는 말   (실무에서는 거의 사용하지 않음)"
      ],
      "metadata": {
        "id": "GI-9tOYzLI_Z"
      },
      "execution_count": null,
      "outputs": []
    },
    {
      "cell_type": "code",
      "source": [
        "# 클로저가 아닌경우\n",
        "def outer_function():\n",
        "    def inner_function():\n",
        "        return 100+100\n",
        "    return inner_function\n",
        "\n",
        "# 클로저인 경우\n",
        "def outer_function(x):\n",
        "    def inner_function(y):\n",
        "        return x + y\n",
        "    return inner_function\n",
        "\n",
        "inner = outer_function(100)\n",
        "inner(200) # inner 입장에서 100을 변경할 수 있는 방법이 없습니다."
      ],
      "metadata": {
        "colab": {
          "base_uri": "https://localhost:8080/"
        },
        "id": "toFoq160LOZS",
        "outputId": "82212f0d-3601-4f55-bdf1-3b09c187056e"
      },
      "execution_count": null,
      "outputs": [
        {
          "output_type": "execute_result",
          "data": {
            "text/plain": [
              "300"
            ]
          },
          "metadata": {},
          "execution_count": 16
        }
      ]
    },
    {
      "cell_type": "markdown",
      "source": [
        "#데코레이터"
      ],
      "metadata": {
        "id": "thk4Vk0EN1eW"
      }
    },
    {
      "cell_type": "code",
      "source": [
        "# 이런 식으로 우린 사용합니다.\n",
        "# login한 사용자만 게시판 읽도록\n",
        "# 그러면 내가 login을 구현해야 하나?\n",
        "# Django와 같은 프레임워크는 필요한 대부분의 데코레이터가 미리 구현되어 있습니다.\n",
        "def login(arg):\n",
        "    pass\n",
        "\n",
        "@login\n",
        "def 게시판읽기():\n",
        "    pass"
      ],
      "metadata": {
        "id": "zcJ3K7HdZc16"
      },
      "execution_count": null,
      "outputs": []
    },
    {
      "cell_type": "code",
      "source": [
        "def simple_decorator(function):\n",
        "    def wrapper():\n",
        "        print(\"Before the function call\")\n",
        "        function()\n",
        "        print(\"After the function call\")\n",
        "    return wrapper\n",
        "\n",
        "@simple_decorator\n",
        "def hello():\n",
        "    print(\"Hello, World!\")\n",
        "\n",
        "hello() # 데코레이터가 없는 상태에서는 simple_decorator(hello)() 와 같습니다."
      ],
      "metadata": {
        "colab": {
          "base_uri": "https://localhost:8080/"
        },
        "id": "7GnQ9aYXN3Hv",
        "outputId": "db4633a5-3ae7-4918-e485-ef8d7d2f7380"
      },
      "execution_count": null,
      "outputs": [
        {
          "output_type": "stream",
          "name": "stdout",
          "text": [
            "Before the function call\n",
            "Hello, World!\n",
            "After the function call\n"
          ]
        }
      ]
    },
    {
      "cell_type": "code",
      "source": [
        "def simple_decorator(function):\n",
        "    def wrapper():\n",
        "        print(\"Before the function call\")\n",
        "        function()\n",
        "        print(\"After the function call\")\n",
        "    return wrapper\n",
        "\n",
        "def hello():\n",
        "    print(\"Hello, World!\")\n",
        "\n",
        "simple_decorator(hello)()\n",
        "# simple_decorator(hello) => wrapper\n",
        "# simple_decorator(hello)() => wrapper()"
      ],
      "metadata": {
        "colab": {
          "base_uri": "https://localhost:8080/"
        },
        "id": "An11VmZZOI0g",
        "outputId": "7b681c8a-bcb4-4b5b-80df-9c1023fe568f"
      },
      "execution_count": null,
      "outputs": [
        {
          "output_type": "stream",
          "name": "stdout",
          "text": [
            "Before the function call\n",
            "Hello, World!\n",
            "After the function call\n"
          ]
        }
      ]
    },
    {
      "cell_type": "code",
      "source": [
        "def simple_decorator(function):\n",
        "    def wrapper():\n",
        "        print(\"Before the function call\")\n",
        "        function()\n",
        "        print(\"After the function call\")\n",
        "    return wrapper\n",
        "\n",
        "@simple_decorator\n",
        "def hello():\n",
        "    print(\"Hello, World!\")\n",
        "\n",
        "hello() # 이렇게만 하면 simple_decorator에 hello를 아규먼트로 넣어주고 실행하겠다!"
      ],
      "metadata": {
        "colab": {
          "base_uri": "https://localhost:8080/"
        },
        "id": "vXrh9NDNPcSX",
        "outputId": "072828ed-b3ac-4761-dbe2-536a37ca8e84"
      },
      "execution_count": null,
      "outputs": [
        {
          "output_type": "stream",
          "name": "stdout",
          "text": [
            "Before the function call\n",
            "Hello, World!\n",
            "After the function call\n"
          ]
        }
      ]
    },
    {
      "cell_type": "code",
      "source": [
        "# step 1\n",
        "def data_Preprocessing(function):\n",
        "    def wrapper():\n",
        "        pass\n",
        "    return wrapper\n",
        "\n",
        "@data_Preprocessing\n",
        "def mean(data):\n",
        "    return sum(data)/len(data)\n",
        "\n",
        "mean([1, 2, '3', 4, '5']) # TypeError 발생"
      ],
      "metadata": {
        "id": "99eUUYcfPdJz"
      },
      "execution_count": null,
      "outputs": []
    },
    {
      "cell_type": "code",
      "source": [
        "# step 2\n",
        "def data_Preprocessing(function):\n",
        "    def wrapper(data):\n",
        "        print(data)\n",
        "    return wrapper\n",
        "\n",
        "@data_Preprocessing\n",
        "def mean(data):\n",
        "    return sum(data)/len(data)\n",
        "\n",
        "mean([1, 2, '3', 4, '5']) # 데이터만 출력하고 함수는 None을 반환"
      ],
      "metadata": {
        "colab": {
          "base_uri": "https://localhost:8080/"
        },
        "id": "cjmXnzcOPeAb",
        "outputId": "b6fb4d36-51a4-4278-815b-26d6c093630a"
      },
      "execution_count": null,
      "outputs": [
        {
          "output_type": "stream",
          "name": "stdout",
          "text": [
            "[1, 2, '3', 4, '5']\n"
          ]
        }
      ]
    },
    {
      "cell_type": "code",
      "source": [
        "# step 3\n",
        "def data_Preprocessing(function):\n",
        "    def wrapper(data):\n",
        "        return function(list(map(int, data)))\n",
        "    return wrapper\n",
        "\n",
        "@data_Preprocessing\n",
        "def mean(data):\n",
        "    return sum(data)/len(data)\n",
        "\n",
        "mean([1, 2, '3', 4, '5']) # 출력: 3.0 (정상 작동) # 데코레이터가 붙으면 mean을 실행하는 것이 아닙니다!\n",
        "\n",
        "# data_Preprocessing(mean) => wrapper\n",
        "# data_Preprocessing(mean)([1, 2, '3', 4, '5']) => wrapper([1, 2, '3', 4, '5'])"
      ],
      "metadata": {
        "colab": {
          "base_uri": "https://localhost:8080/"
        },
        "id": "9S9DNq44QQLr",
        "outputId": "0c44048e-0a4e-464f-a88d-aa9e3bb1ce3a"
      },
      "execution_count": null,
      "outputs": [
        {
          "output_type": "execute_result",
          "data": {
            "text/plain": [
              "3.0"
            ]
          },
          "metadata": {},
          "execution_count": 45
        }
      ]
    },
    {
      "cell_type": "code",
      "source": [
        "# step 3\n",
        "def data_Preprocessing(function):\n",
        "    def wrapper(a, b, c):\n",
        "        print(a, b, c)\n",
        "        # print(function([a, b, c]))\n",
        "    return wrapper\n",
        "\n",
        "@data_Preprocessing\n",
        "def mean(data):\n",
        "    return sum(data)/len(data)\n",
        "\n",
        "mean(10, 20, 30) # 왜 오류가 없을까요? data인자가 하나고, 10, 20, 30인자가 3개인데요?"
      ],
      "metadata": {
        "colab": {
          "base_uri": "https://localhost:8080/"
        },
        "id": "jFS2QTTlQRRv",
        "outputId": "959a91ee-d83c-4169-f046-df4f6b3940b7"
      },
      "execution_count": null,
      "outputs": [
        {
          "output_type": "stream",
          "name": "stdout",
          "text": [
            "10 20 30\n"
          ]
        }
      ]
    },
    {
      "cell_type": "code",
      "source": [
        "#### 여기까지 이해하시면 됩니다. ####"
      ],
      "metadata": {
        "id": "YxAiZelnEiFr"
      },
      "execution_count": null,
      "outputs": []
    },
    {
      "cell_type": "code",
      "source": [
        "import sys\n",
        "\n",
        "def ff():\n",
        "    l = [10, 20, 30]\n",
        "    return l\n",
        "\n",
        "sample_ = ff()\n",
        "sys.getrefcount(sample_) # window, mac, linux의 출력값이 달라요.\n",
        "# 중요한 포인트는 getrefcount의 작동 원리가 아니라\n",
        "# 함수가 종료되어도 참조하는 변수가 있다면\n",
        "# 값이 사라지지 않는다는 것이 포인트입니다!"
      ],
      "metadata": {
        "colab": {
          "base_uri": "https://localhost:8080/"
        },
        "id": "WpoJxCs5UeIc",
        "outputId": "5324889a-54ca-42c2-b8f7-3decb115fdac"
      },
      "execution_count": null,
      "outputs": [
        {
          "output_type": "execute_result",
          "data": {
            "text/plain": [
              "2"
            ]
          },
          "metadata": {},
          "execution_count": 24
        }
      ]
    },
    {
      "cell_type": "code",
      "source": [
        "# 강성웅님 Q&A\n",
        "# b를 실행시키고 싶은데 어떻게 해야 할까요?\n",
        "def outer(function):\n",
        "    def wrapper():\n",
        "        return 'hello'\n",
        "    return wrapper\n",
        "\n",
        "@outer\n",
        "def a():\n",
        "    def b():\n",
        "        print('hello b')\n",
        "    return b\n",
        "\n",
        "print(a())"
      ],
      "metadata": {
        "colab": {
          "base_uri": "https://localhost:8080/"
        },
        "id": "180-9yccVcmM",
        "outputId": "ce02d0af-3dc6-4027-dd31-748450dd88e8"
      },
      "execution_count": null,
      "outputs": [
        {
          "output_type": "stream",
          "name": "stdout",
          "text": [
            "hello\n"
          ]
        }
      ]
    },
    {
      "cell_type": "code",
      "source": [
        "# 강성웅님 Q&A\n",
        "# b를 실행시키고 싶은데 어떻게 해야 할까요?\n",
        "def outer(function):\n",
        "    def wrapper():\n",
        "        function()\n",
        "        return 'hello'\n",
        "    return wrapper\n",
        "\n",
        "@outer\n",
        "def a():\n",
        "    def b():\n",
        "        print('hello b')\n",
        "    return b\n",
        "\n",
        "print(a())"
      ],
      "metadata": {
        "colab": {
          "base_uri": "https://localhost:8080/"
        },
        "id": "mss5xrg-Yp8P",
        "outputId": "5e993026-af44-40ff-f213-d297de3bdaa4"
      },
      "execution_count": null,
      "outputs": [
        {
          "output_type": "stream",
          "name": "stdout",
          "text": [
            "hello\n"
          ]
        }
      ]
    },
    {
      "cell_type": "code",
      "source": [
        "# 강성웅님 Q&A\n",
        "# b를 실행시키고 싶은데 어떻게 해야 할까요?\n",
        "def outer(function):\n",
        "    def wrapper():\n",
        "        function()\n",
        "        return 'hello'\n",
        "    return wrapper\n",
        "\n",
        "@outer\n",
        "def a():\n",
        "    def b():\n",
        "        print('hello b')\n",
        "    return b\n",
        "\n",
        "print(a())"
      ],
      "metadata": {
        "colab": {
          "base_uri": "https://localhost:8080/"
        },
        "id": "nGJ4KWezYq6I",
        "outputId": "d5341c60-3c60-43f1-bb6b-ec609f1291f3"
      },
      "execution_count": null,
      "outputs": [
        {
          "output_type": "stream",
          "name": "stdout",
          "text": [
            "hello\n"
          ]
        }
      ]
    },
    {
      "cell_type": "code",
      "source": [
        "# 강성웅님 Q&A\n",
        "# b를 실행시키고 싶은데 어떻게 해야 할까요?\n",
        "def outer(function):\n",
        "    def wrapper():\n",
        "        function()()\n",
        "        return 'hello'\n",
        "    return wrapper\n",
        "\n",
        "@outer\n",
        "def a():\n",
        "    def b():\n",
        "        print('hello b')\n",
        "    return b\n",
        "\n",
        "print(a())"
      ],
      "metadata": {
        "colab": {
          "base_uri": "https://localhost:8080/"
        },
        "id": "MfKxvjKbYr0E",
        "outputId": "c5200b5c-8fb1-4802-9c4d-9a9346def2ed"
      },
      "execution_count": null,
      "outputs": [
        {
          "output_type": "stream",
          "name": "stdout",
          "text": [
            "hello b\n",
            "hello\n"
          ]
        }
      ]
    },
    {
      "cell_type": "code",
      "source": [
        "# 평생 볼 가능성 거의 없음!!\n",
        "\n",
        "def add_exclamation(function):\n",
        "    def wrapper(text):\n",
        "        print(f'add_exclamation 데코레이터 시작')\n",
        "        result = function(text) + \"!\"\n",
        "        print(f'add_exclamation 데코레이터 종료')\n",
        "        return result\n",
        "    return wrapper\n",
        "\n",
        "def add_question_mark(function):\n",
        "    def wrapper(text):\n",
        "        print(f'add_question_mark 데코레이터 시작')\n",
        "        result = function(text) + \"?\"\n",
        "        print(f'add_question_mark 데코레이터 종료')\n",
        "        return result\n",
        "    return wrapper\n",
        "\n",
        "def add_dot(function):\n",
        "    def wrapper(text):\n",
        "        print(f'add_dot 데코레이터 시작')\n",
        "        result = function(text) + \".\"\n",
        "        print(f'add_dot 데코레이터 종료')\n",
        "        return result\n",
        "    return wrapper"
      ],
      "metadata": {
        "id": "MkXKFjufYszb"
      },
      "execution_count": null,
      "outputs": []
    },
    {
      "cell_type": "code",
      "source": [
        "# 많이 볼 가능성이 낮습니다.\n",
        "\n",
        "def add(n): # 데코레이터를 감싸는 하나의 함수를 더 만들어서 아규먼트를 받는 방법입니다.\n",
        "    def decorator(function): # 여기서부터의 기능은 같습니다.\n",
        "        def new_function(a, b):\n",
        "            print(f'plus 함수가 {n}만큼 증가시키는 데코레이터가 시작됩니다.')\n",
        "            result = function(a, b)\n",
        "            print(result)\n",
        "            print(f'plus 함수가 {n}만큼 증가시키는 데코레이터가 종료됩니다.')\n",
        "            return result + n\n",
        "        return new_function\n",
        "    return decorator\n",
        "\n",
        "@add(1000)\n",
        "def plus(a, b):\n",
        "    print('plus 함수가 호출되었습니다.')\n",
        "    return a + b\n",
        "\n",
        "result = plus(10, 20)\n",
        "print(f'result : {result}')"
      ],
      "metadata": {
        "colab": {
          "base_uri": "https://localhost:8080/"
        },
        "id": "gAVNbIR1aK1K",
        "outputId": "e6277e19-00ef-4773-bdf3-73e4088f3178"
      },
      "execution_count": null,
      "outputs": [
        {
          "output_type": "stream",
          "name": "stdout",
          "text": [
            "plus 함수가 1000만큼 증가시키는 데코레이터가 시작됩니다.\n",
            "plus 함수가 호출되었습니다.\n",
            "30\n",
            "plus 함수가 1000만큼 증가시키는 데코레이터가 종료됩니다.\n",
            "result : 1030\n"
          ]
        }
      ]
    },
    {
      "cell_type": "code",
      "source": [],
      "metadata": {
        "id": "cGXfKyPybobe"
      },
      "execution_count": null,
      "outputs": []
    },
    {
      "cell_type": "markdown",
      "source": [
        "#연습문제"
      ],
      "metadata": {
        "id": "cI9xnaoLBQhM"
      }
    },
    {
      "cell_type": "markdown",
      "source": [
        "![image.png](data:image/png;base64,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)"
      ],
      "metadata": {
        "id": "o8GxtRx8AvcA"
      }
    },
    {
      "cell_type": "code",
      "source": [
        "def find_hypotenuse(a, b, s, r):\n",
        "    return r(s(a) + s(b))\n",
        "\n",
        "def square(value):\n",
        "    return value ** 2\n",
        "\n",
        "def root(value):\n",
        "    return value ** 0.5\n",
        "\n",
        "find_hypotenuse(6, 8, square, root)"
      ],
      "metadata": {
        "colab": {
          "base_uri": "https://localhost:8080/"
        },
        "id": "I-5xLHRi9eWg",
        "outputId": "6ea7b229-31c9-4350-e8cf-72c758a16ce2"
      },
      "execution_count": null,
      "outputs": [
        {
          "output_type": "execute_result",
          "data": {
            "text/plain": [
              "10.0"
            ]
          },
          "metadata": {},
          "execution_count": 34
        }
      ]
    },
    {
      "cell_type": "markdown",
      "source": [
        "#lambda"
      ],
      "metadata": {
        "id": "692PmcC7dtzv"
      }
    },
    {
      "cell_type": "code",
      "source": [
        "# 재사용되지 않는 함수"
      ],
      "metadata": {
        "id": "Pmx3nWiZeHhx"
      },
      "execution_count": null,
      "outputs": []
    },
    {
      "cell_type": "code",
      "source": [
        "square = lambda x: x*x\n",
        "print(square(5))  # 출력: 25"
      ],
      "metadata": {
        "colab": {
          "base_uri": "https://localhost:8080/"
        },
        "id": "olY9aNjnd3_W",
        "outputId": "3f595bfe-2cd2-4bc8-f2df-7adbbb1129e0"
      },
      "execution_count": null,
      "outputs": [
        {
          "output_type": "stream",
          "name": "stdout",
          "text": [
            "25\n"
          ]
        }
      ]
    },
    {
      "cell_type": "code",
      "source": [
        "# 재사용되는 코드\n",
        "def 제곱(x):\n",
        "    return x ** 2\n",
        "\n",
        "list(map(제곱, [1, 2, 3])) + list(map(제곱, [4, 5, 6]))"
      ],
      "metadata": {
        "colab": {
          "base_uri": "https://localhost:8080/"
        },
        "id": "cfL5b9f5Exfq",
        "outputId": "79e1954d-e1cb-4714-d480-c9b8df55edcb"
      },
      "execution_count": null,
      "outputs": [
        {
          "output_type": "execute_result",
          "data": {
            "text/plain": [
              "[1, 4, 9, 16, 25, 36]"
            ]
          },
          "metadata": {},
          "execution_count": 53
        }
      ]
    },
    {
      "cell_type": "code",
      "source": [
        "# 재사용되지 않는 코드\n",
        "\n",
        "list(map(lambda x:x**2, [1, 2, 3]))"
      ],
      "metadata": {
        "colab": {
          "base_uri": "https://localhost:8080/"
        },
        "id": "yczBPuFWEyyA",
        "outputId": "7bd23559-20d0-4c8c-eafd-0ca64a5ad64b"
      },
      "execution_count": null,
      "outputs": [
        {
          "output_type": "execute_result",
          "data": {
            "text/plain": [
              "[1, 4, 9]"
            ]
          },
          "metadata": {},
          "execution_count": 54
        }
      ]
    },
    {
      "cell_type": "markdown",
      "source": [
        "#args, kwargs"
      ],
      "metadata": {
        "id": "zit2MZ6yxy2Q"
      }
    },
    {
      "cell_type": "code",
      "source": [
        "a, b, *c = 10, 20, 30, 40, 50, 60\n",
        "c"
      ],
      "metadata": {
        "colab": {
          "base_uri": "https://localhost:8080/"
        },
        "id": "1i9gyLD9fgx0",
        "outputId": "00ef44f3-5e75-46b9-c8f2-0d4d585dac29"
      },
      "execution_count": null,
      "outputs": [
        {
          "output_type": "execute_result",
          "data": {
            "text/plain": [
              "[30, 40, 50, 60]"
            ]
          },
          "metadata": {},
          "execution_count": 57
        }
      ]
    },
    {
      "cell_type": "code",
      "source": [
        "def print_args(a, b, *args):\n",
        "    print(args)\n",
        "    for x in args:\n",
        "        print(x)\n",
        "\n",
        "print_args(100, True, 'Licat', 'hello', 10)"
      ],
      "metadata": {
        "colab": {
          "base_uri": "https://localhost:8080/"
        },
        "id": "yPl4QPumyOKs",
        "outputId": "a2816976-e33d-480e-b61a-0d8dcb6d6451"
      },
      "execution_count": null,
      "outputs": [
        {
          "output_type": "stream",
          "name": "stdout",
          "text": [
            "('Licat', 'hello', 10)\n",
            "Licat\n",
            "hello\n",
            "10\n"
          ]
        }
      ]
    },
    {
      "cell_type": "code",
      "source": [
        "def print_args(a, b, *args, c): # *args뒤에 일반 변수를 선언하지 못합니다.\n",
        "    print(args)\n",
        "    for x in args:\n",
        "        print(x)\n",
        "\n",
        "print_args(100, True, 'Licat', 'hello', 10)"
      ],
      "metadata": {
        "colab": {
          "base_uri": "https://localhost:8080/",
          "height": 215
        },
        "id": "SCeNEkQIySCn",
        "outputId": "03d99ffe-1433-4ceb-d41a-c23d118ee502"
      },
      "execution_count": null,
      "outputs": [
        {
          "output_type": "error",
          "ename": "TypeError",
          "evalue": "ignored",
          "traceback": [
            "\u001b[0;31m---------------------------------------------------------------------------\u001b[0m",
            "\u001b[0;31mTypeError\u001b[0m                                 Traceback (most recent call last)",
            "\u001b[0;32m<ipython-input-58-e8b4bf8d735b>\u001b[0m in \u001b[0;36m<cell line: 6>\u001b[0;34m()\u001b[0m\n\u001b[1;32m      4\u001b[0m         \u001b[0mprint\u001b[0m\u001b[0;34m(\u001b[0m\u001b[0mx\u001b[0m\u001b[0;34m)\u001b[0m\u001b[0;34m\u001b[0m\u001b[0;34m\u001b[0m\u001b[0m\n\u001b[1;32m      5\u001b[0m \u001b[0;34m\u001b[0m\u001b[0m\n\u001b[0;32m----> 6\u001b[0;31m \u001b[0mprint_args\u001b[0m\u001b[0;34m(\u001b[0m\u001b[0;36m100\u001b[0m\u001b[0;34m,\u001b[0m \u001b[0;32mTrue\u001b[0m\u001b[0;34m,\u001b[0m \u001b[0;34m'Licat'\u001b[0m\u001b[0;34m,\u001b[0m \u001b[0;34m'hello'\u001b[0m\u001b[0;34m,\u001b[0m \u001b[0;36m10\u001b[0m\u001b[0;34m)\u001b[0m\u001b[0;34m\u001b[0m\u001b[0;34m\u001b[0m\u001b[0m\n\u001b[0m",
            "\u001b[0;31mTypeError\u001b[0m: print_args() missing 1 required keyword-only argument: 'c'"
          ]
        }
      ]
    },
    {
      "cell_type": "code",
      "source": [
        "def print_args(a, b, *args, *c): # *args뒤에 또다른 가변 아규먼트를 넣지 못합니다.\n",
        "    print(args)\n",
        "    for x in args:\n",
        "        print(x)\n",
        "\n",
        "print_args(100, True, 'Licat', 'hello', 10)"
      ],
      "metadata": {
        "colab": {
          "base_uri": "https://localhost:8080/",
          "height": 144
        },
        "id": "rehhedDxy5kR",
        "outputId": "e4a3973f-dcf7-4fdb-ffc1-ed191f7490b0"
      },
      "execution_count": null,
      "outputs": [
        {
          "output_type": "error",
          "ename": "SyntaxError",
          "evalue": "ignored",
          "traceback": [
            "\u001b[0;36m  File \u001b[0;32m\"<ipython-input-59-8988b2e95296>\"\u001b[0;36m, line \u001b[0;32m1\u001b[0m\n\u001b[0;31m    def print_args(a, b, *args, *c): # *args뒤에 또다른 가변 아규먼트를 넣지 못합니다.\u001b[0m\n\u001b[0m                                ^\u001b[0m\n\u001b[0;31mSyntaxError\u001b[0m\u001b[0;31m:\u001b[0m invalid syntax\n"
          ]
        }
      ]
    },
    {
      "cell_type": "code",
      "source": [
        "def print_kwargs(a, **kwargs):\n",
        "    print(a)\n",
        "    print(kwargs)\n",
        "    for i in kwargs:\n",
        "        print(i)\n",
        "\n",
        "print_kwargs(100, name='Licat', age='10')"
      ],
      "metadata": {
        "colab": {
          "base_uri": "https://localhost:8080/"
        },
        "id": "yFEGFrxoy7X1",
        "outputId": "0493f914-9bb7-40ac-a20b-56345030c607"
      },
      "execution_count": null,
      "outputs": [
        {
          "output_type": "stream",
          "name": "stdout",
          "text": [
            "100\n",
            "{'name': 'Licat', 'age': '10'}\n",
            "name\n",
            "age\n"
          ]
        }
      ]
    },
    {
      "cell_type": "code",
      "source": [
        "# 눈속임입니다.\n",
        "# *kwargs 이렇게 사용하시면 관습에 어긋납니다.\n",
        "def print_kwargs(*kwargs):\n",
        "    print(kwargs)\n",
        "    for i in kwargs:\n",
        "        print(i)\n",
        "\n",
        "value = {'one':10, 'two':20}\n",
        "print_kwargs(*value)"
      ],
      "metadata": {
        "colab": {
          "base_uri": "https://localhost:8080/"
        },
        "id": "vbXylpEqy8OG",
        "outputId": "b84d4146-9cbe-40e3-8047-0553c212f78d"
      },
      "execution_count": null,
      "outputs": [
        {
          "output_type": "stream",
          "name": "stdout",
          "text": [
            "('one', 'two')\n",
            "one\n",
            "two\n"
          ]
        }
      ]
    },
    {
      "cell_type": "code",
      "source": [
        "def print_kwargs(*args):\n",
        "    print(args)\n",
        "    for i in args:\n",
        "        print(i)\n",
        "\n",
        "value = {'one':10, 'two':20}\n",
        "print_kwargs(*value)"
      ],
      "metadata": {
        "colab": {
          "base_uri": "https://localhost:8080/"
        },
        "id": "xgLfdmEf2WJM",
        "outputId": "e5d19923-fa45-4719-93ad-99229444866c"
      },
      "execution_count": null,
      "outputs": [
        {
          "output_type": "stream",
          "name": "stdout",
          "text": [
            "('one', 'two')\n",
            "one\n",
            "two\n"
          ]
        }
      ]
    },
    {
      "cell_type": "code",
      "source": [
        "def print_kwargs(**kwargs):\n",
        "    print(kwargs)\n",
        "    for i in kwargs:\n",
        "        print(i)\n",
        "\n",
        "value = {'one':10, 'two':20}\n",
        "print_kwargs(**value)"
      ],
      "metadata": {
        "colab": {
          "base_uri": "https://localhost:8080/"
        },
        "id": "TEfYLh8S2XJn",
        "outputId": "a5630ba6-dd4e-41d8-bdf9-c4e55a648f13"
      },
      "execution_count": null,
      "outputs": [
        {
          "output_type": "stream",
          "name": "stdout",
          "text": [
            "{'one': 10, 'two': 20}\n",
            "one\n",
            "two\n"
          ]
        }
      ]
    },
    {
      "cell_type": "code",
      "source": [
        "def func(a, b, *, c, d):\n",
        "    print(a, b, c, d)\n",
        "\n",
        "func(1, 2, c = 3, d = 4)  # 올바른 예시\n",
        "# func(1, 2, 3, d = 4)  # 잘못된 예시\n",
        "# func(1, 2, 3, 4)    # 잘못된 예시"
      ],
      "metadata": {
        "colab": {
          "base_uri": "https://localhost:8080/"
        },
        "id": "iOt_6cUD2UM_",
        "outputId": "5e435e75-af29-4d46-e406-3978272d32db"
      },
      "execution_count": null,
      "outputs": [
        {
          "output_type": "stream",
          "name": "stdout",
          "text": [
            "1 2 3 4\n"
          ]
        }
      ]
    },
    {
      "cell_type": "code",
      "source": [
        "def func(a, b, c):\n",
        "    print(a, b, c)\n",
        "\n",
        "args = (1, 2, 3)\n",
        "func(*args)\n",
        "print(args, *args)\n",
        "\n",
        "kwargs = {'a': 1, 'b': 2, 'c': 3}\n",
        "func(**kwargs)\n",
        "print(kwargs, **kwargs) # error"
      ],
      "metadata": {
        "id": "aQ0qv4GwFJog"
      },
      "execution_count": null,
      "outputs": []
    },
    {
      "cell_type": "code",
      "source": [
        "kwargs = {'a': 1, 'b': 2, 'c': 3}\n",
        "print(kwargs, *kwargs)\n",
        "# print(kwargs, **kwargs) # 왜 에스터리스크가 2개일 때 error가 날까요?\n",
        "# print(kwargs, a=1, b=2, c=3) # 이 코드가 바로 위의 코드와 같습니다."
      ],
      "metadata": {
        "colab": {
          "base_uri": "https://localhost:8080/"
        },
        "id": "b2ekRqIlFL2h",
        "outputId": "5fe1ee22-4a30-4a38-d6d4-567428f5ff4b"
      },
      "execution_count": null,
      "outputs": [
        {
          "output_type": "stream",
          "name": "stdout",
          "text": [
            "{'a': 1, 'b': 2, 'c': 3} a b c\n"
          ]
        }
      ]
    },
    {
      "cell_type": "code",
      "source": [
        "def func(d=100, c=200, b=300, a=400):\n",
        "    print(d, c, b, a)\n",
        "\n",
        "kwargs = {'a': 1, 'b': 2, 'c': 3}\n",
        "func(**kwargs)\n",
        "# func(kwargs, a=1, b=2, c=3) 로 입력이 되었다는 것을 확인할 수 있습니다.\n",
        "# {'a': 1, 'b': 2, 'c': 3} => **kwargs => a=1, b=2, c=3"
      ],
      "metadata": {
        "colab": {
          "base_uri": "https://localhost:8080/"
        },
        "id": "xETUHH0QFSGp",
        "outputId": "321de6d6-08f9-49d9-cd71-11a3a1f24a50"
      },
      "execution_count": null,
      "outputs": [
        {
          "output_type": "stream",
          "name": "stdout",
          "text": [
            "100 3 2 1\n"
          ]
        }
      ]
    },
    {
      "cell_type": "code",
      "source": [
        "# a=1, b=2, c=3 => **kwargs => {'a': 1, 'b': 2, 'c': 3}\n",
        "def func(a=100, **kargs):\n",
        "    print(a, kargs)\n",
        "\n",
        "func(1000, i=1, j=2, k=3)"
      ],
      "metadata": {
        "colab": {
          "base_uri": "https://localhost:8080/"
        },
        "id": "JnmHJW92FS8R",
        "outputId": "a09de411-a990-4ebc-8261-7181c36e0607"
      },
      "execution_count": null,
      "outputs": [
        {
          "output_type": "stream",
          "name": "stdout",
          "text": [
            "1000 {'i': 1, 'j': 2, 'k': 3}\n"
          ]
        }
      ]
    },
    {
      "cell_type": "code",
      "source": [
        "def func(*args):\n",
        "    print(args)\n",
        "\n",
        "func(10, 20, 30)\n",
        "# func(kwargs, a=1, b=2, c=3) 로 입력이 되었다는 것을 확인할 수 있습니다.\n",
        "# 10, 20, 30 => *args => (10, 20, 30)"
      ],
      "metadata": {
        "colab": {
          "base_uri": "https://localhost:8080/"
        },
        "id": "ekk3eWCjFT5_",
        "outputId": "419f465d-b3b9-4c28-8f2c-4907bfbdb38e"
      },
      "execution_count": null,
      "outputs": [
        {
          "output_type": "stream",
          "name": "stdout",
          "text": [
            "(10, 20, 30)\n"
          ]
        }
      ]
    },
    {
      "cell_type": "code",
      "source": [
        "def func(a, b, c):\n",
        "    print(a, b, c)\n",
        "\n",
        "args = (10, 20, 30)\n",
        "func(*args)\n",
        "# func(kwargs, a=1, b=2, c=3) 로 입력이 되었다는 것을 확인할 수 있습니다.\n",
        "# (10, 20, 30) => *args => 10, 20, 30"
      ],
      "metadata": {
        "colab": {
          "base_uri": "https://localhost:8080/"
        },
        "id": "uKjN-Id6FU_v",
        "outputId": "d4e83fad-183c-4017-b85b-e29ca2b84bae"
      },
      "execution_count": null,
      "outputs": [
        {
          "output_type": "stream",
          "name": "stdout",
          "text": [
            "10 20 30\n"
          ]
        }
      ]
    },
    {
      "cell_type": "code",
      "source": [
        "a, b, c = range(3)\n",
        "a"
      ],
      "metadata": {
        "colab": {
          "base_uri": "https://localhost:8080/"
        },
        "id": "WjcGF2o9FWCc",
        "outputId": "78c96c81-6926-4155-8c19-6c443655eeab"
      },
      "execution_count": null,
      "outputs": [
        {
          "output_type": "execute_result",
          "data": {
            "text/plain": [
              "0"
            ]
          },
          "metadata": {},
          "execution_count": 76
        }
      ]
    },
    {
      "cell_type": "code",
      "source": [
        "a, b, c = range(10, 31, 10)\n",
        "a"
      ],
      "metadata": {
        "colab": {
          "base_uri": "https://localhost:8080/"
        },
        "id": "3ErJd66RFXBf",
        "outputId": "188a3e4f-5e0e-4e79-8d44-3abb45429258"
      },
      "execution_count": null,
      "outputs": [
        {
          "output_type": "execute_result",
          "data": {
            "text/plain": [
              "10"
            ]
          },
          "metadata": {},
          "execution_count": 77
        }
      ]
    },
    {
      "cell_type": "code",
      "source": [
        "# *args는 리스트를 묶고 풀고하는 용도로 사용하고\n",
        "# **kargs는 딕셔너리를 묶고 풀고하는 용도로 사용한다고 간단하게 생각해도 괜찮을까요?"
      ],
      "metadata": {
        "colab": {
          "base_uri": "https://localhost:8080/",
          "height": 144
        },
        "id": "nr_tV4175jVP",
        "outputId": "5fdefbf3-9d65-4a4f-cd35-1527270a70dc"
      },
      "execution_count": null,
      "outputs": [
        {
          "output_type": "error",
          "ename": "SyntaxError",
          "evalue": "ignored",
          "traceback": [
            "\u001b[0;36m  File \u001b[0;32m\"<ipython-input-56-af42aa758b76>\"\u001b[0;36m, line \u001b[0;32m1\u001b[0m\n\u001b[0;31m    *args는 리스트를 묶고 풀고하는 용도로 사용하고\u001b[0m\n\u001b[0m           ^\u001b[0m\n\u001b[0;31mSyntaxError\u001b[0m\u001b[0;31m:\u001b[0m invalid syntax\n"
          ]
        }
      ]
    },
    {
      "cell_type": "markdown",
      "source": [
        "#이터레이터"
      ],
      "metadata": {
        "id": "5ZG6PrWXFfOj"
      }
    },
    {
      "cell_type": "code",
      "source": [
        "class MyIterator:\n",
        "    def __init__(self, stop):\n",
        "        self.current_value = 0  # 현재 값\n",
        "        self.stop = stop  # 순회를 멈출 값\n",
        "\n",
        "    def __iter__(self):\n",
        "        return self\n",
        "\n",
        "    def __next__(self):\n",
        "        if self.current_value >= self.stop:\n",
        "            raise StopIteration\n",
        "        result = self.current_value\n",
        "        self.current_value += 1\n",
        "        return result\n",
        "\n",
        "my_iterator = MyIterator(5)\n",
        "\n",
        "for i in my_iterator:\n",
        "    print(i)\n",
        "\n",
        "# '''\n",
        "# for를 만나면 __iter__가 실행이 되고, 반복이 시작되면 __next__를 호출합니다.\n",
        "# '''"
      ],
      "metadata": {
        "colab": {
          "base_uri": "https://localhost:8080/"
        },
        "id": "ZNgffmbW6TKK",
        "outputId": "a7176b23-8839-47a3-f41f-2d342f497955"
      },
      "execution_count": null,
      "outputs": [
        {
          "output_type": "stream",
          "name": "stdout",
          "text": [
            "0\n",
            "1\n",
            "2\n",
            "3\n",
            "4\n"
          ]
        }
      ]
    },
    {
      "cell_type": "code",
      "source": [
        "class MyIterator:\n",
        "    def __init__(self, stop):\n",
        "        self.current_value = 0  # 현재 값\n",
        "        self.stop = stop  # 순회를 멈출 값\n",
        "\n",
        "    def __iter__(self):\n",
        "        return self\n",
        "\n",
        "    def __next__(self):\n",
        "        if self.current_value >= self.stop:\n",
        "            raise StopIteration\n",
        "        result = self.current_value\n",
        "        self.current_value += 1\n",
        "        return result\n",
        "\n",
        "my_iterator = MyIterator(5)\n",
        "\n",
        "for i in my_iterator:\n",
        "    print(i)\n",
        "\n",
        "for i in my_iterator:\n",
        "    print(i)"
      ],
      "metadata": {
        "colab": {
          "base_uri": "https://localhost:8080/"
        },
        "id": "6aqiCRhm6XJA",
        "outputId": "a373aee9-3aa6-4ed7-e7c5-345c02494ef8"
      },
      "execution_count": null,
      "outputs": [
        {
          "output_type": "stream",
          "name": "stdout",
          "text": [
            "0\n",
            "1\n",
            "2\n",
            "3\n",
            "4\n"
          ]
        }
      ]
    },
    {
      "cell_type": "code",
      "source": [
        "class MyIterator:\n",
        "    def __init__(self, stop):\n",
        "        self.stop = stop  # 순회를 멈출 값\n",
        "\n",
        "    def __iter__(self):\n",
        "        self.current_value = 0  # 현재 값\n",
        "        return self\n",
        "\n",
        "    def __next__(self):\n",
        "        if self.current_value >= self.stop:\n",
        "            raise StopIteration\n",
        "        result = self.current_value\n",
        "        self.current_value += 1\n",
        "        return result\n",
        "\n",
        "my_iterator = MyIterator(5)\n",
        "\n",
        "for i in my_iterator:\n",
        "    print(i)\n",
        "\n",
        "for i in my_iterator:\n",
        "    print(i)"
      ],
      "metadata": {
        "colab": {
          "base_uri": "https://localhost:8080/"
        },
        "id": "XQAYWo3Y_2fP",
        "outputId": "fcb14db7-aa7c-44e0-e21d-df7722ee136e"
      },
      "execution_count": null,
      "outputs": [
        {
          "output_type": "stream",
          "name": "stdout",
          "text": [
            "0\n",
            "1\n",
            "2\n",
            "3\n",
            "4\n",
            "0\n",
            "1\n",
            "2\n",
            "3\n",
            "4\n"
          ]
        }
      ]
    },
    {
      "cell_type": "code",
      "source": [
        "class MyIterator:\n",
        "    def __init__(self, stop):\n",
        "        self.stop = stop  # 순회를 멈출 값\n",
        "\n",
        "    def __iter__(self):\n",
        "        self.current_value = 0  # 현재 값\n",
        "        return self\n",
        "\n",
        "    def __next__(self):\n",
        "        if self.current_value >= self.stop:\n",
        "            raise StopIteration\n",
        "        result = self.current_value\n",
        "        self.current_value += 1\n",
        "        return result\n",
        "\n",
        "my_iterator = MyIterator(5)\n",
        "i = iter(my_iterator) # 여기서부터\n",
        "print(next(i))\n",
        "print(next(i))\n",
        "print(next(i))\n",
        "print(next(i))\n",
        "print(next(i))\n",
        "# print(next(i)) #error  # 여기까지가 for에 작동 원리 입니다."
      ],
      "metadata": {
        "colab": {
          "base_uri": "https://localhost:8080/"
        },
        "id": "niyqTBfWF0Hg",
        "outputId": "f0763c24-de2b-4edd-fd5b-61356468adf6"
      },
      "execution_count": null,
      "outputs": [
        {
          "output_type": "stream",
          "name": "stdout",
          "text": [
            "0\n",
            "1\n",
            "2\n",
            "3\n",
            "4\n"
          ]
        }
      ]
    },
    {
      "cell_type": "code",
      "source": [
        "class MyIterator:\n",
        "    def __init__(self, stop):\n",
        "        self.stop = stop  # 순회를 멈출 값\n",
        "\n",
        "    def __iter__(self):\n",
        "        self.current_value = 0  # 현재 값\n",
        "        return self    # [10, 20, 30] 넣으면 error\n",
        "\n",
        "    def __next__(self):\n",
        "        if self.current_value >= self.stop:\n",
        "            raise StopIteration\n",
        "        result = self.current_value\n",
        "        self.current_value += 1\n",
        "        return result\n",
        "\n",
        "my_iterator = MyIterator(5)\n",
        "\n",
        "for i in my_iterator:\n",
        "    print(i)"
      ],
      "metadata": {
        "colab": {
          "base_uri": "https://localhost:8080/"
        },
        "id": "E-kJOxQfF7Sn",
        "outputId": "44ff735c-b3be-4c35-924f-4d1c241df196"
      },
      "execution_count": null,
      "outputs": [
        {
          "output_type": "stream",
          "name": "stdout",
          "text": [
            "0\n",
            "1\n",
            "2\n",
            "3\n",
            "4\n"
          ]
        }
      ]
    },
    {
      "cell_type": "markdown",
      "source": [
        "#제너레이터"
      ],
      "metadata": {
        "id": "gH_goshWBHpd"
      }
    },
    {
      "cell_type": "code",
      "source": [
        "def my_generator(data):\n",
        "    for i in data:\n",
        "        yield i\n",
        "\n",
        "my_list = [1, 2, 3, 4, 5]\n",
        "my_iterator = my_generator(my_list)\n",
        "\n",
        "for i in my_iterator: # my_iterator는 함수의 return값이어야 하는데?\n",
        "    print(i)"
      ],
      "metadata": {
        "colab": {
          "base_uri": "https://localhost:8080/"
        },
        "id": "1sCIdirfCZ2y",
        "outputId": "7a110ae6-c1d5-43c4-9c20-194020f6f249"
      },
      "execution_count": null,
      "outputs": [
        {
          "output_type": "stream",
          "name": "stdout",
          "text": [
            "1\n",
            "2\n",
            "3\n",
            "4\n",
            "5\n"
          ]
        }
      ]
    },
    {
      "cell_type": "code",
      "source": [
        "# 이것이 좀 더 이해하기 좋으실겁니다.\n",
        "\n",
        "def my_generator(data):\n",
        "    for i in data:\n",
        "        yield i * 10\n",
        "\n",
        "for i in my_generator([1, 2, 3]):\n",
        "    print(i)"
      ],
      "metadata": {
        "colab": {
          "base_uri": "https://localhost:8080/"
        },
        "id": "60DYeZDI_3nR",
        "outputId": "a06444fb-d97e-4c4c-c3a5-47ecb2926dd2"
      },
      "execution_count": null,
      "outputs": [
        {
          "output_type": "stream",
          "name": "stdout",
          "text": [
            "10\n",
            "20\n",
            "30\n"
          ]
        }
      ]
    },
    {
      "cell_type": "code",
      "source": [
        "# 이것이 좀 더 이해하기 좋으실겁니다.\n",
        "\n",
        "def my_generator():\n",
        "    x = 10\n",
        "    yield x\n",
        "    x = 20\n",
        "    yield x\n",
        "    x = 30\n",
        "    yield x\n",
        "    return\n",
        "    x = 40\n",
        "    yield x\n",
        "\n",
        "for i in my_generator():\n",
        "    print(i)"
      ],
      "metadata": {
        "colab": {
          "base_uri": "https://localhost:8080/"
        },
        "id": "O2HDGRHwGe-w",
        "outputId": "b4b0647d-d722-4931-e02c-351fc6d87475"
      },
      "execution_count": null,
      "outputs": [
        {
          "output_type": "stream",
          "name": "stdout",
          "text": [
            "10\n",
            "20\n",
            "30\n"
          ]
        }
      ]
    },
    {
      "cell_type": "code",
      "source": [
        "# 이럴때 많이 사용합니다.\n",
        "def my_generator():\n",
        "    l = ['짝', '홀']\n",
        "    t = False\n",
        "    while True:\n",
        "        yield l[t]\n",
        "        t = True\n",
        "        yield l[t]\n",
        "        t = False\n",
        "\n",
        "list(zip([0, 1, 2, 3, 4, 5, 6], my_generator()))"
      ],
      "metadata": {
        "colab": {
          "base_uri": "https://localhost:8080/"
        },
        "id": "KnAl-yh-CWtv",
        "outputId": "a6ff1c15-3d22-454e-c78a-cc0ac006be85"
      },
      "execution_count": null,
      "outputs": [
        {
          "output_type": "execute_result",
          "data": {
            "text/plain": [
              "[(0, '짝'), (1, '홀'), (2, '짝'), (3, '홀'), (4, '짝'), (5, '홀'), (6, '짝')]"
            ]
          },
          "metadata": {},
          "execution_count": 96
        }
      ]
    },
    {
      "cell_type": "code",
      "source": [
        "# 이럴때 많이 사용합니다.\n",
        "def my_generator():\n",
        "    l = ['짝', '홀']\n",
        "    while True:\n",
        "        yield l[t := False]\n",
        "        yield l[t := True]\n",
        "\n",
        "list(zip([0, 1, 2, 3, 4, 5, 6], my_generator()))"
      ],
      "metadata": {
        "colab": {
          "base_uri": "https://localhost:8080/"
        },
        "id": "aPis7svFEkTz",
        "outputId": "5cde1946-1ac9-429b-8a5b-da16b0b6ddc6"
      },
      "execution_count": null,
      "outputs": [
        {
          "output_type": "execute_result",
          "data": {
            "text/plain": [
              "[(0, '짝'), (1, '홀'), (2, '짝'), (3, '홀'), (4, '짝'), (5, '홀'), (6, '짝')]"
            ]
          },
          "metadata": {},
          "execution_count": 97
        }
      ]
    },
    {
      "cell_type": "code",
      "source": [
        "def my_generator():\n",
        "    count = 1\n",
        "    while True:\n",
        "        yield count\n",
        "        count += 1\n",
        "list(zip(['A', 'B', 'C'], my_generator())) # 마치 enumerate처럼"
      ],
      "metadata": {
        "colab": {
          "base_uri": "https://localhost:8080/"
        },
        "id": "wR-d9u7xGrG6",
        "outputId": "fff6f59d-0314-4de1-849a-b385a8cbe660"
      },
      "execution_count": null,
      "outputs": [
        {
          "output_type": "execute_result",
          "data": {
            "text/plain": [
              "[('A', 1), ('B', 2), ('C', 3)]"
            ]
          },
          "metadata": {},
          "execution_count": 98
        }
      ]
    },
    {
      "cell_type": "code",
      "source": [
        "def my_generator():\n",
        "    count = 0\n",
        "    while True:\n",
        "        yield count\n",
        "        count += 2  # 2로 변경됨\n",
        "list(zip(['A', 'B', 'C'], my_generator())) # 마치 enumerate처럼"
      ],
      "metadata": {
        "colab": {
          "base_uri": "https://localhost:8080/"
        },
        "id": "3J_ZSHvhGr0E",
        "outputId": "82f53a7b-c5fa-4753-c2bf-f943ac4af28a"
      },
      "execution_count": null,
      "outputs": [
        {
          "output_type": "execute_result",
          "data": {
            "text/plain": [
              "[('A', 0), ('B', 2), ('C', 4)]"
            ]
          },
          "metadata": {},
          "execution_count": 99
        }
      ]
    },
    {
      "cell_type": "code",
      "source": [
        "def my_generator():\n",
        "    count = 0\n",
        "    while True:\n",
        "        yield count\n",
        "        count += 2\n",
        "list(zip([1, 2, 3, 4, 5, 6, 7, 8, 9], 'hello world', my_generator())) # 마치 enumerate처럼"
      ],
      "metadata": {
        "colab": {
          "base_uri": "https://localhost:8080/"
        },
        "id": "3Z5m5lydEmeX",
        "outputId": "5c6afb57-8826-499b-e0f2-6adca3432904"
      },
      "execution_count": null,
      "outputs": [
        {
          "output_type": "execute_result",
          "data": {
            "text/plain": [
              "[(1, 'h', 0),\n",
              " (2, 'e', 2),\n",
              " (3, 'l', 4),\n",
              " (4, 'l', 6),\n",
              " (5, 'o', 8),\n",
              " (6, ' ', 10),\n",
              " (7, 'w', 12),\n",
              " (8, 'o', 14),\n",
              " (9, 'r', 16)]"
            ]
          },
          "metadata": {},
          "execution_count": 65
        }
      ]
    },
    {
      "cell_type": "code",
      "source": [
        "def my_generator():\n",
        "    count = 0\n",
        "    while True:\n",
        "        yield count\n",
        "        count += 2\n",
        "print(list(zip(['A', 'B', 'C'], my_generator())))\n",
        "print(list(zip(['A', 'B', 'C'], my_generator())))"
      ],
      "metadata": {
        "colab": {
          "base_uri": "https://localhost:8080/"
        },
        "id": "rt_Fp25YG1Xe",
        "outputId": "849abb70-edda-455e-b1f4-9ef37044f10f"
      },
      "execution_count": null,
      "outputs": [
        {
          "output_type": "stream",
          "name": "stdout",
          "text": [
            "[('A', 0), ('B', 2), ('C', 4)]\n",
            "[('A', 0), ('B', 2), ('C', 4)]\n"
          ]
        }
      ]
    },
    {
      "cell_type": "code",
      "source": [
        "gen = (i for i in range(2, 11, 2))\n",
        "for i in gen:\n",
        "    print(i)"
      ],
      "metadata": {
        "colab": {
          "base_uri": "https://localhost:8080/"
        },
        "id": "ohxjyONMFRJF",
        "outputId": "a6dbe47b-1d9f-4a64-af58-a095901f6907"
      },
      "execution_count": null,
      "outputs": [
        {
          "output_type": "stream",
          "name": "stdout",
          "text": [
            "2\n",
            "4\n",
            "6\n",
            "8\n",
            "10\n"
          ]
        }
      ]
    },
    {
      "cell_type": "markdown",
      "source": [
        "#연습문제"
      ],
      "metadata": {
        "id": "hWAraSMfIXPF"
      }
    },
    {
      "cell_type": "code",
      "source": [
        "# 회전초밥집에 들어갔습니다. 초밥은 아래와 같은 양식으로 나옵니다.\n",
        "# [['광어초밥', 1000], ['연어초밥', 2000], ['계란초밥', 3000]]\n",
        "# * 각 초밥은 몇 개 나올지 알 수 없습니다.\n",
        "# * 각 초밥은 1000원씩 비싸집니다.\n",
        "# * 초밥에 '어'가 나오는 초밥만 먹습니다.\n",
        "# 내가 먹은 초밥의 비용을 계산하는 코드를 작성해 주세요.\n",
        "\n",
        "def solution(data):\n",
        "    total = 0\n",
        "\n",
        "    for sushi, cost in data:\n",
        "        if '어' in sushi:\n",
        "            total += cost\n",
        "\n",
        "    return total\n",
        "\n",
        "sushi_cost = [['광어초밥', 1000], ['연어초밥', 2000], ['계란초밥', 3000], ['문어초밥', 4000], ['장어초밥', 5000]]\n",
        "total = solution(sushi_cost)\n",
        "print(f'먹은 초밥의 비용: {total}')"
      ],
      "metadata": {
        "colab": {
          "base_uri": "https://localhost:8080/"
        },
        "id": "HVDGerb_Gkdo",
        "outputId": "eda162fb-9bf1-4181-cab7-2e89f57def6e"
      },
      "execution_count": null,
      "outputs": [
        {
          "output_type": "stream",
          "name": "stdout",
          "text": [
            "먹은 초밥의 비용: 12000\n"
          ]
        }
      ]
    },
    {
      "cell_type": "code",
      "source": [
        "#강사님 풀이\n",
        "\n",
        "def gen(data):\n",
        "    for name, price in data:\n",
        "        if '어' in name:\n",
        "            yield price\n",
        "\n",
        "def solution(data):\n",
        "    return sum(gen(data))\n",
        "\n",
        "solution([['광어초밥', 1000], ['연어초밥', 2000], ['계란초밥', 3000], ['문어초밥', 4000], ['장어초밥', 5000]])"
      ],
      "metadata": {
        "colab": {
          "base_uri": "https://localhost:8080/"
        },
        "id": "wvFwEeN6HDYt",
        "outputId": "eaffd455-1975-4539-c326-d8c34b661be5"
      },
      "execution_count": null,
      "outputs": [
        {
          "output_type": "execute_result",
          "data": {
            "text/plain": [
              "12000"
            ]
          },
          "metadata": {},
          "execution_count": 104
        }
      ]
    },
    {
      "cell_type": "markdown",
      "source": [
        "# nonlocal"
      ],
      "metadata": {
        "id": "-uFkUW5qRvGI"
      }
    },
    {
      "cell_type": "code",
      "source": [
        "x = 100\n",
        "def outer():\n",
        "    x = 1\n",
        "    def inner():\n",
        "        nonlocal x\n",
        "        x += 1\n",
        "        print(x) # 출력: 2\n",
        "    inner()\n",
        "    print(x) # 출력: 2\n",
        "\n",
        "outer()\n",
        "print(x) # 출력: 100"
      ],
      "metadata": {
        "colab": {
          "base_uri": "https://localhost:8080/"
        },
        "id": "wVLvDxGlUYgl",
        "outputId": "c81ebe69-645a-47c1-e4ab-fa56d20162ab"
      },
      "execution_count": null,
      "outputs": [
        {
          "output_type": "stream",
          "name": "stdout",
          "text": [
            "2\n",
            "2\n",
            "100\n"
          ]
        }
      ]
    },
    {
      "cell_type": "code",
      "source": [
        "x = 100\n",
        "def outer():\n",
        "    x = 1\n",
        "    def inner():\n",
        "        global x\n",
        "        x += 1\n",
        "        print(x) # 출력: 101\n",
        "    inner()\n",
        "    print(x) # 출력: 1\n",
        "\n",
        "outer()\n",
        "print(x) # 출력: 101"
      ],
      "metadata": {
        "colab": {
          "base_uri": "https://localhost:8080/"
        },
        "id": "uFvhKEupHIKJ",
        "outputId": "26fe14f9-f4dc-4c6a-b4b6-cfe356c932eb"
      },
      "execution_count": null,
      "outputs": [
        {
          "output_type": "stream",
          "name": "stdout",
          "text": [
            "101\n",
            "1\n",
            "101\n"
          ]
        }
      ]
    },
    {
      "cell_type": "code",
      "source": [
        "x = 100\n",
        "def outer():\n",
        "    x = 1\n",
        "    def inner():\n",
        "        # x += 1 # error\n",
        "        print(x) # 출력: 2\n",
        "    inner()\n",
        "    print(x) # 출력: 2\n",
        "\n",
        "outer()\n",
        "print(x) # 출력: 100"
      ],
      "metadata": {
        "colab": {
          "base_uri": "https://localhost:8080/"
        },
        "id": "rq-usWK4HJ9F",
        "outputId": "0dbb44d2-e827-4283-807b-f62332f457a7"
      },
      "execution_count": null,
      "outputs": [
        {
          "output_type": "stream",
          "name": "stdout",
          "text": [
            "1\n",
            "1\n",
            "100\n"
          ]
        }
      ]
    },
    {
      "cell_type": "markdown",
      "source": [
        "#zip이 사라지는 이유"
      ],
      "metadata": {
        "id": "aoRkKJEtHPyI"
      }
    },
    {
      "cell_type": "code",
      "source": [
        "a = [1, 2, 3]\n",
        "b = ['a', 'b', 'c']\n",
        "\n",
        "z = zip(a, b)\n",
        "print(list(z)) # [(1, 'a'), (2, 'b'), (3, 'c')]\n",
        "\n",
        "# zip 객체는 한 번 사용되었으므로 빈 리스트가 반환됩니다.\n",
        "print(list(z)) # []"
      ],
      "metadata": {
        "colab": {
          "base_uri": "https://localhost:8080/"
        },
        "id": "f-A7RBuIUYwU",
        "outputId": "2d47e588-347a-4d5d-ffcd-6a6b1c7d4be3"
      },
      "execution_count": null,
      "outputs": [
        {
          "output_type": "stream",
          "name": "stdout",
          "text": [
            "[(1, 'a'), (2, 'b'), (3, 'c')]\n",
            "[]\n"
          ]
        }
      ]
    },
    {
      "cell_type": "code",
      "source": [
        "x = [1, 2, 3]\n",
        "y = sorted(x)\n",
        "\n",
        "for i in y:\n",
        "    print(i)\n",
        "\n",
        "for i in y:\n",
        "    print(i)\n",
        "\n",
        "y # 심지어 리스트로 나옵니다!? zip, map 너무 차별하는 것 아닐까요?"
      ],
      "metadata": {
        "colab": {
          "base_uri": "https://localhost:8080/"
        },
        "id": "Yle6yclhHUKn",
        "outputId": "59d4b280-376e-4eed-f48a-408db189fb5c"
      },
      "execution_count": null,
      "outputs": [
        {
          "output_type": "stream",
          "name": "stdout",
          "text": [
            "1\n",
            "2\n",
            "3\n",
            "1\n",
            "2\n",
            "3\n"
          ]
        },
        {
          "output_type": "execute_result",
          "data": {
            "text/plain": [
              "[1, 2, 3]"
            ]
          },
          "metadata": {},
          "execution_count": 112
        }
      ]
    },
    {
      "cell_type": "markdown",
      "source": [
        "#연습문제"
      ],
      "metadata": {
        "id": "VlRXi1segjOB"
      }
    },
    {
      "cell_type": "code",
      "source": [
        "# value swap\n",
        "# pre, next = next, temp\n",
        "# 다른언어\n",
        "temp = a\n",
        "a = b\n",
        "b = temp\n",
        "# 파이썬\n",
        "a, b = b, a"
      ],
      "metadata": {
        "id": "6YYMNZYXHe53"
      },
      "execution_count": null,
      "outputs": []
    },
    {
      "cell_type": "code",
      "source": [
        "# 문제1\n",
        "# 다음과 같이 동작하는 제너레이터 함수 fibonacci(n)를 완성하세요.\n",
        "# 주어진 숫자 n까지의 피보나치 수열을 반환합니다.\n",
        "# 인터넷에서 피보나치 순열 Python 코드를 검색해보셔도 좋습니다.\n",
        "\n",
        "def fib(n):\n",
        "    pass\n",
        "\n",
        "for i in fib(5):\n",
        "    print(i)\n",
        "\n",
        "# '''\n",
        "# 출력\n",
        "# 1\n",
        "# 1\n",
        "# 2\n",
        "# 3\n",
        "# 5\n",
        "# '''\n",
        "\n",
        "# 문제2\n",
        "# 주어진 함수의 실행 시간을 측정하여 출력하는 데코레이터 time_it를 작성하세요.\n",
        "# (힌트: time 모듈의 time() 함수를 사용하세요.)"
      ],
      "metadata": {
        "id": "57jHh-qaUaLz"
      },
      "execution_count": null,
      "outputs": []
    },
    {
      "cell_type": "code",
      "source": [
        "# 문제1\n",
        "# 다음과 같이 동작하는 제너레이터 함수 fibonacci(n)를 완성하세요.\n",
        "# 주어진 숫자 n까지의 피보나치 수열을 반환합니다.\n",
        "# 인터넷에서 피보나치 순열 Python 코드를 검색해보셔도 좋습니다.\n",
        "\n",
        "def fibo(n):\n",
        "    a, b = 0, 1\n",
        "    for i in range(n):\n",
        "        yield a\n",
        "        a, b = b, a + b\n",
        "\n",
        "for j in fibo(5):\n",
        "    print(j)"
      ],
      "metadata": {
        "colab": {
          "base_uri": "https://localhost:8080/"
        },
        "id": "J6FGnw7Egkza",
        "outputId": "8e10a890-5947-4e69-9e60-3c59c8710f9b"
      },
      "execution_count": null,
      "outputs": [
        {
          "output_type": "stream",
          "name": "stdout",
          "text": [
            "0\n",
            "1\n",
            "1\n",
            "2\n",
            "3\n"
          ]
        }
      ]
    },
    {
      "cell_type": "code",
      "source": [
        "# 강사님 풀이\n",
        "\n",
        "def fib(n):\n",
        "    pre = 1\n",
        "    next = 1\n",
        "    count = 0\n",
        "    while True:\n",
        "        temp = pre + next\n",
        "        yield pre\n",
        "        pre, next = next, temp\n",
        "        count += 1\n",
        "        if count == n:\n",
        "            break\n",
        "\n",
        "for i in fib(5):\n",
        "    print(i)"
      ],
      "metadata": {
        "colab": {
          "base_uri": "https://localhost:8080/"
        },
        "id": "QfxKr3hZHizy",
        "outputId": "c10fd75d-7c9e-4179-b5dd-f776ee8d2dcf"
      },
      "execution_count": null,
      "outputs": [
        {
          "output_type": "stream",
          "name": "stdout",
          "text": [
            "1\n",
            "1\n",
            "2\n",
            "3\n",
            "5\n"
          ]
        }
      ]
    },
    {
      "cell_type": "code",
      "source": [
        "# 문제2\n",
        "# 주어진 함수의 실행 시간을 측정하여 출력하는 데코레이터 time_it를 작성하세요.\n",
        "# (힌트: time 모듈의 time() 함수를 사용하세요.)\n",
        "import time\n",
        "\n",
        "def time_it(function):\n",
        "    def wrapper(*args):\n",
        "        start = time.time()\n",
        "        result=function(*args)\n",
        "        end = time.time()\n",
        "        print(f'시간: {end - start: .4f} 초')\n",
        "        return result\n",
        "    return wrapper\n",
        "\n",
        "def fibo(n):\n",
        "    a, b = 1, 1\n",
        "    for i in range(n):\n",
        "        yield a\n",
        "        a, b = b, a + b\n",
        "\n",
        "@time_it\n",
        "def result(n):\n",
        "    for j in fibo(5):\n",
        "        print(j)\n",
        "\n",
        "result(5)"
      ],
      "metadata": {
        "colab": {
          "base_uri": "https://localhost:8080/"
        },
        "id": "UYa4vJmOguuI",
        "outputId": "0c01d4b4-a0cc-4c88-8529-005b0592b111"
      },
      "execution_count": null,
      "outputs": [
        {
          "output_type": "stream",
          "name": "stdout",
          "text": [
            "1\n",
            "1\n",
            "2\n",
            "3\n",
            "5\n",
            "시간:  0.0002 초\n"
          ]
        }
      ]
    },
    {
      "cell_type": "code",
      "source": [
        "# 강사님 풀이\n",
        "\n",
        "import time\n",
        "\n",
        "def time_it(func):\n",
        "    def wrapper():\n",
        "        start_time = time.time()\n",
        "        func()\n",
        "        end_time = time.time()\n",
        "        print(f\"{end_time - start_time:.4f}s\")\n",
        "    return wrapper\n",
        "\n",
        "@time_it\n",
        "def main():\n",
        "    def fib(n):\n",
        "        pre = 1\n",
        "        next = 1\n",
        "        count = 0\n",
        "        while True:\n",
        "            temp = pre + next\n",
        "            yield pre\n",
        "            pre, next = next, temp\n",
        "            count += 1\n",
        "            if count == n:\n",
        "                break\n",
        "\n",
        "    for i in fib(5):\n",
        "        print(i)\n",
        "\n",
        "main()"
      ],
      "metadata": {
        "colab": {
          "base_uri": "https://localhost:8080/"
        },
        "id": "eT-GXMFWHus7",
        "outputId": "3d867cbd-50cc-42c1-ad8d-d70fb96d1839"
      },
      "execution_count": null,
      "outputs": [
        {
          "output_type": "stream",
          "name": "stdout",
          "text": [
            "1\n",
            "1\n",
            "2\n",
            "3\n",
            "5\n",
            "0.0123s\n"
          ]
        }
      ]
    },
    {
      "cell_type": "markdown",
      "source": [
        "#파이썬 버전별 문법"
      ],
      "metadata": {
        "id": "3FlTuHOiIAbx"
      }
    },
    {
      "cell_type": "code",
      "source": [
        "def fetch_smalltable_rows(\n",
        "    table_handle: smalltable.Table,\n",
        "    keys: Sequence[bytes | str],\n",
        "    require_all_keys: bool = False,\n",
        ") -> Mapping[bytes, tuple[str, ...]]:\n",
        "    \"\"\"Fetches rows from a Smalltable.\n",
        "\n",
        "    Retrieves rows pertaining to the given keys from the Table instance\n",
        "    represented by table_handle.  String keys will be UTF-8 encoded.\n",
        "\n",
        "    Args:\n",
        "        table_handle: An open smalltable.Table instance.\n",
        "        keys: A sequence of strings representing the key of each table\n",
        "          row to fetch.  String keys will be UTF-8 encoded.\n",
        "        require_all_keys: If True only rows with values set for all keys will be\n",
        "          returned.\n",
        "\n",
        "    Returns:\n",
        "        A dict mapping keys to the corresponding table row data\n",
        "        fetched. Each row is represented as a tuple of strings. For\n",
        "        example:\n",
        "\n",
        "        {b'Serak': ('Rigel VII', 'Preparer'),\n",
        "         b'Zim': ('Irk', 'Invader'),\n",
        "         b'Lrrr': ('Omicron Persei 8', 'Emperor')}\n",
        "\n",
        "        Returned keys are always bytes.  If a key from the keys argument is\n",
        "        missing from the dictionary, then that row was not found in the\n",
        "        table (and require_all_keys must have been False).\n",
        "\n",
        "    Raises:\n",
        "        IOError: An error occurred accessing the smalltable.\n",
        "    \"\"\""
      ],
      "metadata": {
        "id": "lRYaFliDIEVo"
      },
      "execution_count": null,
      "outputs": []
    },
    {
      "cell_type": "code",
      "source": [
        "# 3.6 버전\n",
        "def greet(name: str) -> str:\n",
        "    return f'Hello, {name}'\n",
        "\n",
        "greet(10)"
      ],
      "metadata": {
        "colab": {
          "base_uri": "https://localhost:8080/",
          "height": 36
        },
        "id": "ogieK-PUclXc",
        "outputId": "638a2a25-5055-4baf-ad5f-3fb5cbe0ce9b"
      },
      "execution_count": 4,
      "outputs": [
        {
          "output_type": "execute_result",
          "data": {
            "text/plain": [
              "'Hello, 10'"
            ],
            "application/vnd.google.colaboratory.intrinsic+json": {
              "type": "string"
            }
          },
          "metadata": {},
          "execution_count": 4
        }
      ]
    },
    {
      "cell_type": "code",
      "source": [
        "# 3.6 버전\n",
        "def greet(name):\n",
        "    '''\n",
        "    인사를 하는 함수입니다.\n",
        "\n",
        "    이 함수는 name 인자로 받아 name과 함께 인사를 하는 함수입니다~~\n",
        "\n",
        "    Args:\n",
        "        a(str): 블라블라\n",
        "        b(int): 블라블라\n",
        "\n",
        "    Returns:\n",
        "        리턴은 이런식입니다.\n",
        "        example: [1, 2, 3]\n",
        "\n",
        "    Raises:\n",
        "        IOError: 애러 블라블라\n",
        "    '''\n",
        "    return f'Hello, {name}'\n",
        "\n",
        "greet(10)"
      ],
      "metadata": {
        "colab": {
          "base_uri": "https://localhost:8080/",
          "height": 36
        },
        "id": "U4_0cHQ-cmyd",
        "outputId": "47ee183a-2e68-4810-d9fc-74485ff7d551"
      },
      "execution_count": 6,
      "outputs": [
        {
          "output_type": "execute_result",
          "data": {
            "text/plain": [
              "'Hello, 10'"
            ],
            "application/vnd.google.colaboratory.intrinsic+json": {
              "type": "string"
            }
          },
          "metadata": {},
          "execution_count": 6
        }
      ]
    },
    {
      "cell_type": "code",
      "source": [
        "greet.__doc__"
      ],
      "metadata": {
        "colab": {
          "base_uri": "https://localhost:8080/",
          "height": 72
        },
        "id": "Vex0ZB-lcomP",
        "outputId": "ae4d38d2-212e-4757-8081-e26d43993839"
      },
      "execution_count": 7,
      "outputs": [
        {
          "output_type": "execute_result",
          "data": {
            "text/plain": [
              "'\\n    인사를 하는 함수입니다.\\n\\n    이 함수는 name 인자로 받아 name과 함께 인사를 하는 함수입니다~~\\n\\n    Args:\\n        a(str): 블라블라\\n        b(int): 블라블라\\n\\n    Returns:\\n        리턴은 이런식입니다.\\n        example: [1, 2, 3]\\n\\n    Raises:\\n        IOError: 애러 블라블라\\n    '"
            ],
            "application/vnd.google.colaboratory.intrinsic+json": {
              "type": "string"
            }
          },
          "metadata": {},
          "execution_count": 7
        }
      ]
    },
    {
      "cell_type": "code",
      "source": [
        "# 3.6 버전\n",
        "# 이 함수는 블라블라\n",
        "def greet(name):\n",
        "    return f'Hello, {name}'\n",
        "\n",
        "greet(10)\n",
        "greet.__doc__"
      ],
      "metadata": {
        "id": "GwTJ7Ud3cozz"
      },
      "execution_count": 8,
      "outputs": []
    },
    {
      "cell_type": "code",
      "source": [
        "# 3.6 버전\n",
        "name = 'Alice'\n",
        "print(f'Hello, {name}')"
      ],
      "metadata": {
        "colab": {
          "base_uri": "https://localhost:8080/"
        },
        "id": "oWlfzuQvcpwA",
        "outputId": "cf6f8670-1e56-4e05-af54-7f624ff1efdb"
      },
      "execution_count": 9,
      "outputs": [
        {
          "output_type": "stream",
          "name": "stdout",
          "text": [
            "Hello, Alice\n"
          ]
        }
      ]
    },
    {
      "cell_type": "code",
      "source": [
        "# 3.7 버전\n",
        "from dataclasses import dataclass\n",
        "\n",
        "@dataclass\n",
        "class User:\n",
        "    id: int\n",
        "    name: str\n",
        "    email : str\n",
        "\n",
        "user = User(123, 'hojun', 'hojun@gmail')\n",
        "user"
      ],
      "metadata": {
        "colab": {
          "base_uri": "https://localhost:8080/"
        },
        "id": "23lmgFjZcqu0",
        "outputId": "aaf4ecfd-1496-4a2c-b14c-18da499a126d"
      },
      "execution_count": 10,
      "outputs": [
        {
          "output_type": "execute_result",
          "data": {
            "text/plain": [
              "User(id=123, name='hojun', email='hojun@gmail')"
            ]
          },
          "metadata": {},
          "execution_count": 10
        }
      ]
    },
    {
      "cell_type": "code",
      "source": [
        "# 3.8\n",
        "(x := 10) * 3"
      ],
      "metadata": {
        "colab": {
          "base_uri": "https://localhost:8080/"
        },
        "id": "5gzNkyftcsGY",
        "outputId": "5322a52f-fbf5-4d4f-a509-d677464983d7"
      },
      "execution_count": 11,
      "outputs": [
        {
          "output_type": "execute_result",
          "data": {
            "text/plain": [
              "30"
            ]
          },
          "metadata": {},
          "execution_count": 11
        }
      ]
    },
    {
      "cell_type": "code",
      "source": [
        "x"
      ],
      "metadata": {
        "colab": {
          "base_uri": "https://localhost:8080/"
        },
        "id": "dW-AHcc3c2c0",
        "outputId": "84f51982-4791-4dc7-bf8c-e4584362c6e3"
      },
      "execution_count": 13,
      "outputs": [
        {
          "output_type": "execute_result",
          "data": {
            "text/plain": [
              "10"
            ]
          },
          "metadata": {},
          "execution_count": 13
        }
      ]
    },
    {
      "cell_type": "code",
      "source": [
        "# 3.9\n",
        "# 딕셔너리 결합 이제 됩니다!\n",
        "x = {\"key1\": \"value1\"}\n",
        "y = {\"key2\": \"value2\"}\n",
        "z = x | y\n",
        "z"
      ],
      "metadata": {
        "colab": {
          "base_uri": "https://localhost:8080/"
        },
        "id": "maCAuGSvc2IC",
        "outputId": "003e9be6-2bd6-42ac-a877-25cdf50f8790"
      },
      "execution_count": 14,
      "outputs": [
        {
          "output_type": "execute_result",
          "data": {
            "text/plain": [
              "{'key1': 'value1', 'key2': 'value2'}"
            ]
          },
          "metadata": {},
          "execution_count": 14
        }
      ]
    },
    {
      "cell_type": "code",
      "source": [
        "# {\"key1\": \"value1\"} + {\"key2\": \"value2\"}          #error\n",
        "# {\"key1\": \"value1\"}.append({\"key2\": \"value2\"})    #error\n",
        "x = {\"key1\": \"value1\"}\n",
        "x.update({\"key2\": \"value2\"})\n",
        "x"
      ],
      "metadata": {
        "colab": {
          "base_uri": "https://localhost:8080/"
        },
        "id": "b2TgWCP7K3Ov",
        "outputId": "ab99b517-4491-43f2-8b60-bd1e1998f02b"
      },
      "execution_count": 19,
      "outputs": [
        {
          "output_type": "execute_result",
          "data": {
            "text/plain": [
              "{'key1': 'value1', 'key2': 'value2'}"
            ]
          },
          "metadata": {},
          "execution_count": 19
        }
      ]
    },
    {
      "cell_type": "code",
      "source": [
        "# 3.5\n",
        "x = {\"key1\": \"value1\"}\n",
        "y = {\"key2\": \"value2\"}\n",
        "z = {**x, **y}\n",
        "z"
      ],
      "metadata": {
        "colab": {
          "base_uri": "https://localhost:8080/"
        },
        "id": "2wBeJgSJc-YJ",
        "outputId": "9e44c721-a622-479d-9303-f8ac38cb388b"
      },
      "execution_count": 16,
      "outputs": [
        {
          "output_type": "execute_result",
          "data": {
            "text/plain": [
              "{'key1': 'value1', 'key2': 'value2'}"
            ]
          },
          "metadata": {},
          "execution_count": 16
        }
      ]
    },
    {
      "cell_type": "code",
      "source": [
        "!python --version"
      ],
      "metadata": {
        "colab": {
          "base_uri": "https://localhost:8080/"
        },
        "id": "4PhOsg1oc_oY",
        "outputId": "658d5ca2-9141-4430-fd99-0993b6b1cd35"
      },
      "execution_count": 17,
      "outputs": [
        {
          "output_type": "stream",
          "name": "stdout",
          "text": [
            "Python 3.10.12\n"
          ]
        }
      ]
    },
    {
      "cell_type": "code",
      "source": [
        "# 3.10\n",
        "str_test = \"good\"\n",
        "\n",
        "match str_test:\n",
        "    case \"happy\":\n",
        "        print(\"happy\")\n",
        "\n",
        "    case \"good\":\n",
        "        print(\"good\")"
      ],
      "metadata": {
        "colab": {
          "base_uri": "https://localhost:8080/"
        },
        "id": "3j0g2BmydAyf",
        "outputId": "6dbe7436-865c-4e70-a218-cfcb905c4aa3"
      },
      "execution_count": 18,
      "outputs": [
        {
          "output_type": "stream",
          "name": "stdout",
          "text": [
            "good\n"
          ]
        }
      ]
    },
    {
      "cell_type": "markdown",
      "source": [
        "# 파일 입출력"
      ],
      "metadata": {
        "id": "nrrhYteBM2AZ"
      }
    },
    {
      "cell_type": "code",
      "source": [
        "# open(파일이름, 파일모드)\n",
        "f = open('python.txt', 'w')\n",
        "# 파일모드 :\n",
        "# r(읽기모드)\n",
        "# w(쓰기모드, 파일이 없으면 생성합니다, 내용이 있어도 w모드면 덮어씁니다.)\n",
        "# a(추가모드)\n",
        "f.close()"
      ],
      "metadata": {
        "id": "ctefhwxhK5SH"
      },
      "execution_count": null,
      "outputs": []
    },
    {
      "cell_type": "code",
      "source": [
        "f = open('python.txt', 'w')\n",
        "s = ''\n",
        "for i in range(1, 6):\n",
        "    s += f'{i}명 참여 중입니다. \\n'\n",
        "f.write(s)\n",
        "f.close()   # 오픈을 했으면 반드시 close를 할 것."
      ],
      "metadata": {
        "id": "qTzMfvz8Ni5S"
      },
      "execution_count": null,
      "outputs": []
    },
    {
      "cell_type": "code",
      "source": [
        "f = open('python.txt', 'w')\n",
        "s = ''\n",
        "for i in range(1, 6):\n",
        "    s += f'{i}명 참여 중입니다. \\n'\n",
        "f.write(s)\n",
        "f.close()"
      ],
      "metadata": {
        "id": "HqCZeoiaNEau"
      },
      "execution_count": 20,
      "outputs": []
    },
    {
      "cell_type": "code",
      "source": [
        "f = open('python.txt', 'r')\n",
        "while True:\n",
        "    line = f.readline()\n",
        "    if not line:\n",
        "        break\n",
        "    print(line)\n",
        "f.close()"
      ],
      "metadata": {
        "colab": {
          "base_uri": "https://localhost:8080/"
        },
        "id": "uTRrbDHARAYX",
        "outputId": "f3422dac-6e28-41ba-a275-f72ff6dd94b3"
      },
      "execution_count": 59,
      "outputs": [
        {
          "output_type": "stream",
          "name": "stdout",
          "text": [
            "1명 참여 중입니다. \n",
            "\n",
            "2명 참여 중입니다. \n",
            "\n",
            "3명 참여 중입니다. \n",
            "\n",
            "4명 참여 중입니다. \n",
            "\n",
            "5명 참여 중입니다. \n",
            "\n"
          ]
        }
      ]
    },
    {
      "cell_type": "code",
      "source": [
        "f = open('python.txt', 'r')\n",
        "lines = f.readlines()\n",
        "for line in lines:\n",
        "    print(line)\n",
        "f.close()"
      ],
      "metadata": {
        "colab": {
          "base_uri": "https://localhost:8080/"
        },
        "id": "R4L6fiHLRao0",
        "outputId": "7102933c-cb9d-4db6-d6bd-b33b201a3d82"
      },
      "execution_count": 60,
      "outputs": [
        {
          "output_type": "stream",
          "name": "stdout",
          "text": [
            "1명 참여 중입니다. \n",
            "\n",
            "2명 참여 중입니다. \n",
            "\n",
            "3명 참여 중입니다. \n",
            "\n",
            "4명 참여 중입니다. \n",
            "\n",
            "5명 참여 중입니다. \n",
            "\n"
          ]
        }
      ]
    },
    {
      "cell_type": "code",
      "source": [
        "f = open('python.txt', 'r')\n",
        "lines = f.readlines()\n",
        "# for line in lines:\n",
        "#     print(line)\n",
        "print(lines)\n",
        "f.close()"
      ],
      "metadata": {
        "colab": {
          "base_uri": "https://localhost:8080/"
        },
        "id": "xUmGbKJyRoMI",
        "outputId": "0bc35dc5-9b62-4d92-9bfe-574ca15a38ce"
      },
      "execution_count": 22,
      "outputs": [
        {
          "output_type": "stream",
          "name": "stdout",
          "text": [
            "['1명 참여 중입니다. \\n', '2명 참여 중입니다. \\n', '3명 참여 중입니다. \\n', '4명 참여 중입니다. \\n', '5명 참여 중입니다. \\n']\n"
          ]
        }
      ]
    },
    {
      "cell_type": "code",
      "source": [
        "f = open('python.txt', 'r')\n",
        "data = f.read()\n",
        "print(data)\n",
        "f.close()"
      ],
      "metadata": {
        "colab": {
          "base_uri": "https://localhost:8080/"
        },
        "id": "A3TK4uUWSDmh",
        "outputId": "51e25d7d-b29c-42b8-ef1d-3851c8ff9a5f"
      },
      "execution_count": 23,
      "outputs": [
        {
          "output_type": "stream",
          "name": "stdout",
          "text": [
            "1명 참여 중입니다. \n",
            "2명 참여 중입니다. \n",
            "3명 참여 중입니다. \n",
            "4명 참여 중입니다. \n",
            "5명 참여 중입니다. \n",
            "\n"
          ]
        }
      ]
    },
    {
      "cell_type": "code",
      "source": [
        "data"
      ],
      "metadata": {
        "colab": {
          "base_uri": "https://localhost:8080/",
          "height": 36
        },
        "id": "QwtCgniqfMWd",
        "outputId": "a85f22c9-0773-4905-db5c-446f40f18f0b"
      },
      "execution_count": 25,
      "outputs": [
        {
          "output_type": "execute_result",
          "data": {
            "text/plain": [
              "'1명 참여 중입니다. \\n2명 참여 중입니다. \\n3명 참여 중입니다. \\n4명 참여 중입니다. \\n5명 참여 중입니다. \\n'"
            ],
            "application/vnd.google.colaboratory.intrinsic+json": {
              "type": "string"
            }
          },
          "metadata": {},
          "execution_count": 25
        }
      ]
    },
    {
      "cell_type": "code",
      "source": [
        "f = open('python.txt', 'r')\n",
        "lines = f.readlines()\n",
        "for line in lines:\n",
        "\tprint(line, end='')\n",
        "f.close()"
      ],
      "metadata": {
        "colab": {
          "base_uri": "https://localhost:8080/"
        },
        "id": "GCbLP8orfNnb",
        "outputId": "3a28fe38-1eb3-41c6-c3ee-1453cead1cfd"
      },
      "execution_count": 26,
      "outputs": [
        {
          "output_type": "stream",
          "name": "stdout",
          "text": [
            "1명 참여 중입니다. \n",
            "2명 참여 중입니다. \n",
            "3명 참여 중입니다. \n",
            "4명 참여 중입니다. \n",
            "5명 참여 중입니다. \n"
          ]
        }
      ]
    },
    {
      "cell_type": "code",
      "source": [
        "# 쉬운 예제\n",
        "f = open('python.txt', 'w')\n",
        "s = '''<html>\n",
        "<head>\n",
        "</head>\n",
        "<body>\n",
        "<h1>hello world</h1>\n",
        "</body>\n",
        "</html>\n",
        "'''\n",
        "f.write(s)\n",
        "f.close"
      ],
      "metadata": {
        "colab": {
          "base_uri": "https://localhost:8080/"
        },
        "id": "rscgFLIJSdSL",
        "outputId": "ef3852f8-5cfd-4124-a65d-18b7f38e0dca"
      },
      "execution_count": null,
      "outputs": [
        {
          "output_type": "execute_result",
          "data": {
            "text/plain": [
              "<function TextIOWrapper.close()>"
            ]
          },
          "metadata": {},
          "execution_count": 26
        }
      ]
    },
    {
      "cell_type": "code",
      "source": [
        "# 쉬운예제\n",
        "f = open('python.csv', 'w')\n",
        "s = '''제목,평점,이미지,줄거리\n",
        "무빙,5.0,img,줄거리\n",
        "무빙,5.0,img,줄거리\n",
        "무빙,5.0,img,줄거리\n",
        "'''\n",
        "f.write(s)\n",
        "f.close()"
      ],
      "metadata": {
        "id": "3OymPuKfUSUs"
      },
      "execution_count": 27,
      "outputs": []
    },
    {
      "cell_type": "code",
      "source": [
        "# 쉬운예제\n",
        "f = open('student.csv', 'w')\n",
        "s = '''학년,반,번,이름\n",
        "1,3,1,licat\n",
        "1,3,2,mura\n",
        "1,3,3,binky\n",
        "'''\n",
        "f.write(s)\n",
        "f.close()"
      ],
      "metadata": {
        "id": "-nohWY6ifTJK"
      },
      "execution_count": 28,
      "outputs": []
    },
    {
      "cell_type": "code",
      "source": [
        "# 쉬운예제\n",
        "# colab에선 잘 열리지만, 대신 window 엑셀에서 깨집니다.\n",
        "f = open('python.csv', 'w', encoding='utf-8')\n",
        "s = '''제목,평점,이미지,줄거리\n",
        "무빙,5.0,img,줄거리\n",
        "무빙,5.0,img,줄거리\n",
        "무빙,5.0,img,줄거리\n",
        "'''\n",
        "f.write(s)\n",
        "f.close()"
      ],
      "metadata": {
        "id": "-VHyiK_TfVLl"
      },
      "execution_count": 29,
      "outputs": []
    },
    {
      "cell_type": "code",
      "source": [
        "# 쉬운예제\n",
        "# window 엑셀에서는 잘열리지만, 대신 colab에서 깨집니다.\n",
        "f = open('python.csv', 'w', encoding='cp949') # window인코딩입니다.\n",
        "s = '''제목,평점,이미지,줄거리\n",
        "무빙,5.0,img,줄거리\n",
        "무빙,5.0,img,줄거리\n",
        "무빙,5.0,img,줄거리\n",
        "'''\n",
        "f.write(s)\n",
        "f.close()"
      ],
      "metadata": {
        "id": "COu-wHZpfVwC"
      },
      "execution_count": 30,
      "outputs": []
    },
    {
      "cell_type": "code",
      "source": [
        "# 어려운 예제\n",
        "# django의 동작원리와도 관련이 있습니다.\n",
        "import requests\n",
        "from bs4 import BeautifulSoup\n",
        "\n",
        "paullab_url = 'http://paullab.co.kr/bookservice/'\n",
        "response = requests.get(paullab_url)\n",
        "response.encoding = 'utf-8'\n",
        "html = response.text\n",
        "\n",
        "soup = BeautifulSoup(html, 'html.parser')\n",
        "\n",
        "bookservices = soup.select('.col-lg-6 > h2')     # col-lg-6 클래스 안의 h2 태그 탐색\n",
        "contents = ''\n",
        "\n",
        "for no, (book, img) in enumerate(zip(bookservices, soup.select('img')[2:]), 1):\n",
        "    contents += f'''\n",
        "                <section>\n",
        "                <h2>{no}. {book.text}</h2>\n",
        "                <img src='https://paullab.co.kr/bookservice/{img[\"src\"]}'>\n",
        "                </section>\n",
        "                '''\n",
        "\n",
        "# 이미지 양식: https://paullab.co.kr/bookservice/img/notion.jpg\n",
        "f = open('python.html', 'w')\n",
        "s = f'''<html>\n",
        "<head>\n",
        "</head>\n",
        "<body>\n",
        "{contents}\n",
        "</body>\n",
        "</html>\n",
        "'''\n",
        "f.write(s)\n",
        "f.close()"
      ],
      "metadata": {
        "id": "sNjk1r3oUSh9"
      },
      "execution_count": 31,
      "outputs": []
    },
    {
      "cell_type": "code",
      "source": [
        "f = open('student.txt', 'w')\n",
        "l = ['licat', 'mura', 'binky']\n",
        "s = ''\n",
        "for i, j in enumerate(l, 1):\n",
        "    s += f'{i}번 {j}입니다.\\n'\n",
        "f.write(s)\n",
        "f.close()"
      ],
      "metadata": {
        "id": "mOs6UJk5fiPV"
      },
      "execution_count": 32,
      "outputs": []
    },
    {
      "cell_type": "code",
      "source": [
        "f = open('student.txt', 'r')\n",
        "while True:\n",
        "    line = f.readline()\n",
        "    if not line:\n",
        "        break\n",
        "    print(line)\n",
        "f.close()"
      ],
      "metadata": {
        "colab": {
          "base_uri": "https://localhost:8080/"
        },
        "id": "4bC0BGvPfifs",
        "outputId": "bdbbe17f-7f60-4347-da4a-d1544184b788"
      },
      "execution_count": 33,
      "outputs": [
        {
          "output_type": "stream",
          "name": "stdout",
          "text": [
            "1번 licat입니다.\n",
            "\n",
            "2번 mura입니다.\n",
            "\n",
            "3번 binky입니다.\n",
            "\n"
          ]
        }
      ]
    },
    {
      "cell_type": "code",
      "source": [
        "f = open('student.txt', 'r')\n",
        "lines = f.readlines()\n",
        "for line in lines:\n",
        "    print(line)\n",
        "f.close()"
      ],
      "metadata": {
        "colab": {
          "base_uri": "https://localhost:8080/"
        },
        "id": "Q4Ymk9GDfj1c",
        "outputId": "34e82e9d-a674-40fd-f885-45d27c0bdc00"
      },
      "execution_count": 34,
      "outputs": [
        {
          "output_type": "stream",
          "name": "stdout",
          "text": [
            "1번 licat입니다.\n",
            "\n",
            "2번 mura입니다.\n",
            "\n",
            "3번 binky입니다.\n",
            "\n"
          ]
        }
      ]
    },
    {
      "cell_type": "code",
      "source": [
        "f = open('student.txt', 'a')\n",
        "s = 'hello world!'\n",
        "f.write(s)\n",
        "f.close()"
      ],
      "metadata": {
        "id": "IdmYpgHafk33"
      },
      "execution_count": 35,
      "outputs": []
    },
    {
      "cell_type": "code",
      "source": [
        "f = open('student.txt', 'r')\n",
        "lines = f.readlines()\n",
        "for line in lines:\n",
        "    print(line, end='')\n",
        "f.close()"
      ],
      "metadata": {
        "colab": {
          "base_uri": "https://localhost:8080/"
        },
        "id": "VMW6I3Lxfmi2",
        "outputId": "b71336bc-eb2e-4533-8eee-5e0456d295da"
      },
      "execution_count": 50,
      "outputs": [
        {
          "output_type": "stream",
          "name": "stdout",
          "text": [
            "1번 licat입니다.\n",
            "2번 mura입니다.\n",
            "3번 binky입니다.\n",
            "hello world!"
          ]
        }
      ]
    },
    {
      "cell_type": "code",
      "source": [
        "f = open('python.txt', 'r')\n",
        "lines = f.readlines()\n",
        "for line in lines:\n",
        "    print(line, end='')\n",
        "f.close()"
      ],
      "metadata": {
        "colab": {
          "base_uri": "https://localhost:8080/"
        },
        "id": "Mn7TS4zFZE08",
        "outputId": "9601b4b7-ea22-4c3d-977d-4b9f7d285faf"
      },
      "execution_count": null,
      "outputs": [
        {
          "output_type": "stream",
          "name": "stdout",
          "text": [
            "6명 참여 중입니다. \n",
            "7명 참여 중입니다. \n",
            "8명 참여 중입니다. \n",
            "9명 참여 중입니다. \n",
            "10명 참여 중입니다. \n",
            "6명 참여 중입니다. \n",
            "7명 참여 중입니다. \n",
            "8명 참여 중입니다. \n",
            "9명 참여 중입니다. \n",
            "10명 참여 중입니다. \n"
          ]
        }
      ]
    },
    {
      "cell_type": "code",
      "source": [
        "# 어려운 예제\n",
        "# django의 동작원리와도 관련이 있습니다.\n",
        "import requests\n",
        "from bs4 import BeautifulSoup\n",
        "\n",
        "paullab_url = 'http://paullab.co.kr/bookservice/'\n",
        "response = requests.get(paullab_url)\n",
        "response.encoding = 'utf-8'\n",
        "html = response.text\n",
        "\n",
        "soup = BeautifulSoup(html, 'html.parser')\n",
        "\n",
        "bookservices = soup.select('.col-lg-6 > h2')     # col-lg-6 클래스 안의 h2 태그 탐색\n",
        "contents = ''\n",
        "\n",
        "for no, (book, img) in enumerate(zip(bookservices, soup.select('img')[2:]), 1):\n",
        "    contents += f'''\n",
        "                <section>\n",
        "                <h2>{no}. {book.text}</h2>\n",
        "                <img src='https://paullab.co.kr/bookservice/{img[\"src\"]}'>\n",
        "                </section>\n",
        "                '''\n",
        "\n",
        "# 이미지 양식: https://paullab.co.kr/bookservice/img/notion.jpg\n",
        "f = open('python.html', 'w')\n",
        "s = f'''<html>\n",
        "<head>\n",
        "</head>\n",
        "<body>\n",
        "{contents}\n",
        "</body>\n",
        "</html>\n",
        "'''\n",
        "f.write(s)\n",
        "f.close()"
      ],
      "metadata": {
        "id": "HhWZZMeYfoIw"
      },
      "execution_count": 37,
      "outputs": []
    },
    {
      "cell_type": "code",
      "source": [
        "for i in soup.select('img')[2:]:\n",
        "    print(i['src'])"
      ],
      "metadata": {
        "colab": {
          "base_uri": "https://localhost:8080/"
        },
        "id": "oUMghLsfYRfW",
        "outputId": "aef0ac28-bfa8-4dbe-9a59-34e668865710"
      },
      "execution_count": null,
      "outputs": [
        {
          "output_type": "stream",
          "name": "stdout",
          "text": [
            "img/notion.jpg\n",
            "img/cofe.jpg\n",
            "img/HTMLCSS.jpg\n",
            "img/python1.jpg\n",
            "img/python2.jpg\n",
            "img/python3.jpg\n",
            "img/tanos.jpg\n",
            "img/xlsx.jpg\n",
            "img/ruple.jpg\n",
            "img/auto.jpg\n",
            "img/django.jpg\n"
          ]
        }
      ]
    },
    {
      "cell_type": "code",
      "source": [
        "f = open('python.txt', 'a')\n",
        "s = ''\n",
        "for i in range(6, 11):\n",
        "    s += f'{i}명 참여 중입니다. \\n'\n",
        "f.write(s)\n",
        "f.close()"
      ],
      "metadata": {
        "id": "tzdUHTenVB7Y"
      },
      "execution_count": 63,
      "outputs": []
    },
    {
      "cell_type": "code",
      "source": [
        "with open('test.txt', 'w') as f:\n",
        "    f.write('Life is too short, you need python')"
      ],
      "metadata": {
        "id": "a6-SBnwFYmNi"
      },
      "execution_count": 38,
      "outputs": []
    },
    {
      "cell_type": "code",
      "source": [
        "## 파일 입출력은 이 위까지만 공부하시면 됩니다. ##\n",
        "## 파일 입출력은 이 위까지만 공부하시면 됩니다. ##\n",
        "## 파일 입출력은 이 위까지만 공부하시면 됩니다. ##"
      ],
      "metadata": {
        "id": "cDxs-WZkf4Et"
      },
      "execution_count": 39,
      "outputs": []
    },
    {
      "cell_type": "code",
      "source": [
        "## 파일 입출력은 이 위까지만 공부하시면 됩니다. ##\n",
        "## 파일 입출력은 이 위까지만 공부하시면 됩니다. ##"
      ],
      "metadata": {
        "id": "gidltutCf4mj"
      },
      "execution_count": 42,
      "outputs": []
    },
    {
      "cell_type": "code",
      "source": [
        "with open('test.txt', 'w') as f:\n",
        "    f.write('hello world')"
      ],
      "metadata": {
        "id": "lrGLMiWJf9fP"
      },
      "execution_count": 43,
      "outputs": []
    },
    {
      "cell_type": "code",
      "source": [
        "with open('test.txt', 'w') as f:\n",
        "    f.write('hello world')\n",
        "\n",
        "f = open('test.txt', 'r+') # 읽기 쓰기(기존에 있던 내용을 읽을 수 있고, 최종적으로는 덮어씀)\n",
        "# f.seek(0)  # 파일의 시작 위치로 이동, r모드는 이렇게 하지 않아도 포인터가 맨 앞으로 가 있습니다.\n",
        "print(f.read())\n",
        "f.write('\\nr+모드입니다!\\n')\n",
        "print('-----')\n",
        "# f.seek(0)  # 파일의 시작 위치로 이동, 주석처리 해보세요.\n",
        "print(f.read())\n",
        "f.close()"
      ],
      "metadata": {
        "colab": {
          "base_uri": "https://localhost:8080/"
        },
        "id": "Er-0edYCf9s5",
        "outputId": "71651d44-2449-4eac-a748-aee2644becfd"
      },
      "execution_count": 44,
      "outputs": [
        {
          "output_type": "stream",
          "name": "stdout",
          "text": [
            "hello world\n",
            "-----\n",
            "\n"
          ]
        }
      ]
    },
    {
      "cell_type": "code",
      "source": [
        "f = open('python.txt', 'r+') # 읽기 쓰기(기존에 있던 내용을 읽을 수 있고, 최종적으로는 덮어씀)\n",
        "# f.seek(0)  # 파일의 시작 위치로 이동, r모드는 이렇게 하지 않아도 포인터가 맨 앞으로 가 있습니다.\n",
        "print(f.read())\n",
        "f.write('\\nr+모드입니다!\\n')\n",
        "print('-----')\n",
        "f.seek(0)  # 파일의 시작 위치로 이동, 주석처리 해보세요.\n",
        "print(f.read())\n",
        "f.close()"
      ],
      "metadata": {
        "colab": {
          "base_uri": "https://localhost:8080/"
        },
        "id": "wHplC3DRf_GF",
        "outputId": "bd520b63-2bab-484e-c689-5576bc13bc23"
      },
      "execution_count": 45,
      "outputs": [
        {
          "output_type": "stream",
          "name": "stdout",
          "text": [
            "1명 참여 중입니다. \n",
            "2명 참여 중입니다. \n",
            "3명 참여 중입니다. \n",
            "4명 참여 중입니다. \n",
            "5명 참여 중입니다. \n",
            "\n",
            "-----\n",
            "1명 참여 중입니다. \n",
            "2명 참여 중입니다. \n",
            "3명 참여 중입니다. \n",
            "4명 참여 중입니다. \n",
            "5명 참여 중입니다. \n",
            "\n",
            "r+모드입니다!\n",
            "\n"
          ]
        }
      ]
    },
    {
      "cell_type": "code",
      "source": [
        "f = open('python.txt', 'w+') # 읽기 쓰기(기존에 있던 내용은 덮어쓰기)\n",
        "f.seek(0) # 커서를 앞으로 보냈음에도 기존에 텍스트를 읽지 못합니다.\n",
        "print(f.read())\n",
        "f.write('\\nw+모드입니다!') # 그냥 덮어 써버림\n",
        "f.seek(0) # 쓴 내용을 읽을 수는 있음!\n",
        "print(f.read())\n",
        "f.close()\n",
        "# 차이:\n",
        "# r+ 모드는 파일을 열 때 기존의 내용을 보존\n",
        "# w+ 모드는 파일을 열 때 기존의 내용을 삭제"
      ],
      "metadata": {
        "colab": {
          "base_uri": "https://localhost:8080/"
        },
        "id": "kR4KjK7ygATr",
        "outputId": "e5d930ea-e020-43fb-8144-470560aeb39d"
      },
      "execution_count": 46,
      "outputs": [
        {
          "output_type": "stream",
          "name": "stdout",
          "text": [
            "\n",
            "\n",
            "w+모드입니다!\n"
          ]
        }
      ]
    },
    {
      "cell_type": "code",
      "source": [
        "with open('test.txt', 'w') as f:\n",
        "    f.write('hello world')\n",
        "\n",
        "f = open('test.txt', 'a+')\n",
        "f.seek(0)\n",
        "print(f.read())\n",
        "f.write('\\na+모드입니다!')\n",
        "print('-----')\n",
        "f.seek(0)\n",
        "print(f.read())\n",
        "f.close()"
      ],
      "metadata": {
        "colab": {
          "base_uri": "https://localhost:8080/"
        },
        "id": "t_YvgJAkgBQ5",
        "outputId": "686503e0-4cac-4e1e-b632-08d734b8576b"
      },
      "execution_count": 47,
      "outputs": [
        {
          "output_type": "stream",
          "name": "stdout",
          "text": [
            "hello world\n",
            "-----\n",
            "hello world\n",
            "a+모드입니다!\n"
          ]
        }
      ]
    },
    {
      "cell_type": "code",
      "source": [
        "f = open('python.txt', 'r+') # 포인터가 처음\n",
        "print(f.read())\n",
        "f.close()"
      ],
      "metadata": {
        "colab": {
          "base_uri": "https://localhost:8080/"
        },
        "id": "w8vzElpagFpN",
        "outputId": "4c57c81a-a888-4674-96d6-235d29d3003b"
      },
      "execution_count": 48,
      "outputs": [
        {
          "output_type": "stream",
          "name": "stdout",
          "text": [
            "\n",
            "w+모드입니다!\n"
          ]
        }
      ]
    },
    {
      "cell_type": "code",
      "source": [
        "f = open('python.txt', 'a+') # 포인터가 끝\n",
        "print(f.read())\n",
        "f.close()"
      ],
      "metadata": {
        "colab": {
          "base_uri": "https://localhost:8080/"
        },
        "id": "VGGmGYUOgGvY",
        "outputId": "82104290-bff4-47aa-ef68-140b01d21900"
      },
      "execution_count": 49,
      "outputs": [
        {
          "output_type": "stream",
          "name": "stdout",
          "text": [
            "\n"
          ]
        }
      ]
    },
    {
      "cell_type": "markdown",
      "source": [
        "# 비트연산"
      ],
      "metadata": {
        "id": "pu_7_guFbWp3"
      }
    },
    {
      "cell_type": "code",
      "source": [
        "5 | 12 # bit and 연산\n",
        "\n",
        "# 00000101 == 5\n",
        "# 00001100 == 12\n",
        "# --------\n",
        "# 00001101 == 13"
      ],
      "metadata": {
        "colab": {
          "base_uri": "https://localhost:8080/"
        },
        "id": "WoKKcpg0bXgi",
        "outputId": "792582cd-3fc0-4aad-d06f-0ddd595d5f19"
      },
      "execution_count": 44,
      "outputs": [
        {
          "output_type": "execute_result",
          "data": {
            "text/plain": [
              "4"
            ]
          },
          "metadata": {},
          "execution_count": 44
        }
      ]
    },
    {
      "cell_type": "code",
      "source": [
        "# 10 => 2\n",
        "# 11 => 3\n",
        "# 1000 => 8\n",
        "# 1101 => 13"
      ],
      "metadata": {
        "id": "eUs3xAYpbdkC"
      },
      "execution_count": 46,
      "outputs": []
    },
    {
      "cell_type": "code",
      "source": [
        "7 << 2\n",
        "# 00000111\n",
        "# 00011100 (16 + 8 + 4)"
      ],
      "metadata": {
        "colab": {
          "base_uri": "https://localhost:8080/"
        },
        "id": "pozNG42lg7bA",
        "outputId": "95b00fd3-7199-4562-bbdc-110d3b3206f4"
      },
      "execution_count": 51,
      "outputs": [
        {
          "output_type": "execute_result",
          "data": {
            "text/plain": [
              "28"
            ]
          },
          "metadata": {},
          "execution_count": 51
        }
      ]
    },
    {
      "cell_type": "code",
      "source": [
        "16 >> 2\n",
        "# 00010000\n",
        "# 00000100 (4)"
      ],
      "metadata": {
        "colab": {
          "base_uri": "https://localhost:8080/"
        },
        "id": "l8ywLkT9gjKv",
        "outputId": "8b82c5b6-9764-4854-d841-4261dc726fe8"
      },
      "execution_count": 52,
      "outputs": [
        {
          "output_type": "execute_result",
          "data": {
            "text/plain": [
              "4"
            ]
          },
          "metadata": {},
          "execution_count": 52
        }
      ]
    },
    {
      "cell_type": "code",
      "source": [
        "~0 # 2의 보수(보수를 취하려는 숫자에서 +1 음수를 취하면 됩니다.)"
      ],
      "metadata": {
        "colab": {
          "base_uri": "https://localhost:8080/"
        },
        "id": "oEv83ibugkCJ",
        "outputId": "0b4ada49-c20a-4ca1-bd7f-aa69b0aa976f"
      },
      "execution_count": 53,
      "outputs": [
        {
          "output_type": "execute_result",
          "data": {
            "text/plain": [
              "-1"
            ]
          },
          "metadata": {},
          "execution_count": 53
        }
      ]
    },
    {
      "cell_type": "code",
      "source": [
        "~5"
      ],
      "metadata": {
        "colab": {
          "base_uri": "https://localhost:8080/"
        },
        "id": "Yeft_T61glTM",
        "outputId": "2d2ca346-0cce-4b29-dde4-fb4701772a80"
      },
      "execution_count": 54,
      "outputs": [
        {
          "output_type": "execute_result",
          "data": {
            "text/plain": [
              "-6"
            ]
          },
          "metadata": {},
          "execution_count": 54
        }
      ]
    },
    {
      "cell_type": "code",
      "source": [
        "~~5\n",
        "# ~(-6)  =>  -(-6 + 1)  =>  5\n",
        "# -(-n)  =>  -(-n + 1)  =>  ?"
      ],
      "metadata": {
        "colab": {
          "base_uri": "https://localhost:8080/"
        },
        "id": "vDn_9Ds0gmdp",
        "outputId": "3674b16b-5e43-4de3-9c2a-b1ff84056c5f"
      },
      "execution_count": 55,
      "outputs": [
        {
          "output_type": "execute_result",
          "data": {
            "text/plain": [
              "5"
            ]
          },
          "metadata": {},
          "execution_count": 55
        }
      ]
    },
    {
      "cell_type": "code",
      "source": [
        "# ~~3.14      #error"
      ],
      "metadata": {
        "id": "tztTO0cBgnkZ"
      },
      "execution_count": 57,
      "outputs": []
    },
    {
      "cell_type": "markdown",
      "source": [
        "![image.png](data:image/png;base64,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)"
      ],
      "metadata": {
        "id": "xk5m7Lggh0D5"
      }
    },
    {
      "cell_type": "markdown",
      "source": [
        "![image.png](data:image/png;base64,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)"
      ],
      "metadata": {
        "id": "voAMf6cviHik"
      }
    },
    {
      "cell_type": "markdown",
      "source": [
        "#f-string"
      ],
      "metadata": {
        "id": "JA6zLxB0kPtU"
      }
    },
    {
      "cell_type": "code",
      "source": [
        "# 중괄호가 2개씩 증가할 때마다 출력은 1개씩 증가\n",
        "value = 'hello'\n",
        "print(f'{value}') # 중괄호 X\n",
        "print(f'{{value}}') # 중괄호 1\n",
        "print(f'{{{value}}}') # 중괄호 1\n",
        "print(f'{{{{value}}}}') # 중괄호 2\n",
        "print(f'{{{{{value}}}}}') # 중괄호 2\n",
        "print(f'{{{{{{value}}}}}}') # 중괄호 3"
      ],
      "metadata": {
        "colab": {
          "base_uri": "https://localhost:8080/"
        },
        "id": "Xfh2gKSshNbG",
        "outputId": "e1e123f6-afa2-464f-9fdf-6e9b637b85c7"
      },
      "execution_count": 58,
      "outputs": [
        {
          "output_type": "stream",
          "name": "stdout",
          "text": [
            "hello\n",
            "{value}\n",
            "{hello}\n",
            "{{value}}\n",
            "{{hello}}\n",
            "{{{value}}}\n"
          ]
        }
      ]
    },
    {
      "cell_type": "code",
      "source": [
        "value = 'hello'\n",
        "print(f'{10 + 10}') # 중괄호 안에서 연산을 하는 것을 저는 권하지 않습니다.\n",
        "# print(f'{value + 'world'}') # error\n",
        "# print(f'{value + \\' world\\'}') # 이스케이프 문자를 허용하지 않습니다.\n",
        "print(f'{value + \" world\"}')\n",
        "print(f\"{value + ' world'}\")"
      ],
      "metadata": {
        "colab": {
          "base_uri": "https://localhost:8080/"
        },
        "id": "dtsRlotXhNpL",
        "outputId": "a0fb7da6-ba3e-4aa7-d7f6-4fae4fae717e"
      },
      "execution_count": 59,
      "outputs": [
        {
          "output_type": "stream",
          "name": "stdout",
          "text": [
            "20\n",
            "hello world\n",
            "hello world\n"
          ]
        }
      ]
    },
    {
      "cell_type": "code",
      "source": [
        "a = 10\n",
        "b = 20\n",
        "\n",
        "# case1\n",
        "two_numbers_mul = a * b # 굳이 변수 1개를 더 생성할 필요가 있을까?\n",
        "print(f'{two_numbers_mul}')\n",
        "\n",
        "# case2\n",
        "print(f'{a * b}') # 간단하니까 이걸로 사용하자!\n",
        "# 코드가 복잡해지면 가독성에서 차이가 납니다."
      ],
      "metadata": {
        "colab": {
          "base_uri": "https://localhost:8080/"
        },
        "id": "tQlZkPJjhO3n",
        "outputId": "83515266-cd6c-4a3b-9d8e-eeb35aea7559"
      },
      "execution_count": 60,
      "outputs": [
        {
          "output_type": "stream",
          "name": "stdout",
          "text": [
            "200\n",
            "200\n"
          ]
        }
      ]
    },
    {
      "cell_type": "code",
      "source": [
        "a = 10\n",
        "b = 20\n",
        "\n",
        "# case1\n",
        "two_numbers_mul = a * b # 굳이 변수 1개를 더 생성할 필요가 있을까?\n",
        "two_numbers_add = a + b\n",
        "two_numbers_mul_add = two_numbers_mul * two_numbers_add\n",
        "print(f'{two_numbers_mul_add}') # 이 변수명을 보고 의도를 파악할 수 있습니다.\n",
        "\n",
        "# case2\n",
        "print(f'{(a * b) * (a + b)}') # 이 값이 무엇을 의미하는지 모릅니다.\n",
        "# 코드가 복잡해지면 가독성에서 차이가 납니다."
      ],
      "metadata": {
        "colab": {
          "base_uri": "https://localhost:8080/"
        },
        "id": "EwYoRjAThP1_",
        "outputId": "98e20cca-c2d3-40fe-a923-ebaea476d444"
      },
      "execution_count": 62,
      "outputs": [
        {
          "output_type": "stream",
          "name": "stdout",
          "text": [
            "6000\n",
            "6000\n"
          ]
        }
      ]
    },
    {
      "cell_type": "code",
      "source": [
        "# 포멧팅 지정자는 {변수이름:포멧팅_양식}\n",
        "num = 3.14159\n",
        "print(f\"{num:.2f}\")  # 출력: 3.14\n",
        "\n",
        "name = \"Alice\"\n",
        "print(f\"{name:>10}\")  # 출력:      Alice # 포멧팅 지정자, format 용법과 동일"
      ],
      "metadata": {
        "colab": {
          "base_uri": "https://localhost:8080/"
        },
        "id": "jEy6PWfQhVAR",
        "outputId": "38e552d7-fe19-446f-a423-09e318565411"
      },
      "execution_count": 63,
      "outputs": [
        {
          "output_type": "stream",
          "name": "stdout",
          "text": [
            "3.14\n",
            "     Alice\n"
          ]
        }
      ]
    },
    {
      "cell_type": "code",
      "source": [
        "# 파이썬(Python) 3 포맷팅 방식\n",
        "print('나의 이름은 {}입니다'.format('한사람'))\n",
        "print('나의 이름은 {0}입니다. 나이는 {1}세이고 성별은 {2}입니다.'.format('한사람',33,'남성'))\n",
        "print('나이는 {1}세이고 성별은 {2}입니다. 나의 이름은 {0}입니다. '.format('한사람',33,'남성'))\n",
        "print('나이는 {age}세이고 성별은 {gender}입니다. 나의 이름은 {name}입니다.'.format(name='한사람',age=33,gender='남성'))\n",
        "print('만세삼창 :  {0}!!! {0}!!! {0}!!! '.format('만세'))\n",
        "print('삼삼칠 박수 :  {0}!!! {0}!!! {1}!!! '.format('짝'*3,'짝'*7))\n",
        "print('-' * 40)\n",
        "\n",
        "print('나의 이름은 {0:.2f}입니다'.format(3.141592))\n",
        "print('나의 이름은 {0:>20}입니다'.format(3.141592))"
      ],
      "metadata": {
        "colab": {
          "base_uri": "https://localhost:8080/"
        },
        "id": "_L4sOndjhVSY",
        "outputId": "fff24853-4917-4ffd-e8cb-5834ebe0af5a"
      },
      "execution_count": 64,
      "outputs": [
        {
          "output_type": "stream",
          "name": "stdout",
          "text": [
            "나의 이름은 한사람입니다\n",
            "나의 이름은 한사람입니다. 나이는 33세이고 성별은 남성입니다.\n",
            "나이는 33세이고 성별은 남성입니다. 나의 이름은 한사람입니다. \n",
            "나이는 33세이고 성별은 남성입니다. 나의 이름은 한사람입니다.\n",
            "만세삼창 :  만세!!! 만세!!! 만세!!! \n",
            "삼삼칠 박수 :  짝짝짝!!! 짝짝짝!!! 짝짝짝짝짝짝짝!!! \n",
            "----------------------------------------\n",
            "나의 이름은 3.14입니다\n",
            "나의 이름은             3.141592입니다\n"
          ]
        }
      ]
    },
    {
      "cell_type": "code",
      "source": [
        "# 파이썬(Python) 3.6 f-string 방식\n",
        "something = '볼펜'\n",
        "EA = 2\n",
        "one_length = 5.343\n",
        "scale = 'cm'\n",
        "\n",
        "print(f'{something} {EA}개의 길이는 {one_length*EA}{scale} 입니다.')\n",
        "print(f'{something} {EA}개의 길이는 {one_length*EA:.1f}{scale} 입니다.')"
      ],
      "metadata": {
        "colab": {
          "base_uri": "https://localhost:8080/"
        },
        "id": "th4twmNdhWO1",
        "outputId": "f17ce815-2cfb-407e-b557-94ab4dc3cb38"
      },
      "execution_count": 65,
      "outputs": [
        {
          "output_type": "stream",
          "name": "stdout",
          "text": [
            "볼펜 2개의 길이는 10.686cm 입니다.\n",
            "볼펜 2개의 길이는 10.7cm 입니다.\n"
          ]
        }
      ]
    },
    {
      "cell_type": "code",
      "source": [
        "print('Python is [{:15}]'.format('good')) # 양식 같음, 자료형만 다름\n",
        "print('Python is [{:<15}]'.format('good'))\n",
        "print('Python is [{:>15}]'.format('good'))\n",
        "print('Python is [{:^15}]'.format('good'))\n",
        "print('Python is [{:-^15}]'.format('good'))\n",
        "print('당신의 나이는 [{:15}]세'.format(22)) # 양식 같음, 자료형만 다름\n",
        "print('당신의 나이는 [{:<15}]세'.format(22))\n",
        "print('당신의 나이는 [{:>15}]세'.format(22))\n",
        "print('당신의 나이는 [{:^15}]세'.format(22))\n",
        "print('-' * 40)"
      ],
      "metadata": {
        "colab": {
          "base_uri": "https://localhost:8080/"
        },
        "id": "BwjDWENzhXbn",
        "outputId": "ae8091da-0aed-4a56-ca8d-89bcc447e105"
      },
      "execution_count": 66,
      "outputs": [
        {
          "output_type": "stream",
          "name": "stdout",
          "text": [
            "Python is [good           ]\n",
            "Python is [good           ]\n",
            "Python is [           good]\n",
            "Python is [     good      ]\n",
            "Python is [-----good------]\n",
            "당신의 나이는 [             22]세\n",
            "당신의 나이는 [22             ]세\n",
            "당신의 나이는 [             22]세\n",
            "당신의 나이는 [      22       ]세\n",
            "----------------------------------------\n"
          ]
        }
      ]
    },
    {
      "cell_type": "code",
      "source": [
        "print('[{:15}]'.format('10')) # 양식 같음, 자료형만 다름\n",
        "print('[{:15}]'.format(10))   # 양식 같음, 자료형만 다름"
      ],
      "metadata": {
        "colab": {
          "base_uri": "https://localhost:8080/"
        },
        "id": "dmcy2zIXhYVo",
        "outputId": "e3813839-694b-4dda-b792-21edd2ca8c41"
      },
      "execution_count": 67,
      "outputs": [
        {
          "output_type": "stream",
          "name": "stdout",
          "text": [
            "[10             ]\n",
            "[             10]\n"
          ]
        }
      ]
    },
    {
      "cell_type": "code",
      "source": [
        "char_a = '5'\n",
        "int_a = 5\n",
        "sample = 1234567890\n",
        "\n",
        "print(1234567890)\n",
        "print(f'{sample:>5}') # >는 오른쪽정렬\n",
        "print(f'{char_a:>5}') # >는 오른쪽정렬\n",
        "print(f'{char_a:<5}') # <는 왼쪽정렬\n",
        "print(f'{char_a:^5}') # ^는 가운데정렬\n",
        "print(f'{int_a:0<5}')# <는 왼쪽정렬, 빈자리를 0으로 채울수도 있음\n",
        "print(f'{int_a:^10.2f}') # ^ 가운데 정렬하면서 float 타입지정"
      ],
      "metadata": {
        "colab": {
          "base_uri": "https://localhost:8080/"
        },
        "id": "kx6gDh53hZdO",
        "outputId": "0ea952fa-f140-41a6-fecf-12fb4714b731"
      },
      "execution_count": 68,
      "outputs": [
        {
          "output_type": "stream",
          "name": "stdout",
          "text": [
            "1234567890\n",
            "1234567890\n",
            "    5\n",
            "5    \n",
            "  5  \n",
            "50000\n",
            "   5.00   \n"
          ]
        }
      ]
    },
    {
      "cell_type": "code",
      "source": [
        "int_a = 5\n",
        "print(f'{int_a:0<5}') # <는 왼쪽정렬, 빈자리를 0으로 채울수도 있음\n",
        "print(f'{int_a:0>5}') # <는 왼쪽정렬, 빈자리를 0으로 채울수도 있음\n",
        "\n",
        "'12345'.zfill(10)"
      ],
      "metadata": {
        "colab": {
          "base_uri": "https://localhost:8080/",
          "height": 72
        },
        "id": "9c91RP9yhasr",
        "outputId": "6d0c31fd-de7c-46a0-964b-39282ee63c6f"
      },
      "execution_count": 69,
      "outputs": [
        {
          "output_type": "stream",
          "name": "stdout",
          "text": [
            "50000\n",
            "00005\n"
          ]
        },
        {
          "output_type": "execute_result",
          "data": {
            "text/plain": [
              "'0000012345'"
            ],
            "application/vnd.google.colaboratory.intrinsic+json": {
              "type": "string"
            }
          },
          "metadata": {},
          "execution_count": 69
        }
      ]
    },
    {
      "cell_type": "markdown",
      "source": [
        "# 연습문제"
      ],
      "metadata": {
        "id": "MJ0MeD8r_9n0"
      }
    },
    {
      "cell_type": "code",
      "source": [
        "# 문제1: 1 ~ 9 까지 더하는 프로그램\n",
        "# 문제2: 1 ~ 9 까지 홀수의 합\n",
        "# 문제3: 1000 미만의 자연수에서 3의 배수와 5의 배수의 총합을 구하는 프로그램을 작성"
      ],
      "metadata": {
        "id": "3w9Kvz_W_BF5"
      },
      "execution_count": 57,
      "outputs": []
    },
    {
      "cell_type": "code",
      "source": [
        "# 문제1: 1 ~ 9 까지 더하는 프로그램\n",
        "all_sum = sum(range(1, 10))\n",
        "print(arr)"
      ],
      "metadata": {
        "colab": {
          "base_uri": "https://localhost:8080/"
        },
        "id": "WfDfAobEAiCA",
        "outputId": "64273e06-a708-4cd8-b388-24087cb5a8b4"
      },
      "execution_count": 62,
      "outputs": [
        {
          "output_type": "stream",
          "name": "stdout",
          "text": [
            "45\n"
          ]
        }
      ]
    },
    {
      "cell_type": "code",
      "source": [
        "# 문제2: 1 ~ 9 까지 홀수의 합\n",
        "odd_sum = sum(i for i in range(1, 10, 2))\n",
        "print(odd_sum)"
      ],
      "metadata": {
        "colab": {
          "base_uri": "https://localhost:8080/"
        },
        "id": "L8pwmLU4A0bY",
        "outputId": "c7a3d4f6-8903-4518-8439-e9df4d6e2970"
      },
      "execution_count": 1,
      "outputs": [
        {
          "output_type": "stream",
          "name": "stdout",
          "text": [
            "25\n"
          ]
        }
      ]
    },
    {
      "cell_type": "code",
      "source": [
        "# 문제3: 1000 미만의 자연수에서 3의 배수와 5의 배수의 총합을 구하는 프로그램을 작성\n",
        "multiple_sum = sum(j for j in range(1, 1000) if j % 3 == 0 or j % 5 == 0)\n",
        "\n",
        "print(multiple_sum)"
      ],
      "metadata": {
        "colab": {
          "base_uri": "https://localhost:8080/"
        },
        "id": "c9FDPHc0A2LY",
        "outputId": "c6a8c3c8-6476-4305-d205-5012cccd8d19"
      },
      "execution_count": 6,
      "outputs": [
        {
          "output_type": "stream",
          "name": "stdout",
          "text": [
            "233168\n"
          ]
        }
      ]
    },
    {
      "cell_type": "code",
      "source": [
        "# 강사님 풀이\n",
        "\n",
        "# 문제1: 1 ~ 9 까지 더하는 프로그램\n",
        "sum(list(range(10))) # list로 형변환 하는 것은 데이터가 클수록 부하가 큽니다.\n",
        "sum([i for i in range(1, 10)]) # 일반 list로 형변환 하는 것보다는 빠르지만 이것도 역시나 부하가 있습니다.\n",
        "sum(range(1, 10))\n",
        "(9 * (1 + 9)) / 2\n",
        "\n",
        "# 문제2: 1 ~ 9 까지 홀수의 합\n",
        "sum([i for i in range(1, 10, 2)])\n",
        "sum([i for i in range(10) if i % 2 == 1])\n",
        "sum(filter(lambda x:x%2==1, range(10)))\n",
        "sum(range(1, 10, 2))\n",
        "s = 0\n",
        "for i in range(10):\n",
        "    if i % 2 == 1:\n",
        "        s += i\n",
        "\n",
        "# 문제3: 1000 미만의 자연수에서 3의 배수와 5의 배수의 총합을 구하는 프로그램을 작성\n",
        "sum(range(0, 1000, 3)) + sum(range(0, 1000, 5)) - sum(range(0, 1000, 15))\n",
        "s = 0\n",
        "for i in range(1000):\n",
        "    if i % 3 == 0 or i % 5 == 0:\n",
        "        s += i\n",
        "s"
      ],
      "metadata": {
        "colab": {
          "base_uri": "https://localhost:8080/"
        },
        "id": "jn7yI3p3A3qK",
        "outputId": "8f4d2de3-6b06-4e48-c77d-21495965b34d"
      },
      "execution_count": 70,
      "outputs": [
        {
          "output_type": "execute_result",
          "data": {
            "text/plain": [
              "233168"
            ]
          },
          "metadata": {},
          "execution_count": 70
        }
      ]
    },
    {
      "cell_type": "code",
      "source": [
        "# 문제4: 아래 메트릭스를 모두 더해주세요.\n",
        "m = [[1, 2, 3], [4, 5, 6], [7, 8, 9]]\n",
        "# sum(m)\n",
        "sum(sum(m, []))"
      ],
      "metadata": {
        "colab": {
          "base_uri": "https://localhost:8080/"
        },
        "id": "lInlbDTxiykU",
        "outputId": "99197f1c-e6fb-406a-e7ea-6ddf951acafd"
      },
      "execution_count": 71,
      "outputs": [
        {
          "output_type": "execute_result",
          "data": {
            "text/plain": [
              "45"
            ]
          },
          "metadata": {},
          "execution_count": 71
        }
      ]
    },
    {
      "cell_type": "code",
      "source": [
        "# 공식\n",
        "\n",
        "sum([1, 2, 3], 100)\n",
        "sum([[1, 2, 3], [4, 5, 6], [7, 8, 9]], [])\n",
        "# [1, 2, 3] + [] == [1, 2, 3]\n",
        "# [4, 5, 6] + [1, 2, 3] == [4, 5, 6, 1, 2, 3]\n",
        "# [7, 8, 9] + [4, 5, 6, 1, 2, 3] == [7, 8, 9, 4, 5, 6, 1, 2, 3]"
      ],
      "metadata": {
        "colab": {
          "base_uri": "https://localhost:8080/"
        },
        "id": "utjwHd6qJXCa",
        "outputId": "0bfd865d-1bff-4fe7-b846-fab29b3e3a16"
      },
      "execution_count": 75,
      "outputs": [
        {
          "output_type": "execute_result",
          "data": {
            "text/plain": [
              "[1, 2, 3, 4, 5, 6, 7, 8, 9]"
            ]
          },
          "metadata": {},
          "execution_count": 75
        }
      ]
    },
    {
      "cell_type": "code",
      "source": [
        "import numpy as np\n",
        "# 수학 수식에 막강한 성능을 자랑합니다.\n",
        "# 수학 수식 관련해서 파이썬보다 속도도 훨~~~~씬 빠르고 기능도 많아요.\n",
        "\n",
        "np.sum([[1, 2, 3], [4, 5, 6], [7, 8, 9]])"
      ],
      "metadata": {
        "colab": {
          "base_uri": "https://localhost:8080/"
        },
        "id": "FQmg2nUkMRRA",
        "outputId": "84cf8b49-8c58-4f2a-d402-90bb2dcab978"
      },
      "execution_count": 11,
      "outputs": [
        {
          "output_type": "execute_result",
          "data": {
            "text/plain": [
              "45"
            ]
          },
          "metadata": {},
          "execution_count": 11
        }
      ]
    },
    {
      "cell_type": "code",
      "source": [
        "# 문제5: 자주 나오는 알파벳과 알파벳 갯수를 많이 나오는 순서대로 출력하세요.\n",
        "import collections\n",
        "\n",
        "s = \"Hello, World! This is a sample string for testing purposes.\"\n",
        "# 방법1\n",
        "# s = s.replace(',', '').replace('!', '').replace('.', '').replace(' ', '')\n",
        "\n",
        "# 방법2\n",
        "# table = str.maketrans(',!.', '   ')\n",
        "# s = s.translate(table).replace(' ', '')\n",
        "\n",
        "# 방법3\n",
        "table = str.maketrans('', '', ',!. ')\n",
        "s = s.translate(table)\n",
        "\n",
        "c = collections.Counter(s)\n",
        "c.most_common"
      ],
      "metadata": {
        "colab": {
          "base_uri": "https://localhost:8080/"
        },
        "id": "gNwTUvWXMSEA",
        "outputId": "0a7c7d92-c062-480a-e8b6-05a84bb187da"
      },
      "execution_count": 74,
      "outputs": [
        {
          "output_type": "execute_result",
          "data": {
            "text/plain": [
              "<bound method Counter.most_common of Counter({'s': 7, 'e': 4, 'l': 4, 'o': 4, 'r': 4, 'i': 4, 'p': 3, 't': 3, 'a': 2, 'n': 2, 'g': 2, 'H': 1, 'W': 1, 'd': 1, 'T': 1, 'h': 1, 'm': 1, 'f': 1, 'u': 1})>"
            ]
          },
          "metadata": {},
          "execution_count": 74
        }
      ]
    },
    {
      "cell_type": "code",
      "source": [
        "d = {}\n",
        "s = \"Hello, World! This is a sample string for testing purposes.\"\n",
        "s = s.replace(',', '').replace('!', '').replace('.', '').replace(' ', '')\n",
        "\n",
        "# 풀이1, 순회를 돌면서 dict에 있으면 += 1, 없으면 =1 대입하면서 푼다\n",
        "for i in s:\n",
        "    if i in d:\n",
        "        d[i] += 1\n",
        "    else:\n",
        "        d[i] = 1\n",
        "d\n",
        "\n",
        "# 풀이2, set으로 만들어서 count를 한다.\n",
        "s = \"Hello, World! This is a sample string for testing purposes.\"\n",
        "for i in set(s):\n",
        "    d[i] = s.count(i)\n",
        "d"
      ],
      "metadata": {
        "colab": {
          "base_uri": "https://localhost:8080/"
        },
        "id": "PRPP1Q_xOdGw",
        "outputId": "34188601-a575-459e-c376-318eedb6c1fb"
      },
      "execution_count": 76,
      "outputs": [
        {
          "output_type": "execute_result",
          "data": {
            "text/plain": [
              "{'H': 1,\n",
              " 'e': 4,\n",
              " 'l': 4,\n",
              " 'o': 4,\n",
              " 'W': 1,\n",
              " 'r': 4,\n",
              " 'd': 1,\n",
              " 'T': 1,\n",
              " 'h': 1,\n",
              " 'i': 4,\n",
              " 's': 7,\n",
              " 'a': 2,\n",
              " 'm': 1,\n",
              " 'p': 3,\n",
              " 't': 3,\n",
              " 'n': 2,\n",
              " 'g': 2,\n",
              " 'f': 1,\n",
              " 'u': 1,\n",
              " '!': 1,\n",
              " ',': 1,\n",
              " '.': 1,\n",
              " ' ': 9}"
            ]
          },
          "metadata": {},
          "execution_count": 76
        }
      ]
    },
    {
      "cell_type": "code",
      "source": [
        "#문제6 트리만들기\n",
        "\n",
        "for i in range(1, 10):\n",
        "    print('*' * (2 * i - 1))"
      ],
      "metadata": {
        "colab": {
          "base_uri": "https://localhost:8080/"
        },
        "id": "yxUrP1vPQ_Ah",
        "outputId": "6aa60b65-9058-4664-a0cb-11c63b0551a5"
      },
      "execution_count": 77,
      "outputs": [
        {
          "output_type": "stream",
          "name": "stdout",
          "text": [
            "*\n",
            "***\n",
            "*****\n",
            "*******\n",
            "*********\n",
            "***********\n",
            "*************\n",
            "***************\n",
            "*****************\n"
          ]
        }
      ]
    },
    {
      "cell_type": "code",
      "source": [
        "# 문제6 트리만들기\n",
        "for i in range(1, 10):\n",
        "    print((' ' * (10 - i + 1)) + ('*' * (2 * i - 1)))\n",
        "\n",
        "\n",
        "\n",
        "#         *\n",
        "#        ***\n",
        "#       *****\n",
        "#      *******\n",
        "#     *********\n",
        "#    ***********\n",
        "#   *************\n",
        "#  ***************\n",
        "# *****************"
      ],
      "metadata": {
        "colab": {
          "base_uri": "https://localhost:8080/"
        },
        "id": "dKeUNejER0IA",
        "outputId": "29a9f7e3-8427-4264-ae6d-5959d01619c4"
      },
      "execution_count": 19,
      "outputs": [
        {
          "output_type": "stream",
          "name": "stdout",
          "text": [
            "          *\n",
            "         ***\n",
            "        *****\n",
            "       *******\n",
            "      *********\n",
            "     ***********\n",
            "    *************\n",
            "   ***************\n",
            "  *****************\n"
          ]
        }
      ]
    },
    {
      "cell_type": "code",
      "source": [
        "for i in range(1, 10):\n",
        "    print(f\"{' ' * (10 - i + 1)}{'*' * ((2 * i) - 1)}\")"
      ],
      "metadata": {
        "colab": {
          "base_uri": "https://localhost:8080/"
        },
        "id": "Co7Pl-YkSjAb",
        "outputId": "a975cc55-eeb4-425c-94c1-2276fd1d253f"
      },
      "execution_count": 20,
      "outputs": [
        {
          "output_type": "stream",
          "name": "stdout",
          "text": [
            "          *\n",
            "         ***\n",
            "        *****\n",
            "       *******\n",
            "      *********\n",
            "     ***********\n",
            "    *************\n",
            "   ***************\n",
            "  *****************\n"
          ]
        }
      ]
    },
    {
      "cell_type": "code",
      "source": [
        "data = 18\n",
        "for i in range(1, 10):\n",
        "    print(f\"{'*' * ((2 * i) - 1):^{data}}\")"
      ],
      "metadata": {
        "colab": {
          "base_uri": "https://localhost:8080/"
        },
        "id": "-sJv_vfySjgx",
        "outputId": "fda669b8-4954-4172-df5f-16b5d8f5664b"
      },
      "execution_count": 21,
      "outputs": [
        {
          "output_type": "stream",
          "name": "stdout",
          "text": [
            "        *         \n",
            "       ***        \n",
            "      *****       \n",
            "     *******      \n",
            "    *********     \n",
            "   ***********    \n",
            "  *************   \n",
            " ***************  \n",
            "***************** \n"
          ]
        }
      ]
    },
    {
      "cell_type": "code",
      "source": [
        "# 다음 자료구조 클래스를 만들어주세요.\n",
        "# 데이터는 <1, 2, 3, 4> 형식으로 숫자만 저장됩니다.\n",
        "# print()를 하면 <1, 2, 3, 4>와 같이 출력이 되어야 합니다.\n",
        "# 메서드는 append, remove가 있습니다.\n",
        "# 아래 연산은 길이가 다르면 error가 납니다.\n",
        "# 나누기 연산은 지원하지 않습니다.\n",
        "# <1, 2, 3, 4> + <1, 2, 3 ,4> == <2, 4, 6, 8>와 같이 같은 순서에 요소를 더합니다.\n",
        "# <1, 2, 3, 4> - <1, 2, 1 ,2> == <0, 0, 2, 2>와 같이 같은 순서에 요소를 뺍니다.\n",
        "# <1, 2, 3, 4> * 3 == <3, 6, 9, 12>가 됩니다.\n",
        "\n",
        "class OperList:\n",
        "    pass\n",
        "\n",
        "l = OperList(1, 2, 3, 4)\n",
        "l.append(5)\n",
        "print(l + l) # 출력: <2, 4, 6, 8, 10>"
      ],
      "metadata": {
        "colab": {
          "base_uri": "https://localhost:8080/",
          "height": 251
        },
        "id": "_cKiIVV3SkUt",
        "outputId": "dbccaa7f-3d36-4ecd-dd08-a3786dcd4df1"
      },
      "execution_count": 22,
      "outputs": [
        {
          "output_type": "error",
          "ename": "TypeError",
          "evalue": "ignored",
          "traceback": [
            "\u001b[0;31m---------------------------------------------------------------------------\u001b[0m",
            "\u001b[0;31mTypeError\u001b[0m                                 Traceback (most recent call last)",
            "\u001b[0;32m<ipython-input-22-56446eb559f9>\u001b[0m in \u001b[0;36m<cell line: 14>\u001b[0;34m()\u001b[0m\n\u001b[1;32m     12\u001b[0m     \u001b[0;32mpass\u001b[0m\u001b[0;34m\u001b[0m\u001b[0;34m\u001b[0m\u001b[0m\n\u001b[1;32m     13\u001b[0m \u001b[0;34m\u001b[0m\u001b[0m\n\u001b[0;32m---> 14\u001b[0;31m \u001b[0ml\u001b[0m \u001b[0;34m=\u001b[0m \u001b[0mOperList\u001b[0m\u001b[0;34m(\u001b[0m\u001b[0;36m1\u001b[0m\u001b[0;34m,\u001b[0m \u001b[0;36m2\u001b[0m\u001b[0;34m,\u001b[0m \u001b[0;36m3\u001b[0m\u001b[0;34m,\u001b[0m \u001b[0;36m4\u001b[0m\u001b[0;34m)\u001b[0m\u001b[0;34m\u001b[0m\u001b[0;34m\u001b[0m\u001b[0m\n\u001b[0m\u001b[1;32m     15\u001b[0m \u001b[0ml\u001b[0m\u001b[0;34m.\u001b[0m\u001b[0mappend\u001b[0m\u001b[0;34m(\u001b[0m\u001b[0;36m5\u001b[0m\u001b[0;34m)\u001b[0m\u001b[0;34m\u001b[0m\u001b[0;34m\u001b[0m\u001b[0m\n\u001b[1;32m     16\u001b[0m \u001b[0mprint\u001b[0m\u001b[0;34m(\u001b[0m\u001b[0ml\u001b[0m \u001b[0;34m+\u001b[0m \u001b[0ml\u001b[0m\u001b[0;34m)\u001b[0m \u001b[0;31m# 출력: <2, 4, 6, 8, 10>\u001b[0m\u001b[0;34m\u001b[0m\u001b[0;34m\u001b[0m\u001b[0m\n",
            "\u001b[0;31mTypeError\u001b[0m: OperList() takes no arguments"
          ]
        }
      ]
    },
    {
      "cell_type": "code",
      "source": [
        "class OperList:\n",
        "    def __init__(self, *args):\n",
        "        self.data = list(args)\n",
        "\n",
        "    def append(self, value):\n",
        "        self.data.append(value)\n",
        "\n",
        "    def __str__(self):\n",
        "        return f\"<{', '.join(map(str, self.data))}>\"\n",
        "\n",
        "    def __add__(self, other):\n",
        "        if len(self.data) != len(other.data):\n",
        "            raise ValueError(\"두 리스트의 길이가 다릅니다.\")\n",
        "        result = [x + y for x, y in zip(self.data, other.data)]\n",
        "        return OperList(*result)\n",
        "\n",
        "    def __sub__(self, other):\n",
        "        if len(self.data) != len(other.data):\n",
        "            raise ValueError(\"두 리스트의 길이가 다릅니다.\")\n",
        "        result = [x - y for x, y in zip(self.data, other.data)]\n",
        "        return OperList(*result)\n",
        "\n",
        "    def __mul__(self, factor):\n",
        "        result = [x * factor for x in self.data]\n",
        "        return OperList(*result)\n",
        "\n",
        "# 테스트\n",
        "l = OperList(1, 2, 3, 4)\n",
        "l.append(5)\n",
        "print(l + l)  # 출력: <2, 4, 6, 8, 10>\n"
      ],
      "metadata": {
        "colab": {
          "base_uri": "https://localhost:8080/"
        },
        "id": "_aYfknBwXDKn",
        "outputId": "be5c33bb-5d06-4ae9-9e60-e1110324205b"
      },
      "execution_count": 23,
      "outputs": [
        {
          "output_type": "stream",
          "name": "stdout",
          "text": [
            "<2, 4, 6, 8, 10>\n"
          ]
        }
      ]
    },
    {
      "cell_type": "code",
      "source": [
        "class OperList:\n",
        "    def __init__(self, *args):\n",
        "        self.__operlist = list(args)\n",
        "\n",
        "    def __str__(self):\n",
        "        return f'<{str(self.__operlist)[1:-1]}>'\n",
        "\n",
        "    def __repr__(self):\n",
        "        return f'<{str(self.__operlist)[1:-1]}>'\n",
        "\n",
        "l = OperList(1, 2, 3, 4)\n",
        "l\n",
        "# l.append(5)\n",
        "# print(l + l) # 출력: <2, 4, 6, 8, 10>"
      ],
      "metadata": {
        "colab": {
          "base_uri": "https://localhost:8080/"
        },
        "id": "cDXLxtWGdDsY",
        "outputId": "1aba8cda-7ef1-44ab-9a73-a3b5cb604a10"
      },
      "execution_count": 24,
      "outputs": [
        {
          "output_type": "execute_result",
          "data": {
            "text/plain": [
              "<1, 2, 3, 4>"
            ]
          },
          "metadata": {},
          "execution_count": 24
        }
      ]
    },
    {
      "cell_type": "code",
      "source": [
        "class OperList:\n",
        "    def __init__(self, *args):\n",
        "        self.__operlist = list(args)\n",
        "\n",
        "    def __str__(self):\n",
        "        return f'<{str(self.__operlist)[1:-1]}>'\n",
        "\n",
        "    def __repr__(self):\n",
        "        return f'<{str(self.__operlist)[1:-1]}>'\n",
        "\n",
        "    def __len__(self):\n",
        "        return self.__operlist.__len__()\n",
        "\n",
        "    def __add__(self, other):\n",
        "        if len(self.__operlist) != len(other.__operlist):\n",
        "            raise\n",
        "        for i in range(len(self.__operlist)):\n",
        "            self.__operlist[i] += other.__operlist[i]\n",
        "        return f'<{str(self.__operlist)[1:-1]}>'\n",
        "\n",
        "    def __sub__(self, other):\n",
        "        if len(self.__operlist) != len(other.__operlist):\n",
        "            raise\n",
        "        for i in range(len(self.__operlist)):\n",
        "            self.__operlist[i] -= other.__operlist[i]\n",
        "        return f'<{str(self.__operlist)[1:-1]}>'\n",
        "\n",
        "    def __mul__(self, other):\n",
        "        if not isinstance(other, int):\n",
        "            raise\n",
        "        for i in range(len(self.__operlist)):\n",
        "            self.__operlist[i] *= other\n",
        "        return f'<{str(self.__operlist)[1:-1]}>'\n",
        "\n",
        "    def append(self, data):\n",
        "        self.__operlist.append(data)\n",
        "\n",
        "    def remove(self, data):\n",
        "        self.__operlist.remove(data)\n",
        "\n",
        "\n",
        "l = OperList(1, 2, 3, 4, 5)\n",
        "ll = OperList(3, 4, 6, 7)\n",
        "print(l + l)\n",
        "print(ll * 2) # 출력: <2, 4, 6, 8, 10>"
      ],
      "metadata": {
        "colab": {
          "base_uri": "https://localhost:8080/"
        },
        "id": "8U6wj9XYdD8W",
        "outputId": "cdf32778-8044-40a7-cc86-ba9d4ec100ce"
      },
      "execution_count": 50,
      "outputs": [
        {
          "output_type": "stream",
          "name": "stdout",
          "text": [
            "<2, 4, 6, 8, 10>\n",
            "<6, 8, 12, 14>\n"
          ]
        }
      ]
    },
    {
      "cell_type": "code",
      "source": [
        "# 과제1:\n",
        "# 마지막 문제 손코딩(만약 여유가 되시면 좀 더 고도화 한 다음 손코딩 해주세요.)\n",
        "\n",
        "# 과제2:\n",
        "# student.csv에는 아래와 같은 텍스트가 담겨있습니다.\n",
        "'''\n",
        "학년,반,번,이름,국어,영어,수학,사회\n",
        "3,3,1,licat,90,80,30,40\n",
        "3,3,2,mura,80,70,60,30\n",
        "3,3,3,binky,30,80,70,30\n",
        "'''\n",
        "# 학생들의 평균을 구해 아래와 같이 student.csv출력되게 해주세요.(xx이라 표기된 곳에 평균 값이 들어가야 합니다.)\n",
        "'''\n",
        "학년,반,번,이름,국어,영어,수학,사회,평균\n",
        "3,3,1,licat,90,80,30,40,xx\n",
        "3,3,2,mura,80,70,60,30,xx\n",
        "3,3,3,binky,30,80,70,30,xx\n",
        "'''"
      ],
      "metadata": {
        "colab": {
          "base_uri": "https://localhost:8080/",
          "height": 54
        },
        "id": "uE6bdwCpo-Vd",
        "outputId": "0ffc626c-d966-4670-af8f-b904eae80088"
      },
      "execution_count": 52,
      "outputs": [
        {
          "output_type": "execute_result",
          "data": {
            "text/plain": [
              "'\\n학년,반,번,이름,국어,영어,수학,사회,평균\\n3,3,1,licat,90,80,30,40,xx\\n3,3,2,mura,80,70,60,30,xx\\n3,3,3,binky,30,80,70,30,xx\\n'"
            ],
            "application/vnd.google.colaboratory.intrinsic+json": {
              "type": "string"
            }
          },
          "metadata": {},
          "execution_count": 52
        }
      ]
    },
    {
      "cell_type": "code",
      "source": [
        "f = open('student.csv', 'w')\n",
        "s = '''학년,반,번,이름,국어,영어,수학,사회\n",
        "3,3,1,licat,90,80,30,40\n",
        "3,3,2,mura,80,70,60,30\n",
        "3,3,3,binky,30,80,70,30\n",
        "'''\n",
        "f.write(s)\n",
        "f.close()"
      ],
      "metadata": {
        "id": "3rnMzPomo_JD"
      },
      "execution_count": 1,
      "outputs": []
    },
    {
      "cell_type": "code",
      "source": [
        "# 강사님 풀이\n",
        "\n",
        "s = ''\n",
        "with open('student.csv', 'r') as f:\n",
        "    lines = f.readlines()\n",
        "    s += lines[0][:-1] + ',평균'\n",
        "    for i in lines[1:]:\n",
        "        data = i.split(',')\n",
        "        s += f'\\n{i.strip()},{sum(map(int, data[4:])) / 4}'\n",
        "\n",
        "with open('student.csv', 'w') as f:\n",
        "    f.write(s)\n",
        "    f.close"
      ],
      "metadata": {
        "id": "maFwCoo1-GLX"
      },
      "execution_count": 2,
      "outputs": []
    },
    {
      "cell_type": "code",
      "source": [
        "f = open('student.csv', 'r')\n",
        "lines = f.readlines()\n",
        "average = f'{lines[0][:-1]},평균\\n'\n",
        "\n",
        "for line in lines:\n",
        "    line = line[:-1]\n",
        "    try:\n",
        "        line += f\",{sum(map(int, line.split(',')[4:])) / 4}\\n\"\n",
        "        average += line\n",
        "    except:\n",
        "        continue\n",
        "\n",
        "f.close()\n",
        "\n",
        "f = open('student.csv', 'w')\n",
        "f.write(average)\n",
        "f.close()"
      ],
      "metadata": {
        "id": "f5SJTvn-0cO-"
      },
      "execution_count": 2,
      "outputs": []
    }
  ]
}