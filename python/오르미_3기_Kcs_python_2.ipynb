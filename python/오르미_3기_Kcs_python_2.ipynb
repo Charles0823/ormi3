{
  "nbformat": 4,
  "nbformat_minor": 0,
  "metadata": {
    "colab": {
      "provenance": [],
      "toc_visible": true,
      "authorship_tag": "ABX9TyNcAstRWgD6spuAa+vE5kE5",
      "include_colab_link": true
    },
    "kernelspec": {
      "name": "python3",
      "display_name": "Python 3"
    },
    "language_info": {
      "name": "python"
    }
  },
  "cells": [
    {
      "cell_type": "markdown",
      "metadata": {
        "id": "view-in-github",
        "colab_type": "text"
      },
      "source": [
        "<a href=\"https://colab.research.google.com/github/Charles0823/ormi3/blob/main/python/%EC%98%A4%EB%A5%B4%EB%AF%B8_3%EA%B8%B0_Kcs_python_2.ipynb\" target=\"_parent\"><img src=\"https://colab.research.google.com/assets/colab-badge.svg\" alt=\"Open In Colab\"/></a>"
      ]
    },
    {
      "cell_type": "markdown",
      "source": [
        "#연산과 구문"
      ],
      "metadata": {
        "id": "ciLf4TeVwG9-"
      }
    },
    {
      "cell_type": "markdown",
      "source": [
        "#산술 연산자"
      ],
      "metadata": {
        "id": "FbF_Oww9v8Iv"
      }
    },
    {
      "cell_type": "code",
      "source": [
        "{'one':1} + {'two':2} # error\n",
        "{5} + {6} # error"
      ],
      "metadata": {
        "id": "QPTjwpvIAvYX"
      },
      "execution_count": null,
      "outputs": []
    },
    {
      "cell_type": "code",
      "source": [
        "print(7 - 4)\n",
        "print(7 -- 4)\n",
        "print(7 --- 4)\n",
        "print(7 ---- 4)"
      ],
      "metadata": {
        "colab": {
          "base_uri": "https://localhost:8080/"
        },
        "id": "ioxeg6GOAvx8",
        "outputId": "ac03cb17-8435-4004-cc00-6e2d428aa557"
      },
      "execution_count": 22,
      "outputs": [
        {
          "output_type": "stream",
          "name": "stdout",
          "text": [
            "3\n",
            "11\n",
            "3\n",
            "11\n"
          ]
        }
      ]
    },
    {
      "cell_type": "code",
      "source": [
        "print(-2 * 2)\n",
        "print(-2 ** 2) # 주의 매우주의!!"
      ],
      "metadata": {
        "colab": {
          "base_uri": "https://localhost:8080/"
        },
        "id": "VhUhRxGMBEX1",
        "outputId": "747aef82-4ead-41b8-d01a-dfb1f3923f4d"
      },
      "execution_count": 24,
      "outputs": [
        {
          "output_type": "stream",
          "name": "stdout",
          "text": [
            "-4\n",
            "-4\n"
          ]
        }
      ]
    },
    {
      "cell_type": "code",
      "source": [
        "result = \"Ha\" * 3\n",
        "print(result) # 결과: \"HaHaHa\""
      ],
      "metadata": {
        "colab": {
          "base_uri": "https://localhost:8080/"
        },
        "id": "FpJUKv2gBNJC",
        "outputId": "a963edd5-b9a2-4c9d-cd80-6a204be577de"
      },
      "execution_count": 25,
      "outputs": [
        {
          "output_type": "stream",
          "name": "stdout",
          "text": [
            "HaHaHa\n"
          ]
        }
      ]
    },
    {
      "cell_type": "code",
      "source": [
        "result = [1, 2, 3] * 2\n",
        "print(result) # 출력: [1, 2, 3, 1, 2, 3]"
      ],
      "metadata": {
        "colab": {
          "base_uri": "https://localhost:8080/"
        },
        "id": "773ZkQ4UBPnX",
        "outputId": "2def91c8-5344-4e0c-a920-f35390d1d740"
      },
      "execution_count": 26,
      "outputs": [
        {
          "output_type": "stream",
          "name": "stdout",
          "text": [
            "[1, 2, 3, 1, 2, 3]\n"
          ]
        }
      ]
    },
    {
      "cell_type": "code",
      "source": [
        "a = 10\n",
        "b = 2\n",
        "print(a / b) # 결과 5.0\n",
        "print(a // b) # 결과 5 (JavaScript에서 //는 주석이라 이 연산이 없습니다.)"
      ],
      "metadata": {
        "colab": {
          "base_uri": "https://localhost:8080/"
        },
        "id": "bP755jsDBQJQ",
        "outputId": "aa0617ef-4aa3-4371-c071-cf29fb9451e2"
      },
      "execution_count": 27,
      "outputs": [
        {
          "output_type": "stream",
          "name": "stdout",
          "text": [
            "5.0\n",
            "5\n"
          ]
        }
      ]
    },
    {
      "cell_type": "code",
      "source": [
        "a = 5\n",
        "b = 2\n",
        "a // b  # //는 몫을 구하는게 아니라 구한 값에서 내림을 한것\n",
        "# python에 //는 몫이 아닙니다!\n",
        "# 내림입니다!"
      ],
      "metadata": {
        "colab": {
          "base_uri": "https://localhost:8080/"
        },
        "id": "8eazP64gv8dA",
        "outputId": "1a771c54-c492-47e8-9281-eb73c21bc9f5"
      },
      "execution_count": 28,
      "outputs": [
        {
          "output_type": "execute_result",
          "data": {
            "text/plain": [
              "2"
            ]
          },
          "metadata": {},
          "execution_count": 28
        }
      ]
    },
    {
      "cell_type": "code",
      "source": [
        "10 / 0 # ZeroDivisionError\n",
        "10 % 0 # ZeroDivisionError"
      ],
      "metadata": {
        "id": "Z-bg8g4fyeyw"
      },
      "execution_count": null,
      "outputs": []
    },
    {
      "cell_type": "code",
      "source": [
        "print(10.123 // 1)\n",
        "print(-10.123 // 1)"
      ],
      "metadata": {
        "colab": {
          "base_uri": "https://localhost:8080/"
        },
        "id": "7trCfYDYBfaW",
        "outputId": "38b4cbd5-f04c-4328-a481-8f19cc8ff086"
      },
      "execution_count": 32,
      "outputs": [
        {
          "output_type": "stream",
          "name": "stdout",
          "text": [
            "10.0\n",
            "-11.0\n"
          ]
        }
      ]
    },
    {
      "cell_type": "code",
      "source": [
        "a = 10\n",
        "b = 3\n",
        "divide = a / b\n",
        "print(f'{a} ÷ {b} = {divide:.2f}')  # 결과: 10 ÷ 3 = 3.33"
      ],
      "metadata": {
        "colab": {
          "base_uri": "https://localhost:8080/"
        },
        "id": "ImA75Ay51l9T",
        "outputId": "ec0209dc-4818-47a6-d45c-d6301b149fcc"
      },
      "execution_count": 48,
      "outputs": [
        {
          "output_type": "stream",
          "name": "stdout",
          "text": [
            "10 ÷ 3 = 3.33\n"
          ]
        }
      ]
    },
    {
      "cell_type": "code",
      "source": [
        "a = 10\n",
        "b = 3\n",
        "divide = a / b\n",
        "print(f'{a} ÷ {b} = {divide:.3f}')  # 결과: 10 ÷ 3 = 3.333"
      ],
      "metadata": {
        "colab": {
          "base_uri": "https://localhost:8080/"
        },
        "id": "XP0SPIXh1mZ6",
        "outputId": "6759bdb2-1e31-46c3-ebed-bc940205f04b"
      },
      "execution_count": 33,
      "outputs": [
        {
          "output_type": "stream",
          "name": "stdout",
          "text": [
            "10 ÷ 3 = 3.333\n"
          ]
        }
      ]
    },
    {
      "cell_type": "code",
      "source": [
        "print(10 % 3.3)\n",
        "print((100 % 33) / 10) # 소숫점 1자리까지 출력해야 한다\n",
        "print((1000 % 330) / 100) # 소숫점 2자리까지 출력해야 한다"
      ],
      "metadata": {
        "colab": {
          "base_uri": "https://localhost:8080/"
        },
        "id": "lIuLIq2jBsRz",
        "outputId": "cdfcfa95-17ca-430a-ae63-39116603e214"
      },
      "execution_count": 46,
      "outputs": [
        {
          "output_type": "stream",
          "name": "stdout",
          "text": [
            "0.10000000000000053\n",
            "0.1\n",
            "0.1\n"
          ]
        }
      ]
    },
    {
      "cell_type": "code",
      "source": [
        "5 == '5' # False"
      ],
      "metadata": {
        "colab": {
          "base_uri": "https://localhost:8080/"
        },
        "id": "QUiQMtx8CNpr",
        "outputId": "8c250ceb-0122-4668-f2bd-9f0906940386"
      },
      "execution_count": 52,
      "outputs": [
        {
          "output_type": "execute_result",
          "data": {
            "text/plain": [
              "False"
            ]
          },
          "metadata": {},
          "execution_count": 52
        }
      ]
    },
    {
      "cell_type": "code",
      "source": [
        "print('apple' < 'banana')\n",
        "print('한' < '후')\n",
        "print('apple' < 'applee')\n",
        "print([10, 20, 30, 35] < [10, 20, 30, 40])\n",
        "print([10, 20, 30] < [10, 20, 30, 40])\n",
        "print([10, 20, 35] < [10, 20, 30, 40])"
      ],
      "metadata": {
        "colab": {
          "base_uri": "https://localhost:8080/"
        },
        "id": "dIO_aVfV1nMd",
        "outputId": "02b22f22-95b0-43f0-83bf-41f4766eccf7"
      },
      "execution_count": 51,
      "outputs": [
        {
          "output_type": "stream",
          "name": "stdout",
          "text": [
            "True\n",
            "True\n",
            "True\n",
            "True\n",
            "True\n",
            "False\n"
          ]
        }
      ]
    },
    {
      "cell_type": "code",
      "source": [
        "print('applea' < 'appleb')\n",
        "print('applec' < 'appleb')\n",
        "print('applea' < 'appleb')"
      ],
      "metadata": {
        "colab": {
          "base_uri": "https://localhost:8080/"
        },
        "id": "wjbKyxhR3f6O",
        "outputId": "9d3de9c0-5c83-4cca-9bdc-ef39e493e668"
      },
      "execution_count": 50,
      "outputs": [
        {
          "output_type": "stream",
          "name": "stdout",
          "text": [
            "True\n",
            "False\n",
            "True\n"
          ]
        }
      ]
    },
    {
      "cell_type": "code",
      "source": [
        "x = 10\n",
        "5 < x < 15"
      ],
      "metadata": {
        "colab": {
          "base_uri": "https://localhost:8080/"
        },
        "id": "RqtH8SsH33y9",
        "outputId": "4c99e08b-a6eb-46b3-9264-522045c59862"
      },
      "execution_count": 53,
      "outputs": [
        {
          "output_type": "execute_result",
          "data": {
            "text/plain": [
              "True"
            ]
          },
          "metadata": {},
          "execution_count": 53
        }
      ]
    },
    {
      "cell_type": "code",
      "source": [
        "x = 20\n",
        "\n",
        "10 < x < 11"
      ],
      "metadata": {
        "colab": {
          "base_uri": "https://localhost:8080/"
        },
        "id": "QkfuAi8SCkRN",
        "outputId": "2b2a55a0-d83d-4bdb-82b4-7b13468cca1c"
      },
      "execution_count": 54,
      "outputs": [
        {
          "output_type": "execute_result",
          "data": {
            "text/plain": [
              "False"
            ]
          },
          "metadata": {},
          "execution_count": 54
        }
      ]
    },
    {
      "cell_type": "markdown",
      "source": [
        "#논리연산자"
      ],
      "metadata": {
        "id": "z2994woa4fuI"
      }
    },
    {
      "cell_type": "code",
      "source": [
        "# and(곱), or(합), not(부정)\n",
        "x = True # 1\n",
        "y = False # 0\n",
        "\n",
        "print(True and False) # False\n",
        "print(True and True) # True\n",
        "print(True or False) # True\n",
        "print(True or True) # True"
      ],
      "metadata": {
        "colab": {
          "base_uri": "https://localhost:8080/"
        },
        "id": "6cEcNIuD4fQI",
        "outputId": "5eeeee08-d845-49b4-f703-5268cc62474e"
      },
      "execution_count": 55,
      "outputs": [
        {
          "output_type": "stream",
          "name": "stdout",
          "text": [
            "False\n",
            "True\n",
            "True\n",
            "True\n"
          ]
        }
      ]
    },
    {
      "cell_type": "code",
      "source": [
        "for i in range(101):\n",
        "    if i % 3 == 0 and i % 5 == 0:\n",
        "        print(i)"
      ],
      "metadata": {
        "colab": {
          "base_uri": "https://localhost:8080/"
        },
        "id": "cVJt-0GMCoM6",
        "outputId": "33a32704-84d0-457d-d0e4-b80d71ac804b"
      },
      "execution_count": 56,
      "outputs": [
        {
          "output_type": "stream",
          "name": "stdout",
          "text": [
            "0\n",
            "15\n",
            "30\n",
            "45\n",
            "60\n",
            "75\n",
            "90\n"
          ]
        }
      ]
    },
    {
      "cell_type": "code",
      "source": [
        "for i in range(101):\n",
        "    if i % 3 == 0:\n",
        "        if i % 5 == 0:\n",
        "            print(i)\n",
        "\n",
        "for i in range(101):\n",
        "    if i % 3 == 0 and i % 5 == 0:\n",
        "        print(i)"
      ],
      "metadata": {
        "id": "0JqVTtuhCojR"
      },
      "execution_count": null,
      "outputs": []
    },
    {
      "cell_type": "code",
      "source": [
        "# https://codingdojang.com/scode/350?answer_mode=hide\n",
        "for i in range(101):\n",
        "    if i % 3 == 0 or i % 5 == 0:\n",
        "        print(i)"
      ],
      "metadata": {
        "id": "Z1ttQUeaCp6m"
      },
      "execution_count": null,
      "outputs": []
    },
    {
      "cell_type": "code",
      "source": [
        "print(not True)  # 결과: False\n",
        "print(not False) # 결과: True"
      ],
      "metadata": {
        "colab": {
          "base_uri": "https://localhost:8080/"
        },
        "id": "Lkzi9HFeCrXZ",
        "outputId": "ff7e5e71-310b-47f2-beaf-1d059e463d01"
      },
      "execution_count": 59,
      "outputs": [
        {
          "output_type": "stream",
          "name": "stdout",
          "text": [
            "False\n",
            "True\n"
          ]
        }
      ]
    },
    {
      "cell_type": "code",
      "source": [
        "# 여기서부터는 나아가기 입니다.\n",
        "a = True\n",
        "b = False\n",
        "\n",
        "a and b and ccc and ddd # 디버깅 할 때 조심"
      ],
      "metadata": {
        "colab": {
          "base_uri": "https://localhost:8080/"
        },
        "id": "aLTEa2hrCuXp",
        "outputId": "a8992f42-3fda-4d5e-801c-76a9937aa49c"
      },
      "execution_count": 60,
      "outputs": [
        {
          "output_type": "execute_result",
          "data": {
            "text/plain": [
              "False"
            ]
          },
          "metadata": {},
          "execution_count": 60
        }
      ]
    },
    {
      "cell_type": "code",
      "source": [
        "a = True\n",
        "b = False\n",
        "\n",
        "a or b or eee or fff"
      ],
      "metadata": {
        "colab": {
          "base_uri": "https://localhost:8080/"
        },
        "id": "9cVlF_RcCwhF",
        "outputId": "c338e7d4-dfde-41af-b87f-97da36e02d43"
      },
      "execution_count": 61,
      "outputs": [
        {
          "output_type": "execute_result",
          "data": {
            "text/plain": [
              "True"
            ]
          },
          "metadata": {},
          "execution_count": 61
        }
      ]
    },
    {
      "cell_type": "code",
      "source": [
        "# 이건 왜 True이죠???\n",
        "# 헷갈리시면 괄호 써주세요.\n",
        "#                                                                   우선순위\n",
        "# x OR y (또는 연산자)\t    if x is FALSE, then y, else x\t        1\n",
        "# x AND y (그리고 연산자)\tif x is FALSE, then x, else y\t        2\n",
        "# NOT x (부정 연산자)\t    if x if FALSE, then True, else FALSE\t3\n",
        "a = True\n",
        "b = False\n",
        "c = False\n",
        "\n",
        "a or b and c"
      ],
      "metadata": {
        "colab": {
          "base_uri": "https://localhost:8080/"
        },
        "id": "JhlJVqEYCxs3",
        "outputId": "7b93cdc6-03fb-4d00-94ca-b58883af323e"
      },
      "execution_count": 62,
      "outputs": [
        {
          "output_type": "execute_result",
          "data": {
            "text/plain": [
              "True"
            ]
          },
          "metadata": {},
          "execution_count": 62
        }
      ]
    },
    {
      "cell_type": "code",
      "source": [
        "a = True\n",
        "b = False\n",
        "c = False\n",
        "d = True\n",
        "\n",
        "a and b or c and d"
      ],
      "metadata": {
        "colab": {
          "base_uri": "https://localhost:8080/"
        },
        "id": "uPsXURH1CzV5",
        "outputId": "784af888-44e4-4f46-ce28-7466134a5e08"
      },
      "execution_count": 63,
      "outputs": [
        {
          "output_type": "execute_result",
          "data": {
            "text/plain": [
              "False"
            ]
          },
          "metadata": {},
          "execution_count": 63
        }
      ]
    },
    {
      "cell_type": "code",
      "source": [
        "a = True\n",
        "b = False\n",
        "c = False\n",
        "d = True\n",
        "\n",
        "a and not b or c and d\n",
        "(a and (not b)) or (c and d)"
      ],
      "metadata": {
        "colab": {
          "base_uri": "https://localhost:8080/"
        },
        "id": "V9G6jbrkC0nM",
        "outputId": "8b2b0856-faa1-4f51-f688-d41a5a250c5a"
      },
      "execution_count": 64,
      "outputs": [
        {
          "output_type": "execute_result",
          "data": {
            "text/plain": [
              "True"
            ]
          },
          "metadata": {},
          "execution_count": 64
        }
      ]
    },
    {
      "cell_type": "code",
      "source": [
        "# 단락회로평가\n",
        "a = 'hello'\n",
        "b = ''\n",
        "\n",
        "a or b"
      ],
      "metadata": {
        "colab": {
          "base_uri": "https://localhost:8080/",
          "height": 36
        },
        "id": "dnNWm8IVC2Jz",
        "outputId": "5de987f6-cc4b-4054-ef2d-9667a354f529"
      },
      "execution_count": 65,
      "outputs": [
        {
          "output_type": "execute_result",
          "data": {
            "text/plain": [
              "'hello'"
            ],
            "application/vnd.google.colaboratory.intrinsic+json": {
              "type": "string"
            }
          },
          "metadata": {},
          "execution_count": 65
        }
      ]
    },
    {
      "cell_type": "code",
      "source": [
        "# 단락회로평가\n",
        "a = 'hello'\n",
        "b = 'world'\n",
        "\n",
        "a or b"
      ],
      "metadata": {
        "colab": {
          "base_uri": "https://localhost:8080/",
          "height": 36
        },
        "id": "E1ZLt3LaC3ed",
        "outputId": "571475fc-1288-4287-8ead-dd566c312811"
      },
      "execution_count": 66,
      "outputs": [
        {
          "output_type": "execute_result",
          "data": {
            "text/plain": [
              "'hello'"
            ],
            "application/vnd.google.colaboratory.intrinsic+json": {
              "type": "string"
            }
          },
          "metadata": {},
          "execution_count": 66
        }
      ]
    },
    {
      "cell_type": "code",
      "source": [
        "# 단락회로평가\n",
        "a = ''\n",
        "b = 'world'\n",
        "\n",
        "a or b"
      ],
      "metadata": {
        "colab": {
          "base_uri": "https://localhost:8080/",
          "height": 36
        },
        "id": "4cJZ8h4CC4kn",
        "outputId": "acb194e7-2d24-462c-b566-989baa5c6540"
      },
      "execution_count": 67,
      "outputs": [
        {
          "output_type": "execute_result",
          "data": {
            "text/plain": [
              "'world'"
            ],
            "application/vnd.google.colaboratory.intrinsic+json": {
              "type": "string"
            }
          },
          "metadata": {},
          "execution_count": 67
        }
      ]
    },
    {
      "cell_type": "code",
      "source": [
        "username = ''\n",
        "\n",
        "username = username or '이름을 정하지 않았습니다.'\n",
        "username"
      ],
      "metadata": {
        "colab": {
          "base_uri": "https://localhost:8080/",
          "height": 36
        },
        "id": "lf76eBjXC5os",
        "outputId": "457bfdd3-97ac-4be4-b7d5-982689f2308a"
      },
      "execution_count": 68,
      "outputs": [
        {
          "output_type": "execute_result",
          "data": {
            "text/plain": [
              "'이름을 정하지 않았습니다.'"
            ],
            "application/vnd.google.colaboratory.intrinsic+json": {
              "type": "string"
            }
          },
          "metadata": {},
          "execution_count": 68
        }
      ]
    },
    {
      "cell_type": "code",
      "source": [
        "username = 'licat'\n",
        "\n",
        "username = username or '이름을 정하지 않았습니다.'\n",
        "username\n",
        "# result = functionA() or functionB()\n",
        "# 앞에 값이 None이나 0이 이면 뒤에 값으로 result를 만들겠다는 얘기고\n",
        "# 아니라면 앞에 값으로 result를 만들겠다는 얘기입니다."
      ],
      "metadata": {
        "colab": {
          "base_uri": "https://localhost:8080/",
          "height": 36
        },
        "id": "EiaQbMpBC6-v",
        "outputId": "e8d546ff-1cbb-4c01-a07f-9933a4478d6e"
      },
      "execution_count": 78,
      "outputs": [
        {
          "output_type": "execute_result",
          "data": {
            "text/plain": [
              "'licat'"
            ],
            "application/vnd.google.colaboratory.intrinsic+json": {
              "type": "string"
            }
          },
          "metadata": {},
          "execution_count": 78
        }
      ]
    },
    {
      "cell_type": "markdown",
      "source": [
        "#할당연산자"
      ],
      "metadata": {
        "id": "4T_HZiZe-deW"
      }
    },
    {
      "cell_type": "code",
      "source": [
        "x = 10\n",
        "y = 20"
      ],
      "metadata": {
        "id": "xOnP2dzm-hgL"
      },
      "execution_count": 71,
      "outputs": []
    },
    {
      "cell_type": "code",
      "source": [
        "x = x + 1"
      ],
      "metadata": {
        "id": "06lRe9sU_uhx"
      },
      "execution_count": 72,
      "outputs": []
    },
    {
      "cell_type": "code",
      "source": [
        "x += 1\n",
        "x -= 1"
      ],
      "metadata": {
        "id": "taLK1leTDDvL"
      },
      "execution_count": 73,
      "outputs": []
    },
    {
      "cell_type": "code",
      "source": [
        "x /= 1\n",
        "x //= 1\n",
        "x **= 1\n",
        "x *= 1\n",
        "x %= 1"
      ],
      "metadata": {
        "id": "Tzo03jMODE44"
      },
      "execution_count": 74,
      "outputs": []
    },
    {
      "cell_type": "markdown",
      "source": [
        "#id 연산자, is 연산자, is not 연산자"
      ],
      "metadata": {
        "id": "NcY-1cyX_3QK"
      }
    },
    {
      "cell_type": "code",
      "source": [
        "a = 10000\n",
        "b = 10000\n",
        "a is b"
      ],
      "metadata": {
        "colab": {
          "base_uri": "https://localhost:8080/"
        },
        "id": "SZC3FSHiDI3g",
        "outputId": "cc95ccd3-14c7-4741-a3e0-0115c71b9958"
      },
      "execution_count": 75,
      "outputs": [
        {
          "output_type": "execute_result",
          "data": {
            "text/plain": [
              "False"
            ]
          },
          "metadata": {},
          "execution_count": 75
        }
      ]
    },
    {
      "cell_type": "code",
      "source": [
        "id(a), id(b)"
      ],
      "metadata": {
        "colab": {
          "base_uri": "https://localhost:8080/"
        },
        "id": "IpOUGK7JDJDl",
        "outputId": "ba1351a1-9a5d-439a-bf90-0ceae4932fff"
      },
      "execution_count": 76,
      "outputs": [
        {
          "output_type": "execute_result",
          "data": {
            "text/plain": [
              "(139926826344720, 139926826344528)"
            ]
          },
          "metadata": {},
          "execution_count": 76
        }
      ]
    },
    {
      "cell_type": "code",
      "source": [
        "a = [1, 2, 3]\n",
        "b = [1, 2, 3]\n",
        "a is b"
      ],
      "metadata": {
        "colab": {
          "base_uri": "https://localhost:8080/"
        },
        "id": "CWxsJSiNDKUr",
        "outputId": "987f2986-1bd3-4b15-ef87-c3136b1129a9"
      },
      "execution_count": 77,
      "outputs": [
        {
          "output_type": "execute_result",
          "data": {
            "text/plain": [
              "False"
            ]
          },
          "metadata": {},
          "execution_count": 77
        }
      ]
    },
    {
      "cell_type": "code",
      "source": [
        "coffee = \"Brand\"\n",
        "orange = \"Brand\"\n",
        "\n",
        "print(coffee is orange)\n",
        "print(coffee == orange)"
      ],
      "metadata": {
        "id": "ChZwMFDV_ulp"
      },
      "execution_count": null,
      "outputs": []
    },
    {
      "cell_type": "markdown",
      "source": [
        "#연습문제"
      ],
      "metadata": {
        "id": "Fhl9vgBtIDk7"
      }
    },
    {
      "cell_type": "code",
      "source": [
        "x = 3\n",
        "y = 5\n",
        "result = x + y or (isinstance(x, int) and isinstance(y, int))\n",
        "# 여기에 논리연산자를 더 붙여 두 수를 더하는 코드를 만들어보세요.\n",
        "\n",
        "print(result) # 8이 출력되어야 합니다."
      ],
      "metadata": {
        "colab": {
          "base_uri": "https://localhost:8080/"
        },
        "id": "84Y2n25jIMNM",
        "outputId": "1f896430-5c2e-4583-fbb9-1be9e01474d9"
      },
      "execution_count": 105,
      "outputs": [
        {
          "output_type": "stream",
          "name": "stdout",
          "text": [
            "8\n"
          ]
        }
      ]
    },
    {
      "cell_type": "code",
      "source": [
        "#다음 출력값은 무엇일까요? 왜 그러한가요?\n",
        "print('hello' < 'hell o') # 유니코드에서 공백이 o보다 앞에 나오기 때문에 False 입니다.\n",
        "print([10, 20, 30] < [10, 19, 100])\n",
        "# 순차적으로 비교하기 때문에 10은 동일하고, 다음이 20 < 19 이니까 False 입니다.\n",
        "print(10 % 3.3 == 0.1)\n",
        "# 부동 소수점 오차로 소수접을 정수값이 될때까지 10의 제곱단위로 곱해주고 나온 값을 다시 나눠줘야합니다."
      ],
      "metadata": {
        "colab": {
          "base_uri": "https://localhost:8080/"
        },
        "id": "AIb-GlTZIMpG",
        "outputId": "4399549d-f0e3-46b2-e592-2c8409432c84"
      },
      "execution_count": 106,
      "outputs": [
        {
          "output_type": "stream",
          "name": "stdout",
          "text": [
            "False\n",
            "False\n",
            "False\n"
          ]
        }
      ]
    },
    {
      "cell_type": "code",
      "source": [
        "#어떤 이메일을 쓰고 있는지 출력하는 코드를 작성해주세요.\n",
        "email2 = 'abc@gmail.com' # gmail\n",
        "email3 = 'abc@naver.com' # naver\n",
        "email4 = 'abc@weniv.co.kr' # weniv\n",
        "email5 = 'li.cat@weniv.co.kr' # weniv\n",
        "\n",
        "print(email2[email2.rindex('@')+1:].split(\".\")[0])\n",
        "print(email3[email3.rindex('@')+1:].split(\".\")[0])\n",
        "print(email4[email4.index('@')+1:].split(\".\")[0])\n",
        "print(email5[email5.index('@')+1:].split(\".\")[0])"
      ],
      "metadata": {
        "colab": {
          "base_uri": "https://localhost:8080/"
        },
        "id": "uH5iZUiVIPkm",
        "outputId": "5729a6d9-81a1-45a7-fc5c-bf71f0aef707"
      },
      "execution_count": 138,
      "outputs": [
        {
          "output_type": "stream",
          "name": "stdout",
          "text": [
            "gmail\n",
            "naver\n",
            "weniv\n",
            "weniv\n"
          ]
        }
      ]
    }
  ]
}