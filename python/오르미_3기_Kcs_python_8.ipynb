{
  "nbformat": 4,
  "nbformat_minor": 0,
  "metadata": {
    "colab": {
      "provenance": [],
      "toc_visible": true,
      "authorship_tag": "ABX9TyNpv8wziuAPkoP3EkTSwS/1",
      "include_colab_link": true
    },
    "kernelspec": {
      "name": "python3",
      "display_name": "Python 3"
    },
    "language_info": {
      "name": "python"
    }
  },
  "cells": [
    {
      "cell_type": "markdown",
      "metadata": {
        "id": "view-in-github",
        "colab_type": "text"
      },
      "source": [
        "<a href=\"https://colab.research.google.com/github/Charles0823/ormi3/blob/main/python/%EC%98%A4%EB%A5%B4%EB%AF%B8_3%EA%B8%B0_Kcs_python_8.ipynb\" target=\"_parent\"><img src=\"https://colab.research.google.com/assets/colab-badge.svg\" alt=\"Open In Colab\"/></a>"
      ]
    },
    {
      "cell_type": "markdown",
      "source": [
        "# 크롤링"
      ],
      "metadata": {
        "id": "oxHq-sI7pvRg"
      }
    },
    {
      "cell_type": "code",
      "source": [
        "# select만 알고 있으면 됩니다. 다른건 나중에 전문적으로 할때"
      ],
      "metadata": {
        "id": "oghHLMj6pxLX"
      },
      "execution_count": null,
      "outputs": []
    },
    {
      "cell_type": "code",
      "execution_count": 1,
      "metadata": {
        "id": "zN30XSsOXS9f"
      },
      "outputs": [],
      "source": [
        "import requests\n",
        "import bs4"
      ]
    },
    {
      "cell_type": "code",
      "source": [
        "print(requests.__version__)\n",
        "print(bs4.__version__)"
      ],
      "metadata": {
        "colab": {
          "base_uri": "https://localhost:8080/"
        },
        "id": "Hah1t1mvgUPW",
        "outputId": "0fc00c5d-12bf-4853-c7f4-5b16b4467b4c"
      },
      "execution_count": 2,
      "outputs": [
        {
          "output_type": "stream",
          "name": "stdout",
          "text": [
            "2.31.0\n",
            "4.11.2\n"
          ]
        }
      ]
    },
    {
      "cell_type": "code",
      "source": [
        "import requests\n",
        "\n",
        "html = requests.get('https://www.paullab.co.kr/stock.html')\n",
        "html"
      ],
      "metadata": {
        "colab": {
          "base_uri": "https://localhost:8080/"
        },
        "id": "UR-sr0XHgWgo",
        "outputId": "c1248b37-1c98-4f1a-8afc-edae74add382"
      },
      "execution_count": 4,
      "outputs": [
        {
          "output_type": "execute_result",
          "data": {
            "text/plain": [
              "<Response [200]>"
            ]
          },
          "metadata": {},
          "execution_count": 4
        }
      ]
    },
    {
      "cell_type": "code",
      "source": [
        "print(type(html))\n",
        "print(dir(html))\n",
        "print(html.encoding)\n",
        "# html.encoding = 'utf-8' # 한글 깨져 나오면 이 코드를 실행해주세요.\n",
        "# html.headers\n",
        "# html.json\n",
        "# html.raw\n",
        "html.text    # 우리가 사용하는 것은 text뿐입니다."
      ],
      "metadata": {
        "id": "nsc6h6hzgXpk"
      },
      "execution_count": null,
      "outputs": []
    },
    {
      "cell_type": "code",
      "source": [
        "params = {'pa1': 'val1', 'pa2': 'value2'}\n",
        "response = requests.get('http://www.paullab.co.kr', params=params)\n",
        "# response.text\n",
        "response.url"
      ],
      "metadata": {
        "colab": {
          "base_uri": "https://localhost:8080/",
          "height": 36
        },
        "id": "_K48o6CthiWJ",
        "outputId": "76dbec8b-0ca5-49c3-9916-3ffd926ec200"
      },
      "execution_count": 5,
      "outputs": [
        {
          "output_type": "execute_result",
          "data": {
            "text/plain": [
              "'https://paullab.co.kr/?pa1=val1&pa2=value2'"
            ],
            "application/vnd.google.colaboratory.intrinsic+json": {
              "type": "string"
            }
          },
          "metadata": {},
          "execution_count": 5
        }
      ]
    },
    {
      "cell_type": "code",
      "source": [
        "import time\n",
        "\n",
        "for i in range(10):\n",
        "    requests.get('https://habitmaker.co.kr/')\n",
        "    time.sleep(1)"
      ],
      "metadata": {
        "id": "z-zZtJ--UjdF"
      },
      "execution_count": null,
      "outputs": []
    },
    {
      "cell_type": "code",
      "source": [
        "import requests\n",
        "from bs4 import BeautifulSoup\n",
        "\n",
        "response = requests.get('http://www.paullab.co.kr/stock.html')\n",
        "response.encoding = 'utf-8'\n",
        "html = response.text\n",
        "\n",
        "soup = BeautifulSoup(html, 'html.parser') # 원하는 문자열로 잘라줌\n",
        "# soup"
      ],
      "metadata": {
        "id": "HM4bO4TMh-S-"
      },
      "execution_count": 7,
      "outputs": []
    },
    {
      "cell_type": "code",
      "source": [
        "print(soup.prettify()) # html 문서형식으로 출력"
      ],
      "metadata": {
        "id": "5AVC39yfUxPA"
      },
      "execution_count": null,
      "outputs": []
    },
    {
      "cell_type": "code",
      "source": [
        "soup.title"
      ],
      "metadata": {
        "colab": {
          "base_uri": "https://localhost:8080/"
        },
        "id": "S8SkLdSJUxiy",
        "outputId": "b9fb4277-425d-459b-ba55-3074691960a4"
      },
      "execution_count": 9,
      "outputs": [
        {
          "output_type": "execute_result",
          "data": {
            "text/plain": [
              "<title>Document</title>"
            ]
          },
          "metadata": {},
          "execution_count": 9
        }
      ]
    },
    {
      "cell_type": "code",
      "source": [
        "soup.head"
      ],
      "metadata": {
        "id": "I_kdH_LLUzbd"
      },
      "execution_count": null,
      "outputs": []
    },
    {
      "cell_type": "code",
      "source": [
        "soup.select('#update')"
      ],
      "metadata": {
        "colab": {
          "base_uri": "https://localhost:8080/"
        },
        "id": "2cEiw8gyU0mJ",
        "outputId": "6848e97d-3c15-497b-d1d5-acf3c8d36bc0"
      },
      "execution_count": 11,
      "outputs": [
        {
          "output_type": "execute_result",
          "data": {
            "text/plain": [
              "[<span id=\"update\">update : 20.12.30 / 해외 크롤링이 Block되어 있으므로 크롤링이 안되시는 분은 이 URL(http://paullab.synology.me/stock.html)을 사용하세요.</span>]"
            ]
          },
          "metadata": {},
          "execution_count": 11
        }
      ]
    },
    {
      "cell_type": "code",
      "source": [
        "soup.select('#_market_sum')\n",
        "soup.select('#_market_sum')[0]\n",
        "soup.select('#_market_sum')[0].text"
      ],
      "metadata": {
        "colab": {
          "base_uri": "https://localhost:8080/",
          "height": 36
        },
        "id": "53K8KjTnU2Uu",
        "outputId": "50454e9c-3b50-477f-fcd8-2c982d417a84"
      },
      "execution_count": 12,
      "outputs": [
        {
          "output_type": "execute_result",
          "data": {
            "text/plain": [
              "'349조 2,323'"
            ],
            "application/vnd.google.colaboratory.intrinsic+json": {
              "type": "string"
            }
          },
          "metadata": {},
          "execution_count": 12
        }
      ]
    },
    {
      "cell_type": "code",
      "source": [
        "# 2019.10.23 거래량 출력\n",
        "soup.select('.table > tbody > tr')[1].select('td')[5].text # 높이 평가합니다.\n",
        "# soup.select('.num span')[5].text\n",
        "# 포털사는 클래스 이름을 주기적으로 변경하기 때문에 이 코드는 곧 작동되지 않습니다."
      ],
      "metadata": {
        "colab": {
          "base_uri": "https://localhost:8080/",
          "height": 36
        },
        "id": "B9ZJTHoXnfIo",
        "outputId": "fb1334f0-7741-42ca-cb14-c9c078a43273"
      },
      "execution_count": 20,
      "outputs": [
        {
          "output_type": "execute_result",
          "data": {
            "text/plain": [
              "'6,580'"
            ],
            "application/vnd.google.colaboratory.intrinsic+json": {
              "type": "string"
            }
          },
          "metadata": {},
          "execution_count": 20
        }
      ]
    },
    {
      "cell_type": "code",
      "source": [
        "# 문제1 https://www.paullab.co.kr/stock.html 서비스를 크롤링하여 제주코딩베이스캠프 연구원의 2019년 10월 총 거래량을 구해주세요.\n",
        "\n",
        "# 문제2 html에서 태그를 제거하고 텍스트만 뽑아낼 수 있도록 해주세요.\n",
        "# '<p>This is a <em>simple</em> example.</p>'\n",
        "\n",
        "# 문제3 아래 텍스트에서 이메일만 추출할 수 있는 정규표현식을 만들어주세요.\n",
        "# '제 이메일 주소는 example1@gmail.com이고 회사 이메일 주소는 example2@gmail.com 입니다. example1로 연락을 주셨다면 제게 메시지 한 번 부탁드립니다.'"
      ],
      "metadata": {
        "id": "RCLlkl93y9b0"
      },
      "execution_count": 16,
      "outputs": []
    },
    {
      "cell_type": "code",
      "source": [
        "# 문제1 https://www.paullab.co.kr/stock.html 서비스를 크롤링하여 제주코딩베이스캠프 연구원의 2019년 10월 총 거래량을 구해주세요.\n",
        "\n",
        "import requests\n",
        "from bs4 import BeautifulSoup\n",
        "\n",
        "response = requests.get('http://www.paullab.co.kr/stock.html')\n",
        "response.encoding = 'utf-8'\n",
        "html = response.text\n",
        "soup = BeautifulSoup(html, 'html.parser')\n",
        "\n",
        "# k = soup.select('.table > tbody > tr')[1].select('td')[6].text\n",
        "all_trade = 0\n",
        "day_trade = soup.select('.table > tbody > tr')[1:16]\n",
        "\n",
        "for i in day_trade:\n",
        "    all_trade += int(i.select('td')[6].text.replace(',',''))\n",
        "\n",
        "print(all_trade)"
      ],
      "metadata": {
        "colab": {
          "base_uri": "https://localhost:8080/"
        },
        "id": "NSujUvY7y_F4",
        "outputId": "1b0d17a2-bbcb-47c0-97fa-238916976575"
      },
      "execution_count": 14,
      "outputs": [
        {
          "output_type": "stream",
          "name": "stdout",
          "text": [
            "10895826\n"
          ]
        }
      ]
    },
    {
      "cell_type": "code",
      "source": [
        "# 강사님 풀이\n",
        "\n",
        "request = requests.get('https://www.paullab.co.kr/stock.html')\n",
        "html = request.text\n",
        "soup = BeautifulSoup(html, 'html.parser')\n",
        "\n",
        "i = 1\n",
        "total = 0\n",
        "while True:\n",
        "    tr = soup.select('.main > table > tbody > tr')[i]\n",
        "    month = int(tr.select('td')[0].text.split('.')[1])\n",
        "    if month != 10:\n",
        "        break\n",
        "    sells = int(tr.select('td')[6].text.replace(',',''))\n",
        "    total += sells\n",
        "    i += 1\n",
        "total"
      ],
      "metadata": {
        "colab": {
          "base_uri": "https://localhost:8080/"
        },
        "id": "ifyhYETeVNCy",
        "outputId": "3db7a956-4d68-4dec-8c7a-53eabeb1363a"
      },
      "execution_count": 15,
      "outputs": [
        {
          "output_type": "execute_result",
          "data": {
            "text/plain": [
              "10895826"
            ]
          },
          "metadata": {},
          "execution_count": 15
        }
      ]
    },
    {
      "cell_type": "code",
      "source": [
        "# 문제2 html에서 태그를 제거하고 텍스트만 뽑아낼 수 있도록 해주세요.\n",
        "\n",
        "import re\n",
        "\n",
        "s = '<p>This is a <em>simple</em> example.</p>'\n",
        "\n",
        "text = re.sub(r'<[^>]*>', '', s)\n",
        "print(text)"
      ],
      "metadata": {
        "colab": {
          "base_uri": "https://localhost:8080/"
        },
        "id": "t0Fn3EFk30gK",
        "outputId": "87e6574f-5e6a-4bda-b348-f00deecf7d7c"
      },
      "execution_count": 32,
      "outputs": [
        {
          "output_type": "stream",
          "name": "stdout",
          "text": [
            "This is a simple example.\n"
          ]
        }
      ]
    },
    {
      "cell_type": "code",
      "source": [
        "# 문제3 아래 텍스트에서 이메일만 추출할 수 있는 정규표현식을 만들어주세요.\n",
        "\n",
        "import re\n",
        "\n",
        "text = '제 이메일 주소는 example1@gmail.com이고 회사 이메일 주소는 example2@gmail.com 입니다. example1로 연락을 주셨다면 제게 메시지 한 번 부탁드립니다.'\n",
        "\n",
        "k = re.sub(r'이고', '', text)\n",
        "email = r'\\S+@\\S+'\n",
        "\n",
        "emails = re.findall(email, k)\n",
        "print(emails)"
      ],
      "metadata": {
        "colab": {
          "base_uri": "https://localhost:8080/"
        },
        "id": "4KGponOi4TuA",
        "outputId": "351fab9f-d0d7-4483-8e54-ff84f27f5fa7"
      },
      "execution_count": 5,
      "outputs": [
        {
          "output_type": "stream",
          "name": "stdout",
          "text": [
            "['example1@gmail.com', 'example2@gmail.com']\n"
          ]
        }
      ]
    },
    {
      "cell_type": "code",
      "source": [
        "text = '제 이메일 주소는 example1@gmail.com이고 회사 이메일 주소는 example2@gmail.com 입니다. example1로 연락을 주셨다면 제게 메시지 한 번 부탁드립니다.'\n",
        "p = re.compile('\\w+@\\w+.com')\n",
        "p.findall(text)"
      ],
      "metadata": {
        "colab": {
          "base_uri": "https://localhost:8080/"
        },
        "id": "F_rojda9BDmY",
        "outputId": "f815db40-29d5-4e94-b46b-35071f2635f1"
      },
      "execution_count": 16,
      "outputs": [
        {
          "output_type": "execute_result",
          "data": {
            "text/plain": [
              "['example1@gmail.com', 'example2@gmail.com']"
            ]
          },
          "metadata": {},
          "execution_count": 16
        }
      ]
    },
    {
      "cell_type": "code",
      "source": [
        "import requests\n",
        "from bs4 import BeautifulSoup\n",
        "import re\n",
        "\n",
        "# 문제1 https://www.paullab.co.kr/stock.html\n",
        "# 서비스를 크롤링하여 제주코딩베이스캠프 연구원의 2019년 10월 총 거래량을 구해주세요.\n",
        "\n",
        "request = requests.get('https://www.paullab.co.kr/stock.html')\n",
        "html = request.text\n",
        "soup = BeautifulSoup(html, 'html.parser')"
      ],
      "metadata": {
        "id": "DypW6vlYQRcU"
      },
      "execution_count": 2,
      "outputs": []
    },
    {
      "cell_type": "code",
      "source": [
        "class DailyTradingVolume:\n",
        "    def __init__(self, 날짜, 종가, 전일비, 시가, 고가, 저가, 거래량):\n",
        "        self.날짜 = 날짜\n",
        "        self.종가 = 종가\n",
        "        self.전일비 = 전일비\n",
        "        self.시가 = 시가\n",
        "        self.고가 = 고가\n",
        "        self.저가 = 저가\n",
        "        self.거래량 = 거래량\n",
        "\n",
        "    def __str__(self):\n",
        "        return f'{self.날짜}, {self.종가}'\n",
        "\n",
        "    def __repr__(self):\n",
        "        return f'{self.날짜}, {self.종가}'\n",
        "\n",
        "class PublicCompany:\n",
        "    def __init__(self, 시가총액, 상장주식수, 매출, 비용, 순익):\n",
        "        self.시가총액 = 시가총액\n",
        "        self.상장주식수 = 상장주식수\n",
        "        self.매출 = 매출\n",
        "        self.비용 = 비용\n",
        "        self.순익 = 순익\n",
        "        self.거래 = [] # 여기를 좀 더 고도화하여 연도별로 관리되게 하시는 편이 좋아보입니다.\n",
        "\n",
        "제코베연구원 = PublicCompany(시가총액 = 100,\n",
        "                       상장주식수 = 100,\n",
        "                       매출 = 100,\n",
        "                       비용 = 100,\n",
        "                       순익 = 100)\n",
        "\n",
        "제코베연구원.매출"
      ],
      "metadata": {
        "colab": {
          "base_uri": "https://localhost:8080/"
        },
        "id": "XGRSqLCAQSBP",
        "outputId": "06fae048-351b-4501-e9c8-2c51816e8407"
      },
      "execution_count": 3,
      "outputs": [
        {
          "output_type": "execute_result",
          "data": {
            "text/plain": [
              "100"
            ]
          },
          "metadata": {},
          "execution_count": 3
        }
      ]
    },
    {
      "cell_type": "code",
      "source": [
        "import requests\n",
        "from bs4 import BeautifulSoup\n",
        "import re\n",
        "\n",
        "# 문제1 https://www.paullab.co.kr/stock.html\n",
        "# 서비스를 크롤링하여 제주코딩베이스캠프 연구원의 2019년 10월 총 거래량을 구해주세요.\n",
        "\n",
        "request = requests.get('https://www.paullab.co.kr/stock.html')\n",
        "html = request.text\n",
        "soup = BeautifulSoup(html, 'html.parser')"
      ],
      "metadata": {
        "id": "C_grtDWiQU4h"
      },
      "execution_count": 4,
      "outputs": []
    },
    {
      "cell_type": "code",
      "source": [
        "soup.select('.main > table > tbody > tr')[1]       #\n",
        "soup.select('.main > table > tbody > tr')[2]       #\n",
        "soup.select('.main > table > tbody > tr')[-1]      #"
      ],
      "metadata": {
        "colab": {
          "base_uri": "https://localhost:8080/"
        },
        "id": "5yt_qi2HQWa2",
        "outputId": "ef1465ed-c036-4009-fbb2-22072a87059f"
      },
      "execution_count": 5,
      "outputs": [
        {
          "output_type": "execute_result",
          "data": {
            "text/plain": [
              "<tr>\n",
              "<td align=\"center\"><span class=\"date\">2019.09.24</span></td>\n",
              "<td class=\"num\"><span>2,065</span></td>\n",
              "<td class=\"num\">\n",
              "<img alt=\"상승\" height=\"6\" src=\"ico_up.gif\" style=\"margin-right:4px;\" width=\"7\"/><span>\n",
              "                            30\n",
              "                        </span>\n",
              "</td>\n",
              "<td class=\"num\"><span>2,020</span></td>\n",
              "<td class=\"num\"><span>2,090</span></td>\n",
              "<td class=\"num\"><span>2,020</span></td>\n",
              "<td class=\"num\"><span>139,085</span></td>\n",
              "</tr>"
            ]
          },
          "metadata": {},
          "execution_count": 5
        }
      ]
    },
    {
      "cell_type": "code",
      "source": [
        "soup.select('.main > table')[0]     # 모든 내역 다 긁어오기 때문에 엄청 깁니다."
      ],
      "metadata": {
        "id": "KuYX9SOXQXWU"
      },
      "execution_count": null,
      "outputs": []
    },
    {
      "cell_type": "code",
      "source": [
        "'''\n",
        "<tr>\n",
        "<th scope=\"col\">날짜</th>\n",
        "<th scope=\"col\">종가</th>\n",
        "<th scope=\"col\">전일비</th>\n",
        "<th scope=\"col\">시가</th>\n",
        "<th scope=\"col\">고가</th>\n",
        "<th scope=\"col\">저가</th>\n",
        "<th scope=\"col\">거래량</th>\n",
        "</tr>\n",
        "'''\n",
        "# print(type(soup.select('.main > table')[0]))\n",
        "# print(type(soup))\n",
        "for i in soup.select('.main > table')[0].select('tr')[1:]:\n",
        "    # print(i.select('td')[0].text)\n",
        "    # 날짜 =\n",
        "    # 종가 =\n",
        "    # 전일비 =\n",
        "    # DailyTradingVolume()"
      ],
      "metadata": {
        "colab": {
          "base_uri": "https://localhost:8080/"
        },
        "id": "AmTchX9HQaKD",
        "outputId": "095253b0-c9ea-48d7-cca8-a274a98f77fd"
      },
      "execution_count": 7,
      "outputs": [
        {
          "output_type": "stream",
          "name": "stdout",
          "text": [
            "2019.10.23\n",
            "2019.10.22\n",
            "2019.10.21\n",
            "2019.10.18\n",
            "2019.10.17\n",
            "2019.10.16\n",
            "2019.10.15\n",
            "2019.10.14\n",
            "2019.10.11\n",
            "2019.10.10\n",
            "2019.10.08\n",
            "2019.10.07\n",
            "2019.10.04\n",
            "2019.10.02\n",
            "2019.10.01\n",
            "2019.09.30\n",
            "2019.09.27\n",
            "2019.09.26\n",
            "2019.09.25\n",
            "2019.09.24\n"
          ]
        }
      ]
    },
    {
      "cell_type": "code",
      "source": [
        "# 날짜, 종가, 전일비, 시가, 고가, 저가, 거래량\n",
        "for i in soup.select('.main > table')[0].select('tr')[1:]:\n",
        "    날짜 = i.select('td')[0].text\n",
        "    종가 = i.select('td')[1].text\n",
        "    전일비 = i.select('td')[2].text\n",
        "    시가 = i.select('td')[3].text\n",
        "    고가 = i.select('td')[4].text\n",
        "    저가 = i.select('td')[5].text\n",
        "    거래량 = i.select('td')[6].text\n",
        "    제코베연구원.거래.append(DailyTradingVolume(날짜, 종가, 전일비, 시가, 고가, 저가, 거래량))\n",
        "\n",
        "제코베연구원.거래"
      ],
      "metadata": {
        "colab": {
          "base_uri": "https://localhost:8080/"
        },
        "id": "2ZyzUejlQbUe",
        "outputId": "547fcb9e-28c3-43c5-fa05-dcdedf5a41ec"
      },
      "execution_count": 8,
      "outputs": [
        {
          "output_type": "execute_result",
          "data": {
            "text/plain": [
              "[2019.10.23, 6,650,\n",
              " 2019.10.22, 6,630,\n",
              " 2019.10.21, 6,820,\n",
              " 2019.10.18, 6,430,\n",
              " 2019.10.17, 5,950,\n",
              " 2019.10.16, 5,930,\n",
              " 2019.10.15, 5,640,\n",
              " 2019.10.14, 5,380,\n",
              " 2019.10.11, 5,040,\n",
              " 2019.10.10, 5,100,\n",
              " 2019.10.08, 5,050,\n",
              " 2019.10.07, 4,940,\n",
              " 2019.10.04, 5,010,\n",
              " 2019.10.02, 4,920,\n",
              " 2019.10.01, 5,010,\n",
              " 2019.09.30, 5,000,\n",
              " 2019.09.27, 5,010,\n",
              " 2019.09.26, 5,060,\n",
              " 2019.09.25, 5,060,\n",
              " 2019.09.24, 5,330]"
            ]
          },
          "metadata": {},
          "execution_count": 8
        }
      ]
    },
    {
      "cell_type": "code",
      "source": [
        "제코베연구원.거래[0].시가"
      ],
      "metadata": {
        "colab": {
          "base_uri": "https://localhost:8080/",
          "height": 36
        },
        "id": "uEWOjm-UQfup",
        "outputId": "a1a763ca-33c8-4f69-f879-e43b07aa9c22"
      },
      "execution_count": 9,
      "outputs": [
        {
          "output_type": "execute_result",
          "data": {
            "text/plain": [
              "'6,590'"
            ],
            "application/vnd.google.colaboratory.intrinsic+json": {
              "type": "string"
            }
          },
          "metadata": {},
          "execution_count": 9
        }
      ]
    },
    {
      "cell_type": "code",
      "source": [
        "{\n",
        "    '201910':{\n",
        "        '01': {# 201910으로 가공\n",
        "                '시가': 3000, # 3000으로 가공\n",
        "                '고가': 2000,\n",
        "                '저가': 1000\n",
        "                # ...\n",
        "            },\n",
        "        '02': {# 201910으로 가공\n",
        "                '시가': 3000, # 3000으로 가공\n",
        "                '고가': 2000,\n",
        "                '저가': 1000\n",
        "                # ...\n",
        "            },\n",
        "        },\n",
        "    '201911':{\n",
        "        '01': {# 201910으로 가공\n",
        "                '시가': 3000, # 3000으로 가공\n",
        "                '고가': 2000,\n",
        "                '저가': 1000\n",
        "                # ...\n",
        "            },\n",
        "    }\n",
        "}"
      ],
      "metadata": {
        "colab": {
          "base_uri": "https://localhost:8080/"
        },
        "id": "7VERBYMQQf8p",
        "outputId": "76f3dafa-d6ba-4fd7-9280-fe475a5c4ce4"
      },
      "execution_count": 10,
      "outputs": [
        {
          "output_type": "execute_result",
          "data": {
            "text/plain": [
              "{'201910': {'01': {'시가': 3000, '고가': 2000, '저가': 1000},\n",
              "  '02': {'시가': 3000, '고가': 2000, '저가': 1000}},\n",
              " '201911': {'01': {'시가': 3000, '고가': 2000, '저가': 1000}}}"
            ]
          },
          "metadata": {},
          "execution_count": 10
        }
      ]
    }
  ]
}