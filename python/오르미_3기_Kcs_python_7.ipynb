{
  "cells": [
    {
      "cell_type": "markdown",
      "metadata": {
        "id": "view-in-github",
        "colab_type": "text"
      },
      "source": [
        "<a href=\"https://colab.research.google.com/github/Charles0823/ormi3/blob/main/python/%EC%98%A4%EB%A5%B4%EB%AF%B8_3%EA%B8%B0_Kcs_python_7.ipynb\" target=\"_parent\"><img src=\"https://colab.research.google.com/assets/colab-badge.svg\" alt=\"Open In Colab\"/></a>"
      ]
    },
    {
      "cell_type": "markdown",
      "metadata": {
        "id": "uOXfTuTZP-Ei"
      },
      "source": [
        "# 일반 문자열"
      ]
    },
    {
      "cell_type": "code",
      "execution_count": null,
      "metadata": {
        "id": "JkbJ7surOg4c"
      },
      "outputs": [],
      "source": [
        "# 대소문자를 가립니다.\n",
        "# ^hello는 처음에 나오는 hello 입니다.\n",
        "# hello^는 마지막에 나오는 hello는 아닙니다.\n",
        "# hello$는 마지막에 나오는 hello 입니다.\n",
        "# h.llo는 h 다음에 어떤 문자든 1개의 문자(영문, 특수문자, 숫자, 한글 등)가 오며 llow가 이어 나와야 합니다."
      ]
    },
    {
      "cell_type": "markdown",
      "metadata": {
        "id": "7-PO3p2JSudq"
      },
      "source": [
        "# 대괄호(택1)"
      ]
    },
    {
      "cell_type": "code",
      "execution_count": null,
      "metadata": {
        "id": "XG4p4K2zSxU1"
      },
      "outputs": [],
      "source": [
        "# h[eao]llo는 hello, hallo, hollo를 선택합니다. 3개 문자중 택1입니다.\n",
        "# h[e!ao]llo는 hello, hallo, hollo, h!llo를 선택합니다. 3개 문자중 택1입니다.\n",
        "# [a-z]\n",
        "# [a-zA-Z]\n",
        "# [0-9]\n",
        "# [a-zA-Z0-9]\n",
        "# [가-힣]\n",
        "# h1el222lo3wo123rl2d # [0-9]라고\n",
        "# ^[a-z] : 부정이 아닙니다. 알파벳으로 시작하는 문자열입니다.\n",
        "# [^a-z] : 대괄호 안에 들어가면 부정입니다!\n",
        "# h[^ao]llo : a, o 모두 하나씩 아닌것\n",
        "# h[a^o]llo : a, ^, o 모두 하나씩 잡습니다. ^는 대괄호 열기 바로 다음에 나오게 해주세요."
      ]
    },
    {
      "cell_type": "markdown",
      "metadata": {
        "id": "EkqF9cFNZy_I"
      },
      "source": [
        "# 수량자"
      ]
    },
    {
      "cell_type": "code",
      "execution_count": null,
      "metadata": {
        "id": "Un5VsqygZ0WZ"
      },
      "outputs": [],
      "source": [
        "# _* : 앞에 있는 문자가 0개 ~ N개\n",
        "# _+ : 앞에 있는 문자가 1개 ~ N개\n",
        "# _? : 앞에 있는 문자가 0개 ~ 1개\n",
        "\n",
        "# {3} : 3개\n",
        "# {3,} : 3개 이상\n",
        "# {1,3} : 1개 ~ 3개\n",
        "\n",
        "# _* : 앞에 있는 문자가 0개 ~ N개 ({0,})\n",
        "# _+ : 앞에 있는 문자가 1개 ~ N개({1,})\n",
        "# _? : 앞에 있는 문자가 0개 ~ 1개 ({0,1})"
      ]
    },
    {
      "cell_type": "code",
      "execution_count": null,
      "metadata": {
        "id": "9uCk9zIAafV5"
      },
      "outputs": [],
      "source": [
        "# 이런 정규표현식은 여러분이 직접 만들지 마세요.\n",
        "# 인터넷 검색하면 나옵니다. email, 한국 전화번호 등이요.\n",
        "# why? 정규표현식에서 실수가 생겨 서비스에 CS가 들어온다던지\n",
        "# 크리티컬한 문제가 생긴다던지 하는 경우가 많습니다.\n",
        "# 읽을 줄은 알아야 합니다. 여러 패턴을 조합하거나, 비교는 해봐야 하니까요.\n",
        "# [0-9][0-9][0-9]-[0-9][0-9][0-9][0-9]-[0-9][0-9][0-9][0-9]\n",
        "# 0[0-9]+[-. ]?[0-9]{3,4}[-. ]?[0-9]{3,4}"
      ]
    },
    {
      "cell_type": "code",
      "execution_count": null,
      "metadata": {
        "id": "zXmP1AIYdG6V"
      },
      "outputs": [],
      "source": [
        "# group1, group2\n",
        "# group1 => key\n",
        "# group2 => value\n",
        "# ([a-zA-Z0-9@\\.\\-]+), ?([a-zA-Z0-9@\\.\\-]+)\n",
        "# '[(name, leehojun), (age, 10), (height, 180), (email, paul-lab@naver.com)]'"
      ]
    },
    {
      "cell_type": "markdown",
      "metadata": {
        "id": "p6bNp6uWcIdz"
      },
      "source": [
        "# 캐릭터 클래스"
      ]
    },
    {
      "cell_type": "code",
      "execution_count": null,
      "metadata": {
        "id": "S_ynbvYrcJyc"
      },
      "outputs": [],
      "source": [
        "# /\\w/gm : 워드(한글이 잡히지 않습니다!)\n",
        "# /\\w{5} /gm : 5개의 글자와 스페이스 하나\n",
        "# /\\W/gm : not 워드\n",
        "# /\\d/gm : 숫자\n",
        "# /\\D/gm : not 숫자\n",
        "# /\\s/gm : 스페이스\n",
        "# /\\S/gm : not 스페이스\n",
        "\n",
        "# 문제: 전화번호 정규표현식을 만들어주세요.\n",
        "# \\d{3}\\W?\\d{4}\\W?\\d{4}\n",
        "# 0[\\d]{1,2}[\\-\\. ]?[\\d]{3,4}[\\-\\. ]?[\\d]{3,4}"
      ]
    },
    {
      "cell_type": "markdown",
      "metadata": {
        "id": "srRbMYv-1WBs"
      },
      "source": [
        "## 정규표현식\n",
        "* https://paullabworkspace.notion.site/1c57fc683c33468d95e7a490b6f66c95?pvs=4 (https://regexr.com/5nvc2)\n",
        "* Anchors (처음과 끝)\n",
        "    ```\n",
        "    /^hello/gm : 처음에 hello\n",
        "    /hello$/gm : 끝에 hello\n",
        "    ```\n",
        "\n",
        "* dot (모든 문자)\n",
        "    ```\n",
        "    /.ello/gm : hello, Hello, vello\n",
        "    /./gm : 모든 문자열(*과 같은 역할)\n",
        "    /....../gm : 모든 6개의 문자열\n",
        "    ```\n",
        "\n",
        "* 대괄호 (택1)\n",
        "    ```\n",
        "    /h[eay]llo/gm : 대괄호 안에 문자는 문자 1개에 해당!\n",
        "    /h[ea]l../gm : 총 5개의 문자\n",
        "    ```\n",
        "\n",
        "* 대쉬 (범위)\n",
        "    ```\n",
        "    /h[a-f]llo/gm\n",
        "    /[a-zA-Z0-9]/gm : 모든 알파뱃과 숫자를 찾음\n",
        "    /[^a-zA-Z0-9]/gm : 나머지 문자열을 찾음\n",
        "    ```\n",
        "\n",
        "* 캐럿(caret) (대괄호 안에 들어가면 부정)\n",
        "    * 아래 경우 a와 e가 모두 부정\n",
        "        ```\n",
        "        /h[^ae]llo/gm : 대괄호 안에 있다면 not에 의미\n",
        "        ```\n",
        "\n",
        "* 소괄호 (서브패턴, 그룹)\n",
        "    * 패턴으로 외우시는 것보다 다양한 예제로 습득하시기를 권해드립니다.\n",
        "    ```\n",
        "    /(on|ues|rida)/gm : 그룹 1로 3개 중 매칭되는 패턴 찾음\n",
        "    ```\n",
        "\n",
        "* 수량자\n",
        "    ```\n",
        "    _* : 앞에 있는 문자가 0개 ~ N개\n",
        "    _+ : 앞에 있는 문자가 1개 ~ N개\n",
        "    _? : 앞에 있는 문자가 0개 ~ 1개\n",
        "\n",
        "    {3} : 3개\n",
        "    {3,} : 3개 이상\n",
        "    {1,3} : 1개 ~ 3개\n",
        "\n",
        "    _* : 앞에 있는 문자가 0개 ~ N개 ({0,})\n",
        "    _+ : 앞에 있는 문자가 1개 ~ N개({1,})\n",
        "    _? : 앞에 있는 문자가 0개 ~ 1개 ({0,1})\n",
        "\n",
        "    /[0-9]{3}[-.* ][0-9]{4}[-.* ][0-9]{4}/gm\n",
        "    /[0-9a-zA-Z]{2,3}[-.* ][0-9]{3,4}[-.* ][0-9]{4}/gm\n",
        "    /[0-9a-zA-Z]+@[0-9a-zA-Z]+.[a-zA-Z]+/gm\n",
        "    ```\n",
        "\n",
        "* 캐릭터 클래스\n",
        "    ```\n",
        "    /\\w/gm : 워드\n",
        "    /\\w{5} /gm : 5개의 글자와 스페이스 하나\n",
        "    /\\W/gm : not 워드\n",
        "    /\\d/gm : 숫자\n",
        "    /\\D/gm : not 숫자\n",
        "    /\\s/gm : 스페이스\n",
        "    /\\S/gm : not 스페이스\n",
        "    ```\n",
        "\n",
        "* 이스케이프문자\n",
        "    ```\n",
        "    /\\[.*]/gm : 대괄호([]) 안에 감싸여진 문자열\n",
        "    /\\(.*\\)/gm : 소괄호 안에 감싸여진 문자열\n",
        "    /\\\\.*\\//gm : 이미 사용되고 있는 특수문자로 감싸여진 문자열\n",
        "    /-.*-/gm : 이스케이프 문자를 사용할 필요가 없는 경우\n",
        "    /\\^\\^/gm : 이스케이프 문자가 필요한 경우\n",
        "    /:\\)/gm : 이스케이프 문자가 필요한 경우\n",
        "    ```\n",
        "\n",
        "\n",
        "* (연습) 전화번호\n",
        "    ```\n",
        "    010[-,. ]?[0-9]{4}[-,. ]?[0-9]{4}\n",
        "    010([-,. ]?[0-9]{4}){2}\n",
        "    ```\n",
        "\n"
      ]
    },
    {
      "cell_type": "markdown",
      "metadata": {
        "id": "efhN7i_WAknF"
      },
      "source": [
        "* 공식문서 : https://docs.python.org/ko/3/library/re.html"
      ]
    },
    {
      "cell_type": "markdown",
      "metadata": {
        "id": "YcBIpFeoArva"
      },
      "source": [
        "* 정규표현식에서 자주 사용되는 패턴\n",
        "    * 아래와 같이 2가지 방법으로 사용할 수 있습니다.\n",
        "    ```\n",
        "    # 1\n",
        "    p = re.compile(r'([0-9]|10)([SDT])([\\*\\#]?)')\n",
        "    p.findall('1S2D*3T')\n",
        "\n",
        "    # 2\n",
        "    re.findall(r'([0-9]|10)([SDT])([\\*\\#]?)', '1S2D*3T')\n",
        "    ```\n",
        "    * compile() : 패턴 컴파일\n",
        "    * match() : 문자열의 앞 부분이 매치되는가를 체크, 추출\n",
        "    * sub() : 매치된 부분을 치환 (str에 replace와 같은 역활)\n",
        "    * search() : 선두에 한해서 매치하는지를 체크, 추출\n",
        "    * findall() : 매치된 부분 모두 리스트 반환\n",
        "    * finditer() : 정규식과 매치되는 모든 문자열(substring)을 반복 가능한 객체로 리턴한다.\n",
        "    * spilt() : 정규표현 패턴으로 문자열을 분할 (str에 split과 같은 역활)\n",
        "\n",
        "* 반환 객체의 값\n",
        "    * group() : 매치된 문자열\n",
        "    * groups() : 매치된 문자열 전체\n",
        "    * start() : 매치된 문자열의 시작 위치\n",
        "    * end() : 매치된 문자열의 끝 위치\n",
        "    * span() : 매치된 문자열의 시작과 끝\n",
        "\n",
        "* 컴파일 옵션(플래그)\n",
        "    * 사용 예\n",
        "    ```\n",
        "    re.compile('[a-z]+', re.I)\n",
        "    ```\n",
        "    * re.DOTALL, re.S : 줄바꿈 문자까지 모두 매칭\n",
        "    * re.IGNORECASE, re.I : 대소문자 구분하지 않음\n",
        "    * re.MULTILINE, re.M : ^, & 등의 매칭 패턴을 라인마다 적용\n",
        "    * re.VERBOSE, re.X : 아래와 같이 #으로 주석문을 사용할 수 있음\n",
        "    ```\n",
        "    a = re.compile(r\"\"\"\\d +  # the integral part\n",
        "                   \\.    # the decimal point\n",
        "                   \\d *  # some fractional digits\"\"\", re.X)\n",
        "    b = re.compile(r\"\\d+\\.\\d*\")\n",
        "    ```\n",
        "\n",
        "* tip\n",
        "    * 같은 패턴입니다.\n",
        "    ```\n",
        "    re.compile('\\\\\\\\section')\n",
        "    re.compile(r'\\\\section')\n",
        "    ```\n",
        "    * {}를 표현하고 싶을 때에는 중괄호 2개, 또는 때에 따라 3개가 필요합니다.\n",
        "    ```\n",
        "    re.compile(f'{{section}}')\n",
        "    ```\n"
      ]
    },
    {
      "cell_type": "code",
      "source": [
        "s = '1S2D3T'\n",
        "result = 0\n",
        "for i in s:\n",
        "    if i.isdigit():\n",
        "        result += int(i)\n",
        "result"
      ],
      "metadata": {
        "colab": {
          "base_uri": "https://localhost:8080/"
        },
        "id": "uEt6AF3pqQBQ",
        "outputId": "5b89a373-296d-4431-8160-54891c356940"
      },
      "execution_count": 1,
      "outputs": [
        {
          "output_type": "execute_result",
          "data": {
            "text/plain": [
              "6"
            ]
          },
          "metadata": {},
          "execution_count": 1
        }
      ]
    },
    {
      "cell_type": "code",
      "source": [
        "s = '1S2D3T'\n",
        "result = []\n",
        "for i in s:\n",
        "    if i.isdigit():\n",
        "        result.append(int(i))\n",
        "    elif i == 'S':\n",
        "        result[-1] **= 1\n",
        "    elif i == 'D':\n",
        "        result[-1] **= 2\n",
        "    elif i == 'T':\n",
        "        result[-1] **= 3\n",
        "result"
      ],
      "metadata": {
        "colab": {
          "base_uri": "https://localhost:8080/"
        },
        "id": "KviK77vNqQcf",
        "outputId": "ea8c1750-1aeb-43a9-fb99-9abc9b5d6ce1"
      },
      "execution_count": 2,
      "outputs": [
        {
          "output_type": "execute_result",
          "data": {
            "text/plain": [
              "[1, 4, 27]"
            ]
          },
          "metadata": {},
          "execution_count": 2
        }
      ]
    },
    {
      "cell_type": "code",
      "execution_count": 3,
      "metadata": {
        "colab": {
          "base_uri": "https://localhost:8080/"
        },
        "id": "PBUhdJ2r1L4e",
        "outputId": "102d234c-1be6-40cc-c6bb-ed1850ad9e31"
      },
      "outputs": [
        {
          "output_type": "execute_result",
          "data": {
            "text/plain": [
              "[('1', 'S', ''), ('2', 'D', '*'), ('3', 'T', '')]"
            ]
          },
          "metadata": {},
          "execution_count": 3
        }
      ],
      "source": [
        "import re\n",
        "\n",
        "p = re.compile(r'([0-9]|10)([SDT])([\\*\\#]?)')\n",
        "p.findall('1S2D*3T')"
      ]
    },
    {
      "cell_type": "code",
      "source": [],
      "metadata": {
        "id": "fsQJZVjdtHfE"
      },
      "execution_count": null,
      "outputs": []
    },
    {
      "cell_type": "markdown",
      "metadata": {
        "id": "UMvBJLB7E1A6"
      },
      "source": [
        "## compile"
      ]
    },
    {
      "cell_type": "code",
      "execution_count": 4,
      "metadata": {
        "id": "fO2bOQftDO8P"
      },
      "outputs": [],
      "source": [
        "import re\n",
        "\n",
        "p = re.compile('h[eao]llo')"
      ]
    },
    {
      "cell_type": "code",
      "execution_count": null,
      "metadata": {
        "colab": {
          "base_uri": "https://localhost:8080/",
          "height": 35
        },
        "id": "3jBqYbhbFKme",
        "outputId": "d5a918a6-b0ae-4eb9-824c-176ad8404cc8"
      },
      "outputs": [
        {
          "data": {
            "application/vnd.google.colaboratory.intrinsic+json": {
              "type": "string"
            },
            "text/plain": [
              "'hello\\nhallo\\nhollo\\n'"
            ]
          },
          "execution_count": 8,
          "metadata": {},
          "output_type": "execute_result"
        }
      ],
      "source": [
        "text = '''hello\n",
        "hallo\n",
        "hollo\n",
        "'''\n",
        "text"
      ]
    },
    {
      "cell_type": "markdown",
      "metadata": {
        "id": "1AlBYVY2FlHq"
      },
      "source": [
        "## match"
      ]
    },
    {
      "cell_type": "code",
      "execution_count": 8,
      "metadata": {
        "id": "UtIBWh7BHOUC"
      },
      "outputs": [],
      "source": [
        "# 실무에서는 특정한 패턴이 존재하는지만 사용하는 것으로 많이 사용합니다.   다 이해하려고 하지 마세요\n",
        "# 실무에서는 특정한 패턴이 존재하는지만 사용하는 것으로 많이 사용합니다.   다 이해하려고 하지 마세요\n",
        "# 실무에서는 특정한 패턴이 존재하는지만 사용하는 것으로 많이 사용합니다.   다 이해하려고 하지 마세요\n",
        "# 찾아서 무언가를 하는 것은 findall이나 sub 이런 메서드를 많이 사용합니다."
      ]
    },
    {
      "cell_type": "code",
      "execution_count": 5,
      "metadata": {
        "colab": {
          "base_uri": "https://localhost:8080/"
        },
        "id": "UtASscq-Fawn",
        "outputId": "ea439fde-8844-4f22-94d9-8fcffc13d15d"
      },
      "outputs": [
        {
          "output_type": "execute_result",
          "data": {
            "text/plain": [
              "<re.Match object; span=(0, 5), match='hello'>"
            ]
          },
          "metadata": {},
          "execution_count": 5
        }
      ],
      "source": [
        "import re\n",
        "\n",
        "p = re.compile('h[eao]llo')\n",
        "p.match('hello hallo hollo hillo hallo')"
      ]
    },
    {
      "cell_type": "code",
      "source": [
        "import re\n",
        "\n",
        "p = re.compile('h[eao]llo')\n",
        "print(p.match('hillo hnllo'))"
      ],
      "metadata": {
        "colab": {
          "base_uri": "https://localhost:8080/"
        },
        "id": "TnAskzvUukqC",
        "outputId": "487e8096-733c-498b-8db6-fa4cedee6df9"
      },
      "execution_count": 7,
      "outputs": [
        {
          "output_type": "stream",
          "name": "stdout",
          "text": [
            "None\n"
          ]
        }
      ]
    },
    {
      "cell_type": "code",
      "execution_count": null,
      "metadata": {
        "colab": {
          "base_uri": "https://localhost:8080/",
          "height": 35
        },
        "id": "wNcTLpamGFxg",
        "outputId": "3aea133c-191c-4f69-ac02-af024825bb73"
      },
      "outputs": [
        {
          "data": {
            "application/vnd.google.colaboratory.intrinsic+json": {
              "type": "string"
            },
            "text/plain": [
              "'hello'"
            ]
          },
          "execution_count": 16,
          "metadata": {},
          "output_type": "execute_result"
        }
      ],
      "source": [
        "result = p.match('hello hallo hollo hillo hallo')\n",
        "result.group(0)\n",
        "# result.group(1)"
      ]
    },
    {
      "cell_type": "code",
      "execution_count": null,
      "metadata": {
        "colab": {
          "base_uri": "https://localhost:8080/",
          "height": 35
        },
        "id": "eeozSkjbGjVb",
        "outputId": "af9d8ea2-02bd-4160-a08d-1cef4d7f1795"
      },
      "outputs": [
        {
          "data": {
            "application/vnd.google.colaboratory.intrinsic+json": {
              "type": "string"
            },
            "text/plain": [
              "'hollo'"
            ]
          },
          "execution_count": 20,
          "metadata": {},
          "output_type": "execute_result"
        }
      ],
      "source": [
        "import re\n",
        "\n",
        "p = re.compile('(\\w+) (\\w+) (\\w+)')\n",
        "result = p.match('hello hallo hollo hillo hallo')\n",
        "result.group(0) # 전체 그룹\n",
        "result.group(1) # 그룹1\n",
        "result.group(2) # 그룹2\n",
        "result.group(3) # 그룹3"
      ]
    },
    {
      "cell_type": "code",
      "execution_count": null,
      "metadata": {
        "colab": {
          "base_uri": "https://localhost:8080/"
        },
        "id": "fvMrcy6RG-sO",
        "outputId": "bae490ec-958a-4abc-ad91-90e445a5dcb9"
      },
      "outputs": [
        {
          "data": {
            "text/plain": [
              "('hello', 'hallo')"
            ]
          },
          "execution_count": 21,
          "metadata": {},
          "output_type": "execute_result"
        }
      ],
      "source": [
        "import re\n",
        "\n",
        "p = re.compile('(\\w+) (\\w+) (\\w+)')\n",
        "result = p.match('hello hallo hollo hillo hallo')\n",
        "result.group(1, 2) # 그룹1, 그룹2"
      ]
    },
    {
      "cell_type": "code",
      "execution_count": null,
      "metadata": {
        "id": "UC17xg82HpZn"
      },
      "outputs": [],
      "source": [
        "import re\n",
        "\n",
        "p = re.compile('h[eao]llo')\n",
        "p.match('hillo hallo hollo hillo hallo')\n",
        "# None값이 출력된 것입니다.\n",
        "# 문자열 압쪽이 매칭이 안된 것입니다."
      ]
    },
    {
      "cell_type": "code",
      "execution_count": null,
      "metadata": {
        "colab": {
          "base_uri": "https://localhost:8080/"
        },
        "id": "FX8eRCHiH57c",
        "outputId": "5e769e73-e376-4fc3-a2b8-5af2729303c8"
      },
      "outputs": [
        {
          "data": {
            "text/plain": [
              "('Malcolm', 'Reynolds')"
            ]
          },
          "execution_count": 23,
          "metadata": {},
          "output_type": "execute_result"
        }
      ],
      "source": [
        "# 아래 문법은 match 말고도 다른 문법에서도 사용이 가능합니다.\n",
        "m = re.match(r\"(?P<first_name>\\w+) (?P<last_name>\\w+)\", \"Malcolm Reynolds\")\n",
        "m.group('first_name'), m.group('last_name')"
      ]
    },
    {
      "cell_type": "code",
      "execution_count": null,
      "metadata": {
        "colab": {
          "base_uri": "https://localhost:8080/",
          "height": 35
        },
        "id": "rkGcnjvCIkME",
        "outputId": "ea616d22-af74-4955-e3a3-9d51ae502e64"
      },
      "outputs": [
        {
          "data": {
            "application/vnd.google.colaboratory.intrinsic+json": {
              "type": "string"
            },
            "text/plain": [
              "'Malcolm Reynolds'"
            ]
          },
          "execution_count": 25,
          "metadata": {},
          "output_type": "execute_result"
        }
      ],
      "source": [
        "m[0]"
      ]
    },
    {
      "cell_type": "code",
      "execution_count": null,
      "metadata": {
        "colab": {
          "base_uri": "https://localhost:8080/"
        },
        "id": "S-FehqAEInOj",
        "outputId": "22838ace-7583-449f-b6f8-39cc7c224801"
      },
      "outputs": [
        {
          "data": {
            "text/plain": [
              "('Malcolm', 'Reynolds')"
            ]
          },
          "execution_count": 27,
          "metadata": {},
          "output_type": "execute_result"
        }
      ],
      "source": [
        "m[1], m[2]"
      ]
    },
    {
      "cell_type": "code",
      "execution_count": null,
      "metadata": {
        "colab": {
          "base_uri": "https://localhost:8080/"
        },
        "id": "bNaGFaVzIuz8",
        "outputId": "32411403-ef9a-4461-b90d-2b16d36e627c"
      },
      "outputs": [
        {
          "data": {
            "text/plain": [
              "('1000', '2000')"
            ]
          },
          "execution_count": 28,
          "metadata": {},
          "output_type": "execute_result"
        }
      ],
      "source": [
        "m = re.match(r\"010-(?P<앞자리>[0-9]{4})-(?P<뒷자리>[0-9]{4})\", \"010-1000-2000\")\n",
        "m.group('앞자리'), m.group('뒷자리')"
      ]
    },
    {
      "cell_type": "code",
      "execution_count": null,
      "metadata": {
        "id": "HLJI3JwdJFrd"
      },
      "outputs": [],
      "source": [
        "# 실제로 실무에서 match 사용되는 패턴 (공식문서)\n",
        "valid = re.compile(r\"^[a2-9tjqk]{5}$\")\n",
        "\n",
        "def displaymatch(match):\n",
        "    if match is None:\n",
        "        return None\n",
        "    return '<Match: %r, groups=%r>' % (match.group(), match.groups())\n",
        "\n",
        "displaymatch(valid.match(\"akt5q\"))"
      ]
    },
    {
      "cell_type": "code",
      "execution_count": null,
      "metadata": {
        "colab": {
          "base_uri": "https://localhost:8080/",
          "height": 35
        },
        "id": "lt7LREjzJS5V",
        "outputId": "ab712bdb-29d4-4ea5-fc29-89981dc49abb"
      },
      "outputs": [
        {
          "data": {
            "application/vnd.google.colaboratory.intrinsic+json": {
              "type": "string"
            },
            "text/plain": [
              "'해당 패턴에 매칭됩니다!'"
            ]
          },
          "execution_count": 30,
          "metadata": {},
          "output_type": "execute_result"
        }
      ],
      "source": [
        "# 실제로 실무에서 match 사용되는 패턴 (공식문서)\n",
        "valid = re.compile(r\"^[a2-9tjqk]{5}$\")\n",
        "\n",
        "def displaymatch(match):\n",
        "    if match is None:\n",
        "        return None\n",
        "    return '해당 패턴에 매칭됩니다!'\n",
        "\n",
        "displaymatch(valid.match(\"akt5q\"))"
      ]
    },
    {
      "cell_type": "markdown",
      "metadata": {
        "id": "zga5B6JcJhJE"
      },
      "source": [
        "## sub"
      ]
    },
    {
      "cell_type": "markdown",
      "metadata": {
        "id": "IXzdoJvv4giq"
      },
      "source": [
        "* str에 replace 메서드와 같은 기능\n",
        "* 정규표현식을 사용할 수 있는 코드"
      ]
    },
    {
      "cell_type": "code",
      "execution_count": null,
      "metadata": {
        "id": "IAPwx6LIJsv5"
      },
      "outputs": [],
      "source": [
        "# 문제 링크 : https://school.programmers.co.kr/learn/courses/30/lessons/120849"
      ]
    },
    {
      "cell_type": "code",
      "execution_count": null,
      "metadata": {
        "id": "O7u9p7oNJutZ"
      },
      "outputs": [],
      "source": [
        "def solution(my_string):\n",
        "    return my_string.replace('a', '').replace('e', '').replace('i', '').replace('o', '').replace('u', '')"
      ]
    },
    {
      "cell_type": "code",
      "execution_count": 15,
      "metadata": {
        "id": "zltDhcrKKG1t"
      },
      "outputs": [],
      "source": [
        "def solution(my_string):\n",
        "    string = 'aeiou'\n",
        "    for i in string:\n",
        "        my_string = my_string.replace(i, '')\n",
        "    return my_string"
      ]
    },
    {
      "cell_type": "code",
      "source": [
        "table = str.maketrans('', '', 'aeiou')\n",
        "s = 'hello world'\n",
        "s.translate(table)"
      ],
      "metadata": {
        "colab": {
          "base_uri": "https://localhost:8080/",
          "height": 36
        },
        "id": "7fEOiZEtO5Qu",
        "outputId": "d9d9855f-0731-4409-9f51-c5c742341da7"
      },
      "execution_count": 16,
      "outputs": [
        {
          "output_type": "execute_result",
          "data": {
            "text/plain": [
              "'hll wrld'"
            ],
            "application/vnd.google.colaboratory.intrinsic+json": {
              "type": "string"
            }
          },
          "metadata": {},
          "execution_count": 16
        }
      ]
    },
    {
      "cell_type": "code",
      "execution_count": null,
      "metadata": {
        "id": "qqDG9foGKWWn"
      },
      "outputs": [],
      "source": [
        "import re\n",
        "\n",
        "def solution(my_string):\n",
        "    return re.sub(r\"[aeiou]\", \"\", my_string)"
      ]
    },
    {
      "cell_type": "code",
      "execution_count": null,
      "metadata": {
        "id": "8nPEitXEKxtG"
      },
      "outputs": [],
      "source": [
        "import re\n",
        "\n",
        "solution = lambda my_string: re.sub(r\"[aeiou]\", \"\", my_string)"
      ]
    },
    {
      "cell_type": "code",
      "execution_count": null,
      "metadata": {
        "id": "gCbIQ3vE45B3"
      },
      "outputs": [],
      "source": [
        "# 문제 링크 : https://school.programmers.co.kr/learn/courses/30/lessons/120826"
      ]
    },
    {
      "cell_type": "code",
      "execution_count": null,
      "metadata": {
        "id": "RcW3z6Rq48ZF"
      },
      "outputs": [],
      "source": [
        "def solution(my_string, letter):\n",
        "    for i in letter:\n",
        "        my_string = my_string.replace(i, '')\n",
        "    return my_string"
      ]
    },
    {
      "cell_type": "code",
      "execution_count": 25,
      "metadata": {
        "id": "pUoLcxYI5IF_"
      },
      "outputs": [],
      "source": [
        "import re\n",
        "\n",
        "def solution(my_string, letter):\n",
        "    return re.sub(letter, \"\", my_string)"
      ]
    },
    {
      "cell_type": "code",
      "execution_count": 26,
      "metadata": {
        "id": "k8FVbMgq5JOT"
      },
      "outputs": [],
      "source": [
        "import re\n",
        "\n",
        "solution = lambda my_string, letter: re.sub(letter, \"\", my_string)"
      ]
    },
    {
      "cell_type": "code",
      "execution_count": 27,
      "metadata": {
        "id": "IydTqYRA5z-Y"
      },
      "outputs": [],
      "source": [
        "# 문제 링크 : https://school.programmers.co.kr/learn/courses/30/lessons/120851"
      ]
    },
    {
      "cell_type": "code",
      "execution_count": 19,
      "metadata": {
        "id": "P5wMDDcA51rs",
        "colab": {
          "base_uri": "https://localhost:8080/"
        },
        "outputId": "4bc89a07-004f-4435-a467-645eddb0bec9"
      },
      "outputs": [
        {
          "output_type": "execute_result",
          "data": {
            "text/plain": [
              "24"
            ]
          },
          "metadata": {},
          "execution_count": 19
        }
      ],
      "source": [
        "def solution(my_string):\n",
        "    s = 0\n",
        "    for i in my_string:\n",
        "        if i.isdigit():\n",
        "            s += int(i)\n",
        "    return s\n",
        "\n",
        "solution('123123hello123123')"
      ]
    },
    {
      "cell_type": "code",
      "source": [
        "def solution(my_string):\n",
        "    s = 0\n",
        "    for i in my_string:\n",
        "        print(i)\n",
        "        print(i.isdigit())\n",
        "    return s\n",
        "\n",
        "solution('123123hello123123')"
      ],
      "metadata": {
        "colab": {
          "base_uri": "https://localhost:8080/"
        },
        "id": "2L2fMIQrPG8H",
        "outputId": "57d0d46a-8a08-49e4-8b67-344b8c264ff1"
      },
      "execution_count": 18,
      "outputs": [
        {
          "output_type": "stream",
          "name": "stdout",
          "text": [
            "1\n",
            "True\n",
            "2\n",
            "True\n",
            "3\n",
            "True\n",
            "1\n",
            "True\n",
            "2\n",
            "True\n",
            "3\n",
            "True\n",
            "h\n",
            "False\n",
            "e\n",
            "False\n",
            "l\n",
            "False\n",
            "l\n",
            "False\n",
            "o\n",
            "False\n",
            "1\n",
            "True\n",
            "2\n",
            "True\n",
            "3\n",
            "True\n",
            "1\n",
            "True\n",
            "2\n",
            "True\n",
            "3\n",
            "True\n"
          ]
        },
        {
          "output_type": "execute_result",
          "data": {
            "text/plain": [
              "0"
            ]
          },
          "metadata": {},
          "execution_count": 18
        }
      ]
    },
    {
      "cell_type": "code",
      "source": [
        "[i.isdigit() for i in 'hello 1wo2rl3d']\n",
        "[int(i) for i in 'hello 1wo2rl3d' if i.isdigit()]\n",
        "sum([int(i) for i in 'hello 1wo2rl3d' if i.isdigit()])"
      ],
      "metadata": {
        "colab": {
          "base_uri": "https://localhost:8080/"
        },
        "id": "khtXgW6vPOaJ",
        "outputId": "a79622a0-102e-49d8-a8ab-f11794e9ee44"
      },
      "execution_count": 21,
      "outputs": [
        {
          "output_type": "execute_result",
          "data": {
            "text/plain": [
              "6"
            ]
          },
          "metadata": {},
          "execution_count": 21
        }
      ]
    },
    {
      "cell_type": "code",
      "source": [
        "list(filter(lambda x:x.isdigit(), '123hel8lo123'))"
      ],
      "metadata": {
        "colab": {
          "base_uri": "https://localhost:8080/"
        },
        "id": "rK-xmls7PSKZ",
        "outputId": "c5c2cf24-cb24-4a25-fb09-3f7b00b9ead7"
      },
      "execution_count": 22,
      "outputs": [
        {
          "output_type": "execute_result",
          "data": {
            "text/plain": [
              "['1', '2', '3', '8', '1', '2', '3']"
            ]
          },
          "metadata": {},
          "execution_count": 22
        }
      ]
    },
    {
      "cell_type": "code",
      "execution_count": 23,
      "metadata": {
        "id": "SZHDpQGn6moS"
      },
      "outputs": [],
      "source": [
        "def solution(my_string):\n",
        "    return sum([int(i) for i in my_string if i.isdigit()])"
      ]
    },
    {
      "cell_type": "markdown",
      "source": [
        "![image.png](data:image/png;base64,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)"
      ],
      "metadata": {
        "id": "8L1Fq-BhyKFo"
      }
    },
    {
      "cell_type": "code",
      "source": [
        "[int(i) for i in 'hello 1wo2rl3d' if i.isdigit()]"
      ],
      "metadata": {
        "colab": {
          "base_uri": "https://localhost:8080/"
        },
        "id": "SR0EbqnBynEs",
        "outputId": "eeb7a900-83a3-4b71-9be5-2e958d332f70"
      },
      "execution_count": 11,
      "outputs": [
        {
          "output_type": "execute_result",
          "data": {
            "text/plain": [
              "[1, 2, 3]"
            ]
          },
          "metadata": {},
          "execution_count": 11
        }
      ]
    },
    {
      "cell_type": "code",
      "source": [
        "[i.isdigit() for i in 'hello 1wo2rl3d']\n",
        "[int(i) for i in 'hello 1wo2rl3d' if i.isdigit()]\n",
        "sum([int(i) for i in 'hello 1wo2rl3d' if i.isdigit()])"
      ],
      "metadata": {
        "colab": {
          "base_uri": "https://localhost:8080/"
        },
        "id": "u6CLX7zBy_Vf",
        "outputId": "2e636640-c9a2-485b-abe9-c3dfc56cab51"
      },
      "execution_count": 13,
      "outputs": [
        {
          "output_type": "execute_result",
          "data": {
            "text/plain": [
              "6"
            ]
          },
          "metadata": {},
          "execution_count": 13
        }
      ]
    },
    {
      "cell_type": "code",
      "execution_count": 24,
      "metadata": {
        "id": "8S-GYCCN7IMD"
      },
      "outputs": [],
      "source": [
        "def solution(my_string):\n",
        "    return sum(map(int, filter(lambda x:x.isdigit(), my_string)))"
      ]
    },
    {
      "cell_type": "code",
      "source": [
        "list(filter(lambda x:x.isdigit(), '123hel8lo123'))"
      ],
      "metadata": {
        "colab": {
          "base_uri": "https://localhost:8080/"
        },
        "id": "u3QxCqE4D9sI",
        "outputId": "ca509734-c019-4069-f069-f81ffe2b9115"
      },
      "execution_count": 28,
      "outputs": [
        {
          "output_type": "execute_result",
          "data": {
            "text/plain": [
              "['1', '2', '3', '8', '1', '2', '3']"
            ]
          },
          "metadata": {},
          "execution_count": 28
        }
      ]
    },
    {
      "cell_type": "code",
      "source": [
        "# 저주의 숫자 3과 5\n",
        "# A마을에서는 3과 5를 사용하지 않습니다.\n",
        "# 3의 배수와 5배수는 3과 5가 들어가지만 않으면 사용합니다. 예를 들어 10은 사용합니다!\n",
        "# 그러면 이 마을에서 10진수 30이라는 숫자는 어떻게 표현할까요?\n",
        "# 10진법 - A마을에 숫자체계\n",
        "# 1 - 1\n",
        "# 2 - 2\n",
        "# 3 - 4\n",
        "# 4 - 6\n",
        "# 5 - 7\n",
        "# 6 - 8\n",
        "# 7 - 9\n",
        "# 8 - 10\n",
        "# 9 - 11\n",
        "# 10 - 12\n",
        "# 11 - 14\n",
        "# 와 같은 식으로 11은 14로 표현해야 합니다."
      ],
      "metadata": {
        "id": "wpFtRWi_E7ft"
      },
      "execution_count": 21,
      "outputs": []
    },
    {
      "cell_type": "code",
      "source": [
        "def solution(n):\n",
        "    num_list = list(filter(lambda x : '3' not in str(x) and '5' not in str(x), range(0, 100)))\n",
        "    return num_list[n]\n",
        "solution(30)"
      ],
      "metadata": {
        "colab": {
          "base_uri": "https://localhost:8080/"
        },
        "id": "h53sR22iG0vb",
        "outputId": "50f70dcf-e826-491e-90ea-f01049c95766"
      },
      "execution_count": 30,
      "outputs": [
        {
          "output_type": "execute_result",
          "data": {
            "text/plain": [
              "48"
            ]
          },
          "metadata": {},
          "execution_count": 30
        }
      ]
    },
    {
      "cell_type": "code",
      "source": [
        "def solution(n):\n",
        "    count = 0\n",
        "    for i in range(1, n+1):\n",
        "        count+=1\n",
        "        while '3' in str(count) or '5' in str(count):\n",
        "            count+=1\n",
        "    return count\n",
        "\n",
        "solution(30)"
      ],
      "metadata": {
        "colab": {
          "base_uri": "https://localhost:8080/"
        },
        "id": "fZZywVCKJjOJ",
        "outputId": "90b1208a-7cd1-4067-ca13-74b7d94909a2"
      },
      "execution_count": 30,
      "outputs": [
        {
          "output_type": "execute_result",
          "data": {
            "text/plain": [
              "48"
            ]
          },
          "metadata": {},
          "execution_count": 30
        }
      ]
    },
    {
      "cell_type": "code",
      "source": [
        "import re\n",
        "\n",
        "my_string = \"aAb1B2cC34oOp\"\n",
        "re.sub('[a-zA-Z]', '', my_string)\n",
        "\n",
        "list(re.sub('[a-zA-Z]', '', my_string)) # list를 사용하면 눈에 보긴 좋지만, 부하가 걸리는 작업입니다.\n",
        "sum(map(int, re.sub('[a-zA-Z]', '', my_string)))"
      ],
      "metadata": {
        "colab": {
          "base_uri": "https://localhost:8080/"
        },
        "id": "TDtgNvpNJjSs",
        "outputId": "f824b027-0bec-4ecd-f9e6-f3dffe1d212c"
      },
      "execution_count": 32,
      "outputs": [
        {
          "output_type": "execute_result",
          "data": {
            "text/plain": [
              "10"
            ]
          },
          "metadata": {},
          "execution_count": 32
        }
      ]
    },
    {
      "cell_type": "code",
      "source": [
        "'1234'\n",
        "\n",
        "# sum('1234', 'hello')\n",
        "# sum(['1', '2'], 'hello')\n",
        "sum([['1'], ['2']], [])\n",
        "sum([10, 20, 30], 100)"
      ],
      "metadata": {
        "colab": {
          "base_uri": "https://localhost:8080/"
        },
        "id": "JuEXhjl7JjWl",
        "outputId": "f54de700-9518-4607-ef55-224bc305f89c"
      },
      "execution_count": 33,
      "outputs": [
        {
          "output_type": "execute_result",
          "data": {
            "text/plain": [
              "160"
            ]
          },
          "metadata": {},
          "execution_count": 33
        }
      ]
    },
    {
      "cell_type": "code",
      "execution_count": null,
      "metadata": {
        "colab": {
          "base_uri": "https://localhost:8080/",
          "height": 35
        },
        "id": "AVU9Am7b7v0M",
        "outputId": "aa70030f-7aa0-49ec-e2a9-20d910b634c0"
      },
      "outputs": [
        {
          "data": {
            "application/vnd.google.colaboratory.intrinsic+json": {
              "type": "string"
            },
            "text/plain": [
              "'1234'"
            ]
          },
          "execution_count": 4,
          "metadata": {},
          "output_type": "execute_result"
        }
      ],
      "source": [
        "import re\n",
        "\n",
        "my_string = \"aAb1B2cC34oOp\"\n",
        "re.sub('[a-zA-Z]', '', my_string)"
      ]
    },
    {
      "cell_type": "code",
      "execution_count": null,
      "metadata": {
        "colab": {
          "base_uri": "https://localhost:8080/",
          "height": 35
        },
        "id": "hAWhIzEf8YNJ",
        "outputId": "8dd165fd-2dcc-4127-c9f9-1b718b74bb81"
      },
      "outputs": [
        {
          "data": {
            "application/vnd.google.colaboratory.intrinsic+json": {
              "type": "string"
            },
            "text/plain": [
              "'1234'"
            ]
          },
          "execution_count": 6,
          "metadata": {},
          "output_type": "execute_result"
        }
      ],
      "source": [
        "import re\n",
        "\n",
        "my_string = \"aAb1B2cC34oOp\"\n",
        "re.sub('[^1-9]', '', my_string)"
      ]
    },
    {
      "cell_type": "code",
      "execution_count": 44,
      "metadata": {
        "colab": {
          "base_uri": "https://localhost:8080/"
        },
        "id": "Q0xhU1tQ8zN9",
        "outputId": "6cdb4ceb-5800-49a2-97b1-b2bb1d42d245"
      },
      "outputs": [
        {
          "output_type": "execute_result",
          "data": {
            "text/plain": [
              "9"
            ]
          },
          "metadata": {},
          "execution_count": 44
        }
      ],
      "source": [
        "import re\n",
        "\n",
        "def dd(my_string):\n",
        "    return sum([int(i) for i in re.sub('[^1-9]', '', my_string)])   # 리스트 컴프리헨션을 사용하여 숫자 문자열을 정수로 변환\n",
        "\n",
        "dd('aAb1Bf3f32cCp')"
      ]
    },
    {
      "cell_type": "code",
      "execution_count": 45,
      "metadata": {
        "id": "YQEeTar292SS",
        "colab": {
          "base_uri": "https://localhost:8080/"
        },
        "outputId": "6dae1632-41d9-4775-a720-c2e6acbb5a04"
      },
      "outputs": [
        {
          "output_type": "execute_result",
          "data": {
            "text/plain": [
              "9"
            ]
          },
          "metadata": {},
          "execution_count": 45
        }
      ],
      "source": [
        "import re\n",
        "\n",
        "def ff(my_string):\n",
        "    return sum(int(i) for i in re.sub('[^1-9]', '', my_string))   # 제너레이터 표현식을 사용하여 숫자 문자열을 정수로 변환\n",
        "\n",
        "ff('aAb1Bf3f32cCp')"
      ]
    },
    {
      "cell_type": "markdown",
      "metadata": {
        "id": "Znat84u9-HU_"
      },
      "source": [
        "### sub의 실무 응용(중고급 강좌)"
      ]
    },
    {
      "cell_type": "code",
      "execution_count": null,
      "metadata": {
        "colab": {
          "base_uri": "https://localhost:8080/",
          "height": 35
        },
        "id": "QBIGvdxd-KiJ",
        "outputId": "973bb372-efec-4484-f8f9-d0c0734807a5"
      },
      "outputs": [
        {
          "data": {
            "application/vnd.google.colaboratory.intrinsic+json": {
              "type": "string"
            },
            "text/plain": [
              "'010__5000__3000'"
            ]
          },
          "execution_count": 8,
          "metadata": {},
          "output_type": "execute_result"
        }
      ],
      "source": [
        "import re\n",
        "\n",
        "re.sub(r'([0-9]{3})-([0-9]{4})-([0-9]{4})',\n",
        "       r'\\1__\\2__\\3',\n",
        "       '010-5000-3000')"
      ]
    },
    {
      "cell_type": "code",
      "execution_count": null,
      "metadata": {
        "colab": {
          "base_uri": "https://localhost:8080/",
          "height": 35
        },
        "id": "htZ6Xi6n_we8",
        "outputId": "ee5a6029-cffc-408f-d87e-2fff6bef06c0"
      },
      "outputs": [
        {
          "data": {
            "application/vnd.google.colaboratory.intrinsic+json": {
              "type": "string"
            },
            "text/plain": [
              "'010!!5000!!3000'"
            ]
          },
          "execution_count": 9,
          "metadata": {},
          "output_type": "execute_result"
        }
      ],
      "source": [
        "import re\n",
        "\n",
        "re.sub(r'([0-9]{3})-([0-9]{4})-([0-9]{4})',\n",
        "       r'\\1!!\\2!!\\3',\n",
        "       '010-5000-3000')"
      ]
    },
    {
      "cell_type": "code",
      "execution_count": null,
      "metadata": {
        "colab": {
          "base_uri": "https://localhost:8080/",
          "height": 35
        },
        "id": "ZxPLC_25_3QA",
        "outputId": "ba06ebc0-ba6c-433a-c411-bf405c16e226"
      },
      "outputs": [
        {
          "data": {
            "application/vnd.google.colaboratory.intrinsic+json": {
              "type": "string"
            },
            "text/plain": [
              "'010---5000---3000'"
            ]
          },
          "execution_count": 10,
          "metadata": {},
          "output_type": "execute_result"
        }
      ],
      "source": [
        "import re\n",
        "\n",
        "re.sub(r'([0-9]{3})-([0-9]{4})-([0-9]{4})',\n",
        "       r'\\1---\\2---\\3',\n",
        "       '010-5000-3000')"
      ]
    },
    {
      "cell_type": "code",
      "execution_count": null,
      "metadata": {
        "id": "q7xXpL3i__3s"
      },
      "outputs": [],
      "source": [
        "# 문제\n",
        "# 입력 : '2023/05/16'\n",
        "# 출력1 : '05/16/2023' # 미국식 날짜 표기 방법(월 / 일 / 년)\n",
        "# 출력2 : '16/05/2023' # 영국식 날짜 표기 방법(일 / 월 / 년)"
      ]
    },
    {
      "cell_type": "code",
      "execution_count": null,
      "metadata": {
        "colab": {
          "base_uri": "https://localhost:8080/",
          "height": 35
        },
        "id": "0Z97EwD0BCBP",
        "outputId": "22f55f6e-de61-4afe-d1ec-7d768d90e936"
      },
      "outputs": [
        {
          "data": {
            "application/vnd.google.colaboratory.intrinsic+json": {
              "type": "string"
            },
            "text/plain": [
              "'2023/2023/2023/2023/2023/2023/2023'"
            ]
          },
          "execution_count": 12,
          "metadata": {},
          "output_type": "execute_result"
        }
      ],
      "source": [
        "import re\n",
        "\n",
        "re.sub(r'([0-9]{4})/([0-9]{2})/([0-9]{2})',\n",
        "       r'\\1/\\1/\\1/\\1/\\1/\\1/\\1',\n",
        "       '2023/05/16')"
      ]
    },
    {
      "cell_type": "code",
      "execution_count": null,
      "metadata": {
        "colab": {
          "base_uri": "https://localhost:8080/",
          "height": 35
        },
        "id": "vmfmnJK9A5As",
        "outputId": "c9023cc5-f42a-4b65-cedd-6627779a5f3d"
      },
      "outputs": [
        {
          "data": {
            "application/vnd.google.colaboratory.intrinsic+json": {
              "type": "string"
            },
            "text/plain": [
              "'05/16/2023'"
            ]
          },
          "execution_count": 14,
          "metadata": {},
          "output_type": "execute_result"
        }
      ],
      "source": [
        "# 문제\n",
        "# 입력 : '2023/05/16'\n",
        "# 출력1 : '05/16/2023' # 미국식 날짜 표기 방법(월 / 일 / 년)\n",
        "# 출력2 : '16/05/2023' # 영국식 날짜 표기 방법(일 / 월 / 년)\n",
        "# 미국식\n",
        "import re\n",
        "\n",
        "re.sub(r'([0-9]{4})/([0-9]{2})/([0-9]{2})',\n",
        "       r'\\2/\\3/\\1',\n",
        "       '2023/05/16')"
      ]
    },
    {
      "cell_type": "code",
      "execution_count": null,
      "metadata": {
        "colab": {
          "base_uri": "https://localhost:8080/",
          "height": 35
        },
        "id": "31EyCnuOBGQv",
        "outputId": "c88b5758-8449-4e68-961d-c5349b1e820f"
      },
      "outputs": [
        {
          "data": {
            "application/vnd.google.colaboratory.intrinsic+json": {
              "type": "string"
            },
            "text/plain": [
              "'16/05/2023'"
            ]
          },
          "execution_count": 15,
          "metadata": {},
          "output_type": "execute_result"
        }
      ],
      "source": [
        "# 영국식\n",
        "import re\n",
        "\n",
        "re.sub(r'([0-9]{4})/([0-9]{2})/([0-9]{2})',\n",
        "       r'\\3/\\2/\\1',\n",
        "       '2023/05/16')"
      ]
    },
    {
      "cell_type": "code",
      "execution_count": null,
      "metadata": {
        "colab": {
          "base_uri": "https://localhost:8080/",
          "height": 35
        },
        "id": "1WQp5DkbBSpC",
        "outputId": "cb950ce4-992b-490d-f1da-751c3b4019ed"
      },
      "outputs": [
        {
          "data": {
            "application/vnd.google.colaboratory.intrinsic+json": {
              "type": "string"
            },
            "text/plain": [
              "'16/05/2023'"
            ]
          },
          "execution_count": 16,
          "metadata": {},
          "output_type": "execute_result"
        }
      ],
      "source": [
        "# 변수로 사용하는 것 test1\n",
        "import re\n",
        "\n",
        "re.sub(r'(?P<year>[0-9]{4})/(?P<month>[0-9]{2})/(?P<day>[0-9]{2})',\n",
        "       r'\\3/\\2/\\1',\n",
        "       '2023/05/16')"
      ]
    },
    {
      "cell_type": "code",
      "execution_count": null,
      "metadata": {
        "colab": {
          "base_uri": "https://localhost:8080/",
          "height": 35
        },
        "id": "npLOB316Buhe",
        "outputId": "02a4b010-8187-4525-d0b1-97b959f43e37"
      },
      "outputs": [
        {
          "data": {
            "application/vnd.google.colaboratory.intrinsic+json": {
              "type": "string"
            },
            "text/plain": [
              "'\\\\<year>/\\\\<month>/\\\\<day>'"
            ]
          },
          "execution_count": 17,
          "metadata": {},
          "output_type": "execute_result"
        }
      ],
      "source": [
        "# 변수로 사용하는 것 test2\n",
        "# 작동하지 않습니다.\n",
        "import re\n",
        "\n",
        "re.sub(r'(?P<year>[0-9]{4})/(?P<month>[0-9]{2})/(?P<day>[0-9]{2})',\n",
        "       r'\\<year>/\\<month>/\\<day>',\n",
        "       '2023/05/16')"
      ]
    },
    {
      "cell_type": "code",
      "execution_count": null,
      "metadata": {
        "colab": {
          "base_uri": "https://localhost:8080/",
          "height": 35
        },
        "id": "zWSxvlylB7hA",
        "outputId": "128414dd-d452-433f-e955-adff63ffa393"
      },
      "outputs": [
        {
          "data": {
            "application/vnd.google.colaboratory.intrinsic+json": {
              "type": "string"
            },
            "text/plain": [
              "'2023/05/16'"
            ]
          },
          "execution_count": 18,
          "metadata": {},
          "output_type": "execute_result"
        }
      ],
      "source": [
        "# 변수로 사용하는 것 test3\n",
        "import re\n",
        "\n",
        "re.sub(r'(?P<year>[0-9]{4})/(?P<month>[0-9]{2})/(?P<day>[0-9]{2})',\n",
        "       r'\\g<year>/\\g<month>/\\g<day>',\n",
        "       '2023/05/16')"
      ]
    },
    {
      "cell_type": "code",
      "execution_count": null,
      "metadata": {
        "colab": {
          "base_uri": "https://localhost:8080/",
          "height": 35
        },
        "id": "gmxJThkVEyHY",
        "outputId": "1fe64963-c0f9-4325-d5fc-119d88b6b00d"
      },
      "outputs": [
        {
          "data": {
            "application/vnd.google.colaboratory.intrinsic+json": {
              "type": "string"
            },
            "text/plain": [
              "'<h1>hello world</h1>'"
            ]
          },
          "execution_count": 19,
          "metadata": {},
          "output_type": "execute_result"
        }
      ],
      "source": [
        "# md -> html 파일로\n",
        "# '# hello world' => '<h1>hello world</h1>'\n",
        "import re\n",
        "\n",
        "re.sub(r'# (.*)',\n",
        "       r'<h1>\\1</h1>',\n",
        "       '# hello world')"
      ]
    },
    {
      "cell_type": "code",
      "execution_count": null,
      "metadata": {
        "colab": {
          "base_uri": "https://localhost:8080/",
          "height": 52
        },
        "id": "IOBDuFHZFpwk",
        "outputId": "7e04c5f7-153d-43e3-874d-52f22d683d68"
      },
      "outputs": [
        {
          "data": {
            "application/vnd.google.colaboratory.intrinsic+json": {
              "type": "string"
            },
            "text/plain": [
              "'<h1>hello1</h1>\\nhello world\\n<h1>hello2</h1>\\nhello world\\n<h1>hello3</h1>\\nhello world\\n'"
            ]
          },
          "execution_count": 20,
          "metadata": {},
          "output_type": "execute_result"
        }
      ],
      "source": [
        "# md -> html 파일로\n",
        "# '# hello world' => '<h1>hello world</h1>'\n",
        "import re\n",
        "\n",
        "text='''# hello1\n",
        "hello world\n",
        "# hello2\n",
        "hello world\n",
        "# hello3\n",
        "hello world\n",
        "'''\n",
        "\n",
        "re.sub(r'# (.*)',\n",
        "       r'<h1>\\1</h1>',\n",
        "       text)"
      ]
    },
    {
      "cell_type": "code",
      "execution_count": null,
      "metadata": {
        "colab": {
          "base_uri": "https://localhost:8080/",
          "height": 53
        },
        "id": "jD5g2rw8GM5G",
        "outputId": "babc7503-c539-42a7-d255-a35fa368597c"
      },
      "outputs": [
        {
          "data": {
            "application/vnd.google.colaboratory.intrinsic+json": {
              "type": "string"
            },
            "text/plain": [
              "'<h1>hello1</h1>\\n#<h1>hello1.1</h1>\\nhello world\\n<h1>hello2</h1>\\n#<h1>hello2.1</h1>\\nhello world\\n<h1>hello3</h1>\\n#<h1>hello3.1</h1>\\nhello world\\n'"
            ]
          },
          "execution_count": 24,
          "metadata": {},
          "output_type": "execute_result"
        }
      ],
      "source": [
        "# md -> html 파일로\n",
        "# '# hello world' => '<h1>hello world</h1>'\n",
        "import re\n",
        "\n",
        "text='''# hello1\n",
        "## hello1.1\n",
        "hello world\n",
        "# hello2\n",
        "## hello2.1\n",
        "hello world\n",
        "# hello3\n",
        "## hello3.1\n",
        "hello world\n",
        "'''\n",
        "\n",
        "text = re.sub(r'# (.*)', r'<h1>\\1</h1>', text)\n",
        "text"
      ]
    },
    {
      "cell_type": "code",
      "execution_count": null,
      "metadata": {
        "colab": {
          "base_uri": "https://localhost:8080/"
        },
        "id": "11bnsuEgG8WF",
        "outputId": "94577a5b-6363-4c75-d3d9-afafb5ceb542"
      },
      "outputs": [
        {
          "name": "stdout",
          "output_type": "stream",
          "text": [
            "<h1>hello1</h1>\n",
            "<h2>hello1.1</h2>\n",
            "hello world\n",
            "<h1>hello2</h1>\n",
            "<h2>hello2.1</h2>\n",
            "hello world\n",
            "<h1>hello3</h1>\n",
            "<h2>hello3.1</h2>\n",
            "hello world\n",
            "\n"
          ]
        }
      ],
      "source": [
        "import re\n",
        "\n",
        "text='''# hello1\n",
        "## hello1.1\n",
        "hello world\n",
        "# hello2\n",
        "## hello2.1\n",
        "hello world\n",
        "# hello3\n",
        "## hello3.1\n",
        "hello world\n",
        "'''\n",
        "\n",
        "text = re.sub(r'## (.*)', r'<h2>\\1</h2>', text)\n",
        "text = re.sub(r'# (.*)', r'<h1>\\1</h1>', text)\n",
        "print(text)"
      ]
    },
    {
      "cell_type": "code",
      "execution_count": null,
      "metadata": {
        "colab": {
          "base_uri": "https://localhost:8080/"
        },
        "id": "FkUYpk0lHRfu",
        "outputId": "abcb4b6c-f796-4921-b0d5-da2ee0f980c6"
      },
      "outputs": [
        {
          "name": "stdout",
          "output_type": "stream",
          "text": [
            "<h1>hello1</h1>\n",
            "## hello1.1\n",
            "hello world\n",
            "<h1>hello2</h1>\n",
            "## hello2.1\n",
            "hello world\n",
            "<h1>hello3</h1>\n",
            "## hello3.1\n",
            "hello world\n",
            "\n"
          ]
        }
      ],
      "source": [
        "import re\n",
        "\n",
        "text='''# hello1\n",
        "## hello1.1\n",
        "hello world\n",
        "# hello2\n",
        "## hello2.1\n",
        "hello world\n",
        "# hello3\n",
        "## hello3.1\n",
        "hello world\n",
        "'''\n",
        "\n",
        "# p = re.compile('^# (.*)', re.MULTILINE)\n",
        "# text = p.sub(r'<h1>\\1</h1>', text)\n",
        "text = re.sub(r'^# (.*)', r'<h1>\\1</h1>', text, flags=re.M)\n",
        "text = re.sub(r'^## (.*)', r'<h2>\\1</h2>', text, flags=re.M)\n",
        "print(text)"
      ]
    },
    {
      "cell_type": "code",
      "execution_count": null,
      "metadata": {
        "colab": {
          "base_uri": "https://localhost:8080/"
        },
        "id": "MuMPsNchIUZo",
        "outputId": "3b192882-6503-4606-ea9b-fc74f889e07e"
      },
      "outputs": [
        {
          "name": "stdout",
          "output_type": "stream",
          "text": [
            "<h1>This is a h1</h1>\n",
            "<h2>This is a h2</h2>\n",
            "<h3>This is a h3</h3>\n",
            "#<h3>This is a h4</h3>\n",
            "##<h3>This is a h5</h3>\n",
            "###<h3>This is a h6</h3>\n",
            "\n",
            "<ul><li>This is a bulleted list\n",
            "  * This is a nested bulleted list\n",
            "\n",
            "<strong>This is bold text</strong>\n",
            "\n",
            "<em>This is italic text</em>\n",
            "\n",
            "<del>This text is strikethrough</del>\n",
            "</li></ul>\n"
          ]
        }
      ],
      "source": [
        "import re\n",
        "\n",
        "text = '''# This is a h1\n",
        "## This is a h2\n",
        "### This is a h3\n",
        "#### This is a h4\n",
        "##### This is a h5\n",
        "###### This is a h6\n",
        "\n",
        "* This is a bulleted list\n",
        "  * This is a nested bulleted list\n",
        "\n",
        "**This is bold text**\n",
        "\n",
        "_This is italic text_\n",
        "\n",
        "~~This text is strikethrough~~\n",
        "'''\n",
        "\n",
        "def markdown_to_html(markdown):\n",
        "    html = re.sub(r'### (.*)', r'<h3>\\1</h3>', markdown)\n",
        "    html = re.sub(r'## (.*)', r'<h2>\\1</h2>', html)\n",
        "    html = re.sub(r'# (.*)', r'<h1>\\1</h1>', html)\n",
        "    html = re.sub(r'`(.*)`', r'<pre><code>\\1</code></pre>', html)\n",
        "    html = re.sub(r'\\*\\*(.*)\\*\\*', r'<strong>\\1</strong>', html)\n",
        "    html = re.sub(r'_(.*)_', r'<em>\\1</em>', html)\n",
        "    html = re.sub(r'~~(.*)~~', r'<del>\\1</del>', html)\n",
        "    html = re.sub(r'^(>+) (.*)', r'<blockquote>\\1\\2</blockquote>', html)\n",
        "    # html = re.sub(r'^\\* (.*)', r'<ul><li>\\1</li></ul>', html, flags=re.M+re.S)\n",
        "    return html\n",
        "\n",
        "print(markdown_to_html(text))"
      ]
    },
    {
      "cell_type": "markdown",
      "metadata": {
        "id": "QxVMoSkne0Qg"
      },
      "source": [
        "## 연습문제"
      ]
    },
    {
      "cell_type": "code",
      "execution_count": null,
      "metadata": {
        "id": "_VSyQCHge316"
      },
      "outputs": [],
      "source": [
        "# 다음 숫자를 모두 포함하는 정규표현식을 만들어주세요.\n",
        "\n",
        "# 010-9091-5491\n",
        "# 010-5043-2901\n",
        "# 010-5050-40409\n",
        "# 010 2913 3132\n",
        "# 01019133829\n",
        "# 064-721-3213\n",
        "# 010.1913.3829"
      ]
    },
    {
      "cell_type": "code",
      "execution_count": null,
      "metadata": {
        "colab": {
          "base_uri": "https://localhost:8080/"
        },
        "id": "c1obo4BkTELB",
        "outputId": "ef3e4be1-accf-4207-87a1-6192d95e1352"
      },
      "outputs": [
        {
          "data": {
            "text/plain": [
              "['010-9091-5491',\n",
              " '010-5043-2901',\n",
              " '010-5050-404092',\n",
              " '010 2913 3132',\n",
              " '01019133829',\n",
              " '064-721-3213',\n",
              " '010.1913.3829']"
            ]
          },
          "execution_count": 58,
          "metadata": {},
          "output_type": "execute_result"
        }
      ],
      "source": [
        "# 문제 답안\n",
        "import re\n",
        "\n",
        "text = '''010-9091-5491\n",
        "010-5043-2901\n",
        "010-5050-40409\n",
        "010 2913 3132\n",
        "01019133829\n",
        "064-721-3213\n",
        "010.1913.3829'''\n",
        "\n",
        "# 대괄호 안에서는 메타문자 역할을 하는 것은 \\, ^, -, ] 4개!\n",
        "p = re.compile(r'\\d{3}[\\.\\- ]?\\d+[\\.\\- ]?\\d+')\n",
        "p.findall(text)"
      ]
    },
    {
      "cell_type": "code",
      "execution_count": null,
      "metadata": {
        "id": "Wnz6HcomTeEG"
      },
      "outputs": [],
      "source": [
        "l = re.compile(r'([0-9]{3}.?[0-9]{3,4}.?[0-9]{4,5})')\n",
        "# .? 이 부분에서 모든종류의 문자가 0,1개 라고 읽을 수 있을까요?\n",
        "# 아니면 이런 형식에서 발생할 수 있는 문제가 있을까요?\n",
        "\n",
        "# 문제 내에서는 없습니다. 왜냐하면 지금 휴대폰 뒷자리가 5자리인 것도 허용되게 되어 있거든요.\n",
        "# 만약 실제로 사용하는 코드였다면 자릿수 문제가 생깁니다.\n",
        "# 앞에 3자리 + 1자리 + 4자리 + 1자리 + 5자리로 최대 숫자가 14자리가 올 수 있게 됩니다.\n",
        "# '.'에 숫자가 오는 케이스를 말씀드린 것입니다."
      ]
    },
    {
      "cell_type": "code",
      "execution_count": null,
      "metadata": {
        "colab": {
          "base_uri": "https://localhost:8080/"
        },
        "id": "m5Y_7MMiUubx",
        "outputId": "45fff917-884c-4cdd-bf7f-6991fad2841b"
      },
      "outputs": [
        {
          "data": {
            "text/plain": [
              "['010-9091-5491', '010  5043  29012331']"
            ]
          },
          "execution_count": 60,
          "metadata": {},
          "output_type": "execute_result"
        }
      ],
      "source": [
        "text = '''010-9091-5491\n",
        "010  5043  2901\n",
        "'''\n",
        "l = re.compile(r'(0[0-9]{2}.*[0-9]{3,4}.*[0-9]{4,5})')\n",
        "l.findall(text)"
      ]
    },
    {
      "cell_type": "code",
      "execution_count": null,
      "metadata": {
        "id": "PWjluIUVWHX7"
      },
      "outputs": [],
      "source": [
        "text = '''010-9091-5491\n",
        "010  5043  2901\n",
        "'''\n",
        "l = re.compile(r'(0[0-9]{2}[^0-9]*[0-9]{3,4}[^0-9]*[0-9]{4,5})')\n",
        "l.findall(text)"
      ]
    },
    {
      "cell_type": "code",
      "execution_count": null,
      "metadata": {
        "colab": {
          "base_uri": "https://localhost:8080/"
        },
        "id": "ojwsHpw3WVcw",
        "outputId": "c0ebf02d-2367-495f-f5a7-e92182a734ff"
      },
      "outputs": [
        {
          "name": "stdout",
          "output_type": "stream",
          "text": [
            "['[hello]']\n",
            "['[hello]']\n",
            "[']']\n",
            "['(hello)']\n"
          ]
        }
      ],
      "source": [
        "# 지섭님에 날카로운 질문!\n",
        "# 대괄호는 이스케이프 처리를 안해줘도 되고 소괄호 이스케이프 처리 해주어야 하는데 이유가 있는지?\n",
        "# 대괄호\n",
        "a = re.compile(r'\\[.*\\]')\n",
        "b = re.compile(r'\\[.*]')\n",
        "c = re.compile(r']')\n",
        "\n",
        "print(a.findall(r'[hello]'))\n",
        "print(b.findall(r'[hello]'))\n",
        "print(c.findall(r']'))\n",
        "\n",
        "# 소괄호\n",
        "d = re.compile(r'\\(.*\\)')\n",
        "# e = re.compile(r'\\(.*)') # error\n",
        "# f = re.compile(r')') # error\n",
        "\n",
        "print(d.findall(r'(hello)'))\n",
        "# print(e.findall(r'(hello)')) # error\n",
        "# print(f.findall(r')')) # error"
      ]
    },
    {
      "cell_type": "code",
      "execution_count": null,
      "metadata": {
        "id": "F0EkXraXefzC"
      },
      "outputs": [],
      "source": [
        "# 오답\n",
        "import re\n",
        "\n",
        "text = '''010-9091-5491\n",
        "010-5043-2901\n",
        "010-5050-40409\n",
        "010 2913 3132\n",
        "01019133829\n",
        "064-721-3213\n",
        "010.1913.3829'''\n",
        "\n",
        "p = re.compile(r'.')\n",
        "p.findall(text)"
      ]
    },
    {
      "cell_type": "code",
      "execution_count": null,
      "metadata": {
        "colab": {
          "base_uri": "https://localhost:8080/"
        },
        "id": "Q0ViIcPgf9VO",
        "outputId": "fb63c3cf-41e6-4c85-9182-dcbf7b57f4a8"
      },
      "outputs": [
        {
          "data": {
            "text/plain": [
              "['[hello] [hello] [hello] [hello] [hello] [hello]']"
            ]
          },
          "execution_count": 76,
          "metadata": {},
          "output_type": "execute_result"
        }
      ],
      "source": [
        "# 왜 괄호 처리 못해주나요?\n",
        "# 대괄호\n",
        "p = re.compile(r'\\[.*\\]')\n",
        "p.findall(r'[hello] [hello] [hello] [hello] [hello] [hello]')"
      ]
    },
    {
      "cell_type": "code",
      "execution_count": null,
      "metadata": {
        "colab": {
          "base_uri": "https://localhost:8080/"
        },
        "id": "_y002KY7gigX",
        "outputId": "b6d34fa6-e738-43e7-acd5-511d2f7de88c"
      },
      "outputs": [
        {
          "data": {
            "text/plain": [
              "['[hello]', '[hello]', '[hello]', '[hello]', '[hello]', '[hello]']"
            ]
          },
          "execution_count": 77,
          "metadata": {},
          "output_type": "execute_result"
        }
      ],
      "source": [
        "p = re.compile(r'\\[hello\\]')\n",
        "p.findall(r'[hello] [hello] [hello] [hello] [hello] [hello]')"
      ]
    },
    {
      "cell_type": "code",
      "execution_count": null,
      "metadata": {
        "colab": {
          "base_uri": "https://localhost:8080/"
        },
        "id": "dQyDfEHbgraD",
        "outputId": "45023c2b-01ab-44ce-9866-878fbbc529f0"
      },
      "outputs": [
        {
          "data": {
            "text/plain": [
              "['[hello]', '[hello]', '[hello]', '[hello]', '[hello]', '[hello]']"
            ]
          },
          "execution_count": 78,
          "metadata": {},
          "output_type": "execute_result"
        }
      ],
      "source": [
        "p = re.compile(r'\\[\\w+\\]')\n",
        "p.findall(r'[hello] [hello] [hello] [hello] [hello] [hello]')"
      ]
    },
    {
      "cell_type": "code",
      "execution_count": null,
      "metadata": {
        "colab": {
          "base_uri": "https://localhost:8080/"
        },
        "id": "kEK265ukhhGC",
        "outputId": "8f2501f4-270f-489a-a96c-e725c0161f78"
      },
      "outputs": [
        {
          "data": {
            "text/plain": [
              "['010-9091-5491', '010.1913.3829']"
            ]
          },
          "execution_count": 79,
          "metadata": {},
          "output_type": "execute_result"
        }
      ],
      "source": [
        "# 질문 : 자릿수 넘어가는 것은 어떻게 되나요?\n",
        "# 답 : 잘립니다.\n",
        "import re\n",
        "\n",
        "text = '''010-9091-5491\n",
        "010.1913.382900000000000000'''\n",
        "\n",
        "p = re.compile(r'\\d{3}[-. ]\\d{4}[-. ]\\d{4}')\n",
        "p.findall(text)"
      ]
    },
    {
      "cell_type": "markdown",
      "metadata": {
        "id": "qb132drAKnb2"
      },
      "source": [
        "## search"
      ]
    },
    {
      "cell_type": "code",
      "execution_count": null,
      "metadata": {
        "colab": {
          "base_uri": "https://localhost:8080/"
        },
        "id": "bQukNorDKpsz",
        "outputId": "ae300a02-b37e-41f8-c8f2-02f0abcaccaf"
      },
      "outputs": [
        {
          "name": "stdout",
          "output_type": "stream",
          "text": [
            "<re.Match object; span=(1, 2), match='y'>\n"
          ]
        }
      ],
      "source": [
        "p = re.compile('[yth]')\n",
        "m = p.search('python')\n",
        "print(m)"
      ]
    },
    {
      "cell_type": "markdown",
      "metadata": {
        "id": "evgcdcKbLFdd"
      },
      "source": [
        "## findall"
      ]
    },
    {
      "cell_type": "code",
      "execution_count": 4,
      "metadata": {
        "colab": {
          "base_uri": "https://localhost:8080/"
        },
        "id": "_-PFePYBLE-Y",
        "outputId": "05ce771c-fc50-45d5-9dca-b7bae0d36c28"
      },
      "outputs": [
        {
          "output_type": "stream",
          "name": "stdout",
          "text": [
            "['ython']\n"
          ]
        }
      ],
      "source": [
        "import re\n",
        "\n",
        "p = re.compile('[a-z]+')\n",
        "result = p.findall('Python')\n",
        "print(result)"
      ]
    },
    {
      "cell_type": "code",
      "execution_count": 14,
      "metadata": {
        "colab": {
          "base_uri": "https://localhost:8080/"
        },
        "id": "bH0LKKhRLWxS",
        "outputId": "dc9882eb-3ea3-4944-8643-b591730c7bfa"
      },
      "outputs": [
        {
          "output_type": "stream",
          "name": "stdout",
          "text": [
            "['ife', 'is', 'hort', 'ou', 'eed', 'ython']\n"
          ]
        }
      ],
      "source": [
        "import re\n",
        "\n",
        "p = re.compile('[a-z]+')\n",
        "result = p.findall('Life is Short, You Need Python!')\n",
        "print(result)"
      ]
    },
    {
      "cell_type": "code",
      "execution_count": 26,
      "metadata": {
        "colab": {
          "base_uri": "https://localhost:8080/"
        },
        "id": "diTFU2qZLxgG",
        "outputId": "48fe8ec3-79b3-4558-8fa0-93f2b9859fb9"
      },
      "outputs": [
        {
          "output_type": "stream",
          "name": "stdout",
          "text": [
            "['ifeis', 'hort', 'ou', 'eed', 'y', 't', 'h', 'o', 'n']\n"
          ]
        }
      ],
      "source": [
        "p = re.compile('[a-z]+')\n",
        "result = p.findall('LifeisShort,YouNeed P y t h o n !')\n",
        "print(result)"
      ]
    },
    {
      "cell_type": "code",
      "execution_count": null,
      "metadata": {
        "colab": {
          "base_uri": "https://localhost:8080/"
        },
        "id": "ctu3JgXuLmmi",
        "outputId": "5dc89e4b-ca46-4c3b-e6bd-068a9254fb6e"
      },
      "outputs": [
        {
          "name": "stdout",
          "output_type": "stream",
          "text": [
            "['010', '5000', '1000']\n"
          ]
        }
      ],
      "source": [
        "p = re.compile('[0-9]+')\n",
        "result = p.findall('010!5000-1000')\n",
        "print(result)"
      ]
    },
    {
      "cell_type": "code",
      "execution_count": null,
      "metadata": {
        "colab": {
          "base_uri": "https://localhost:8080/"
        },
        "id": "m3TxTWh2MHPk",
        "outputId": "ef550198-5aee-4294-ff23-dd993279f1c9"
      },
      "outputs": [
        {
          "data": {
            "text/plain": [
              "['010', '5000', '1000']"
            ]
          },
          "execution_count": 48,
          "metadata": {},
          "output_type": "execute_result"
        }
      ],
      "source": [
        "'010-5000-1000'.split('-')"
      ]
    },
    {
      "cell_type": "code",
      "execution_count": null,
      "metadata": {
        "id": "004qdmpVNFse"
      },
      "outputs": [],
      "source": [
        "# 문제 링크 : https://school.programmers.co.kr/learn/courses/30/lessons/17682"
      ]
    },
    {
      "cell_type": "code",
      "execution_count": null,
      "metadata": {
        "colab": {
          "base_uri": "https://localhost:8080/"
        },
        "id": "_oglE8myMYw4",
        "outputId": "dda42dba-f069-406f-88f4-086368f832b0"
      },
      "outputs": [
        {
          "data": {
            "text/plain": [
              "[('1', 'S', ''), ('2', 'D', '*'), ('3', 'T', '')]"
            ]
          },
          "execution_count": 50,
          "metadata": {},
          "output_type": "execute_result"
        }
      ],
      "source": [
        "# 1\n",
        "p = re.compile(r'([0-9]|10)([SDT])([\\*\\#]?)')\n",
        "p.findall('1S2D*3T')\n",
        "\n",
        "# 2\n",
        "# re.findall(r'([0-9]|10)([SDT])([\\*\\#]?)', '1S2D*3T')"
      ]
    },
    {
      "cell_type": "code",
      "execution_count": null,
      "metadata": {
        "id": "1JAvYR-nNTQP"
      },
      "outputs": [],
      "source": [
        "# 문제 링크 : https://school.programmers.co.kr/learn/courses/30/lessons/120891"
      ]
    },
    {
      "cell_type": "code",
      "execution_count": null,
      "metadata": {
        "colab": {
          "base_uri": "https://localhost:8080/"
        },
        "id": "ZQgw0Kp5Nvx1",
        "outputId": "c8741df9-e5ac-4bf7-b615-b599ac478c46"
      },
      "outputs": [
        {
          "name": "stdout",
          "output_type": "stream",
          "text": [
            "['9', '3']\n"
          ]
        }
      ],
      "source": [
        "p = re.compile('[369]')\n",
        "result = p.findall('29423')\n",
        "print(result)"
      ]
    },
    {
      "cell_type": "code",
      "execution_count": null,
      "metadata": {
        "id": "q3kjDniaOUXo"
      },
      "outputs": [],
      "source": [
        "def solution(order):\n",
        "    count = 0\n",
        "    for i in str(order):\n",
        "        if i == '3' or i == '6' or i == '9':\n",
        "            count += 1\n",
        "    return count"
      ]
    },
    {
      "cell_type": "code",
      "execution_count": null,
      "metadata": {
        "id": "cHQIUEXcOiPS"
      },
      "outputs": [],
      "source": [
        "def solution(order):\n",
        "    count = 0\n",
        "    for i in str(order):\n",
        "        if i == '3':\n",
        "            count += 1\n",
        "        elif i == '6':\n",
        "            count += 1\n",
        "        elif i == '9':\n",
        "            count += 1\n",
        "    return count"
      ]
    },
    {
      "cell_type": "code",
      "execution_count": 28,
      "metadata": {
        "id": "Wo67uCyPN_zm"
      },
      "outputs": [],
      "source": [
        "import re\n",
        "\n",
        "def solution(order):\n",
        "    p = re.compile('[369]')\n",
        "    return len(p.findall(str(order)))"
      ]
    },
    {
      "cell_type": "code",
      "execution_count": null,
      "metadata": {
        "id": "j-RdgQwFPS6S"
      },
      "outputs": [],
      "source": [
        "# 문제 링크 : https://school.programmers.co.kr/learn/courses/30/lessons/120913"
      ]
    },
    {
      "cell_type": "code",
      "source": [
        "def ngram(s, n):\n",
        "    for i in range(0, len(s), n):\n",
        "        print(s[i:i+n])\n",
        "\n",
        "ngram('python', 2)\n",
        "# 'py'\n",
        "# 'th'\n",
        "# 'on'\n",
        "\n",
        "# py\n",
        "# yt\n",
        "# th\n",
        "# ho\n",
        "# on"
      ],
      "metadata": {
        "colab": {
          "base_uri": "https://localhost:8080/"
        },
        "id": "fRAlLa1kQKlu",
        "outputId": "a7ef7347-051d-4733-bcd7-8a00da7c9b22"
      },
      "execution_count": 47,
      "outputs": [
        {
          "output_type": "stream",
          "name": "stdout",
          "text": [
            "py\n",
            "th\n",
            "on\n"
          ]
        }
      ]
    },
    {
      "cell_type": "code",
      "source": [
        "p = re.compile(r'[a-z]{2}')\n",
        "s = 'abcdefghijk'\n",
        "p.findall(s)"
      ],
      "metadata": {
        "colab": {
          "base_uri": "https://localhost:8080/"
        },
        "id": "xMCTEj-WSta5",
        "outputId": "0ea6534c-68cb-46b8-994f-6b0ca450638a"
      },
      "execution_count": 48,
      "outputs": [
        {
          "output_type": "execute_result",
          "data": {
            "text/plain": [
              "['ab', 'cd', 'ef', 'gh', 'ij']"
            ]
          },
          "metadata": {},
          "execution_count": 48
        }
      ]
    },
    {
      "cell_type": "code",
      "execution_count": null,
      "metadata": {
        "colab": {
          "base_uri": "https://localhost:8080/",
          "height": 35
        },
        "id": "7hE2hSydS7e1",
        "outputId": "f38192a0-47b9-4f6d-c806-e6b9a4a0f9dd"
      },
      "outputs": [
        {
          "data": {
            "application/vnd.google.colaboratory.intrinsic+json": {
              "type": "string"
            },
            "text/plain": [
              "'b'"
            ]
          },
          "execution_count": 58,
          "metadata": {},
          "output_type": "execute_result"
        }
      ],
      "source": [
        "s = \"abc1Addfggg4556b\"\n",
        "len(s)\n",
        "s[15:18] # str에 slicing 경우 out of range error가 발생 하지 않습니다."
      ]
    },
    {
      "cell_type": "code",
      "execution_count": null,
      "metadata": {
        "colab": {
          "base_uri": "https://localhost:8080/",
          "height": 35
        },
        "id": "mlugwfz1TaLt",
        "outputId": "c3ce9123-b123-4cf5-eca1-dcf38490cbcb"
      },
      "outputs": [
        {
          "data": {
            "application/vnd.google.colaboratory.intrinsic+json": {
              "type": "string"
            },
            "text/plain": [
              "''"
            ]
          },
          "execution_count": 59,
          "metadata": {},
          "output_type": "execute_result"
        }
      ],
      "source": [
        "s = \"abc1Addfggg4556b\"\n",
        "len(s)\n",
        "s[19:25] # str에 slicing 경우 out of range error가 발생 하지 않습니다."
      ]
    },
    {
      "cell_type": "code",
      "execution_count": null,
      "metadata": {
        "colab": {
          "base_uri": "https://localhost:8080/"
        },
        "id": "uqn8R2RyTePg",
        "outputId": "aa8cd992-0d0b-4e23-95e1-6af3daf2802a"
      },
      "outputs": [
        {
          "data": {
            "text/plain": [
              "[]"
            ]
          },
          "execution_count": 60,
          "metadata": {},
          "output_type": "execute_result"
        }
      ],
      "source": [
        "l = [10, 20, 30]\n",
        "l[10:15] # slicing 경우 out of range error가 발생 하지 않습니다."
      ]
    },
    {
      "cell_type": "code",
      "execution_count": null,
      "metadata": {
        "id": "BlI5F1vsTP7S"
      },
      "outputs": [],
      "source": [
        "n = 3\n",
        "s = \"abc1Addfggg4556b\"\n",
        "\n",
        "for i in range(0, len(s), n):\n",
        "    print(s[i:i+n])"
      ]
    },
    {
      "cell_type": "code",
      "execution_count": null,
      "metadata": {
        "colab": {
          "base_uri": "https://localhost:8080/"
        },
        "id": "1LzTYbdCPVfs",
        "outputId": "26f770fb-ddc3-4e4b-c327-802ae6d0663b"
      },
      "outputs": [
        {
          "name": "stdout",
          "output_type": "stream",
          "text": [
            "abc\n",
            "1Ad\n",
            "dfg\n",
            "gg4\n",
            "556\n",
            "b\n"
          ]
        }
      ],
      "source": [
        "def solution(my_str, n):\n",
        "    result = []\n",
        "    for i in range(0, len(my_str), n):\n",
        "        result.append(my_str[i:i+n])\n",
        "    return result"
      ]
    },
    {
      "cell_type": "code",
      "execution_count": null,
      "metadata": {
        "id": "lgfTRZDAT2wt"
      },
      "outputs": [],
      "source": [
        "def solution(my_str, n):\n",
        "    return [my_str[i:i+n] for i in range(0, len(my_str), n)]"
      ]
    },
    {
      "cell_type": "code",
      "execution_count": null,
      "metadata": {
        "colab": {
          "base_uri": "https://localhost:8080/"
        },
        "id": "YdmRqI4cUDd9",
        "outputId": "168757ee-faf3-4035-d888-543dd5160bf1"
      },
      "outputs": [
        {
          "data": {
            "text/plain": [
              "['abc1', 'Addf', 'ggg4', '556b']"
            ]
          },
          "execution_count": 61,
          "metadata": {},
          "output_type": "execute_result"
        }
      ],
      "source": [
        "import re\n",
        "\n",
        "re.findall('.{4}', \"abc1Addfggg4556b\")"
      ]
    },
    {
      "cell_type": "code",
      "execution_count": null,
      "metadata": {
        "colab": {
          "base_uri": "https://localhost:8080/"
        },
        "id": "E1KtpYZTUb_O",
        "outputId": "c0268136-3b9e-4ab9-f875-c698776c006e"
      },
      "outputs": [
        {
          "data": {
            "text/plain": [
              "['abc1', 'Addf', 'ggg4', '556b']"
            ]
          },
          "execution_count": 62,
          "metadata": {},
          "output_type": "execute_result"
        }
      ],
      "source": [
        "import re\n",
        "\n",
        "re.findall('.{4}', \"abc1Addfggg4556bte\")"
      ]
    },
    {
      "cell_type": "code",
      "execution_count": null,
      "metadata": {
        "colab": {
          "base_uri": "https://localhost:8080/"
        },
        "id": "iDfrFcP5UhYA",
        "outputId": "edbbffb0-b536-4f39-e526-f7df00dda067"
      },
      "outputs": [
        {
          "data": {
            "text/plain": [
              "['abc1', 'Addf', 'ggg4', '556b', 'te']"
            ]
          },
          "execution_count": 63,
          "metadata": {},
          "output_type": "execute_result"
        }
      ],
      "source": [
        "import re\n",
        "\n",
        "re.findall('.{1,4}', \"abc1Addfggg4556bte\")"
      ]
    },
    {
      "cell_type": "code",
      "execution_count": 52,
      "metadata": {
        "id": "o8nY1qRqUwtz",
        "colab": {
          "base_uri": "https://localhost:8080/"
        },
        "outputId": "afcfbeae-dc94-4a48-99da-1a74a2c995c6"
      },
      "outputs": [
        {
          "output_type": "execute_result",
          "data": {
            "text/plain": [
              "[]"
            ]
          },
          "metadata": {},
          "execution_count": 52
        }
      ],
      "source": [
        "# why? 왜 실패가 나왔는가?\n",
        "import re\n",
        "\n",
        "def solution(my_str, n):\n",
        "    return re.findall(f'.{1,n}', my_str)\n",
        "\n",
        "solution('abcdef', 2)"
      ]
    },
    {
      "cell_type": "code",
      "source": [
        "n = 3\n",
        "print(f'.{1,n}')\n",
        "print(f'.{{1,n}}') # {{문자열 취급}}   # 중괄호를 2개 사용해야 변수로 취급한다.\n",
        "print(f'.{{안녕}}') # {{문자열 취급}}\n",
        "print(f'.{{1,{n}}}')                # 중괄호를 2개 사용해야 변수로 취급한다."
      ],
      "metadata": {
        "colab": {
          "base_uri": "https://localhost:8080/"
        },
        "id": "gkHQ0xCUS4KA",
        "outputId": "903cbc07-ed08-41f1-96af-ee7db5d408d4"
      },
      "execution_count": 51,
      "outputs": [
        {
          "output_type": "stream",
          "name": "stdout",
          "text": [
            ".(1, 3)\n",
            ".{1,n}\n",
            ".{안녕}\n",
            ".{1,3}\n"
          ]
        }
      ]
    },
    {
      "cell_type": "code",
      "source": [
        "# step1\n",
        "import re\n",
        "\n",
        "def solution(my_str, n):\n",
        "    return re.findall(f'.{1,{n}}', my_str)"
      ],
      "metadata": {
        "id": "-0jFPg4KS4cK"
      },
      "execution_count": null,
      "outputs": []
    },
    {
      "cell_type": "code",
      "execution_count": 53,
      "metadata": {
        "id": "sRxBdEX7VCGQ",
        "colab": {
          "base_uri": "https://localhost:8080/"
        },
        "outputId": "5163936f-a2ff-4167-c901-51b8e69da24b"
      },
      "outputs": [
        {
          "output_type": "execute_result",
          "data": {
            "text/plain": [
              "['ab', 'cd', 'ef', 'gh', 'ij']"
            ]
          },
          "metadata": {},
          "execution_count": 53
        }
      ],
      "source": [
        "# step2\n",
        "# python에서 {를 넣기 위해선 {{를 사용하여야 합니다\n",
        "import re\n",
        "\n",
        "def solution(my_str, n):\n",
        "    return re.findall(f'.{{1,{n}}}', my_str)\n",
        "\n",
        "solution('abcdefghij', 2)"
      ]
    },
    {
      "cell_type": "code",
      "execution_count": 55,
      "metadata": {
        "id": "EisIT1zsVXOj",
        "colab": {
          "base_uri": "https://localhost:8080/",
          "height": 144
        },
        "outputId": "7aab4064-171f-44db-d404-845352d989e3"
      },
      "outputs": [
        {
          "output_type": "error",
          "ename": "SyntaxError",
          "evalue": "ignored",
          "traceback": [
            "\u001b[0;36m  File \u001b[0;32m\"<ipython-input-55-77b04db8d1aa>\"\u001b[0;36m, line \u001b[0;32m7\u001b[0m\n\u001b[0;31m    return re.findall(f'.\\{1,{n}\\}', my_str)\u001b[0m\n\u001b[0m                                   ^\u001b[0m\n\u001b[0;31mSyntaxError\u001b[0m\u001b[0;31m:\u001b[0m f-string expression part cannot include a backslash\n"
          ]
        }
      ],
      "source": [
        "# f-string 용법에서 중괄호를 문자열 그대로 표현하기 위해\n",
        "# 이스케이프 문자를 사용하지 않습니다.\n",
        "# 중괄호 2개를 사용합니다!\n",
        "import re\n",
        "\n",
        "def solution(my_str, n):\n",
        "    return re.findall(f'.\\{1,{n}\\}', my_str)"
      ]
    },
    {
      "cell_type": "code",
      "execution_count": null,
      "metadata": {
        "id": "rNF6g23gWD0L"
      },
      "outputs": [],
      "source": [
        "# 문제 링크 : https://school.programmers.co.kr/learn/courses/30/lessons/120894"
      ]
    },
    {
      "cell_type": "code",
      "execution_count": 56,
      "metadata": {
        "colab": {
          "base_uri": "https://localhost:8080/"
        },
        "id": "666rpfmeWIxZ",
        "outputId": "41917fab-d741-4443-fab2-5c3446ac6c6b"
      },
      "outputs": [
        {
          "output_type": "execute_result",
          "data": {
            "text/plain": [
              "['one', 'two', 'three', 'four', 'five', 'six', 'seven', 'eight', 'nine']"
            ]
          },
          "metadata": {},
          "execution_count": 56
        }
      ],
      "source": [
        "import re\n",
        "\n",
        "re.findall('(one|two|three|four|five|six|seven|eight|nine|zero)',\n",
        "           \"onetwothreefourfivesixseveneightnine\")"
      ]
    },
    {
      "cell_type": "code",
      "source": [
        "'onefourzerosixseven'.replace('one', '1')"
      ],
      "metadata": {
        "colab": {
          "base_uri": "https://localhost:8080/",
          "height": 36
        },
        "id": "-srTWI1_Tj_V",
        "outputId": "f6fba513-a49c-4242-c026-7043d99eeea5"
      },
      "execution_count": 57,
      "outputs": [
        {
          "output_type": "execute_result",
          "data": {
            "text/plain": [
              "'1fourzerosixseven'"
            ],
            "application/vnd.google.colaboratory.intrinsic+json": {
              "type": "string"
            }
          },
          "metadata": {},
          "execution_count": 57
        }
      ]
    },
    {
      "cell_type": "code",
      "execution_count": null,
      "metadata": {
        "colab": {
          "base_uri": "https://localhost:8080/",
          "height": 35
        },
        "id": "zUqBh6uHW68h",
        "outputId": "b275bd85-2993-4b32-ca92-8336076d3444"
      },
      "outputs": [
        {
          "data": {
            "application/vnd.google.colaboratory.intrinsic+json": {
              "type": "string"
            },
            "text/plain": [
              "'123456789'"
            ]
          },
          "execution_count": 69,
          "metadata": {},
          "output_type": "execute_result"
        }
      ],
      "source": [
        "d = {\n",
        "    'zero': 0,\n",
        "    'one': 1,\n",
        "    'two': 2,\n",
        "    'three': 3,\n",
        "    'four': 4,\n",
        "    'five': 5,\n",
        "    'six': 6,\n",
        "    'seven': 7,\n",
        "    'eight': 8,\n",
        "    'nine': 9\n",
        "}\n",
        "l = ['one', 'two', 'three', 'four', 'five', 'six', 'seven', 'eight', 'nine']\n",
        "\n",
        "s = ''\n",
        "for i in l:\n",
        "    s += str(d[i])\n",
        "s"
      ]
    },
    {
      "cell_type": "code",
      "execution_count": null,
      "metadata": {
        "colab": {
          "base_uri": "https://localhost:8080/",
          "height": 35
        },
        "id": "Ve5OMosyXnqe",
        "outputId": "5238664f-afc0-48a5-9800-1af00c70b6bc"
      },
      "outputs": [
        {
          "data": {
            "application/vnd.google.colaboratory.intrinsic+json": {
              "type": "string"
            },
            "text/plain": [
              "'123456789'"
            ]
          },
          "execution_count": 70,
          "metadata": {},
          "output_type": "execute_result"
        }
      ],
      "source": [
        "d = {\n",
        "    'zero': 0,\n",
        "    'one': 1,\n",
        "    'two': 2,\n",
        "    'three': 3,\n",
        "    'four': 4,\n",
        "    'five': 5,\n",
        "    'six': 6,\n",
        "    'seven': 7,\n",
        "    'eight': 8,\n",
        "    'nine': 9\n",
        "}\n",
        "l = ['one', 'two', 'three', 'four', 'five', 'six', 'seven', 'eight', 'nine']\n",
        "''.join([str(d[i]) for i in l])"
      ]
    },
    {
      "cell_type": "code",
      "execution_count": null,
      "metadata": {
        "colab": {
          "base_uri": "https://localhost:8080/",
          "height": 35
        },
        "id": "zqtX6CxmX0Z2",
        "outputId": "ad0fd355-bdd2-455c-cc8f-4c498647ad02"
      },
      "outputs": [
        {
          "data": {
            "application/vnd.google.colaboratory.intrinsic+json": {
              "type": "string"
            },
            "text/plain": [
              "'123456789'"
            ]
          },
          "execution_count": 72,
          "metadata": {},
          "output_type": "execute_result"
        }
      ],
      "source": [
        "d = {\n",
        "    'zero': 0,\n",
        "    'one': 1,\n",
        "    'two': 2,\n",
        "    'three': 3,\n",
        "    'four': 4,\n",
        "    'five': 5,\n",
        "    'six': 6,\n",
        "    'seven': 7,\n",
        "    'eight': 8,\n",
        "    'nine': 9\n",
        "}\n",
        "l = ['one', 'two', 'three', 'four', 'five', 'six', 'seven', 'eight', 'nine']\n",
        "# list(map(lambda x:str(d[x]), l))\n",
        "''.join(map(lambda x:str(d[x]), l)) # join 뒤에도 이터러블 객체가 옵니다."
      ]
    },
    {
      "cell_type": "code",
      "execution_count": null,
      "metadata": {
        "id": "bRdmbgwRYXP_"
      },
      "outputs": [],
      "source": [
        "import re\n",
        "\n",
        "def solution(numbers):\n",
        "    s = ''\n",
        "    d = {\n",
        "        'one':   '1',\n",
        "        'two':   '2',\n",
        "        'three': '3',\n",
        "        'four':  '4',\n",
        "        'five':  '5',\n",
        "        'six':   '6',\n",
        "        'seven': '7',\n",
        "        'eight': '8',\n",
        "        'nine':  '9',\n",
        "        'zero':  '0',\n",
        "    }\n",
        "    for i in re.findall(r'(zero|one|two|three|four|five|six|seven|eight|nine)', numbers):\n",
        "        s += d[i]\n",
        "    return int(s)"
      ]
    },
    {
      "cell_type": "markdown",
      "metadata": {
        "id": "rfQAL4z_YcpF"
      },
      "source": [
        "## finditer\n",
        "\n",
        "* 정규식과 매치되는 모든 문자열(substring)을 반복 가능한 객체로 리턴한다.\n",
        "\n"
      ]
    },
    {
      "cell_type": "code",
      "execution_count": null,
      "metadata": {
        "colab": {
          "base_uri": "https://localhost:8080/"
        },
        "id": "EkkHyc2hYb-W",
        "outputId": "b4a90b26-ac5c-4d08-9c54-1052a4b3cab7"
      },
      "outputs": [
        {
          "name": "stdout",
          "output_type": "stream",
          "text": [
            "<re.Match object; span=(0, 4), match='hell'>\n",
            "hell\n",
            "(0, 4)\n",
            "<re.Match object; span=(4, 8), match='owor'>\n",
            "owor\n",
            "(4, 8)\n",
            "<re.Match object; span=(8, 12), match='ldhe'>\n",
            "ldhe\n",
            "(8, 12)\n",
            "<re.Match object; span=(12, 16), match='llow'>\n",
            "llow\n",
            "(12, 16)\n",
            "<re.Match object; span=(16, 20), match='orld'>\n",
            "orld\n",
            "(16, 20)\n",
            "<re.Match object; span=(20, 24), match='hell'>\n",
            "hell\n",
            "(20, 24)\n",
            "<re.Match object; span=(24, 28), match='owor'>\n",
            "owor\n",
            "(24, 28)\n"
          ]
        }
      ],
      "source": [
        "p = re.compile('.{4}')\n",
        "result = p.finditer('helloworldhelloworldhelloworld')\n",
        "result\n",
        "for i in result:\n",
        "    print(i)\n",
        "    print(i.group())\n",
        "    print(i.span())"
      ]
    },
    {
      "cell_type": "markdown",
      "metadata": {
        "id": "Pt1PQhH_YuCo"
      },
      "source": [
        "## spilt\n",
        "\n",
        "* 정규표현 패턴으로 문자열을 분할 (str에 split과 같은 역활)"
      ]
    },
    {
      "cell_type": "code",
      "execution_count": null,
      "metadata": {
        "colab": {
          "base_uri": "https://localhost:8080/"
        },
        "id": "yZFl-o2uYtVA",
        "outputId": "50905c3e-46a2-49bf-cec9-cd9307837e98"
      },
      "outputs": [
        {
          "data": {
            "text/plain": [
              "['010', '5000!4000']"
            ]
          },
          "execution_count": 80,
          "metadata": {},
          "output_type": "execute_result"
        }
      ],
      "source": [
        "import re\n",
        "\n",
        "s = '010 5000!4000'\n",
        "re.split(r' ', s)"
      ]
    },
    {
      "cell_type": "code",
      "execution_count": null,
      "metadata": {
        "colab": {
          "base_uri": "https://localhost:8080/"
        },
        "id": "O8GxO0lHZ_kY",
        "outputId": "74918e8c-ecb2-425d-a713-beea932925f8"
      },
      "outputs": [
        {
          "data": {
            "text/plain": [
              "['010', '5000', '4000']"
            ]
          },
          "execution_count": 81,
          "metadata": {},
          "output_type": "execute_result"
        }
      ],
      "source": [
        "import re\n",
        "\n",
        "s = '010 5000!4000'\n",
        "re.split(r'[ !]', s)"
      ]
    },
    {
      "cell_type": "code",
      "execution_count": null,
      "metadata": {
        "colab": {
          "base_uri": "https://localhost:8080/"
        },
        "id": "zaFRfZ9eaGsX",
        "outputId": "c97b7f22-61b6-47d5-f6a3-92f5ed356571"
      },
      "outputs": [
        {
          "data": {
            "text/plain": [
              "['\\n<!DOCTYPE html',\n",
              " '\\n<html lang=\"ko\"',\n",
              " '\\n<head',\n",
              " '\\n    <title',\n",
              " 'hello title</title',\n",
              " '\\n</head',\n",
              " '\\n<body',\n",
              " '\\n    <h1',\n",
              " 'hello h1</h1',\n",
              " '\\n    <p',\n",
              " 'hello p</p',\n",
              " '\\n</body',\n",
              " '\\n</html',\n",
              " '\\n']"
            ]
          },
          "execution_count": 82,
          "metadata": {},
          "output_type": "execute_result"
        }
      ],
      "source": [
        "text = '''\n",
        "<!DOCTYPE html>\n",
        "<html lang=\"ko\">\n",
        "<head>\n",
        "    <title>hello title</title>\n",
        "</head>\n",
        "<body>\n",
        "    <h1>hello h1</h1>\n",
        "    <p>hello p</p>\n",
        "</body>\n",
        "</html>\n",
        "'''\n",
        "\n",
        "text.split('>')"
      ]
    },
    {
      "cell_type": "code",
      "execution_count": null,
      "metadata": {
        "colab": {
          "base_uri": "https://localhost:8080/"
        },
        "id": "MZW6qhRFa9UT",
        "outputId": "3ea79930-1e55-4f92-d98d-1679320b1d57"
      },
      "outputs": [
        {
          "data": {
            "text/plain": [
              "['',\n",
              " '',\n",
              " '',\n",
              " '',\n",
              " 'hello title',\n",
              " '',\n",
              " '',\n",
              " '',\n",
              " 'hello h1',\n",
              " '',\n",
              " 'hello p',\n",
              " '',\n",
              " '',\n",
              " '']"
            ]
          },
          "execution_count": 90,
          "metadata": {},
          "output_type": "execute_result"
        }
      ],
      "source": [
        "import re\n",
        "\n",
        "text = '''\n",
        "<!DOCTYPE html>\n",
        "<html lang=\"ko\">\n",
        "<head>\n",
        "    <title>hello title</title>\n",
        "</head>\n",
        "<body>\n",
        "    <h1>hello h1</h1>\n",
        "    <p>hello p</p>\n",
        "</body>\n",
        "</html>\n",
        "'''\n",
        "\n",
        "result = re.split(r'<[^<>]*>', text) # beautifulsoup 원리 : 정규표현식으로 문자열 조각\n",
        "list(filter(lambda x:x !='\\n', map(lambda x:x.strip(), result)))"
      ]
    },
    {
      "cell_type": "markdown",
      "metadata": {
        "id": "0MX24dTmQRGG"
      },
      "source": [
        "## 연습문제"
      ]
    },
    {
      "cell_type": "code",
      "execution_count": null,
      "metadata": {
        "id": "xgqZDFqzQQzt"
      },
      "outputs": [],
      "source": [
        "# 문제 링크 : https://pyalgo.co.kr/?page=2#"
      ]
    },
    {
      "cell_type": "code",
      "execution_count": null,
      "metadata": {
        "colab": {
          "base_uri": "https://localhost:8080/"
        },
        "id": "WUfU6HO5TREK",
        "outputId": "ce070505-8a75-41dd-e99e-af788909c910"
      },
      "outputs": [
        {
          "data": {
            "text/plain": [
              "['r1', 'e3', 'v2', 'v1', 'v9']"
            ]
          },
          "execution_count": 3,
          "metadata": {},
          "output_type": "execute_result"
        }
      ],
      "source": [
        "# 오답\n",
        "import re\n",
        "\n",
        "def solution(data):\n",
        "    p = re.compile(r'[rev][1-9]')\n",
        "    return p.findall(data)\n",
        "\n",
        "data = 'a10b9r1ce33uab8wc918v2cv11v9'\n",
        "solution(data)"
      ]
    },
    {
      "cell_type": "code",
      "execution_count": null,
      "metadata": {
        "colab": {
          "base_uri": "https://localhost:8080/"
        },
        "id": "KfNg-vBgTiuh",
        "outputId": "ab47ede8-d2e0-4d3f-b886-39d1b5f67b16"
      },
      "outputs": [
        {
          "data": {
            "text/plain": [
              "['r1', 'e3', 'v2', 'v1', 'v9']"
            ]
          },
          "execution_count": 4,
          "metadata": {},
          "output_type": "execute_result"
        }
      ],
      "source": [
        "# 오답\n",
        "import re\n",
        "\n",
        "def solution(data):\n",
        "    p = re.compile(r'[rev][1-9]')\n",
        "    return p.findall(data)\n",
        "\n",
        "data = 'a10b9r10ce33uab8wc918v2cv11v9'\n",
        "solution(data)"
      ]
    },
    {
      "cell_type": "code",
      "execution_count": 32,
      "metadata": {
        "colab": {
          "base_uri": "https://localhost:8080/"
        },
        "id": "oIyrcINrTslg",
        "outputId": "c61058dc-9bcb-4db4-e88f-9e2fb0074060"
      },
      "outputs": [
        {
          "output_type": "execute_result",
          "data": {
            "text/plain": [
              "['r1', 'e3', 'v2', 'v1', 'v9']"
            ]
          },
          "metadata": {},
          "execution_count": 32
        }
      ],
      "source": [
        "# 오답 (중요합니다.)\n",
        "import re\n",
        "\n",
        "def solution(data):\n",
        "    p = re.compile(r'[rev][1-9|10]') # 10이 아니고 1과 0입니다.\n",
        "    return p.findall(data)\n",
        "\n",
        "data = 'a10b9r10ce33uab8wc918v2cv11v9'\n",
        "solution(data)"
      ]
    },
    {
      "cell_type": "code",
      "source": [
        "# 오답 (중요합니다.)\n",
        "import re\n",
        "\n",
        "def solution(data):\n",
        "    p = re.compile(r'[rev][10|1-9]') # 10이 아니고 1과 0입니다.\n",
        "    return p.findall(data)\n",
        "\n",
        "data = 'a10b9r10ce33uab8wc918v2cv11v9'\n",
        "solution(data)"
      ],
      "metadata": {
        "colab": {
          "base_uri": "https://localhost:8080/"
        },
        "id": "SReZq0-VXGIC",
        "outputId": "001b42f0-6bc1-439b-8355-810af5737e17"
      },
      "execution_count": 34,
      "outputs": [
        {
          "output_type": "execute_result",
          "data": {
            "text/plain": [
              "['r1', 'e3', 'v2', 'v1', 'v9']"
            ]
          },
          "metadata": {},
          "execution_count": 34
        }
      ]
    },
    {
      "cell_type": "code",
      "execution_count": null,
      "metadata": {
        "colab": {
          "base_uri": "https://localhost:8080/"
        },
        "id": "pjFhS4B9TtPD",
        "outputId": "0aa6c0f9-6181-461d-adf2-98cb7ea1e42e"
      },
      "outputs": [
        {
          "data": {
            "text/plain": [
              "['r1', 'e3', 'v2', 'v1', 'v9']"
            ]
          },
          "execution_count": 7,
          "metadata": {},
          "output_type": "execute_result"
        }
      ],
      "source": [
        "# 오답\n",
        "import re\n",
        "\n",
        "def solution(data):\n",
        "    p = re.compile(r'[rev][10|1-9]') # # 10이 아니고 1과 0입니다.\n",
        "    return p.findall(data)\n",
        "\n",
        "data = 'a10b9r10ce33uab8wc918v2cv11v9'\n",
        "solution(data)"
      ]
    },
    {
      "cell_type": "code",
      "execution_count": null,
      "metadata": {
        "colab": {
          "base_uri": "https://localhost:8080/"
        },
        "id": "Q7P7Q9BkUPcR",
        "outputId": "4c1cf5a9-cea7-4367-ced0-95111476dce9"
      },
      "outputs": [
        {
          "data": {
            "text/plain": [
              "[('r', '1'), ('e', '3'), ('v', '2'), ('v', '1'), ('v', '9')]"
            ]
          },
          "execution_count": 9,
          "metadata": {},
          "output_type": "execute_result"
        }
      ],
      "source": [
        "# 오답\n",
        "import re\n",
        "\n",
        "def solution(data):\n",
        "    p = re.compile(r'([rev])([1-9]|10)')\n",
        "    return p.findall(data)\n",
        "\n",
        "data = 'a10b9r10ce33uab8wc918v2cv11v9'\n",
        "solution(data)"
      ]
    },
    {
      "cell_type": "code",
      "execution_count": 58,
      "metadata": {
        "colab": {
          "base_uri": "https://localhost:8080/"
        },
        "id": "TxfNyL3aUAVA",
        "outputId": "9af33562-12ee-4ab8-9e24-1e3a6eb14ac4"
      },
      "outputs": [
        {
          "output_type": "execute_result",
          "data": {
            "text/plain": [
              "[('r', '10'), ('e', '3'), ('v', '2'), ('v', '1'), ('v', '9')]"
            ]
          },
          "metadata": {},
          "execution_count": 58
        }
      ],
      "source": [
        "# 정답\n",
        "import re\n",
        "\n",
        "def solution(data):\n",
        "    p = re.compile(r'([rev])(10|[1-9])')\n",
        "    return p.findall(data)\n",
        "\n",
        "data = 'a10b9r10ce33uab8wc918v2cv11v9'\n",
        "solution(data)"
      ]
    }
  ],
  "metadata": {
    "colab": {
      "provenance": [],
      "toc_visible": true,
      "include_colab_link": true
    },
    "kernelspec": {
      "display_name": "Python 3",
      "name": "python3"
    },
    "language_info": {
      "name": "python"
    }
  },
  "nbformat": 4,
  "nbformat_minor": 0
}