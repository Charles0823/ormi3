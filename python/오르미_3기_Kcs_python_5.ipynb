{
  "nbformat": 4,
  "nbformat_minor": 0,
  "metadata": {
    "colab": {
      "provenance": [],
      "toc_visible": true,
      "authorship_tag": "ABX9TyNVpZm9t225maG40xBHKYIe",
      "include_colab_link": true
    },
    "kernelspec": {
      "name": "python3",
      "display_name": "Python 3"
    },
    "language_info": {
      "name": "python"
    }
  },
  "cells": [
    {
      "cell_type": "markdown",
      "metadata": {
        "id": "view-in-github",
        "colab_type": "text"
      },
      "source": [
        "<a href=\"https://colab.research.google.com/github/Charles0823/ormi3/blob/main/python/%EC%98%A4%EB%A5%B4%EB%AF%B8_3%EA%B8%B0_Kcs_python_5.ipynb\" target=\"_parent\"><img src=\"https://colab.research.google.com/assets/colab-badge.svg\" alt=\"Open In Colab\"/></a>"
      ]
    },
    {
      "cell_type": "markdown",
      "source": [
        "#클래스 변수와 인스턴스 변수"
      ],
      "metadata": {
        "id": "XLZv2nIMgzsz"
      }
    },
    {
      "cell_type": "code",
      "execution_count": 128,
      "metadata": {
        "colab": {
          "base_uri": "https://localhost:8080/"
        },
        "id": "zy3a3RBagQa3",
        "outputId": "20eb5dc3-98d5-4255-965c-3bc78539fdea"
      },
      "outputs": [
        {
          "output_type": "stream",
          "name": "stdout",
          "text": [
            "300\n",
            "300\n",
            "500\n"
          ]
        }
      ],
      "source": [
        "class Car:\n",
        "    # 클래스 변수의 위치\n",
        "    max_speed = 300\n",
        "    max_people = 5\n",
        "    car_gear = ['P', 'D', 'R', 'N']\n",
        "\n",
        "modelx = Car()\n",
        "modely = Car()\n",
        "\n",
        "modely.max_speed = 500\n",
        "\n",
        "print(Car.max_speed) # 출력: 300\n",
        "print(modelx.max_speed) # 출력: 300\n",
        "print(modely.max_speed) # 출력: 500(인스턴스 변수를 출력한 것입니다.)"
      ]
    },
    {
      "cell_type": "code",
      "source": [
        "class Car:\n",
        "    # 클래스 변수의 위치\n",
        "    max_speed = 1000\n",
        "    max_people = 5\n",
        "    car_gear = ['P', 'D', 'R', 'N']\n",
        "\n",
        "modelx = Car()\n",
        "modely = Car()\n",
        "\n",
        "modely.max_speed = 500\n",
        "\n",
        "print(id(Car.max_speed)) # 출력 : 134637012456688\n",
        "print(id(modelx.max_speed)) # 출력 : 134637012456688\n",
        "print(id(modely.max_speed)) # 출력 : 134637012456752"
      ],
      "metadata": {
        "colab": {
          "base_uri": "https://localhost:8080/"
        },
        "id": "Buzfsepyg2ge",
        "outputId": "724f8a6c-5423-49e7-a7d1-2857216edcc0"
      },
      "execution_count": 127,
      "outputs": [
        {
          "output_type": "stream",
          "name": "stdout",
          "text": [
            "134637012453776\n",
            "134637012453776\n",
            "134637012454832\n"
          ]
        }
      ]
    },
    {
      "cell_type": "code",
      "source": [
        "class Car:\n",
        "    kinds = []\n",
        "    speed = 300\n",
        "\n",
        "    def add_kinds(self, name):\n",
        "        self.kinds.append(name)\n",
        "\n",
        "    def change_speed(self, speed):\n",
        "        self.speed = speed\n",
        "\n",
        "modelx = Car()\n",
        "modely = Car()\n",
        "\n",
        "modelx.add_kinds('x')\n",
        "modely.add_kinds('y')\n",
        "\n",
        "Car.speed = 100\n",
        "\n",
        "# modelx.change_speed(500)\n",
        "# modely.change_speed(250)\n",
        "\n",
        "print(f'modelx.kinds: {modelx.kinds}')\n",
        "print(f'modely.kinds: {modely.kinds}')\n",
        "print(f'modelx.speed: {modelx.speed}')\n",
        "print(f'modely.speed: {modely.speed}')"
      ],
      "metadata": {
        "colab": {
          "base_uri": "https://localhost:8080/"
        },
        "id": "FyJlMJpkhOx_",
        "outputId": "a659dc7e-2118-405b-889c-f0cf034ad43b"
      },
      "execution_count": 124,
      "outputs": [
        {
          "output_type": "stream",
          "name": "stdout",
          "text": [
            "modelx.kinds: ['x', 'y']\n",
            "modely.kinds: ['x', 'y']\n",
            "modelx.speed: 100\n",
            "modely.speed: 100\n"
          ]
        }
      ]
    },
    {
      "cell_type": "code",
      "source": [
        "# 일부러 혼란을 드리려고 어렵게 낸 문제입니다.\n",
        "# 이런 문제는 실무에서 거의 발생하지 않습니다.\n",
        "class Car:\n",
        "    kinds = []\n",
        "    speed = 300\n",
        "\n",
        "    def add_kinds(self, name):\n",
        "        self.kinds.append(name)\n",
        "\n",
        "    def change_speed(self, speed):\n",
        "        self.speed = speed\n",
        "\n",
        "modelx = Car()\n",
        "modely = Car()\n",
        "\n",
        "# Car.speed = 100\n",
        "\n",
        "modelx.change_speed(500)\n",
        "modely.change_speed(250)\n",
        "\n",
        "print(f'modelx.speed: {modelx.speed}')\n",
        "print(f'modely.speed: {modely.speed}')"
      ],
      "metadata": {
        "colab": {
          "base_uri": "https://localhost:8080/"
        },
        "id": "ixIL0hrejBAa",
        "outputId": "bbcb6381-b862-4330-f4b9-e4a8d93ef186"
      },
      "execution_count": 125,
      "outputs": [
        {
          "output_type": "stream",
          "name": "stdout",
          "text": [
            "modelx.speed: 500\n",
            "modely.speed: 250\n"
          ]
        }
      ]
    },
    {
      "cell_type": "code",
      "source": [
        "x = 100\n",
        "def test():\n",
        "    print(x) # 내 메모리 영역에 x가 없네? 그러면 위로 찾아 올라가게 됩니다.\n",
        "\n",
        "test()"
      ],
      "metadata": {
        "colab": {
          "base_uri": "https://localhost:8080/"
        },
        "id": "Xx4P2H-5hb9O",
        "outputId": "e6205ee5-6979-44e8-8cd1-186d895804a9"
      },
      "execution_count": 7,
      "outputs": [
        {
          "output_type": "stream",
          "name": "stdout",
          "text": [
            "100\n"
          ]
        }
      ]
    },
    {
      "cell_type": "code",
      "source": [
        "x = 100\n",
        "def test():\n",
        "    x = 200     # 값을 읽어올 수는 잇지만 변경할 수 는 없습니다.\n",
        "                # x는 전역변수를 건드리지 않고 지역변수 200을 선언했을 뿐입니다.\n",
        "test()\n",
        "x"
      ],
      "metadata": {
        "colab": {
          "base_uri": "https://localhost:8080/"
        },
        "id": "Pwfhl9BJlANJ",
        "outputId": "c5135331-a309-4a81-c1a6-16dbf6f60ea7"
      },
      "execution_count": 123,
      "outputs": [
        {
          "output_type": "execute_result",
          "data": {
            "text/plain": [
              "100"
            ]
          },
          "metadata": {},
          "execution_count": 123
        }
      ]
    },
    {
      "cell_type": "code",
      "source": [
        "x = 100\n",
        "def test():\n",
        "    global x\n",
        "    x += 200    # global을 사용하여 전역변수를 수정할 수 있게 됩니다.\n",
        "\n",
        "test()\n",
        "x"
      ],
      "metadata": {
        "colab": {
          "base_uri": "https://localhost:8080/"
        },
        "id": "LErGUxAclArt",
        "outputId": "046b8200-8408-49ac-d8b2-aa6c6047cf87"
      },
      "execution_count": 122,
      "outputs": [
        {
          "output_type": "execute_result",
          "data": {
            "text/plain": [
              "300"
            ]
          },
          "metadata": {},
          "execution_count": 122
        }
      ]
    },
    {
      "cell_type": "code",
      "source": [
        "x = 100\n",
        "def test():\n",
        "    x += 200   # 지역변수가 할당되지 않았는데 수정하려고 해서 error가 납니다.\n",
        "\n",
        "test()"
      ],
      "metadata": {
        "id": "zeB2yJ8glf8S"
      },
      "execution_count": null,
      "outputs": []
    },
    {
      "cell_type": "code",
      "source": [
        "x = []\n",
        "def text():\n",
        "    x.append(100)   # 이런 식으로 리스트에 추가하는식으로 가능합니다.\n",
        "\n",
        "text()\n",
        "print(x)"
      ],
      "metadata": {
        "colab": {
          "base_uri": "https://localhost:8080/"
        },
        "id": "_dLrNOzpmJ7E",
        "outputId": "7285683b-7300-4c11-d077-bd7d008e93b9"
      },
      "execution_count": 17,
      "outputs": [
        {
          "output_type": "stream",
          "name": "stdout",
          "text": [
            "[100]\n"
          ]
        }
      ]
    },
    {
      "cell_type": "code",
      "source": [
        "# 매우 중요합니다.\n",
        "\n",
        "l = [10, 20, 30]\n",
        "def text(ll):\n",
        "    ll.append(40)\n",
        "\n",
        "text(l)\n",
        "print(l)"
      ],
      "metadata": {
        "colab": {
          "base_uri": "https://localhost:8080/"
        },
        "id": "jXXy7gSHn1Cs",
        "outputId": "b69e983a-1b51-49bb-d84a-93e7acfddfbc"
      },
      "execution_count": 121,
      "outputs": [
        {
          "output_type": "stream",
          "name": "stdout",
          "text": [
            "[10, 20, 30, 40]\n"
          ]
        }
      ]
    },
    {
      "cell_type": "code",
      "source": [
        "# 매우 중요합니다.\n",
        "# 화살표를 그릴 줄 알아야 합니다.\n",
        "\n",
        "i = 100\n",
        "def text(ii):\n",
        "    ii = 300        # ii는 i의 값을 화살표로 가리키다가 전역변수를 수정할 수 없으므로 새로 300의 값을 혼자 가르키게 된다.\n",
        "\n",
        "text(i)\n",
        "i"
      ],
      "metadata": {
        "colab": {
          "base_uri": "https://localhost:8080/"
        },
        "id": "JoY87xySoDr2",
        "outputId": "3fdfd350-bcb7-4075-8920-baae99af4930"
      },
      "execution_count": 19,
      "outputs": [
        {
          "output_type": "execute_result",
          "data": {
            "text/plain": [
              "100"
            ]
          },
          "metadata": {},
          "execution_count": 19
        }
      ]
    },
    {
      "cell_type": "code",
      "source": [
        "# 매우 중요합니다.\n",
        "l = [10, 20, 30]\n",
        "def test(ll):\n",
        "    ll = 100\n",
        "\n",
        "test(l)\n",
        "l"
      ],
      "metadata": {
        "colab": {
          "base_uri": "https://localhost:8080/"
        },
        "id": "1TqJWNK4r4S5",
        "outputId": "7c922cad-e55a-4dc1-b24b-c54dcf653955"
      },
      "execution_count": 119,
      "outputs": [
        {
          "output_type": "execute_result",
          "data": {
            "text/plain": [
              "[10, 20, 30]"
            ]
          },
          "metadata": {},
          "execution_count": 119
        }
      ]
    },
    {
      "cell_type": "code",
      "source": [
        "kinds = [] # 전역변수 speed 300\n",
        "\n",
        "def add_kinds(value):\n",
        "    kinds.append(value) # 지역에 해당 변수가 없으므로 전역변수 kinds에 append\n",
        "\n",
        "add_kinds(100)\n",
        "kinds"
      ],
      "metadata": {
        "colab": {
          "base_uri": "https://localhost:8080/"
        },
        "id": "QhSv9U18idPW",
        "outputId": "885aaea0-8e87-4135-ce02-0b4ef2bbbff2"
      },
      "execution_count": 118,
      "outputs": [
        {
          "output_type": "execute_result",
          "data": {
            "text/plain": [
              "[100]"
            ]
          },
          "metadata": {},
          "execution_count": 118
        }
      ]
    },
    {
      "cell_type": "code",
      "source": [
        "kinds = [] # 전역변수 speed 300\n",
        "\n",
        "def add_kinds(value):\n",
        "    kinds = []\n",
        "    kinds.append(value) # 지역에 해당 변수가 없으므로 전역변수 kinds에 append\n",
        "\n",
        "add_kinds(100)\n",
        "kinds"
      ],
      "metadata": {
        "colab": {
          "base_uri": "https://localhost:8080/"
        },
        "id": "02RMgnH9iavg",
        "outputId": "09c07124-3b58-424d-ff01-17e86a126371"
      },
      "execution_count": 117,
      "outputs": [
        {
          "output_type": "execute_result",
          "data": {
            "text/plain": [
              "[]"
            ]
          },
          "metadata": {},
          "execution_count": 117
        }
      ]
    },
    {
      "cell_type": "code",
      "source": [
        "def hello():\n",
        "    print('hello world')\n",
        "\n",
        "print(type(hello))  # 함수 function 클래스의 인스턴스"
      ],
      "metadata": {
        "colab": {
          "base_uri": "https://localhost:8080/"
        },
        "id": "8BprpLOKsENi",
        "outputId": "c7f49b19-b8a3-45d1-9687-58ae098f729f"
      },
      "execution_count": 116,
      "outputs": [
        {
          "output_type": "stream",
          "name": "stdout",
          "text": [
            "<class 'function'>\n"
          ]
        }
      ]
    },
    {
      "cell_type": "code",
      "source": [
        "class Point:\n",
        "\n",
        "    def __init__(self, x, y):\n",
        "        self.x = x\n",
        "        self.y = y\n",
        "\n",
        "    def __add__(self, other):\n",
        "        if isinstance(other, Point):\n",
        "            return Point((self.x + other.x), (self.y + other.y))\n",
        "        elif isinstance(other, int) or isinstance(other, float):\n",
        "            return Point((self.x + other), (self.y + other))\n",
        "\n",
        "    def distance(self, other):\n",
        "        dx = self.x - other.x\n",
        "        dy = self.y - other.y\n",
        "        return (dx**2 + dy**2)**0.5\n",
        "\n",
        "dot1 = Point(10, 20)\n",
        "dot2 = Point(20, 30)\n",
        "\n",
        "dot3 = dot1 + 10\n",
        "print(dot1.x, dot1.y) # 출력: 10 20\n",
        "print(dot3.x, dot3.y) # 출력: 20 30\n",
        "\n",
        "dot4 = dot1 + dot2\n",
        "print(dot4.x, dot4.y) # 출력: 30 50\n",
        "print(dot4.distance(dot1)) # 출력: 36.05551275463989"
      ],
      "metadata": {
        "colab": {
          "base_uri": "https://localhost:8080/"
        },
        "id": "2EBtEwC6v0Do",
        "outputId": "a01b75f4-c95f-4d08-a80f-b6008c5e12b3"
      },
      "execution_count": 22,
      "outputs": [
        {
          "output_type": "stream",
          "name": "stdout",
          "text": [
            "10 20\n",
            "20 30\n",
            "30 50\n",
            "36.05551275463989\n"
          ]
        }
      ]
    },
    {
      "cell_type": "code",
      "source": [
        "class Counter :\n",
        "\n",
        "    def __init__(self):\n",
        "        self.num = 0\n",
        "\n",
        "    def __len__(self):\n",
        "        return 100\n",
        "\n",
        "    def __call__(self):\n",
        "        return 'hello'\n",
        "\n",
        "    def __getitem__(self, key):\n",
        "        return key * 10\n",
        "\n",
        "    def __str__(self):\n",
        "        return 'hello'\n",
        "\n",
        "    def __repr__(self):\n",
        "        return 'world'\n",
        "\n",
        "c = Counter()\n",
        "len(c)\n",
        "c()\n",
        "c[10]\n",
        "print(c)   # print(str(c))   # __str__\n",
        "c   # __repr__"
      ],
      "metadata": {
        "colab": {
          "base_uri": "https://localhost:8080/"
        },
        "id": "E2R8huLev0wK",
        "outputId": "db8b70a8-0334-419a-8fef-1d2f6bd4781c"
      },
      "execution_count": 29,
      "outputs": [
        {
          "output_type": "stream",
          "name": "stdout",
          "text": [
            "hello\n"
          ]
        },
        {
          "output_type": "execute_result",
          "data": {
            "text/plain": [
              "world"
            ]
          },
          "metadata": {},
          "execution_count": 29
        }
      ]
    },
    {
      "cell_type": "markdown",
      "source": [
        "# 상속"
      ],
      "metadata": {
        "id": "nxBv4xTUiFSf"
      }
    },
    {
      "cell_type": "code",
      "source": [
        "class A:\n",
        "    def hello(self):\n",
        "        return 'hello'\n",
        "\n",
        "class B(A):\n",
        "    def world(self):\n",
        "        return 'world'\n",
        "\n",
        "b = B()\n",
        "b.hello()\n",
        "b.world()"
      ],
      "metadata": {
        "colab": {
          "base_uri": "https://localhost:8080/",
          "height": 36
        },
        "id": "PwnpQ7F3xcpi",
        "outputId": "d1f4dfd5-773f-4921-c6b7-dd0add89efb3"
      },
      "execution_count": 132,
      "outputs": [
        {
          "output_type": "execute_result",
          "data": {
            "text/plain": [
              "'world'"
            ],
            "application/vnd.google.colaboratory.intrinsic+json": {
              "type": "string"
            }
          },
          "metadata": {},
          "execution_count": 132
        }
      ]
    },
    {
      "cell_type": "code",
      "source": [
        "class A:\n",
        "    def hello(self):\n",
        "        return 'hello'\n",
        "\n",
        "class B(A):\n",
        "    def __init__(self, a):\n",
        "        print(a, b)\n",
        "\n",
        "    def world(self):\n",
        "        return 'world'\n",
        "\n",
        "b = B(10) # A에서 처리하는 것 아니고 a에서 처리합니다.\n",
        "b.hello()\n",
        "b.world()"
      ],
      "metadata": {
        "colab": {
          "base_uri": "https://localhost:8080/",
          "height": 54
        },
        "id": "PqNA0hZuzyLo",
        "outputId": "c59a66ce-8b0d-4da6-937a-c9297d02bdcf"
      },
      "execution_count": 131,
      "outputs": [
        {
          "output_type": "stream",
          "name": "stdout",
          "text": [
            "10 <__main__.B object at 0x7a739f5cfa00>\n"
          ]
        },
        {
          "output_type": "execute_result",
          "data": {
            "text/plain": [
              "'world'"
            ],
            "application/vnd.google.colaboratory.intrinsic+json": {
              "type": "string"
            }
          },
          "metadata": {},
          "execution_count": 131
        }
      ]
    },
    {
      "cell_type": "code",
      "source": [
        "class A(object):\n",
        "    def hello(self):\n",
        "        return 'hello'\n",
        "\n",
        "class B(A):\n",
        "    def __init__(self, a):\n",
        "        print(a, b)\n",
        "\n",
        "    def world(self):\n",
        "        return 'world'\n",
        "\n",
        "b = B(10) # A에서 처리하는 것 아니고 a에서 처리합니다.\n",
        "b.hello()\n",
        "b.world()\n",
        "dir(b)"
      ],
      "metadata": {
        "colab": {
          "base_uri": "https://localhost:8080/"
        },
        "id": "JtBFpWBVjWuU",
        "outputId": "a49e3117-07d6-4766-824a-f17155298c76"
      },
      "execution_count": 130,
      "outputs": [
        {
          "output_type": "stream",
          "name": "stdout",
          "text": [
            "10 <__main__.B object at 0x7a739f5cc910>\n"
          ]
        },
        {
          "output_type": "execute_result",
          "data": {
            "text/plain": [
              "['__class__',\n",
              " '__delattr__',\n",
              " '__dict__',\n",
              " '__dir__',\n",
              " '__doc__',\n",
              " '__eq__',\n",
              " '__format__',\n",
              " '__ge__',\n",
              " '__getattribute__',\n",
              " '__gt__',\n",
              " '__hash__',\n",
              " '__init__',\n",
              " '__init_subclass__',\n",
              " '__le__',\n",
              " '__lt__',\n",
              " '__module__',\n",
              " '__ne__',\n",
              " '__new__',\n",
              " '__reduce__',\n",
              " '__reduce_ex__',\n",
              " '__repr__',\n",
              " '__setattr__',\n",
              " '__sizeof__',\n",
              " '__str__',\n",
              " '__subclasshook__',\n",
              " '__weakref__',\n",
              " 'hello',\n",
              " 'world']"
            ]
          },
          "metadata": {},
          "execution_count": 130
        }
      ]
    },
    {
      "cell_type": "code",
      "source": [
        "class A(object):\n",
        "    def hello(self):\n",
        "        return 'hello'\n",
        "\n",
        "class B(A):\n",
        "    def __init__(self, a):\n",
        "        print(a, b)\n",
        "\n",
        "    def hello(self):\n",
        "        return 'hello world'\n",
        "\n",
        "b = B(10)\n",
        "b.hello() # B에 hello가 A에 hello를 덮습니다."
      ],
      "metadata": {
        "colab": {
          "base_uri": "https://localhost:8080/",
          "height": 54
        },
        "id": "CVta5h1bjYEz",
        "outputId": "9f59bb5c-3ab8-454f-b7ed-721cfa262d53"
      },
      "execution_count": 133,
      "outputs": [
        {
          "output_type": "stream",
          "name": "stdout",
          "text": [
            "10 <__main__.B object at 0x7a739f5cd930>\n"
          ]
        },
        {
          "output_type": "execute_result",
          "data": {
            "text/plain": [
              "'hello world'"
            ],
            "application/vnd.google.colaboratory.intrinsic+json": {
              "type": "string"
            }
          },
          "metadata": {},
          "execution_count": 133
        }
      ]
    },
    {
      "cell_type": "code",
      "source": [
        "class A(object):\n",
        "    def one(self):\n",
        "        return 'one'\n",
        "\n",
        "class B(A):\n",
        "    def two(self):\n",
        "        return 'two'\n",
        "\n",
        "class C(B):\n",
        "    def three(self):\n",
        "        return 'three'\n",
        "\n",
        "c = C()\n",
        "c.one()\n",
        "c.two()\n",
        "c.three()"
      ],
      "metadata": {
        "colab": {
          "base_uri": "https://localhost:8080/",
          "height": 36
        },
        "id": "F6Ujop4pj1Bq",
        "outputId": "a111c447-24e9-405b-81ee-aad8ae92a4f9"
      },
      "execution_count": 134,
      "outputs": [
        {
          "output_type": "execute_result",
          "data": {
            "text/plain": [
              "'three'"
            ],
            "application/vnd.google.colaboratory.intrinsic+json": {
              "type": "string"
            }
          },
          "metadata": {},
          "execution_count": 134
        }
      ]
    },
    {
      "cell_type": "code",
      "source": [
        "class A(object):\n",
        "    test = 0\n",
        "    def one(self):\n",
        "        return 'one'\n",
        "\n",
        "class B(A):\n",
        "    def two(self):\n",
        "        return 'two'\n",
        "\n",
        "class C(B):\n",
        "    def three(self):\n",
        "        return 'three'\n",
        "\n",
        "c = C()\n",
        "A.test = 300\n",
        "c.test # 상속을 받을 때 내 메모리 영역의 값(보유하고 있는 값)은 아닙니다! 참조 값입니다."
      ],
      "metadata": {
        "colab": {
          "base_uri": "https://localhost:8080/"
        },
        "id": "vBZbbwI1j2VX",
        "outputId": "d3efcec6-ca4f-43b6-c490-42490c531880"
      },
      "execution_count": 135,
      "outputs": [
        {
          "output_type": "execute_result",
          "data": {
            "text/plain": [
              "300"
            ]
          },
          "metadata": {},
          "execution_count": 135
        }
      ]
    },
    {
      "cell_type": "code",
      "source": [],
      "metadata": {
        "id": "RA_1O9SIj3qV"
      },
      "execution_count": null,
      "outputs": []
    },
    {
      "cell_type": "markdown",
      "source": [
        "#다중상속"
      ],
      "metadata": {
        "id": "CswJ2jvK6a28"
      }
    },
    {
      "cell_type": "code",
      "source": [
        "class A:\n",
        "    def hello(self):\n",
        "        print('hello A')\n",
        "\n",
        "class B:\n",
        "    def hello(self):\n",
        "        print('hello B')\n",
        "\n",
        "class C(A, B):\n",
        "    pass\n",
        "\n",
        "c = C()\n",
        "c.hello() # 주의! python의 코드의 특성상 hello B라고 오해할만합니다. 2.x와 3.x가 상속에 순서가 다릅니다."
      ],
      "metadata": {
        "colab": {
          "base_uri": "https://localhost:8080/"
        },
        "id": "hOjvwHqi6ezK",
        "outputId": "eff59f9a-bd5e-4bda-ffe8-d53f9c3baa5f"
      },
      "execution_count": 136,
      "outputs": [
        {
          "output_type": "stream",
          "name": "stdout",
          "text": [
            "hello B\n"
          ]
        }
      ]
    },
    {
      "cell_type": "code",
      "source": [
        "# 주의! python의 2.x와 3.x가 아래 다이아몬드 상속에 순서가 다릅니다.\n",
        "# 3.x에서는 hello C가, 2.x에서는 hello A가 출력됩니다.\n",
        "# 다만 2.x에서 A => class A(object)로 바꾸면 실행 순서는 같아집니다.\n",
        "class A:\n",
        "    def hello(self):\n",
        "        print('hello A')\n",
        "\n",
        "class B(A):\n",
        "    pass\n",
        "\n",
        "class C(A):\n",
        "    def hello(self):\n",
        "        print('hello C')\n",
        "\n",
        "class D(B, C):\n",
        "    pass\n",
        "\n",
        "d = D()\n",
        "d.hello()"
      ],
      "metadata": {
        "colab": {
          "base_uri": "https://localhost:8080/"
        },
        "id": "5zlkYxrKj572",
        "outputId": "bd4b97b8-954e-445b-ec57-21d28b635024"
      },
      "execution_count": 137,
      "outputs": [
        {
          "output_type": "stream",
          "name": "stdout",
          "text": [
            "hello C\n"
          ]
        }
      ]
    },
    {
      "cell_type": "code",
      "source": [
        "class A:\n",
        "    def hello(self):\n",
        "        print('hello A')\n",
        "\n",
        "class B(A):\n",
        "    def hello(self):\n",
        "        print('hello B')\n",
        "\n",
        "class C(B):\n",
        "    def hello(self):\n",
        "        print('hello C')\n",
        "\n",
        "class D(C, B):\n",
        "    pass\n",
        "\n",
        "d = D()\n",
        "d.hello()"
      ],
      "metadata": {
        "colab": {
          "base_uri": "https://localhost:8080/"
        },
        "id": "dCvjlipyj9UK",
        "outputId": "fbf8d4ee-3898-4b1f-9981-d397fe301166"
      },
      "execution_count": 141,
      "outputs": [
        {
          "output_type": "stream",
          "name": "stdout",
          "text": [
            "hello C\n"
          ]
        }
      ]
    },
    {
      "cell_type": "code",
      "source": [
        "# 다중 상속을 했을 때 상속에서 error가 나는 경우 - error\n",
        "class A:\n",
        "    def hello(self):\n",
        "        print('hello A')\n",
        "\n",
        "class B(A):\n",
        "    def hello(self):\n",
        "        print('hello B')\n",
        "\n",
        "class C(B):\n",
        "    def hello(self):\n",
        "        print('hello C')\n",
        "\n",
        "class D(B, C):  # 위 클레스 정의할때 처럼 C가 먼저 나와야 하는데 B가 나와서 error\n",
        "    pass\n",
        "\n",
        "d = D()\n",
        "d.hello()"
      ],
      "metadata": {
        "colab": {
          "base_uri": "https://localhost:8080/"
        },
        "id": "21Ticii9j-cx",
        "outputId": "56b81e56-a4b9-4f60-d7b8-257f454e8bcd"
      },
      "execution_count": 143,
      "outputs": [
        {
          "output_type": "stream",
          "name": "stdout",
          "text": [
            "hello C\n"
          ]
        }
      ]
    },
    {
      "cell_type": "code",
      "source": [
        "class Car(object):\n",
        "    pass\n",
        "\n",
        "class HybridCar(Car):\n",
        "    pass\n",
        "\n",
        "class ElectricCar(HybridCar):\n",
        "    pass\n",
        "\n",
        "class HybridElectricCar(HybridCar, ElectricCar):\n",
        "    pass\n",
        "\n",
        "modelz = HybridElectricCar()"
      ],
      "metadata": {
        "colab": {
          "base_uri": "https://localhost:8080/",
          "height": 269
        },
        "id": "Iom42QVfj_vj",
        "outputId": "8f10e2dc-048b-4ecc-a073-7e57ae9998bf"
      },
      "execution_count": 140,
      "outputs": [
        {
          "output_type": "error",
          "ename": "TypeError",
          "evalue": "ignored",
          "traceback": [
            "\u001b[0;31m---------------------------------------------------------------------------\u001b[0m",
            "\u001b[0;31mTypeError\u001b[0m                                 Traceback (most recent call last)",
            "\u001b[0;32m<ipython-input-140-dcf2ea0558ff>\u001b[0m in \u001b[0;36m<cell line: 10>\u001b[0;34m()\u001b[0m\n\u001b[1;32m      8\u001b[0m     \u001b[0;32mpass\u001b[0m\u001b[0;34m\u001b[0m\u001b[0;34m\u001b[0m\u001b[0m\n\u001b[1;32m      9\u001b[0m \u001b[0;34m\u001b[0m\u001b[0m\n\u001b[0;32m---> 10\u001b[0;31m \u001b[0;32mclass\u001b[0m \u001b[0mHybridElectricCar\u001b[0m\u001b[0;34m(\u001b[0m\u001b[0mHybridCar\u001b[0m\u001b[0;34m,\u001b[0m \u001b[0mElectricCar\u001b[0m\u001b[0;34m)\u001b[0m\u001b[0;34m:\u001b[0m\u001b[0;34m\u001b[0m\u001b[0;34m\u001b[0m\u001b[0m\n\u001b[0m\u001b[1;32m     11\u001b[0m     \u001b[0;32mpass\u001b[0m\u001b[0;34m\u001b[0m\u001b[0;34m\u001b[0m\u001b[0m\n\u001b[1;32m     12\u001b[0m \u001b[0;34m\u001b[0m\u001b[0m\n",
            "\u001b[0;31mTypeError\u001b[0m: Cannot create a consistent method resolution\norder (MRO) for bases HybridCar, ElectricCar"
          ]
        }
      ]
    },
    {
      "cell_type": "markdown",
      "source": [
        "# 연습문제\n",
        "\n",
        "게임에서 캐릭터를 구연할 예정입니다. 아래 클래스를 적절하게 조합하여 hero 인스턴스와 villain 인스턴스를 만들어주세요.\n",
        "\n",
        "1. class Body(능력치)\n",
        "2. class Weapon(무기)\n",
        "3. class WeaponEnhancement(무기강화)\n",
        "4. class Skill(기술)\n",
        "5. class Equipment(장비)\n",
        "6. class Role(히어로인지, 빌런인지, 몹인지)"
      ],
      "metadata": {
        "id": "qdYtsz8Z9dRK"
      }
    },
    {
      "cell_type": "code",
      "source": [
        "class Weapon:\n",
        "    def setDamage(self, damage):\n",
        "        self.damage = damage\n",
        "\n",
        "class WeaponEnhancement(Weapon):\n",
        "    def setEnhance(self, success):\n",
        "        if success == True:\n",
        "            self.damage += 10\n",
        "        else:\n",
        "            self.damage = '강화 실패'\n",
        "\n",
        "class Equipment(WeaponEnhancement):\n",
        "    pass\n",
        "\n",
        "class Role:\n",
        "    def setRole(self, role):\n",
        "        self.role = role\n",
        "\n",
        "class Skill:\n",
        "    def jarvis(self):\n",
        "        return '자비스! 도와줘!'\n",
        "\n",
        "    def beam(self):\n",
        "        return '나가라 빔!'\n",
        "\n",
        "class Body(Role, Skill, Equipment):\n",
        "    def __init__(self, role, hp, mp, power):\n",
        "        self.setRole(role)\n",
        "\n",
        "ironman = Body('hero', 100, 100, 100)\n",
        "thanos = Body('villain', 100, 100, 80)\n",
        "ironman.role\n",
        "ironman.jarvis()\n",
        "ironman.setDamage(1000)\n",
        "ironman.setEnhance(True)\n",
        "ironman.damage\n",
        "ironman.setEnhance(False)\n",
        "ironman.damage\n",
        "ironman.beam()"
      ],
      "metadata": {
        "colab": {
          "base_uri": "https://localhost:8080/",
          "height": 36
        },
        "id": "NlUZ62mrB9QV",
        "outputId": "d8e2f83e-96d7-417a-d571-47e29a7b86b2"
      },
      "execution_count": 89,
      "outputs": [
        {
          "output_type": "execute_result",
          "data": {
            "text/plain": [
              "'나가라 빔!'"
            ],
            "application/vnd.google.colaboratory.intrinsic+json": {
              "type": "string"
            }
          },
          "metadata": {},
          "execution_count": 89
        }
      ]
    },
    {
      "cell_type": "code",
      "source": [
        "# 문제 1\n",
        "# 동물 클래스 Animal을 만들어주세요. Dog와 Cat 클래스를 각각 정의하십시오.\n",
        "# Animal 클래스는 name 속성을 가집니다. 이 클래스는 make_sound 메서드를 갖고 있습니다.\n",
        "# Dog와 Cat 클래스는 Animal 클래스를 상속받는 클래스입니다.\n",
        "# Dog 클래스의 make_sound 메서드는 \"멍멍!\"을, Cat 클래스의 make_sound 메서드는 \"야옹!\"을 출력하도록 재정의하세요.\n",
        "# 더 완성도 높은 클래스를 만들어보세요. 추가 속성이나 메서드 작성 가능합니다.\n",
        "\n",
        "\n",
        "# 문제 2\n",
        "# Person이라는 기본 클래스를 만들어주세요. Person 클래스는 이름과 나이라는 두 개의 속성과 소개하기라는 메서드를 가지며,\n",
        "# 이 메서드는 \"Hello World!, 제 이름은 [이름]이고 제 나이는 [나이]살 입니다.\"라는 메시지를 출력합니다.\n",
        "# Person 클래스를 상속받는 Student 클래스를 정의하십시오. Student 클래스는 추가적으로 학년 속성을 가집니다.\n",
        "# Student 클래스에서 소개하기 메서드를 오버라이드하여 \"Hello World!, 제 이름은 [이름]이고 제 나이는 [나이]살 입니다. 그리고 저는 [학년]학년입니다. \"라는 메시지를 출력하도록 만드세요"
      ],
      "metadata": {
        "id": "J63WBxFdYerP"
      },
      "execution_count": 90,
      "outputs": []
    },
    {
      "cell_type": "code",
      "source": [
        "class Animal:\n",
        "    def __init__(self, name):\n",
        "        self.name = name\n",
        "\n",
        "    def make_sound(self):\n",
        "        pass\n",
        "\n",
        "class Dog(Animal):\n",
        "    def make_sound(self):\n",
        "        return '멍멍!!'\n",
        "\n",
        "class Cat(Animal):\n",
        "    def make_sound(self):\n",
        "        return '야옹!!'\n",
        "\n",
        "dog = Dog('강아지')\n",
        "cat = Cat('고양이')\n",
        "\n",
        "print(f'{dog.name} : {dog.make_sound()}')\n",
        "print(f'{cat.name} : {cat.make_sound()}')"
      ],
      "metadata": {
        "colab": {
          "base_uri": "https://localhost:8080/"
        },
        "id": "2_dNoR-2YtNF",
        "outputId": "ba865ea9-15e9-435d-dc2f-dcc2356111f3"
      },
      "execution_count": 101,
      "outputs": [
        {
          "output_type": "stream",
          "name": "stdout",
          "text": [
            "강아지 : 멍멍!!\n",
            "고양이 : 야옹!!\n"
          ]
        }
      ]
    },
    {
      "cell_type": "code",
      "source": [
        "# Person이라는 기본 클래스를 만들어주세요. Person 클래스는 이름과 나이라는 두 개의 속성과 소개하기라는 메서드를 가지며,\n",
        "# 이 메서드는 \"Hello World!, 제 이름은 [이름]이고 제 나이는 [나이]살 입니다.\"라는 메시지를 출력합니다.\n",
        "# Person 클래스를 상속받는 Student 클래스를 정의하십시오. Student 클래스는 추가적으로 학년 속성을 가집니다.\n",
        "# Student 클래스에서 소개하기 메서드를 오버라이드하여 \"Hello World!, 제 이름은 [이름]이고 제 나이는 [나이]살 입니다. 그리고 저는 [학년]학년입니다. \"라는 메시지를 출력하도록 만드세요\n",
        "\n",
        "class Person:\n",
        "    def __init__(self, name, age):\n",
        "        self.name = name\n",
        "        self.age = age\n",
        "\n",
        "    def introduce(self):\n",
        "        return f'hello world!, 제 이름은 {self.name}이고, 제 나이는 {self.age}입니다.'\n",
        "\n",
        "\n",
        "class Student(Person):\n",
        "    def __init__(self, name, age, school_year):\n",
        "        super().__init__(name, age)\n",
        "        self.school_year = school_year\n",
        "\n",
        "    def introduce(self):\n",
        "        return f'hello world!, 제 이름은 {self.name}이고, 제 나이는 {self.age}입니다. 그리고 저는 {self.school_year}학년 입니다.'\n",
        "\n",
        "\n",
        "\n",
        "person = Person('bread', 18)\n",
        "student = Student('babo', 15, 8)\n",
        "\n",
        "print(person.introduce())\n",
        "print(student.introduce())"
      ],
      "metadata": {
        "colab": {
          "base_uri": "https://localhost:8080/"
        },
        "id": "io-8C9QKa_Y1",
        "outputId": "b46256f1-f72f-483d-9a49-e4132da48874"
      },
      "execution_count": 115,
      "outputs": [
        {
          "output_type": "stream",
          "name": "stdout",
          "text": [
            "hello world!, 제 이름은 bread이고, 제 나이는 18입니다.\n",
            "hello world!, 제 이름은 babo이고, 제 나이는 15입니다. 그리고 저는 8학년 입니다.\n"
          ]
        }
      ]
    },
    {
      "cell_type": "code",
      "source": [
        "# 클래스 메서드\n",
        "class MyClass:\n",
        "    count = 0\n",
        "\n",
        "    @classmethod\n",
        "    def increment(cls):\n",
        "        cls.count += 1\n",
        "\n",
        "a = MyClass()\n",
        "b = MyClass()\n",
        "\n",
        "MyClass.increment()\n",
        "print(MyClass.count)  # 출력: 1\n",
        "\n",
        "a, b"
      ],
      "metadata": {
        "colab": {
          "base_uri": "https://localhost:8080/"
        },
        "id": "iFiURh0jhZ24",
        "outputId": "7acc7afa-fb32-424c-8587-0b02a1d50b46"
      },
      "execution_count": 3,
      "outputs": [
        {
          "output_type": "stream",
          "name": "stdout",
          "text": [
            "1\n"
          ]
        },
        {
          "output_type": "execute_result",
          "data": {
            "text/plain": [
              "(<__main__.MyClass at 0x797c9ad61270>, <__main__.MyClass at 0x797c9ad61570>)"
            ]
          },
          "metadata": {},
          "execution_count": 3
        }
      ]
    },
    {
      "cell_type": "markdown",
      "source": [
        "#클래스 메서드와 정적 메서드"
      ],
      "metadata": {
        "id": "W6h25WiiBDhv"
      }
    },
    {
      "cell_type": "code",
      "source": [
        "# 클래스 메서드\n",
        "class MyClass:\n",
        "    count = 0\n",
        "\n",
        "    @classmethod\n",
        "    def increment(cls):\n",
        "        cls.count += 1\n",
        "\n",
        "a = MyClass()\n",
        "b = MyClass()\n",
        "\n",
        "MyClass.increment()\n",
        "print(MyClass.count) # 출력: 1\n",
        "\n",
        "a.count, b.count\n",
        "\n",
        "MyClass.increment()\n",
        "\n",
        "a.count, b.count"
      ],
      "metadata": {
        "colab": {
          "base_uri": "https://localhost:8080/"
        },
        "id": "4A09eA54zQyQ",
        "outputId": "5a46b30c-57d5-431d-cb22-6b58e7aa42f9"
      },
      "execution_count": 4,
      "outputs": [
        {
          "output_type": "stream",
          "name": "stdout",
          "text": [
            "1\n"
          ]
        },
        {
          "output_type": "execute_result",
          "data": {
            "text/plain": [
              "(2, 2)"
            ]
          },
          "metadata": {},
          "execution_count": 4
        }
      ]
    },
    {
      "cell_type": "code",
      "source": [
        "# 클래스 메서드\n",
        "class MyClass:\n",
        "    count = 0\n",
        "\n",
        "    def increment(self):\n",
        "        self.count += 1\n",
        "\n",
        "a = MyClass()\n",
        "b = MyClass()\n",
        "\n",
        "# MyClass.increment() # error\n",
        "a.increment()\n",
        "\n",
        "print(a.count, b.count)\n",
        "\n",
        "a.increment()\n",
        "\n",
        "print(a.count, b.count)"
      ],
      "metadata": {
        "colab": {
          "base_uri": "https://localhost:8080/"
        },
        "id": "_bwg3IIHxt0j",
        "outputId": "e8258459-3109-49b7-97fc-f82ec4a3c580"
      },
      "execution_count": 2,
      "outputs": [
        {
          "output_type": "stream",
          "name": "stdout",
          "text": [
            "1 0\n",
            "2 0\n"
          ]
        }
      ]
    },
    {
      "cell_type": "code",
      "source": [
        "class MyClass:\n",
        "    @staticmethod\n",
        "    def my_method(x, y):\n",
        "        return x + y\n",
        "\n",
        "print(MyClass.my_method(5, 3))  # 출력: 8"
      ],
      "metadata": {
        "colab": {
          "base_uri": "https://localhost:8080/"
        },
        "id": "Z4NxETPuzOGI",
        "outputId": "706f99b5-9df2-41f1-dcd0-6cee177891dd"
      },
      "execution_count": 5,
      "outputs": [
        {
          "output_type": "stream",
          "name": "stdout",
          "text": [
            "8\n"
          ]
        }
      ]
    },
    {
      "cell_type": "code",
      "source": [
        "class MyClass:\n",
        "    count = 10\n",
        "\n",
        "    @staticmethod\n",
        "    def my_method(x, y):\n",
        "        #print(count)   <<읽는것 조차 접근이 안됩니다.\n",
        "        return x + y + count\n",
        "\n",
        "print(MyClass.my_method(5, 3))"
      ],
      "metadata": {
        "id": "yUz1IQqzzwYe"
      },
      "execution_count": null,
      "outputs": []
    },
    {
      "cell_type": "code",
      "source": [
        "class 학사정보시스템:\n",
        "    학점총점 = 120\n",
        "\n",
        "    def __init__(self):\n",
        "        self.학기점수 = []\n",
        "\n",
        "    def 학점추가(self, 이번학기점수):\n",
        "        self.학기점수.append(이번학기점수)\n",
        "\n",
        "    def 학점평균(self):\n",
        "        return sum(self.학기점수)/len(self.학기점수)\n",
        "\n",
        "    def 졸업장출력(self):\n",
        "        return f'총학점 {self.학점총점}학점, {self.학점평균()}으로 졸업하셨습니다.'\n",
        "\n",
        "피카츄 = 학사정보시스템()\n",
        "꼬부기 = 학사정보시스템()\n",
        "\n",
        "피카츄.학점추가(3.2)\n",
        "피카츄.학점추가(3.5)\n",
        "피카츄.학점추가(3.0)\n",
        "피카츄.학점추가(2.8)\n",
        "\n",
        "피카츄.학점평균()\n",
        "피카츄.졸업장출력()"
      ],
      "metadata": {
        "colab": {
          "base_uri": "https://localhost:8080/",
          "height": 36
        },
        "id": "6oENNNTD0cbW",
        "outputId": "9d77fad3-0b10-4633-b05e-1b8cd7233495"
      },
      "execution_count": 6,
      "outputs": [
        {
          "output_type": "execute_result",
          "data": {
            "text/plain": [
              "'총학점 120학점, 3.125으로 졸업하셨습니다.'"
            ],
            "application/vnd.google.colaboratory.intrinsic+json": {
              "type": "string"
            }
          },
          "metadata": {},
          "execution_count": 6
        }
      ]
    },
    {
      "cell_type": "code",
      "source": [
        "# 스토리 : 중간에 총학점이 120학점에서 60학점으로 바뀌어서 조기졸업을 할 수 있게 되었습니다!\n",
        "class 학사정보시스템:\n",
        "    학점총점 = 120\n",
        "\n",
        "    def __init__(self):\n",
        "        self.학기점수 = []\n",
        "\n",
        "    def 학점추가(self, 이번학기점수):\n",
        "        self.학기점수.append(이번학기점수)\n",
        "\n",
        "    def 학점평균(self):\n",
        "        return sum(self.학기점수)/len(self.학기점수)\n",
        "\n",
        "    def 졸업장출력(self):\n",
        "        return f'총학점 {self.학점총점}학점, {self.학점평균()}으로 졸업하셨습니다.'\n",
        "\n",
        "피카츄 = 학사정보시스템()\n",
        "꼬부기 = 학사정보시스템()\n",
        "\n",
        "피카츄.학점추가(3.2)\n",
        "피카츄.학점추가(3.5)\n",
        "# 총학점 변경\n",
        "피카츄.학점총점 = 60\n",
        "피카츄.학점추가(3.0)\n",
        "피카츄.학점추가(2.8)\n",
        "\n",
        "피카츄.학점평균()\n",
        "피카츄.졸업장출력()"
      ],
      "metadata": {
        "colab": {
          "base_uri": "https://localhost:8080/",
          "height": 36
        },
        "id": "B2F731ly2dnp",
        "outputId": "57ccf16c-222e-4be4-c9b0-6b4ded19a240"
      },
      "execution_count": 2,
      "outputs": [
        {
          "output_type": "execute_result",
          "data": {
            "text/plain": [
              "'총학점 60학점, 3.125으로 졸업하셨습니다.'"
            ],
            "application/vnd.google.colaboratory.intrinsic+json": {
              "type": "string"
            }
          },
          "metadata": {},
          "execution_count": 2
        }
      ]
    },
    {
      "cell_type": "code",
      "source": [
        "# 꼬부기의 졸업장은 변하지 않았습니다!\n",
        "꼬부기.학점추가(3.2)\n",
        "꼬부기.학점추가(3.5)\n",
        "꼬부기.학점추가(3.0)\n",
        "꼬부기.학점추가(2.8)\n",
        "\n",
        "꼬부기.졸업장출력()"
      ],
      "metadata": {
        "colab": {
          "base_uri": "https://localhost:8080/",
          "height": 36
        },
        "id": "lsdzYPeMBryV",
        "outputId": "a39296b8-8b2a-47cc-aec8-8de8dfc5a145"
      },
      "execution_count": 3,
      "outputs": [
        {
          "output_type": "execute_result",
          "data": {
            "text/plain": [
              "'총학점 120학점, 3.125으로 졸업하셨습니다.'"
            ],
            "application/vnd.google.colaboratory.intrinsic+json": {
              "type": "string"
            }
          },
          "metadata": {},
          "execution_count": 3
        }
      ]
    },
    {
      "cell_type": "code",
      "source": [
        "# 스토리 : 중간에 총학점이 120학점에서 60학점으로 바뀌어서 조기졸업을 할 수 있게 되었습니다!\n",
        "class 학사정보시스템:\n",
        "    학점총점 = 120\n",
        "\n",
        "    def __init__(self):\n",
        "        self.학기점수 = []\n",
        "\n",
        "    def 학점추가(self, 이번학기점수):\n",
        "        self.학기점수.append(이번학기점수)\n",
        "\n",
        "    def 학점평균(self):\n",
        "        return sum(self.학기점수)/len(self.학기점수)\n",
        "\n",
        "    def 졸업장출력(self):\n",
        "        return f'총학점 {self.학점총점}학점, {self.학점평균()}으로 졸업하셨습니다.'\n",
        "\n",
        "피카츄 = 학사정보시스템()\n",
        "꼬부기 = 학사정보시스템()\n",
        "\n",
        "피카츄.학점추가(3.2)\n",
        "피카츄.학점추가(3.5)\n",
        "학사정보시스템.학점총점 = 60 # 이 코드가 변경이 된 것입니다. 이 방법을 저는 많이 사용하는데요.\n",
        "# 저는 이 코드의 위험성을 알고 있습니다. 제가 실수하지 않을 것을 알고 있기 때문에 이코드를 사용합니다.\n",
        "# 협업을 하거나 안정성을 더 확보하고 싶다면 클래스 메서드로 수정을 해주세요.\n",
        "피카츄.학점추가(3.0)\n",
        "피카츄.학점추가(2.8)\n",
        "\n",
        "피카츄.학점평균()\n",
        "print(피카츄.졸업장출력())\n",
        "\n",
        "꼬부기.학점추가(3.0)\n",
        "print(꼬부기.졸업장출력()) # 둘 다 변한 것을 확인할 수 있습니다."
      ],
      "metadata": {
        "colab": {
          "base_uri": "https://localhost:8080/"
        },
        "id": "yaKD_BTc3PIZ",
        "outputId": "1a8fb523-8be1-472c-fe3f-4fff3f2e60bc"
      },
      "execution_count": 11,
      "outputs": [
        {
          "output_type": "stream",
          "name": "stdout",
          "text": [
            "총학점 60학점, 3.125으로 졸업하셨습니다.\n",
            "총학점 60학점, 3.0으로 졸업하셨습니다.\n"
          ]
        }
      ]
    },
    {
      "cell_type": "code",
      "source": [
        "# 스토리 : 중간에 총학점이 120학점에서 60학점으로 바뀌어서 조기졸업을 할 수 있게 되었습니다!\n",
        "class 학사정보시스템:\n",
        "    학점총점 = 120\n",
        "\n",
        "    def __init__(self):\n",
        "        self.학기점수 = []\n",
        "\n",
        "    def 학점추가(self, 이번학기점수):\n",
        "        self.학기점수.append(이번학기점수)\n",
        "\n",
        "    def 학점평균(self):\n",
        "        return sum(self.학기점수)/len(self.학기점수)\n",
        "\n",
        "    def 졸업장출력(self):\n",
        "        return f'총학점 {self.학점총점}학점, {self.학점평균()}으로 졸업하셨습니다.'\n",
        "\n",
        "피카츄 = 학사정보시스템()\n",
        "꼬부기 = 학사정보시스템()\n",
        "\n",
        "피카츄.학점추가(3.2)\n",
        "피카츄.학점추가(3.5)\n",
        "학사정보시스템.학점총점 = '60' # 위험한 상황, 숫자가 들어가야 하는데 문자가 들어갔습니다.\n",
        "# 만약에 학점총점으로 들어가는 산술 연산되는 메서드가 있었다면 이제 그 메서드는 오류를 냅니다.\n",
        "피카츄.학점추가(3.0)\n",
        "피카츄.학점추가(2.8)\n",
        "\n",
        "피카츄.학점평균()\n",
        "print(피카츄.졸업장출력())\n",
        "\n",
        "꼬부기.학점추가(3.0)\n",
        "print(꼬부기.졸업장출력()) # 둘 다 변한 것을 확인할 수 있습니다."
      ],
      "metadata": {
        "colab": {
          "base_uri": "https://localhost:8080/"
        },
        "id": "HWrJlgEl3nFH",
        "outputId": "23c689af-fbcf-464b-afa6-7ba7557e12a7"
      },
      "execution_count": 12,
      "outputs": [
        {
          "output_type": "stream",
          "name": "stdout",
          "text": [
            "총학점 60학점, 3.125으로 졸업하셨습니다.\n",
            "총학점 60학점, 3.0으로 졸업하셨습니다.\n"
          ]
        }
      ]
    },
    {
      "cell_type": "code",
      "source": [
        "# 스토리 : 중간에 총학점이 120학점에서 60학점으로 바뀌어서 조기졸업을 할 수 있게 되었습니다!\n",
        "class 학사정보시스템:\n",
        "    학점총점 = 120\n",
        "\n",
        "    def __init__(self):\n",
        "        self.학기점수 = []\n",
        "\n",
        "    def 학점추가(self, 이번학기점수):\n",
        "        self.학기점수.append(이번학기점수)\n",
        "\n",
        "    def 학점평균(self):\n",
        "        return sum(self.학기점수)/len(self.학기점수)\n",
        "\n",
        "    def 졸업장출력(self):\n",
        "        return f'총학점 {self.학점총점}학점, {self.학점평균()}으로 졸업하셨습니다.'\n",
        "\n",
        "    @classmethod\n",
        "    def 학점총점변경(cls, 총점):\n",
        "        if isinstance(총점, int):\n",
        "            cls.학점총점 = 총점\n",
        "            return '변경됨'\n",
        "        return '변경안됨'\n",
        "\n",
        "피카츄 = 학사정보시스템()\n",
        "꼬부기 = 학사정보시스템()\n",
        "\n",
        "피카츄.학점추가(3.2)\n",
        "피카츄.학점추가(3.5)\n",
        "학사정보시스템.학점총점변경(60)\n",
        "학사정보시스템.학점총점변경(120.5) # 무시\n",
        "학사정보시스템.학점총점변경('60') # 무시\n",
        "피카츄.학점추가(3.0)\n",
        "피카츄.학점추가(2.8)\n",
        "\n",
        "피카츄.학점평균()\n",
        "print(피카츄.졸업장출력())\n",
        "\n",
        "꼬부기.학점추가(3.0)\n",
        "print(꼬부기.졸업장출력()) # 둘 다 변한 것을 확인할 수 있습니다."
      ],
      "metadata": {
        "colab": {
          "base_uri": "https://localhost:8080/"
        },
        "id": "3Xf26Hwf4jCB",
        "outputId": "634304f4-724b-433c-cb22-6d043c643c5e"
      },
      "execution_count": 15,
      "outputs": [
        {
          "output_type": "stream",
          "name": "stdout",
          "text": [
            "총학점 60학점, 3.125으로 졸업하셨습니다.\n",
            "총학점 60학점, 3.0으로 졸업하셨습니다.\n"
          ]
        }
      ]
    },
    {
      "cell_type": "code",
      "source": [
        "class 학사정보시스템:\n",
        "    학점총점 = 120\n",
        "\n",
        "    def __init__(self):\n",
        "        self.학기점수 = []\n",
        "\n",
        "    def 학점추가(self, 이번학기점수):\n",
        "        self.학기점수.append(이번학기점수)\n",
        "\n",
        "    def 학점평균(self):\n",
        "        return sum(self.학기점수)/len(self.학기점수)\n",
        "\n",
        "    def 졸업장출력(self):\n",
        "        return f'총학점 {self.학점총점}학점, {self.학점평균()}으로 졸업하셨습니다.'\n",
        "\n",
        "    @staticmethod\n",
        "    def 학사경고(이번학기점수):\n",
        "        '''\n",
        "        내부에서 클래스 변수, 인스턴스 변수 수정하는 것이 가능하지 않습니다.\n",
        "\t\t'''\n",
        "        if 이번학기점수 - 1.5 > 0:\n",
        "            return '학사경고 아님!'\n",
        "        return '학사경고임!'\n",
        "\n",
        "    @classmethod\n",
        "    def 학점총점변경(cls, 총점):\n",
        "        if isinstance(총점, int):\n",
        "            cls.학점총점 = 총점\n",
        "            return '변경됨'\n",
        "        return '변경안됨'\n",
        "\n",
        "학사정보시스템.학사경고(1.4)\n",
        "학사정보시스템.학사경고(1.6)"
      ],
      "metadata": {
        "colab": {
          "base_uri": "https://localhost:8080/",
          "height": 36
        },
        "id": "irNltELk5_7W",
        "outputId": "1176c381-de8c-41f9-d5ec-7a4fee4173c3"
      },
      "execution_count": 16,
      "outputs": [
        {
          "output_type": "execute_result",
          "data": {
            "text/plain": [
              "'학사경고 아님!'"
            ],
            "application/vnd.google.colaboratory.intrinsic+json": {
              "type": "string"
            }
          },
          "metadata": {},
          "execution_count": 16
        }
      ]
    },
    {
      "cell_type": "markdown",
      "source": [
        "#속성 접근자와 덕타이핑"
      ],
      "metadata": {
        "id": "tz_ERxb_9mdT"
      }
    },
    {
      "cell_type": "code",
      "source": [
        "class Person:\n",
        "    def __init__(self, first_name, last_name):\n",
        "        self._first_name = first_name\n",
        "        self._last_name = last_name  # last 앞의 언더바는 별 의미가 없음\n",
        "\n",
        "    @property\n",
        "    def full_name(self):\n",
        "        return f'{self._first_name}{self._last_name}'\n",
        "\n",
        "licat = Person('li', 'cat')\n",
        "print(licat._first_name)\n",
        "print(licat._last_name)\n",
        "print(licat.full_name)\n",
        "# print(licat.full_name())"
      ],
      "metadata": {
        "colab": {
          "base_uri": "https://localhost:8080/"
        },
        "id": "jGUdWHR_5dVr",
        "outputId": "fee6af63-4754-4939-9cbb-d77986d6c764"
      },
      "execution_count": 1,
      "outputs": [
        {
          "output_type": "stream",
          "name": "stdout",
          "text": [
            "li\n",
            "cat\n",
            "licat\n"
          ]
        }
      ]
    },
    {
      "cell_type": "code",
      "source": [
        "class Person:\n",
        "    def __init__(self, first_name, last_name):\n",
        "        self._first_name = first_name\n",
        "        self._last_name = last_name\n",
        "\n",
        "    @property\n",
        "    def full_name(self):\n",
        "        return f'{self._first_name}{self._last_name}'\n",
        "\n",
        "licat = Person('li', 'cat')\n",
        "mura = Person('mu', 'ra')\n",
        "print(licat._first_name)\n",
        "print(licat._last_name)\n",
        "print(licat.full_name) # 클래스 변수였다면 둘 다 같은 값을 출력했었어야 합니다.\n",
        "print(mura.full_name) # 클래스 변수였다면 둘 다 같은 값을 출력했었어야 합니다."
      ],
      "metadata": {
        "colab": {
          "base_uri": "https://localhost:8080/"
        },
        "id": "Ka_w4blbvLu0",
        "outputId": "98ee7308-67e8-41ca-bd07-95b8ea16108b"
      },
      "execution_count": 2,
      "outputs": [
        {
          "output_type": "stream",
          "name": "stdout",
          "text": [
            "li\n",
            "cat\n",
            "licat\n",
            "mura\n"
          ]
        }
      ]
    },
    {
      "cell_type": "code",
      "source": [
        "class Person:\n",
        "    def __init__(self, first_name, last_name):\n",
        "        self._first_name = first_name\n",
        "        self._last_name = last_name\n",
        "\n",
        "    @property\n",
        "    def full_name(self):\n",
        "        return f'{self._first_name}{self._last_name}'\n",
        "\n",
        "    def namemul(self):\n",
        "        return self.full_name * 2 # 클래스 내부에서도 self.full_name, 인스턴스 변수처럼 취급됩니다.\n",
        "\n",
        "licat = Person('li', 'cat')\n",
        "mura = Person('mu', 'ra')\n",
        "print(licat._first_name)\n",
        "print(licat._last_name)\n",
        "print(licat.full_name) # 클래스 변수였다면 둘 다 같은 값을 출력했었어야 합니다.\n",
        "print(mura.full_name) # 클래스 변수였다면 둘 다 같은 값을 출력했었어야 합니다.\n",
        "print(mura.namemul())"
      ],
      "metadata": {
        "colab": {
          "base_uri": "https://localhost:8080/"
        },
        "id": "of2geqdR9h7x",
        "outputId": "1c8065d6-3919-4934-a1d9-4c5c69c82a05"
      },
      "execution_count": 4,
      "outputs": [
        {
          "output_type": "stream",
          "name": "stdout",
          "text": [
            "li\n",
            "cat\n",
            "licat\n",
            "mura\n",
            "muramura\n"
          ]
        }
      ]
    },
    {
      "cell_type": "code",
      "source": [
        "class Duck:\n",
        "    def introduce(self):\n",
        "        print('꽥꽥!')\n",
        "\n",
        "class Person:\n",
        "    def introduce(self):\n",
        "        print(\"안녕하세요!\")\n",
        "\n",
        "def introduce(obj):\n",
        "    print('인사시작')\n",
        "    obj.introduce()\n",
        "    print('인사끝')\n",
        "\n",
        "duck = Duck()\n",
        "person = Person()\n",
        "\n",
        "introduce(duck)  # 출력: 꽥꽥!\n",
        "introduce(person)  # 출력: 안녕하세요!\n",
        "\n",
        "# 장점1. 코드의 가독성이 좋아집니다. duck.introduce() 이렇게 사용하지 않고 intoduce(duck)로 사용하게 되면\n",
        "# dock에 object 안을 들여다보지 않고, 어느정도 기능을 유추할 수 있게 됩니다.\n",
        "# 장점2. 여러가지 obj를 하나의 함수에서 실행하며 커스터마이징도 가능합니다."
      ],
      "metadata": {
        "colab": {
          "base_uri": "https://localhost:8080/"
        },
        "id": "Q55c252EvTYQ",
        "outputId": "408e2d99-daba-47cc-ac74-7e6592b8c236"
      },
      "execution_count": 5,
      "outputs": [
        {
          "output_type": "stream",
          "name": "stdout",
          "text": [
            "인사시작\n",
            "꽥꽥!\n",
            "인사끝\n",
            "인사시작\n",
            "안녕하세요!\n",
            "인사끝\n"
          ]
        }
      ]
    },
    {
      "cell_type": "code",
      "source": [
        "class Hero:\n",
        "    def move(self):\n",
        "        print('h 움직임')\n",
        "\n",
        "class Villain:\n",
        "    def move(self):\n",
        "        print('v 움직임')\n",
        "\n",
        "class Mob:\n",
        "    def move(self):\n",
        "        print('m 움직임')\n",
        "\n",
        "def move(obj):\n",
        "    obj.move()\n",
        "\n",
        "a = Hero()\n",
        "b = Villain()\n",
        "c = Mob()\n",
        "\n",
        "등장인물 = [a, b, c]\n",
        "\n",
        "for person in 등장인물:\n",
        "    move(person) # 강요도 아니고 권고도 아니고, 취향에 따라 선택하시면 됩니다.\n",
        "    person.move() # 나는 이렇게 사용해야겠다 하시면 사용하시면 됩니다."
      ],
      "metadata": {
        "colab": {
          "base_uri": "https://localhost:8080/"
        },
        "id": "qiOqadQT-jGr",
        "outputId": "d2598ec4-a0b4-4280-bd22-4485d77b3060"
      },
      "execution_count": 7,
      "outputs": [
        {
          "output_type": "stream",
          "name": "stdout",
          "text": [
            "h 움직임\n",
            "h 움직임\n",
            "v 움직임\n",
            "v 움직임\n",
            "m 움직임\n",
            "m 움직임\n"
          ]
        }
      ]
    },
    {
      "cell_type": "code",
      "source": [
        "class Hero:\n",
        "    def move(self):\n",
        "        pass\n",
        "\n",
        "class Villain:\n",
        "    def move(self):\n",
        "        pass\n",
        "\n",
        "class Mob:\n",
        "    def move(self):\n",
        "        pass\n",
        "\n",
        "def move(obj):\n",
        "    obj.move()\n",
        "\n",
        "a = Hero()\n",
        "b = Villain()\n",
        "c = Mob\n",
        "\n",
        "introduce(duck)  # 출력: 꽥꽥!\n",
        "introduce(person)  # 출력: 안녕하세요!"
      ],
      "metadata": {
        "id": "O-OEE5yUvXRP"
      },
      "execution_count": null,
      "outputs": []
    },
    {
      "cell_type": "markdown",
      "source": [
        "#추상 클래스"
      ],
      "metadata": {
        "id": "0OUlN4_YDqKi"
      }
    },
    {
      "cell_type": "code",
      "source": [
        "from abc import ABC, abstractmethod\n",
        "\n",
        "class Person:\n",
        "    def move(self):\n",
        "        pass\n",
        "\n",
        "\n",
        "class Hero(Person):\n",
        "    pass\n",
        "\n",
        "\n",
        "ironman = Hero()\n",
        "ironman.move()"
      ],
      "metadata": {
        "id": "ExJLcTPhvkCW"
      },
      "execution_count": 10,
      "outputs": []
    },
    {
      "cell_type": "code",
      "source": [
        "from abc import ABC, abstractmethod\n",
        "\n",
        "class Person(ABC): # ABC를 상속받고\n",
        "\n",
        "    @abstractmethod # abstractmethod라고 선언을 하면\n",
        "    def move(self):\n",
        "        pass\n",
        "\n",
        "\n",
        "class Hero(Person): # 상속받은 자식에서 반드시 메서드 오버라이딩이 일어나야 합니다.\n",
        "    pass\n",
        "\n",
        "ironman = Hero()\n",
        "ironman.move()"
      ],
      "metadata": {
        "id": "ls0NXzVQvnXd"
      },
      "execution_count": null,
      "outputs": []
    },
    {
      "cell_type": "code",
      "source": [
        "from abc import ABC, abstractmethod\n",
        "\n",
        "class Person(ABC): # ABC를 상속받고\n",
        "\n",
        "    @abstractmethod # abstractmethod라고 선언을 하면\n",
        "    def move(self):\n",
        "        pass\n",
        "\n",
        "\n",
        "class Hero(Person): # 상속받은 자식에서 반드시 메서드 오버라이딩이 일어나야 합니다.\n",
        "    def move(self):\n",
        "        print('날아다님!')\n",
        "\n",
        "ironman = Hero()\n",
        "ironman.move()"
      ],
      "metadata": {
        "colab": {
          "base_uri": "https://localhost:8080/"
        },
        "id": "n-5sX4Duvqn4",
        "outputId": "d8511b6c-a0dc-4e80-9e17-91baaa1a4cc3"
      },
      "execution_count": 13,
      "outputs": [
        {
          "output_type": "stream",
          "name": "stdout",
          "text": [
            "날아다님!\n"
          ]
        }
      ]
    },
    {
      "cell_type": "markdown",
      "source": [
        "#비공개 속성"
      ],
      "metadata": {
        "id": "dsCNTjmCHpfl"
      }
    },
    {
      "cell_type": "code",
      "source": [
        "# 비공개 속성이 조작 불가능한게 아닙니다!\n",
        "class MyClass:\n",
        "    __a = 10\n",
        "    _a = 100\n",
        "    b = 20\n",
        "\n",
        "    def __init__(self, c, d):\n",
        "        self.__c = c\n",
        "        self.d = d\n",
        "\n",
        "# MyClass.__a\n",
        "test = MyClass(30, 40)\n",
        "# test.__a # 오!? 접근이 가능하지 않네 => 오해입니다.\n",
        "print(test._MyClass__a)\n",
        "print(test._MyClass__c)"
      ],
      "metadata": {
        "colab": {
          "base_uri": "https://localhost:8080/"
        },
        "id": "eyEPWyBtwE9S",
        "outputId": "324b0ce4-27fe-406e-cd20-42e13b539d4b"
      },
      "execution_count": 16,
      "outputs": [
        {
          "output_type": "stream",
          "name": "stdout",
          "text": [
            "10\n",
            "30\n"
          ]
        }
      ]
    },
    {
      "cell_type": "code",
      "source": [
        "# 비공개 속성이 조작 불가능한게 아닙니다!\n",
        "class MyClass:\n",
        "    __a = 10\n",
        "    _a = 100\n",
        "    b = 20\n",
        "\n",
        "    def __init__(self, c, d):\n",
        "        self.__c = c\n",
        "        self.d = d\n",
        "\n",
        "# MyClass.__a\n",
        "test = MyClass(30, 40)\n",
        "# test.__a # 오!? 접근이 가능하지 않네 => 오해입니다.\n",
        "test._a\n",
        "test._MyClass__a = 9000\n",
        "test._MyClass__c = 90000\n",
        "\n",
        "print(test._MyClass__a)\n",
        "print(test._MyClass__c)"
      ],
      "metadata": {
        "colab": {
          "base_uri": "https://localhost:8080/"
        },
        "id": "zUzf739mEfiD",
        "outputId": "8738b2b6-f126-44f1-dd82-1324c246c6df"
      },
      "execution_count": 17,
      "outputs": [
        {
          "output_type": "stream",
          "name": "stdout",
          "text": [
            "9000\n",
            "90000\n"
          ]
        }
      ]
    },
    {
      "cell_type": "markdown",
      "source": [
        "# 모듈\n",
        "\n",
        "* jun.py파일 작성 후 아래와 같이 입력해주세요.\n",
        "\n",
        "    ```python\n",
        "    name = 'leehojun'\n",
        "    age = 10\n",
        "    def hello():\n",
        "        return 'hello world'\n",
        "    ```"
      ],
      "metadata": {
        "id": "BR2iloAhL55c"
      }
    },
    {
      "cell_type": "code",
      "source": [
        "import jun # 여기서 jun이 모듈입니다!\n",
        "\n",
        "jun.name # 변수를 호출할 수도 있고\n",
        "jun.hello() # 함수를 호출할 수도 있습니다."
      ],
      "metadata": {
        "id": "fFzQpqhxH92S"
      },
      "execution_count": null,
      "outputs": []
    },
    {
      "cell_type": "code",
      "source": [
        "from jun import name, age # 이것도 많이 사용합니다.\n",
        "from juni import name, age\n",
        "\n",
        "# 그러나 저는 이 문법을 좋아하지 않습니다.\n",
        "# 그러나 이 문법은 정말 많이사용되는 문법입니다!\n",
        "\n",
        "print(name) # 여기에 이름은 누구인가요? juni!\n",
        "print(age) # 여기에 나이는 누구이죠? juni!"
      ],
      "metadata": {
        "id": "LnUCb_kRwZta"
      },
      "execution_count": null,
      "outputs": []
    },
    {
      "cell_type": "code",
      "source": [
        "from jun import name as n # 이렇게도 사용 가능하고\n",
        "\n",
        "print(n)"
      ],
      "metadata": {
        "id": "U71bOjiRwrAw"
      },
      "execution_count": null,
      "outputs": []
    },
    {
      "cell_type": "code",
      "source": [
        "import jun as j # 이렇게도 사용 가능합니다.\n",
        "\n",
        "j.name"
      ],
      "metadata": {
        "id": "mYZIsQZ5wvIJ"
      },
      "execution_count": null,
      "outputs": []
    },
    {
      "cell_type": "code",
      "source": [
        "import pandas as pd # 데이터 분석 모듈\n",
        "import numpy as np # 수학 관련 모듈"
      ],
      "metadata": {
        "id": "7t_x3AEPwyC_"
      },
      "execution_count": 3,
      "outputs": []
    },
    {
      "cell_type": "code",
      "source": [
        "import a    # 폴더가 존재하기 때문에 에러가 나지 않습니다.\n",
        "\n",
        "print(a)\n",
        "print(a.b.c)   # 이렇게 접근할 수는 없습니다."
      ],
      "metadata": {
        "id": "7zDgv177PbpV"
      },
      "execution_count": null,
      "outputs": []
    },
    {
      "cell_type": "code",
      "source": [
        "import a.b.c.licat\n",
        "\n",
        "# print(licat)\n",
        "print(a.b.c.licat)\n",
        "print(a.b.c.licat.name)\n",
        "print(a.b.c.licat.age)"
      ],
      "metadata": {
        "colab": {
          "base_uri": "https://localhost:8080/"
        },
        "id": "Jd7GWBY4PvXI",
        "outputId": "281b5162-00d4-4da2-b5a3-17aea0e48a65"
      },
      "execution_count": 41,
      "outputs": [
        {
          "output_type": "stream",
          "name": "stdout",
          "text": [
            "<module 'a.b.c.licat' from '/content/a/b/c/licat.py'>\n",
            "licat\n",
            "3\n"
          ]
        }
      ]
    },
    {
      "cell_type": "code",
      "source": [
        "import a.b.c.licat as cat  #현재 폴더를 나타낼 때는 앞에 점을 1개 붙입니다.\n",
        "\n",
        "print(cat)\n",
        "print(cat.name)\n",
        "print(cat.age)"
      ],
      "metadata": {
        "colab": {
          "base_uri": "https://localhost:8080/"
        },
        "id": "OTPdj3GpPefw",
        "outputId": "67b84c9c-70f9-40f5-d28c-581e24015c81"
      },
      "execution_count": 43,
      "outputs": [
        {
          "output_type": "stream",
          "name": "stdout",
          "text": [
            "<module 'a.b.c.licat' from '/content/a/b/c/licat.py'>\n",
            "licat\n",
            "3\n"
          ]
        }
      ]
    },
    {
      "cell_type": "code",
      "source": [
        "# 일반적으로 아래와 같이 사용합니다.\n",
        "# from은 폴더 import는 모듈\n",
        "from a.b.c import licat\n",
        "\n",
        "print(licat)\n",
        "print(licat.name)\n",
        "print(licat.age)"
      ],
      "metadata": {
        "colab": {
          "base_uri": "https://localhost:8080/"
        },
        "id": "SiiYgPQWQcy6",
        "outputId": "2e078220-174f-49d6-916d-7e51b88e3d37"
      },
      "execution_count": 44,
      "outputs": [
        {
          "output_type": "stream",
          "name": "stdout",
          "text": [
            "<module 'a.b.c.licat' from '/content/a/b/c/licat.py'>\n",
            "licat\n",
            "3\n"
          ]
        }
      ]
    },
    {
      "cell_type": "code",
      "source": [
        "!mkdir leehojun"
      ],
      "metadata": {
        "id": "GOvkyKf8w8ho"
      },
      "execution_count": 5,
      "outputs": []
    },
    {
      "cell_type": "code",
      "source": [
        "!pip list  # colab이 정말 많은 모듈이 설치되어 있습니다. 그래서 정말 좋습니다."
      ],
      "metadata": {
        "id": "gyIM1UkfQpk8"
      },
      "execution_count": null,
      "outputs": []
    },
    {
      "cell_type": "markdown",
      "source": [
        "#연습문제"
      ],
      "metadata": {
        "id": "GYLmYQFBom6a"
      }
    },
    {
      "cell_type": "code",
      "source": [
        "# 아래와 같은 기능을 하는 모듈 또는 패키지를 만들어주세요.\n",
        "# 파일 또는 폴더로 만드셔야 합니다!\n",
        "# add(a, b), sub(a, b), mul(a, b), div(a, b)\n",
        "# _and(a, b), _or(a, b) # 다 하신 분 중 시간이 조금 남으신 분은 요것도 해보세요. :)"
      ],
      "metadata": {
        "id": "B3fAhZEhxCr3"
      },
      "execution_count": 6,
      "outputs": []
    },
    {
      "cell_type": "markdown",
      "source": [
        "![image.png](data:image/png;base64,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)"
      ],
      "metadata": {
        "id": "Ac2naCInpt0f"
      }
    },
    {
      "cell_type": "code",
      "source": [
        "# 구분해서 저장하는 것이 중요합니다.\n",
        "# 구분하지 않으면 유지보수시 힘들어 집니다.\n",
        "# operation > arithmetic_operation.py\n",
        "def add(a, b):\n",
        "    return a + b\n",
        "\n",
        "def sub(a, b):\n",
        "    return a - b\n",
        "\n",
        "def mul(a, b):\n",
        "    return a * b\n",
        "\n",
        "def div(a, b):\n",
        "    return a / b\n",
        "\n",
        "# operation > logical_operation.py\n",
        "def _and(a, b):\n",
        "    return a and b\n",
        "\n",
        "def _or(a, b):\n",
        "    return a or b"
      ],
      "metadata": {
        "id": "V-qO-cYUS9W4"
      },
      "execution_count": 47,
      "outputs": []
    },
    {
      "cell_type": "code",
      "source": [
        "from operation import arithmetic_operation as ao, logical_operation as lo"
      ],
      "metadata": {
        "id": "rLAeV79SrC6r"
      },
      "execution_count": null,
      "outputs": []
    },
    {
      "cell_type": "code",
      "source": [
        "ao.add(3, 4)"
      ],
      "metadata": {
        "id": "J8i9Z3QGxSYE"
      },
      "execution_count": null,
      "outputs": []
    },
    {
      "cell_type": "code",
      "source": [
        "lo._and(True, False)"
      ],
      "metadata": {
        "id": "SAxsQ_lQxUw9"
      },
      "execution_count": null,
      "outputs": []
    },
    {
      "cell_type": "code",
      "source": [
        "# 450,000개 이상의 Python 패키지, 45만개의 바퀴\n",
        "# PyPI(Python Package Index)\n",
        "# https://pypi.org/search/?q=pandas&o="
      ],
      "metadata": {
        "id": "xhAvQ9LhxVOn"
      },
      "execution_count": 10,
      "outputs": []
    },
    {
      "cell_type": "code",
      "source": [
        "import sys\n",
        "\n",
        "sys.path.append('/content/a/b/c')"
      ],
      "metadata": {
        "id": "ohQx_rxmxYCh"
      },
      "execution_count": 11,
      "outputs": []
    },
    {
      "cell_type": "code",
      "source": [
        "import licat\n",
        "\n",
        "licat.name"
      ],
      "metadata": {
        "id": "ph-AHUx4xZEA"
      },
      "execution_count": null,
      "outputs": []
    },
    {
      "cell_type": "markdown",
      "source": [
        "#부록 - 많이 사용하는 모듈"
      ],
      "metadata": {
        "id": "1b3jxd3Qvz4N"
      }
    },
    {
      "cell_type": "code",
      "source": [
        "import glob\n",
        "\n",
        "glob.glob('/content/*.py')\n",
        "glob.glob('./*/*.py')\n",
        "glob.glob('./???.py')\n",
        "glob.glob('./ju??.py')\n",
        "glob.glob('*.py')"
      ],
      "metadata": {
        "colab": {
          "base_uri": "https://localhost:8080/"
        },
        "id": "R6pFnCHXxcwY",
        "outputId": "cacdd530-8eea-45d1-a0b3-2f71223b5860"
      },
      "execution_count": 13,
      "outputs": [
        {
          "output_type": "execute_result",
          "data": {
            "text/plain": [
              "[]"
            ]
          },
          "metadata": {},
          "execution_count": 13
        }
      ]
    },
    {
      "cell_type": "code",
      "source": [
        "import os\n",
        "\n",
        "os.getcwd()\n",
        "# glob라는 모듈이 폴더 찾고, 파일찾고 하는 것에는 더 좋습니다."
      ],
      "metadata": {
        "colab": {
          "base_uri": "https://localhost:8080/",
          "height": 36
        },
        "id": "pEXTfRnYwAQW",
        "outputId": "4e83f16c-bd39-4a82-bbd5-fd16ce3d365f"
      },
      "execution_count": 14,
      "outputs": [
        {
          "output_type": "execute_result",
          "data": {
            "text/plain": [
              "'/content'"
            ],
            "application/vnd.google.colaboratory.intrinsic+json": {
              "type": "string"
            }
          },
          "metadata": {},
          "execution_count": 14
        }
      ]
    },
    {
      "cell_type": "code",
      "source": [
        "for current_directory, dirs, files in os.walk('/content'):\n",
        "    for f in files:\n",
        "        print(os.path.join(current_directory, f))"
      ],
      "metadata": {
        "id": "a6M3Wu4mxjFq"
      },
      "execution_count": null,
      "outputs": []
    },
    {
      "cell_type": "code",
      "source": [
        "import os\n",
        "# os.mkdir()\n",
        "# os.rename()\n",
        "# os.remove()\n",
        "os.open('a.txt', os.O_CREAT | os.O_WRONLY)"
      ],
      "metadata": {
        "colab": {
          "base_uri": "https://localhost:8080/"
        },
        "id": "dB4CRpDdxlQo",
        "outputId": "d3a4abe3-b096-4875-9f94-473469a2cd49"
      },
      "execution_count": 17,
      "outputs": [
        {
          "output_type": "execute_result",
          "data": {
            "text/plain": [
              "44"
            ]
          },
          "metadata": {},
          "execution_count": 17
        }
      ]
    },
    {
      "cell_type": "code",
      "source": [
        "import sys\n",
        "\n",
        "a = [1, 2, 3]\n",
        "b = a\n",
        "c = a\n",
        "# sys.getsizeof()\n",
        "# sys.path\n",
        "sys.getrefcount(a)"
      ],
      "metadata": {
        "colab": {
          "base_uri": "https://localhost:8080/"
        },
        "id": "UMCjqlYRxptL",
        "outputId": "af31b066-d2a9-4c18-c03e-5d03e9a8bc28"
      },
      "execution_count": 18,
      "outputs": [
        {
          "output_type": "execute_result",
          "data": {
            "text/plain": [
              "4"
            ]
          },
          "metadata": {},
          "execution_count": 18
        }
      ]
    },
    {
      "cell_type": "code",
      "source": [
        "a = [1, 2, 3, 4]\n",
        "sys.getrefcount(a)"
      ],
      "metadata": {
        "colab": {
          "base_uri": "https://localhost:8080/"
        },
        "id": "B7PvjR3-xp_U",
        "outputId": "845bf43d-cf28-4a11-b31a-f216837d0aeb"
      },
      "execution_count": 19,
      "outputs": [
        {
          "output_type": "execute_result",
          "data": {
            "text/plain": [
              "2"
            ]
          },
          "metadata": {},
          "execution_count": 19
        }
      ]
    },
    {
      "cell_type": "code",
      "source": [
        "import datetime\n",
        "\n",
        "s = datetime.datetime(2023, 9, 19, 14, 10)\n",
        "print(s)"
      ],
      "metadata": {
        "colab": {
          "base_uri": "https://localhost:8080/"
        },
        "id": "ekRIc1TIxraU",
        "outputId": "710f7b04-46df-4185-d64f-27315e1ad4e7"
      },
      "execution_count": 20,
      "outputs": [
        {
          "output_type": "stream",
          "name": "stdout",
          "text": [
            "2023-09-19 14:10:00\n"
          ]
        }
      ]
    },
    {
      "cell_type": "code",
      "source": [
        "s.year, s.month, s.day, s.hour, s.minute"
      ],
      "metadata": {
        "colab": {
          "base_uri": "https://localhost:8080/"
        },
        "id": "aA1rG6l4xtQ-",
        "outputId": "bcfbf9b5-a8ea-485a-a30f-3a997e80cce2"
      },
      "execution_count": 21,
      "outputs": [
        {
          "output_type": "execute_result",
          "data": {
            "text/plain": [
              "(2023, 9, 19, 14, 10)"
            ]
          },
          "metadata": {},
          "execution_count": 21
        }
      ]
    },
    {
      "cell_type": "code",
      "source": [
        "s = datetime.datetime(2023, 9, 18, 14, 10)\n",
        "s.weekday() # 월요일0, 화요일1, 수요일2 ... 일요일6"
      ],
      "metadata": {
        "colab": {
          "base_uri": "https://localhost:8080/"
        },
        "id": "0slocdJ2xuXH",
        "outputId": "913c065f-dd94-40be-d836-d95ce419daa2"
      },
      "execution_count": 22,
      "outputs": [
        {
          "output_type": "execute_result",
          "data": {
            "text/plain": [
              "0"
            ]
          },
          "metadata": {},
          "execution_count": 22
        }
      ]
    },
    {
      "cell_type": "code",
      "source": [
        "today = datetime.date.today()\n",
        "today"
      ],
      "metadata": {
        "colab": {
          "base_uri": "https://localhost:8080/"
        },
        "id": "q2GsjaQAxvr6",
        "outputId": "af4b4c5f-5c09-4d49-c54b-b558773cd557"
      },
      "execution_count": 23,
      "outputs": [
        {
          "output_type": "execute_result",
          "data": {
            "text/plain": [
              "datetime.date(2023, 9, 20)"
            ]
          },
          "metadata": {},
          "execution_count": 23
        }
      ]
    },
    {
      "cell_type": "code",
      "source": [
        "graduation_date = datetime.datetime(2023, 12, 29, 18, 00)\n",
        "today = datetime.date.today()\n",
        "days = datetime.timedelta(days=100)\n",
        "today + days"
      ],
      "metadata": {
        "colab": {
          "base_uri": "https://localhost:8080/"
        },
        "id": "62-fjnCOxxAM",
        "outputId": "2233c3d3-d55b-4d4e-8213-c940030c4ea0"
      },
      "execution_count": 24,
      "outputs": [
        {
          "output_type": "execute_result",
          "data": {
            "text/plain": [
              "datetime.date(2023, 12, 29)"
            ]
          },
          "metadata": {},
          "execution_count": 24
        }
      ]
    },
    {
      "cell_type": "code",
      "source": [
        "type(today), type(graduation_date)"
      ],
      "metadata": {
        "colab": {
          "base_uri": "https://localhost:8080/"
        },
        "id": "gFZBiYShxyCO",
        "outputId": "4dcd4da6-78a3-4ea5-d7e5-f8d82ae08436"
      },
      "execution_count": 25,
      "outputs": [
        {
          "output_type": "execute_result",
          "data": {
            "text/plain": [
              "(datetime.date, datetime.datetime)"
            ]
          },
          "metadata": {},
          "execution_count": 25
        }
      ]
    },
    {
      "cell_type": "code",
      "source": [
        "import datetime\n",
        "\n",
        "graduation_date = datetime.date(2023, 12, 29)\n",
        "today = datetime.date.today()\n",
        "\n",
        "graduation_date - today"
      ],
      "metadata": {
        "colab": {
          "base_uri": "https://localhost:8080/"
        },
        "id": "sGGjF5WDxzRf",
        "outputId": "e0155aa9-e6f6-4e61-b220-83379bc014b6"
      },
      "execution_count": 26,
      "outputs": [
        {
          "output_type": "execute_result",
          "data": {
            "text/plain": [
              "datetime.timedelta(days=100)"
            ]
          },
          "metadata": {},
          "execution_count": 26
        }
      ]
    },
    {
      "cell_type": "code",
      "source": [
        "today = datetime.datetime.combine(datetime.date.today(), datetime.datetime.min.time())\n",
        "type(today)"
      ],
      "metadata": {
        "colab": {
          "base_uri": "https://localhost:8080/"
        },
        "id": "iIGabJT4x0Ip",
        "outputId": "30ab97d5-32d9-4a89-9a8f-88feb2c52465"
      },
      "execution_count": 27,
      "outputs": [
        {
          "output_type": "execute_result",
          "data": {
            "text/plain": [
              "datetime.datetime"
            ]
          },
          "metadata": {},
          "execution_count": 27
        }
      ]
    },
    {
      "cell_type": "code",
      "source": [
        "graduation_date - today"
      ],
      "metadata": {
        "id": "OeaTPS6ox1JX"
      },
      "execution_count": null,
      "outputs": []
    },
    {
      "cell_type": "code",
      "source": [
        "import json\n",
        "\n",
        "d = {\n",
        "    'one': 1,\n",
        "    'two': 2,\n",
        "    'three': 3\n",
        "}\n",
        "\n",
        "s = json.dumps(d)\n",
        "type(s)\n",
        "s[:8]"
      ],
      "metadata": {
        "colab": {
          "base_uri": "https://localhost:8080/",
          "height": 36
        },
        "id": "WTDFIVMDx2If",
        "outputId": "370010d0-d7e7-4c4e-eb04-4e62b685a95d"
      },
      "execution_count": 33,
      "outputs": [
        {
          "output_type": "execute_result",
          "data": {
            "text/plain": [
              "'{\"one\": '"
            ],
            "application/vnd.google.colaboratory.intrinsic+json": {
              "type": "string"
            }
          },
          "metadata": {},
          "execution_count": 33
        }
      ]
    },
    {
      "cell_type": "code",
      "source": [
        "dd = json.loads(s)\n",
        "type(dd)"
      ],
      "metadata": {
        "colab": {
          "base_uri": "https://localhost:8080/"
        },
        "id": "0MpwcNmIx5m9",
        "outputId": "e3156c8e-8bc3-40c4-b17a-abe70354ff31"
      },
      "execution_count": 30,
      "outputs": [
        {
          "output_type": "execute_result",
          "data": {
            "text/plain": [
              "dict"
            ]
          },
          "metadata": {},
          "execution_count": 30
        }
      ]
    },
    {
      "cell_type": "code",
      "source": [
        "class Human:\n",
        "    def __init__(self, x, y):\n",
        "        self.x = x\n",
        "        self.y = y\n",
        "\n",
        "jun = Human(10, 20)\n",
        "json.dumps(jun)\n",
        "\n",
        "# TypeError: Object of type Human is not JSON serializable(직렬화가 가능하지 않다!)\n",
        "# 일반 인스턴스는 직렬화가 가능하지 않습니다!\n",
        "# 직렬화: \"데이터 구조나 오브젝트 상태를 동일하거나 다른 컴퓨터 환경에 저장\n",
        "# (이를테면 파일이나 메모리 버퍼에서, 또는 네트워크 연결 링크 간 전송)하고,\n",
        "# 나중에 재구성할 수 있는 포맷으로 변환하는 과정\""
      ],
      "metadata": {
        "id": "ZXo91TO6x-qt"
      },
      "execution_count": null,
      "outputs": []
    },
    {
      "cell_type": "code",
      "source": [
        "import collections\n",
        "\n",
        "d = collections.deque([1, 2, 3, 4])\n",
        "d.rotate(1) # 회전초밥 문제\n",
        "d"
      ],
      "metadata": {
        "colab": {
          "base_uri": "https://localhost:8080/"
        },
        "id": "eqty6pJAyEAD",
        "outputId": "8bede952-be3c-402c-d1d3-82e9b68440e0"
      },
      "execution_count": 35,
      "outputs": [
        {
          "output_type": "execute_result",
          "data": {
            "text/plain": [
              "deque([4, 1, 2, 3])"
            ]
          },
          "metadata": {},
          "execution_count": 35
        }
      ]
    },
    {
      "cell_type": "code",
      "source": [
        "d.rotate(1) # 회전초밥 문제\n",
        "d"
      ],
      "metadata": {
        "colab": {
          "base_uri": "https://localhost:8080/"
        },
        "id": "V7h0lFziyG0Y",
        "outputId": "cd664673-788b-4926-d789-98837c38d18f"
      },
      "execution_count": 36,
      "outputs": [
        {
          "output_type": "execute_result",
          "data": {
            "text/plain": [
              "deque([3, 4, 1, 2])"
            ]
          },
          "metadata": {},
          "execution_count": 36
        }
      ]
    },
    {
      "cell_type": "code",
      "source": [
        "d.rotate(1) # 회전초밥 문제\n",
        "d"
      ],
      "metadata": {
        "colab": {
          "base_uri": "https://localhost:8080/"
        },
        "id": "kW5Gl2zryKlT",
        "outputId": "5654e1df-4bc7-4b1a-f292-c34c540ec576"
      },
      "execution_count": 37,
      "outputs": [
        {
          "output_type": "execute_result",
          "data": {
            "text/plain": [
              "deque([2, 3, 4, 1])"
            ]
          },
          "metadata": {},
          "execution_count": 37
        }
      ]
    },
    {
      "cell_type": "code",
      "source": [
        "c = collections.Counter('hello world')\n",
        "c"
      ],
      "metadata": {
        "colab": {
          "base_uri": "https://localhost:8080/"
        },
        "id": "0eXAogfqyLmE",
        "outputId": "d7c7bc34-ffef-4a61-aca2-27da273d9346"
      },
      "execution_count": 38,
      "outputs": [
        {
          "output_type": "execute_result",
          "data": {
            "text/plain": [
              "Counter({'h': 1, 'e': 1, 'l': 3, 'o': 2, ' ': 1, 'w': 1, 'r': 1, 'd': 1})"
            ]
          },
          "metadata": {},
          "execution_count": 38
        }
      ]
    },
    {
      "cell_type": "code",
      "source": [
        "c.most_common()"
      ],
      "metadata": {
        "colab": {
          "base_uri": "https://localhost:8080/"
        },
        "id": "Ah0VDfVKyMut",
        "outputId": "d7827627-58f6-428f-b4e0-b5ce6cfa4a1e"
      },
      "execution_count": 39,
      "outputs": [
        {
          "output_type": "execute_result",
          "data": {
            "text/plain": [
              "[('l', 3),\n",
              " ('o', 2),\n",
              " ('h', 1),\n",
              " ('e', 1),\n",
              " (' ', 1),\n",
              " ('w', 1),\n",
              " ('r', 1),\n",
              " ('d', 1)]"
            ]
          },
          "metadata": {},
          "execution_count": 39
        }
      ]
    },
    {
      "cell_type": "code",
      "source": [
        "# 지금부터 실습하는 것은 저 혼자만 하겠습니다.\n",
        "# 여러분은 이 코드만 가지고 있어주세요.\n",
        "import requests\n",
        "from bs4 import BeautifulSoup\n",
        "\n",
        "paullab_url = 'https://paullab.co.kr/bookservice/'\n",
        "response = requests.get(paullab_url)\n",
        "response.encoding = 'utf-8'\n",
        "html = response.text\n",
        "\n",
        "soup = BeautifulSoup(html, 'html.parser')\n",
        "\n",
        "bookservices = soup.select('.col-lg-6 > h2')     # col-lg-6 클래스 안의 h2 태그 탐색\n",
        "for no, book in enumerate(bookservices, 1):\n",
        "    print(no, book.text)"
      ],
      "metadata": {
        "colab": {
          "base_uri": "https://localhost:8080/"
        },
        "id": "DaJbOixO8GX0",
        "outputId": "6be9d99f-f2c8-4705-a713-0174a0b345f4"
      },
      "execution_count": 41,
      "outputs": [
        {
          "output_type": "stream",
          "name": "stdout",
          "text": [
            "1 메모혁신 Notion(노션) 활용 가이드\n",
            "2 제주코딩베이스캠프 Code Festival: Python 100제 1부\n",
            "3 튜토리얼로 배우는 HTML&CSS\n",
            "4 코딩도장 튜토리얼로 배우는 Python 1편 object\n",
            "5 코딩도장 튜토리얼로 배우는 python 2편 제어문\n",
            "6 코딩도장 튜토리얼로 배우는 Python 문제풀이\n",
            "7 타노스의 건틀릿 알고리즘 With Python\n",
            "8 xlsxwriter 튜토리얼로 배우는 Python 엑셀 프로그래밍\n",
            "9 러플 튜토리얼로 배우는 Python\n",
            "10 인공지능을 활용한 업무자동화 With Google Developers Group JEJU\n",
            "11 2017 제주 코딩 해커톤 Django 트랙 상편 1권\n"
          ]
        }
      ]
    },
    {
      "cell_type": "code",
      "source": [
        "# 지금부터 실습하는 것은 저 혼자만 하겠습니다.\n",
        "# 여러분은 이 코드만 가지고 있어주세요.\n",
        "import requests # 이거 하고 있습니다!\n",
        "from bs4 import BeautifulSoup\n",
        "\n",
        "paullab_url = 'https://search.naver.com/search.naver?where=nexearch&sm=top_hty&fbm=0&ie=utf8&query=%EC%B5%9C%EC%8B%A0%EC%98%81%ED%99%94' #이거\n",
        "response = requests.get(paullab_url)\n",
        "response.encoding = 'utf-8'\n",
        "html = response.text\n",
        "\n",
        "soup = BeautifulSoup(html, 'html.parser')\n",
        "\n",
        "bookservices = soup.select('.this_text') # 이거\n",
        "for no, book in enumerate(bookservices, 1):\n",
        "    print(no, book.text)"
      ],
      "metadata": {
        "colab": {
          "base_uri": "https://localhost:8080/"
        },
        "id": "TxT3us_jycR9",
        "outputId": "08a33bf7-f3a3-43ce-b22f-77c4089d08da"
      },
      "execution_count": 42,
      "outputs": [
        {
          "output_type": "stream",
          "name": "stdout",
          "text": [
            "1 그란 투리스모\n",
            "2 베니스 유령 살인사건\n",
            "3 잠\n",
            "4 오펜하이머\n",
            "5 콘크리트 유토피아\n",
            "6 달짝지근해: 7510\n",
            "7 닌자터틀: 뮤턴트 대소동\n",
            "8 번개맨: 더 비기닝\n",
            "9 새로고침\n"
          ]
        }
      ]
    },
    {
      "cell_type": "markdown",
      "source": [
        "#예외사례"
      ],
      "metadata": {
        "id": "0X6CvIt3CS8W"
      }
    },
    {
      "cell_type": "code",
      "source": [
        "# SyntaxError\n",
        "# for i in range(10)\n",
        "#     print(i)\n",
        "if False:\n",
        "    raise SyntaxError\n",
        "if True:\n",
        "    raise SyntaxError('hello world') #여러분의 의도에 맞게 적절한 애러를 주실 필요가 있습니다."
      ],
      "metadata": {
        "id": "OdUTnS1a9TFR"
      },
      "execution_count": null,
      "outputs": []
    },
    {
      "cell_type": "code",
      "source": [
        "# Name Error\n",
        "print(x)"
      ],
      "metadata": {
        "id": "_plbaPHuCdEU"
      },
      "execution_count": null,
      "outputs": []
    },
    {
      "cell_type": "code",
      "source": [
        "# Type Error\n",
        "x = 10\n",
        "y = '20'\n",
        "print(x + y)"
      ],
      "metadata": {
        "id": "WvwjR3k5CouO"
      },
      "execution_count": null,
      "outputs": []
    },
    {
      "cell_type": "code",
      "source": [
        "# Index Error\n",
        "my_list = [1, 2, 3]\n",
        "print(my_list[3]) # 슬라이싱은 애러를 내지 않습니다. 기억해주세요. 많이 사용합니다."
      ],
      "metadata": {
        "id": "aPsVPUuWypkc"
      },
      "execution_count": null,
      "outputs": []
    },
    {
      "cell_type": "code",
      "source": [
        "# python에서는 안됩니다.\n",
        "my_list = [1, 2, 3]\n",
        "my_list.__len__ = 100"
      ],
      "metadata": {
        "id": "-BZkReYmyp5f"
      },
      "execution_count": null,
      "outputs": []
    },
    {
      "cell_type": "code",
      "source": [
        "# Key Error\n",
        "my_dict = {'a': 1, 'b': 2}\n",
        "print(my_dict['c']) # key error를 피하기 위해서는 get을 사용합니다."
      ],
      "metadata": {
        "id": "WjAdihlxys8n"
      },
      "execution_count": null,
      "outputs": []
    },
    {
      "cell_type": "code",
      "source": [
        "# Value Error\n",
        "int('a')"
      ],
      "metadata": {
        "id": "ywaFCPX8yvJ2"
      },
      "execution_count": null,
      "outputs": []
    },
    {
      "cell_type": "code",
      "source": [
        "# ZeroDivision Error\n",
        "x = 10\n",
        "y = 0\n",
        "print(x / y)"
      ],
      "metadata": {
        "id": "mCRPZ0cqyxD9"
      },
      "execution_count": null,
      "outputs": []
    },
    {
      "cell_type": "code",
      "source": [
        "def f():\n",
        "    return True\n",
        "\n",
        "def ff():\n",
        "    return 1/0\n",
        "\n",
        "f() or ff()"
      ],
      "metadata": {
        "colab": {
          "base_uri": "https://localhost:8080/"
        },
        "id": "njSo_jvHExxs",
        "outputId": "25b332a2-351a-444d-e0ca-3ce2f9317f8c"
      },
      "execution_count": 50,
      "outputs": [
        {
          "output_type": "execute_result",
          "data": {
            "text/plain": [
              "True"
            ]
          },
          "metadata": {},
          "execution_count": 50
        }
      ]
    },
    {
      "cell_type": "code",
      "source": [
        "# Attribute Error\n",
        "my_list = [1, 2, 3]\n",
        "print(my_list.appeend(4))"
      ],
      "metadata": {
        "id": "b56ahr5fEyor"
      },
      "execution_count": null,
      "outputs": []
    },
    {
      "cell_type": "code",
      "source": [
        "# Type Error\n",
        "def add(x, y):\n",
        "    return x + y\n",
        "\n",
        "add(1, 2, 3) # *args, **kargs"
      ],
      "metadata": {
        "id": "sL4zFV9XEzcT"
      },
      "execution_count": null,
      "outputs": []
    },
    {
      "cell_type": "code",
      "source": [
        "def add(x, y, *args):\n",
        "    print(x, y, args)\n",
        "    return x + y\n",
        "\n",
        "add(1, 2, 3, 4, 5, 6, 7, 8, 9, 10)"
      ],
      "metadata": {
        "colab": {
          "base_uri": "https://localhost:8080/"
        },
        "id": "RDxgKK2IE1Ai",
        "outputId": "3c8920d2-24ff-48cf-d445-05c5f963f409"
      },
      "execution_count": 53,
      "outputs": [
        {
          "output_type": "stream",
          "name": "stdout",
          "text": [
            "1 2 (3, 4, 5, 6, 7, 8, 9, 10)\n"
          ]
        },
        {
          "output_type": "execute_result",
          "data": {
            "text/plain": [
              "3"
            ]
          },
          "metadata": {},
          "execution_count": 53
        }
      ]
    },
    {
      "cell_type": "code",
      "source": [
        "# File I/O Error\n",
        "f = open('non-existent.txt', 'r')\n",
        "f.read()"
      ],
      "metadata": {
        "id": "40HqtyZaFM3Y"
      },
      "execution_count": null,
      "outputs": []
    },
    {
      "cell_type": "code",
      "source": [
        "# 어디서 오류가 났는지 알기 어려워서 유지보수가 힘듦\n",
        "try:\n",
        "    pass\n",
        "except:\n",
        "    pass"
      ],
      "metadata": {
        "id": "6A-jCHyCFN3q"
      },
      "execution_count": 55,
      "outputs": []
    },
    {
      "cell_type": "code",
      "source": [
        "try:\n",
        "    s = 1/1\n",
        "    print(s)\n",
        "    l = [1, 2, 3]\n",
        "    print(l[3])\n",
        "except ZeroDivisionError:\n",
        "    print('0으로 나누어졌습니다!')\n",
        "except:\n",
        "    print('오류가 났습니다!')"
      ],
      "metadata": {
        "colab": {
          "base_uri": "https://localhost:8080/"
        },
        "id": "nzTF4vNqGg1h",
        "outputId": "34f4199b-7266-4292-cd01-fe6dbcb05a7d"
      },
      "execution_count": 58,
      "outputs": [
        {
          "output_type": "stream",
          "name": "stdout",
          "text": [
            "1.0\n",
            "오류가 났습니다!\n"
          ]
        }
      ]
    },
    {
      "cell_type": "code",
      "source": [
        "def index_print(list, user_input):\n",
        "    if 0 <= user_input < len(list):\n",
        "        return list[user_input]\n",
        "    return print('리스트의 범위를 벗어났습니다.')\n",
        "fruit = [\"apple\", \"banana\", \"cherry\"]\n",
        "\n",
        "user = int(input('인덱스를 입력해주세요. : '))\n",
        "index_print(fruit,user)"
      ],
      "metadata": {
        "colab": {
          "base_uri": "https://localhost:8080/",
          "height": 54
        },
        "id": "0SOj01nBzH9k",
        "outputId": "e1065350-b045-4dbb-c64f-1de96bd9204a"
      },
      "execution_count": 62,
      "outputs": [
        {
          "name": "stdout",
          "output_type": "stream",
          "text": [
            "인덱스를 입력해주세요. : 1\n"
          ]
        },
        {
          "output_type": "execute_result",
          "data": {
            "text/plain": [
              "'banana'"
            ],
            "application/vnd.google.colaboratory.intrinsic+json": {
              "type": "string"
            }
          },
          "metadata": {},
          "execution_count": 62
        }
      ]
    },
    {
      "cell_type": "code",
      "source": [
        "try:\n",
        "    할인율 = 0\n",
        "    치킨값 = 30000 / 할인율\n",
        "    print('치킨주문 되었습니다!')\n",
        "except:\n",
        "    print('결제가 안되었습니다!')"
      ],
      "metadata": {
        "colab": {
          "base_uri": "https://localhost:8080/"
        },
        "id": "6evVVt33zWTy",
        "outputId": "0039b19a-0ffc-48ed-f336-0fa35c075c7e"
      },
      "execution_count": 63,
      "outputs": [
        {
          "output_type": "stream",
          "name": "stdout",
          "text": [
            "결제가 안되었습니다!\n"
          ]
        }
      ]
    },
    {
      "cell_type": "code",
      "source": [
        "try:\n",
        "    할인율 = 0\n",
        "    치킨값 = 30000 / 할인율\n",
        "    print('치킨주문 되었습니다!')\n",
        "print('hello')"
      ],
      "metadata": {
        "id": "OY0Us9T3GhKc"
      },
      "execution_count": null,
      "outputs": []
    },
    {
      "cell_type": "code",
      "source": [
        "try:\n",
        "    할인율 = 0\n",
        "    치킨값 = 30000 / 할인율\n",
        "    print('치킨주문 되었습니다!')\n",
        "except:\n",
        "    print('결제가 안되었습니다!')\n",
        "else:\n",
        "    print('else')"
      ],
      "metadata": {
        "colab": {
          "base_uri": "https://localhost:8080/"
        },
        "id": "0spaWOjBIV4G",
        "outputId": "48266c57-ae11-42f8-f86f-7071e8512473"
      },
      "execution_count": 66,
      "outputs": [
        {
          "output_type": "stream",
          "name": "stdout",
          "text": [
            "결제가 안되었습니다!\n"
          ]
        }
      ]
    },
    {
      "cell_type": "code",
      "source": [
        "try:\n",
        "    할인율 = 0\n",
        "    # 치킨값 = 30000 / 할인율\n",
        "    print('치킨주문 되었습니다!')\n",
        "except:\n",
        "    print('결제가 안되었습니다!')\n",
        "else: # 애러 없이 실행되면 else를 실행합니다. while, for + else 조합과 비슷합니다.\n",
        "    print('else')"
      ],
      "metadata": {
        "colab": {
          "base_uri": "https://localhost:8080/"
        },
        "id": "eNMOq20jzlJk",
        "outputId": "c6aa1e52-7f01-4773-c01e-811cb01396dc"
      },
      "execution_count": 68,
      "outputs": [
        {
          "output_type": "stream",
          "name": "stdout",
          "text": [
            "치킨주문 되었습니다!\n",
            "else\n"
          ]
        }
      ]
    },
    {
      "cell_type": "code",
      "source": [
        "try:\n",
        "    할인율 = 0\n",
        "    # 치킨값 = 30000 / 할인율\n",
        "    print('치킨주문 되었습니다!')\n",
        "except:\n",
        "    print('결제가 안되었습니다!')\n",
        "finally:\n",
        "    print('메인화면으로 이동')"
      ],
      "metadata": {
        "colab": {
          "base_uri": "https://localhost:8080/"
        },
        "id": "9BvrQ2S0IYDa",
        "outputId": "86068b0b-bf0b-487f-9123-d58714f534a5"
      },
      "execution_count": 70,
      "outputs": [
        {
          "output_type": "stream",
          "name": "stdout",
          "text": [
            "치킨주문 되었습니다!\n",
            "메인화면으로 이동\n"
          ]
        }
      ]
    },
    {
      "cell_type": "code",
      "source": [
        "# 간단하게 error를 만들고 테스트하긴 좋습니다.\n",
        "\n",
        "test = 'hello'\n",
        "\n",
        "# assert test == 'hello', '애러 메시지 1' #1\n",
        "assert test == 'world', '애러 메시지 2' #2\n",
        "# assert test + 3 == 5, '애러 메시지 3' #3"
      ],
      "metadata": {
        "id": "ItD4GyXIIaP8"
      },
      "execution_count": null,
      "outputs": []
    },
    {
      "cell_type": "code",
      "source": [
        "x = 10\n",
        "# raise\n",
        "# raise ValueError\n",
        "# raise ValueError('코드를 잘~~ 만들어주세요.')\n",
        "y = 20"
      ],
      "metadata": {
        "id": "JL282sL5Ia-A"
      },
      "execution_count": 72,
      "outputs": []
    },
    {
      "cell_type": "code",
      "source": [
        "class Leehojun(Exception): #Exception을 상속받으면 됩니다.\n",
        "    def __init__(self):\n",
        "        super().__init__('입력된 값이 leehojun이 아닙니다.')\n",
        "\n",
        "raise Leehojun"
      ],
      "metadata": {
        "id": "ArBa08HBI5--"
      },
      "execution_count": null,
      "outputs": []
    },
    {
      "cell_type": "code",
      "source": [
        "import logging\n",
        "\n",
        "# logging.basicConfig(level=logging.DEBUG) # 어느 레벨부터 로깅할지, 기본으로 warning 부터 합니다.\n",
        "# logging.basicConfig(level=logging.CRITICAL)\n",
        "logging.basicConfig(level=logging.CRITICAL, format=f'%(asctime)s - %(message)s')\n",
        "\n",
        "logging.debug(\"This is a debug message\") # 고쳐야 할 코드, 기록 필요\n",
        "logging.info(\"This is an info message\") # 정보성 메시지\n",
        "logging.warning(\"This is a warning message\") # 경고 메시지\n",
        "logging.error(\"This is an error message\") # 애러 메시지(프로그램은 동작)\n",
        "logging.critical(\"This is a critical message\") # 프로그램 중지(애러처리 안된경우)"
      ],
      "metadata": {
        "colab": {
          "base_uri": "https://localhost:8080/"
        },
        "id": "XA2Ynp0pJlg-",
        "outputId": "cf5f3944-2e85-4c4c-9a4d-fd07be6b4cee"
      },
      "execution_count": 73,
      "outputs": [
        {
          "output_type": "stream",
          "name": "stderr",
          "text": [
            "WARNING:root:This is a warning message\n",
            "ERROR:root:This is an error message\n",
            "CRITICAL:root:This is a critical message\n"
          ]
        }
      ]
    },
    {
      "cell_type": "code",
      "source": [
        "import logging.handlers\n",
        "\n",
        "def logger():\n",
        "    log_obj = logging.getLogger(\"log_name\") # log name으로 log 객체 생성\n",
        "    log_obj.setLevel(logging.DEBUG) # 어디부터 기록할지 설정\n",
        "\n",
        "    fileHandeler = logging.FileHandler(filename=\"./test.txt\") # 파일로 기록\n",
        "    # streamHandler = logging.StreamHandler() # 콘솔에 출력\n",
        "\n",
        "    fileHandeler.setLevel(logging.INFO) # 파일 기록 레벨 설정\n",
        "    # streamHandler.setLevel(logging.DEBUG) # 콘솔 기록 레벨 설정\n",
        "\n",
        "    formatter = logging.Formatter(\"%(name)s, %(asctime)s, %(levelname)s, %(message)s\") #포멧 생성\n",
        "\n",
        "    fileHandeler.setFormatter(formatter) # 파일 메시지 포멧 설정\n",
        "    # streamHandler.setFormatter(formatter) # 콘솔 메시지 포멧 설정\n",
        "\n",
        "    log_obj.addHandler(fileHandeler) # log_obj handler에 파일 출력 방식 추가\n",
        "    # log_obj.addHandler(streamHandler) # log_obj handler에 파일 콘솔 방식 추가\n",
        "\n",
        "    return log_obj\n",
        "\n",
        "log = logger()\n",
        "\n",
        "# 아래 코드를 기록하고 싶은 곳에 함께 설정\n",
        "log.debug('debug')\n",
        "log.info('info')\n",
        "log.warning('warning')\n",
        "log.error('error')\n",
        "log.critical('critical')\n",
        "\n",
        "print('---')\n",
        "\n",
        "# 아래와 같이 사용합니다.\n",
        "def f():\n",
        "    try:\n",
        "        x = 1 / 0\n",
        "    except Exception as e:\n",
        "        print(e)\n",
        "        log.error(f'{e} error')\n",
        "\n",
        "f()"
      ],
      "metadata": {
        "colab": {
          "base_uri": "https://localhost:8080/"
        },
        "id": "_BUhfl2bLUs1",
        "outputId": "4ccf649d-83e3-4107-89fb-1c0cb32db989"
      },
      "execution_count": 75,
      "outputs": [
        {
          "output_type": "stream",
          "name": "stderr",
          "text": [
            "DEBUG:log_name:debug\n",
            "INFO:log_name:info\n",
            "WARNING:log_name:warning\n",
            "ERROR:log_name:error\n",
            "CRITICAL:log_name:critical\n",
            "ERROR:log_name:division by zero error\n"
          ]
        },
        {
          "output_type": "stream",
          "name": "stdout",
          "text": [
            "---\n",
            "division by zero\n"
          ]
        }
      ]
    },
    {
      "cell_type": "code",
      "source": [
        "import logging.handlers\n",
        "\n",
        "def logger():\n",
        "    log_obj = logging.getLogger(\"log_name\") # log name으로 log 객체 생성\n",
        "    log_obj.setLevel(logging.ERROR) # 어디부터 기록할지 설정\n",
        "\n",
        "    fileHandeler = logging.FileHandler(filename=\"./test.txt\") # 파일로 기록\n",
        "    # streamHandler = logging.StreamHandler() # 콘솔에 출력\n",
        "\n",
        "    fileHandeler.setLevel(logging.ERROR) # 파일 기록 레벨 설정\n",
        "    # streamHandler.setLevel(logging.DEBUG) # 콘솔 기록 레벨 설정\n",
        "\n",
        "    formatter = logging.Formatter(\"%(name)s, %(asctime)s, %(levelname)s, %(message)s\") #포멧 생성\n",
        "\n",
        "    fileHandeler.setFormatter(formatter) # 파일 메시지 포멧 설정\n",
        "    # streamHandler.setFormatter(formatter) # 콘솔 메시지 포멧 설정\n",
        "\n",
        "    log_obj.addHandler(fileHandeler) # log_obj handler에 파일 출력 방식 추가\n",
        "    # log_obj.addHandler(streamHandler) # log_obj handler에 파일 콘솔 방식 추가\n",
        "\n",
        "    return log_obj\n",
        "\n",
        "log = logger()\n",
        "\n",
        "# 아래 코드를 기록하고 싶은 곳에 함께 설정\n",
        "log.debug('debug')\n",
        "log.info('info')\n",
        "log.warning('warning')\n",
        "log.error('error')\n",
        "log.critical('critical')\n",
        "\n",
        "print('---')\n",
        "\n",
        "# 아래와 같이 사용합니다.\n",
        "def f():\n",
        "    try:\n",
        "        x = 1 / 0\n",
        "    except Exception as e:\n",
        "        print(e)\n",
        "        log.error(f'{e} error')\n",
        "\n",
        "f()"
      ],
      "metadata": {
        "colab": {
          "base_uri": "https://localhost:8080/"
        },
        "id": "QdkA8PDkLVrS",
        "outputId": "7eeda577-f1b5-4088-feac-a30d7fd7f997"
      },
      "execution_count": 22,
      "outputs": [
        {
          "output_type": "stream",
          "name": "stderr",
          "text": [
            "ERROR:log_name:error\n",
            "CRITICAL:log_name:critical\n",
            "ERROR:log_name:division by zero error\n"
          ]
        },
        {
          "output_type": "stream",
          "name": "stdout",
          "text": [
            "---\n",
            "division by zero\n"
          ]
        }
      ]
    },
    {
      "cell_type": "markdown",
      "source": [
        "#연습문제"
      ],
      "metadata": {
        "id": "YptD1r49MRMg"
      }
    },
    {
      "cell_type": "code",
      "source": [
        "# 문제1(라운지 쓰레드)\n",
        "# 두 수를 나누는 함수 div(a, b)가 있었을 때\n",
        "# b에 0이 입력되면 예외처리를 하여 정상작동이 되는 함수로 작성을 해주세요.\n",
        "\n",
        "# def div(a, b):\n",
        "#     pass\n",
        "\n",
        "# div(3, 0)\n",
        "\n",
        "\n",
        "# 문제2(class 쓰레드)\n",
        "# 하나의 숫자에 제곱근을 구하는 함수 sqrt_number(num)이 있었을 때\n",
        "# 자체 예외 NegativeNumberError를 정의하세요. 이 예외는 음수가 입력될 때 발생하도록 합니다.\n",
        "# 사용자로부터 숫자를 입력 받아 그 숫자의 제곱근을 반환하는 함수를 작성하세요.\n",
        "# 입력된 숫자가 음수이면 NegativeNumberError를 발생시키고\n",
        "# \"음수의 제곱근은 계산할 수 없습니다.\"라는 메시지를 출력하세요.\n",
        "\n",
        "\n",
        "# 문제3(class 쓰레드)\n",
        "# 사용자로부터 인덱스 값을 입력 받아서 리스트 [\"apple\", \"banana\", \"cherry\"]에서\n",
        "# 해당 인덱스의 값을 출력하는 함수를 작성하세요.\n",
        "# 사용자가 범위를 벗어난 인덱스를 입력하면 \"리스트의 범위를 벗어났습니다.\"라는 메시지를 출력하세요."
      ],
      "metadata": {
        "id": "bAiUqSowRotu"
      },
      "execution_count": 28,
      "outputs": []
    },
    {
      "cell_type": "code",
      "source": [
        "# 문제1\n",
        "# div(a, b)라고 입력했을 때 b에 0이 입력되면 예외처리를 하여 정상작동이 되게 만들어주세요.\n",
        "def div(a, b):\n",
        "    try:\n",
        "        return a / b\n",
        "\n",
        "    except:\n",
        "        return 'error입니다. 재입력 해주세요.'\n",
        "\n",
        "div(3, 0)"
      ],
      "metadata": {
        "colab": {
          "base_uri": "https://localhost:8080/",
          "height": 36
        },
        "id": "4AQi_RVKLqo1",
        "outputId": "a22f7f5d-4e69-4128-e927-a2022ffa9b46"
      },
      "execution_count": 77,
      "outputs": [
        {
          "output_type": "execute_result",
          "data": {
            "text/plain": [
              "'error입니다. 재입력 해주세요.'"
            ],
            "application/vnd.google.colaboratory.intrinsic+json": {
              "type": "string"
            }
          },
          "metadata": {},
          "execution_count": 77
        }
      ]
    },
    {
      "cell_type": "code",
      "source": [
        "# 강사님 풀이\n",
        "\n",
        "def div(a, b):\n",
        "    try:\n",
        "        return a / b\n",
        "    except ZeroDivisionError:\n",
        "        print('ZeroDivisionError')  #제로디비전 에러\n",
        "    except:\n",
        "        print('Error')\n",
        "\n",
        "div(3, '1')\n",
        "div(3, 0)"
      ],
      "metadata": {
        "colab": {
          "base_uri": "https://localhost:8080/"
        },
        "id": "4-m-3z3a0XGz",
        "outputId": "a8016e74-642e-4246-9958-30f26245f52d"
      },
      "execution_count": 79,
      "outputs": [
        {
          "output_type": "stream",
          "name": "stdout",
          "text": [
            "Error\n",
            "ZeroDivisionError\n"
          ]
        }
      ]
    },
    {
      "cell_type": "code",
      "source": [
        "# 문제2(class 쓰레드)\n",
        "# 하나의 숫자에 제곱근을 구하는 함수 sqrt_number(num)이 있었을 때\n",
        "# 자체 예외 NegativeNumberError를 정의하세요. 이 예외는 음수가 입력될 때 발생하도록 합니다.\n",
        "# 사용자로부터 숫자를 입력 받아 그 숫자의 제곱근을 반환하는 함수를 작성하세요.\n",
        "# 입력된 숫자가 음수이면 NegativeNumberError를 발생시키고\n",
        "# \"음수의 제곱근은 계산할 수 없습니다.\"라는 메시지를 출력하세요.\n",
        "\n",
        "# 강사님 풀이\n",
        "class NegativeNumberError(Exception):\n",
        "    pass\n",
        "\n",
        "def sqrt_number(num):\n",
        "    if num >= 0:\n",
        "        return num ** 0.5\n",
        "    else:\n",
        "        print('음수의 제곱근은 계산할 수 없습니다.')\n",
        "        raise NegativeNumberError\n",
        "\n",
        "sqrt_number(4)\n",
        "sqrt_number(-3)"
      ],
      "metadata": {
        "colab": {
          "base_uri": "https://localhost:8080/",
          "height": 358
        },
        "id": "ISNE0vHTRvn3",
        "outputId": "329ea306-a852-435a-8e29-2d236101bc70"
      },
      "execution_count": 92,
      "outputs": [
        {
          "output_type": "stream",
          "name": "stdout",
          "text": [
            "음수의 제곱근은 계산할 수 없습니다.\n"
          ]
        },
        {
          "output_type": "error",
          "ename": "NegativeNumberError",
          "evalue": "ignored",
          "traceback": [
            "\u001b[0;31m---------------------------------------------------------------------------\u001b[0m",
            "\u001b[0;31mNegativeNumberError\u001b[0m                       Traceback (most recent call last)",
            "\u001b[0;32m<ipython-input-92-823c3bce682e>\u001b[0m in \u001b[0;36m<cell line: 20>\u001b[0;34m()\u001b[0m\n\u001b[1;32m     18\u001b[0m \u001b[0;34m\u001b[0m\u001b[0m\n\u001b[1;32m     19\u001b[0m \u001b[0msqrt_number\u001b[0m\u001b[0;34m(\u001b[0m\u001b[0;36m4\u001b[0m\u001b[0;34m)\u001b[0m\u001b[0;34m\u001b[0m\u001b[0;34m\u001b[0m\u001b[0m\n\u001b[0;32m---> 20\u001b[0;31m \u001b[0msqrt_number\u001b[0m\u001b[0;34m(\u001b[0m\u001b[0;34m-\u001b[0m\u001b[0;36m3\u001b[0m\u001b[0;34m)\u001b[0m\u001b[0;34m\u001b[0m\u001b[0;34m\u001b[0m\u001b[0m\n\u001b[0m",
            "\u001b[0;32m<ipython-input-92-823c3bce682e>\u001b[0m in \u001b[0;36msqrt_number\u001b[0;34m(num)\u001b[0m\n\u001b[1;32m     15\u001b[0m     \u001b[0;32melse\u001b[0m\u001b[0;34m:\u001b[0m\u001b[0;34m\u001b[0m\u001b[0;34m\u001b[0m\u001b[0m\n\u001b[1;32m     16\u001b[0m         \u001b[0mprint\u001b[0m\u001b[0;34m(\u001b[0m\u001b[0;34m'음수의 제곱근은 계산할 수 없습니다.'\u001b[0m\u001b[0;34m)\u001b[0m\u001b[0;34m\u001b[0m\u001b[0;34m\u001b[0m\u001b[0m\n\u001b[0;32m---> 17\u001b[0;31m         \u001b[0;32mraise\u001b[0m \u001b[0mNegativeNumberError\u001b[0m\u001b[0;34m\u001b[0m\u001b[0;34m\u001b[0m\u001b[0m\n\u001b[0m\u001b[1;32m     18\u001b[0m \u001b[0;34m\u001b[0m\u001b[0m\n\u001b[1;32m     19\u001b[0m \u001b[0msqrt_number\u001b[0m\u001b[0;34m(\u001b[0m\u001b[0;36m4\u001b[0m\u001b[0;34m)\u001b[0m\u001b[0;34m\u001b[0m\u001b[0;34m\u001b[0m\u001b[0m\n",
            "\u001b[0;31mNegativeNumberError\u001b[0m: "
          ]
        }
      ]
    },
    {
      "cell_type": "code",
      "source": [
        "# 문제3(class 쓰레드)\n",
        "# 사용자로부터 인덱스 값을 입력 받아서 리스트 [\"apple\", \"banana\", \"cherry\"]에서\n",
        "# 해당 인덱스의 값을 출력하는 함수를 작성하세요.\n",
        "# 사용자가 범위를 벗어난 인덱스를 입력하면 \"리스트의 범위를 벗어났습니다.\"라는 메시지를 출력하세요.\n",
        "\n",
        "def get_item(num):\n",
        "    item_list = ['apple', 'banana', 'cherry']\n",
        "    try:\n",
        "        return item_list[num]\n",
        "    except IndexError:\n",
        "        return '리스트의 범위를 벗어났습니다.'\n",
        "    except: # 이런 경우에 대비하시는 것이 좋습니다.\n",
        "        return '예상치 못한 애러입니다.'\n",
        "\n",
        "num = int(input('인덱스 값을 입력해 주세요.: '))\n",
        "get_item(num)"
      ],
      "metadata": {
        "colab": {
          "base_uri": "https://localhost:8080/",
          "height": 54
        },
        "id": "drbTbuqHRyCG",
        "outputId": "e2b38cce-4775-4a13-de69-6909ce536777"
      },
      "execution_count": 84,
      "outputs": [
        {
          "name": "stdout",
          "output_type": "stream",
          "text": [
            "인덱스 값을 입력해 주세요.: 1\n"
          ]
        },
        {
          "output_type": "execute_result",
          "data": {
            "text/plain": [
              "'banana'"
            ],
            "application/vnd.google.colaboratory.intrinsic+json": {
              "type": "string"
            }
          },
          "metadata": {},
          "execution_count": 84
        }
      ]
    },
    {
      "cell_type": "code",
      "source": [
        "# 문제2 강사님 다른 풀이\n",
        "\n",
        "class NegativeNumberError(Exception):\n",
        "    def __init__(self):\n",
        "        super().__init__('음수의 제곱근은 계산할 수 없습니다.')\n",
        "\n",
        "def sqrt_number(num):\n",
        "    if num >= 0:\n",
        "        return num ** 0.5\n",
        "    else:\n",
        "        print('음수의 제곱근은 계산할 수 없습니다.')\n",
        "        raise NegativeNumberError\n",
        "\n",
        "sqrt_number(4)\n",
        "sqrt_number(-4)"
      ],
      "metadata": {
        "id": "AqQwgbueRzyG"
      },
      "execution_count": null,
      "outputs": []
    }
  ]
}